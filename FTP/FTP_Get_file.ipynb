{
 "cells": [
  {
   "cell_type": "markdown",
   "id": "scenic-enclosure",
   "metadata": {
    "papermill": {},
    "tags": []
   },
   "source": [
    "<img width=\"10%\" alt=\"Naas\" src=\"https://landen.imgix.net/jtci2pxwjczr/assets/5ice39g4.png?w=160\"/>"
   ]
  },
  {
   "cell_type": "markdown",
   "id": "solar-corrections",
   "metadata": {
    "papermill": {},
    "tags": []
   },
   "source": [
    "# FTPS - Connect\n",
    "[<button class=\"lm-Widget p-Widget jupyter-widgets jupyter-button widget-button mod-primary\">Open in Naas</button>](https://app.naas.ai/user-redirect/naas/downloader?url=https://raw.githubusercontent.com/jupyter-naas/awesome-notebooks/master/FTP/FTP_Get_file.ipynb)"
   ]
  },
  {
   "cell_type": "code",
   "execution_count": null,
   "id": "square-mechanics",
   "metadata": {
    "papermill": {},
    "tags": []
   },
   "outputs": [],
   "source": [
    "import naas_drivers"
   ]
  },
  {
   "cell_type": "code",
   "execution_count": null,
   "id": "hollow-confusion",
   "metadata": {
    "papermill": {},
    "tags": []
   },
   "outputs": [],
   "source": [
    "# Connect \n",
    "user = \"my user\"\n",
    "passwd = \"my passwd\"\n",
    "ftp = naas_drivers.ftp.connect(user, passwd, port=990, secure=True)"
   ]
  }
 ],
 "metadata": {
  "file_extension": ".py",
  "kernelspec": {
   "display_name": "Python 3",
   "language": "python",
   "name": "python3"
  },
  "language_info": {
   "codemirror_mode": {
    "name": "ipython",
    "version": 3
   },
   "file_extension": ".py",
   "mimetype": "text/x-python",
   "name": "python",
   "nbconvert_exporter": "python",
   "pygments_lexer": "ipython3",
   "version": "3.8.6"
  },
  "mimetype": "text/x-python",
  "name": "python",
  "npconvert_exporter": "python",
  "papermill": {
   "default_parameters": {},
   "environment_variables": {},
   "parameters": {},
   "version": "2.3.3"
  },
  "pygments_lexer": "ipython3",
  "version": 3
 },
 "nbformat": 4,
 "nbformat_minor": 5
}