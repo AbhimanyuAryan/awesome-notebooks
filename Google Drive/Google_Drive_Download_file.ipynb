{
 "cells": [
  {
   "cell_type": "markdown",
   "id": "reliable-framework",
   "metadata": {},
   "source": [
    "<img width=\"10%\" alt=\"Naas\" src=\"https://landen.imgix.net/jtci2pxwjczr/assets/5ice39g4.png?w=160\"/>"
   ]
  },
  {
   "cell_type": "markdown",
   "id": "first-flesh",
   "metadata": {},
   "source": [
    "# Google Drive - Download file"
   ]
  },
  {
   "cell_type": "code",
   "execution_count": null,
   "id": "united-finland",
   "metadata": {},
   "outputs": [],
   "source": [
    "#!pip install gdown"
   ]
  },
  {
   "cell_type": "markdown",
   "id": "corrected-going",
   "metadata": {},
   "source": [
    "Pre-requisite : change file access rights to make sure Naas can access (\"Allow anyone\")\n",
    "If you need more specific user rights, just drop us an email hello@naas.ai"
   ]
  },
  {
   "cell_type": "code",
   "execution_count": 1,
   "id": "stone-angel",
   "metadata": {
    "execution": {
     "iopub.execute_input": "2021-02-28T13:00:34.030016Z",
     "iopub.status.busy": "2021-02-28T13:00:34.029561Z",
     "iopub.status.idle": "2021-02-28T13:00:35.106413Z",
     "shell.execute_reply": "2021-02-28T13:00:35.105688Z",
     "shell.execute_reply.started": "2021-02-28T13:00:34.029904Z"
    }
   },
   "outputs": [],
   "source": [
    "import gdown"
   ]
  },
  {
   "cell_type": "code",
   "execution_count": null,
   "id": "passive-robert",
   "metadata": {},
   "outputs": [],
   "source": [
    "url = 'https://drive.google.com/uc?id=1-3UlYEPKgL4E197umEh6d58jWknodSm5'\n",
    "output = 'naas_happy_hour.mp4'\n",
    "gdown.download(url, output, quiet=False)"
   ]
  }
 ],
 "metadata": {
  "kernelspec": {
   "display_name": "Python 3",
   "language": "python",
   "name": "python3"
  },
  "language_info": {
   "codemirror_mode": {
    "name": "ipython",
    "version": 3
   },
   "file_extension": ".py",
   "mimetype": "text/x-python",
   "name": "python",
   "nbconvert_exporter": "python",
   "pygments_lexer": "ipython3",
   "version": "3.8.6"
  }
 },
 "nbformat": 4,
 "nbformat_minor": 5
}
