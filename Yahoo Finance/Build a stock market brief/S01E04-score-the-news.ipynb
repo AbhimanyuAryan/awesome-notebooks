{
 "cells": [
  {
   "cell_type": "markdown",
   "id": "regulation-noise",
   "metadata": {
    "papermill": {},
    "tags": []
   },
   "source": [
    "# Build a stock market brief - S01E04-score-the-news\n",
    "<a href=\"https://app.naas.ai/user-redirect/naas/downloader?url=https://raw.githubusercontent.com/jupyter-naas/awesome-notebooks/master/Yahoo%20Finance/Build%20a%20stock%20market%20brief/S01E04-score-the-news.ipynb\" target=\"_parent\"><img src=\"https://img.shields.io/badge/-Open%20in%20Naas-success?labelColor=000000&logo=data:image/svg+xml;base64,PD94bWwgdmVyc2lvbj0iMS4wIiBlbmNvZGluZz0iVVRGLTgiPz4KPHN2ZyB3aWR0aD0iMTAyNHB4IiBoZWlnaHQ9IjEwMjRweCIgdmlld0JveD0iMCAwIDEwMjQgMTAyNCIgeG1sbnM9Imh0dHA6Ly93d3cudzMub3JnLzIwMDAvc3ZnIiB4bWxuczp4bGluaz0iaHR0cDovL3d3dy53My5vcmcvMTk5OS94bGluayIgdmVyc2lvbj0iMS4xIj4KIDwhLS0gR2VuZXJhdGVkIGJ5IFBpeGVsbWF0b3IgUHJvIDIuMC41IC0tPgogPGRlZnM+CiAgPHRleHQgaWQ9InN0cmluZyIgdHJhbnNmb3JtPSJtYXRyaXgoMS4wIDAuMCAwLjAgMS4wIDIyOC4wIDU0LjUpIiBmb250LWZhbWlseT0iQ29tZm9ydGFhLVJlZ3VsYXIsIENvbWZvcnRhYSIgZm9udC1zaXplPSI4MDAiIHRleHQtZGVjb3JhdGlvbj0ibm9uZSIgZmlsbD0iI2ZmZmZmZiIgeD0iMS4xOTk5OTk5OTk5OTk5ODg2IiB5PSI3MDUuMCI+bjwvdGV4dD4KIDwvZGVmcz4KIDx1c2UgaWQ9Im4iIHhsaW5rOmhyZWY9IiNzdHJpbmciLz4KPC9zdmc+Cg==\"/></a>"
   ]
  },
  {
   "cell_type": "markdown",
   "id": "social-british",
   "metadata": {
    "papermill": {},
    "tags": []
   },
   "source": [
    "You cannot read all the news. It's simply not possible. \n",
    "So, let's try to give the job to a machine that will scan the mood.\n",
    "\n",
    "What you will get here is global average score of that goes from -1 (negative) to 1 (positive). \n",
    "We use natural language processing. "
   ]
  },
  {
   "cell_type": "code",
   "execution_count": 1,
   "id": "auburn-bedroom",
   "metadata": {
    "papermill": {},
    "tags": []
   },
   "outputs": [],
   "source": [
    "stock =\"TSLA\""
   ]
  },
  {
   "cell_type": "markdown",
   "id": "gorgeous-viewer",
   "metadata": {
    "papermill": {},
    "tags": []
   },
   "source": [
    "## Get the news from CityFalcon 👇\n",
    "City Falcon is a news agregator.<br>\n",
    "By default, you can with use our account on CityFalcon for test purpose."
   ]
  },
  {
   "cell_type": "code",
   "execution_count": 2,
   "id": "double-therapist",
   "metadata": {
    "papermill": {},
    "tags": []
   },
   "outputs": [],
   "source": [
    "import naas_drivers"
   ]
  },
  {
   "cell_type": "code",
   "execution_count": 3,
   "id": "advance-dimension",
   "metadata": {
    "papermill": {},
    "tags": []
   },
   "outputs": [],
   "source": [
    "import os\n",
    "naas_drivers.cityfalcon.connect(os.environ.get(\"CITYFALCON_KEY\", None))\n",
    "table_news = naas_drivers.cityfalcon.get(stock, fields=[\"logo\", \"title\", \"link\"])\n",
    "table_news.rename(columns={'title':'text'}, inplace=True)\n",
    "table_news.rename(columns={'link':'row_link'}, inplace=True)\n",
    "table_news"
   ]
  },
  {
   "cell_type": "code",
   "execution_count": 4,
   "id": "greater-brand",
   "metadata": {
    "papermill": {},
    "tags": []
   },
   "outputs": [],
   "source": [
    "table_news_scored =  naas_drivers.sentiment.get(table_news, column_name=\"text\")"
   ]
  },
  {
   "cell_type": "code",
   "execution_count": 5,
   "id": "stable-terminal",
   "metadata": {
    "papermill": {},
    "tags": []
   },
   "outputs": [],
   "source": [
    "score_news = table_news_scored[\"Score\"].mean()\n",
    "score_news"
   ]
  },
  {
   "cell_type": "code",
   "execution_count": 6,
   "id": "satisfied-damages",
   "metadata": {
    "papermill": {},
    "tags": []
   },
   "outputs": [],
   "source": [
    "sentiment_news = naas_drivers.sentiment.categorize(score_news)\n",
    "sentiment_news"
   ]
  },
  {
   "cell_type": "markdown",
   "id": "thick-commercial",
   "metadata": {
    "papermill": {},
    "tags": []
   },
   "source": [
    "# Create the news hotlist 🔥"
   ]
  },
  {
   "cell_type": "code",
   "execution_count": 7,
   "id": "looking-vessel",
   "metadata": {
    "papermill": {},
    "tags": []
   },
   "outputs": [],
   "source": [
    "table_news_email = table_news[:5]\n",
    "table_news_email"
   ]
  }
 ],
 "metadata": {
  "kernelspec": {
   "display_name": "Python 3",
   "language": "python",
   "name": "python3"
  },
  "language_info": {
   "codemirror_mode": {
    "name": "ipython",
    "version": 3
   },
   "file_extension": ".py",
   "mimetype": "text/x-python",
   "name": "python",
   "nbconvert_exporter": "python",
   "pygments_lexer": "ipython3",
   "version": "3.8.6"
  },
  "papermill": {
   "default_parameters": {},
   "environment_variables": {},
   "parameters": {},
   "version": "2.3.3"
  }
 },
 "nbformat": 4,
 "nbformat_minor": 5
}