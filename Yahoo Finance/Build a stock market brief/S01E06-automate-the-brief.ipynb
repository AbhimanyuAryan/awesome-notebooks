{
 "cells": [
  {
   "cell_type": "markdown",
   "id": "occupational-church",
   "metadata": {
    "papermill": {},
    "tags": []
   },
   "source": [
    "# Build a stock market brief - S01E06-automate-the-brief\n",
    "<a href=\"https://app.naas.ai/user-redirect/naas/downloader?url=https://raw.githubusercontent.com/jupyter-naas/awesome-notebooks/master/Yahoo%20Finance/Build%20a%20stock%20market%20brief/S01E06-automate-the-brief.ipynb\" target=\"_parent\">\n",
    "<img src=\"https://img.shields.io/badge/-Open%20in%20Naas-success?labelColor=000000&logo=data:image/svg+xml;base64,PD94bWwgdmVyc2lvbj0iMS4wIiBlbmNvZGluZz0iVVRGLTgiPz4KPHN2ZyB3aWR0aD0iMTAyNHB4IiBoZWlnaHQ9IjEwMjRweCIgdmlld0JveD0iMCAwIDEwMjQgMTAyNCIgeG1sbnM9Imh0dHA6Ly93d3cudzMub3JnLzIwMDAvc3ZnIiB4bWxuczp4bGluaz0iaHR0cDovL3d3dy53My5vcmcvMTk5OS94bGluayIgdmVyc2lvbj0iMS4xIj4KIDwhLS0gR2VuZXJhdGVkIGJ5IFBpeGVsbWF0b3IgUHJvIDIuMC41IC0tPgogPGRlZnM+CiAgPHRleHQgaWQ9InN0cmluZyIgdHJhbnNmb3JtPSJtYXRyaXgoMS4wIDAuMCAwLjAgMS4wIDIyOC4wIDU0LjUpIiBmb250LWZhbWlseT0iQ29tZm9ydGFhLVJlZ3VsYXIsIENvbWZvcnRhYSIgZm9udC1zaXplPSI4MDAiIHRleHQtZGVjb3JhdGlvbj0ibm9uZSIgZmlsbD0iI2ZmZmZmZiIgeD0iMS4xOTk5OTk5OTk5OTk5ODg2IiB5PSI3MDUuMCI+bjwvdGV4dD4KIDwvZGVmcz4KIDx1c2UgaWQ9Im4iIHhsaW5rOmhyZWY9IiNzdHJpbmciLz4KPC9zdmc+Cg==\"/>\n",
    "</a>"
   ]
  },
  {
   "cell_type": "markdown",
   "id": "special-traffic",
   "metadata": {
    "papermill": {},
    "tags": []
   },
   "source": [
    "Bring everything together in an email to get your daily brief."
   ]
  },
  {
   "cell_type": "markdown",
   "id": "physical-seven",
   "metadata": {
    "papermill": {},
    "tags": []
   },
   "source": [
    "## Import necessary packages"
   ]
  },
  {
   "cell_type": "code",
   "execution_count": 1,
   "id": "nearby-diagnosis",
   "metadata": {
    "papermill": {},
    "tags": []
   },
   "outputs": [],
   "source": [
    "import naas\n",
    "import naas_drivers"
   ]
  },
  {
   "cell_type": "markdown",
   "id": "known-slovenia",
   "metadata": {
    "papermill": {},
    "tags": []
   },
   "source": [
    "## Set variables"
   ]
  },
  {
   "cell_type": "code",
   "execution_count": 2,
   "id": "eight-literature",
   "metadata": {
    "papermill": {},
    "tags": []
   },
   "outputs": [],
   "source": [
    "stock = 'TSLA'\n",
    "subject = \"⏰ Reminder - Follow your favorite company : Tesla\""
   ]
  },
  {
   "cell_type": "code",
   "execution_count": 3,
   "id": "minus-snake",
   "metadata": {
    "papermill": {},
    "tags": []
   },
   "outputs": [],
   "source": [
    "emails = open(\"users.txt\", \"r\").read()"
   ]
  },
  {
   "cell_type": "markdown",
   "id": "surprised-programming",
   "metadata": {
    "papermill": {},
    "tags": []
   },
   "source": [
    "# Get stock data"
   ]
  },
  {
   "cell_type": "code",
   "execution_count": 4,
   "id": "speaking-moscow",
   "metadata": {
    "papermill": {},
    "tags": []
   },
   "outputs": [],
   "source": [
    "data = naas_drivers.yahoofinance.get(stock, date_from=-200, moving_averages=[20,50])\n",
    "data"
   ]
  },
  {
   "cell_type": "markdown",
   "id": "printable-kentucky",
   "metadata": {
    "papermill": {},
    "tags": []
   },
   "source": [
    "## Calculate daily variations"
   ]
  },
  {
   "cell_type": "code",
   "execution_count": 5,
   "id": "bibliographic-toddler",
   "metadata": {
    "papermill": {},
    "tags": []
   },
   "outputs": [],
   "source": [
    "data_display = data.copy()\n",
    "data_display = data_display.sort_values(by=\"Date\", ascending=False).reset_index(drop=True)\n",
    "data_display"
   ]
  },
  {
   "cell_type": "code",
   "execution_count": 6,
   "id": "increased-parks",
   "metadata": {
    "papermill": {},
    "tags": []
   },
   "outputs": [],
   "source": [
    "value = data_display.loc[0, \"Close\"]\n",
    "value_last = data_display.loc[1, \"Close\"]\n",
    "\n",
    "varv = value - value_last\n",
    "varp = varv / abs(value_last) * 100\n",
    "\n",
    "varv_diplay = '{:+.2f}'.format(varv)\n",
    "varp_diplay = '{:+.2f}%'.format(varp)\n",
    "value_display = '{:.2f}'.format(value)\n",
    "\n",
    "print(value_display)\n",
    "print(varv_diplay)\n",
    "print(varp_diplay)"
   ]
  },
  {
   "cell_type": "markdown",
   "id": "junior-reggae",
   "metadata": {
    "papermill": {},
    "tags": []
   },
   "source": [
    "## Create chart"
   ]
  },
  {
   "cell_type": "code",
   "execution_count": 7,
   "id": "dressed-monitor",
   "metadata": {
    "papermill": {},
    "tags": []
   },
   "outputs": [],
   "source": [
    "graph = naas_drivers.plotly.stock(data)"
   ]
  },
  {
   "cell_type": "markdown",
   "id": "worst-rotation",
   "metadata": {
    "papermill": {},
    "tags": []
   },
   "source": [
    "## Export chart in png and html"
   ]
  },
  {
   "cell_type": "code",
   "execution_count": 8,
   "id": "proof-quebec",
   "metadata": {
    "papermill": {},
    "tags": []
   },
   "outputs": [],
   "source": [
    "image_file = f\"{stock}.png\"\n",
    "html_file = f\"{stock}.html\"\n",
    "naas_drivers.plotly.export(graph, [html_file, image_file])"
   ]
  },
  {
   "cell_type": "markdown",
   "id": "micro-courtesy",
   "metadata": {
    "papermill": {},
    "tags": []
   },
   "source": [
    "## Expose image and html"
   ]
  },
  {
   "cell_type": "code",
   "execution_count": 9,
   "id": "graphic-charge",
   "metadata": {
    "papermill": {},
    "tags": []
   },
   "outputs": [],
   "source": [
    "url_img = naas.assets.add(image_file)\n",
    "url_html = naas.assets.add(html_file, params={\"inline\": True})"
   ]
  },
  {
   "cell_type": "markdown",
   "id": "smoking-sterling",
   "metadata": {
    "papermill": {},
    "tags": []
   },
   "source": [
    "## Get score of the news "
   ]
  },
  {
   "cell_type": "code",
   "execution_count": 10,
   "id": "elegant-editing",
   "metadata": {
    "papermill": {},
    "tags": []
   },
   "outputs": [],
   "source": [
    "%run S01E04-score-the-news.ipynb\n",
    "sentiment_news"
   ]
  },
  {
   "cell_type": "markdown",
   "id": "colonial-pocket",
   "metadata": {
    "papermill": {},
    "tags": []
   },
   "source": [
    "## Get prediction chart"
   ]
  },
  {
   "cell_type": "code",
   "execution_count": 11,
   "id": "indoor-longer",
   "metadata": {
    "papermill": {},
    "tags": []
   },
   "outputs": [],
   "source": [
    "%run S01E05-predict-the-future.ipynb"
   ]
  },
  {
   "cell_type": "code",
   "execution_count": 15,
   "id": "mineral-safety",
   "metadata": {
    "papermill": {},
    "tags": []
   },
   "outputs": [],
   "source": [
    "email_content = naas_drivers.html.generate( \n",
    "        display='iframe',\n",
    "        title=f'Evolution of {stock} stock',\n",
    "        image_0 = \"https://i.pinimg.com/originals/e1/2a/67/e12a6721d52e079c5e33632f66ddb8a9.jpg\",\n",
    "        heading_1 = f'📈 Last close price: {value_display}' ,\n",
    "        heading_2 = f'🎰 Variations: {varv_diplay} ({varp_diplay})' ,       \n",
    "        heading_3 = f'😎 News sentiment: {sentiment_news}' ,\n",
    "        \n",
    "        button_Actual_200px=url_html,\n",
    "        text_3 = \"👉 Click on the button above to open dynamic chart.\" ,\n",
    "        image= url_img,\n",
    "        button_Prediction_200px= url_html_file_prediction,\n",
    "        text_4 = \"👉 Buy or Sell on <a href='https://www.etoro.com/markets/tsla'>Etoro</a>\" ,\n",
    "        image_future = url_image_file_prediction,\n",
    "        heading_5 = \"🔥 News hotlist\",\n",
    "        table = table_news_email,\n",
    "        \n",
    ")"
   ]
  },
  {
   "cell_type": "markdown",
   "id": "composed-handle",
   "metadata": {
    "papermill": {},
    "tags": []
   },
   "source": [
    "# Send email to emails list"
   ]
  },
  {
   "cell_type": "code",
   "execution_count": 16,
   "id": "infinite-stability",
   "metadata": {
    "papermill": {},
    "tags": []
   },
   "outputs": [],
   "source": [
    "naas.notifications.send(emails, subject, email_content)"
   ]
  },
  {
   "cell_type": "markdown",
   "id": "sharing-treaty",
   "metadata": {
    "papermill": {},
    "tags": []
   },
   "source": [
    "# Schedule this notebook and make it run every day at 9AM CET ."
   ]
  },
  {
   "cell_type": "code",
   "execution_count": 14,
   "id": "robust-blackberry",
   "metadata": {
    "papermill": {},
    "tags": []
   },
   "outputs": [],
   "source": [
    "naas.scheduler.add(recurrence=\"0 9 * * *\")"
   ]
  },
  {
   "cell_type": "code",
   "execution_count": null,
   "id": "nominated-comfort",
   "metadata": {
    "papermill": {},
    "tags": []
   },
   "outputs": [],
   "source": []
  }
 ],
 "metadata": {
  "kernelspec": {
   "display_name": "Python 3",
   "language": "python",
   "name": "python3"
  },
  "language_info": {
   "codemirror_mode": {
    "name": "ipython",
    "version": 3
   },
   "file_extension": ".py",
   "mimetype": "text/x-python",
   "name": "python",
   "nbconvert_exporter": "python",
   "pygments_lexer": "ipython3",
   "version": "3.8.6"
  },
  "papermill": {
   "default_parameters": {},
   "environment_variables": {},
   "parameters": {},
   "version": "2.3.3"
  }
 },
 "nbformat": 4,
 "nbformat_minor": 5
}