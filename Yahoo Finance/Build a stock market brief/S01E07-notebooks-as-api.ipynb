{
 "cells": [
  {
   "cell_type": "markdown",
   "id": "consistent-baker",
   "metadata": {
    "papermill": {},
    "tags": []
   },
   "source": [
    "# Build a stock market brief - S01E07-notebooks-as-api\n",
    "<a href=\"https://app.naas.ai/user-redirect/naas/downloader?url=https://raw.githubusercontent.com/jupyter-naas/awesome-notebooks/master/Yahoo%20Finance/Build%20a%20stock%20market%20brief/S01E07-notebooks-as-api.ipynb\" target=\"_parent\"><img src=\"https://img.shields.io/badge/-Open%20in%20Naas-success?labelColor=000000&logo=data:image/svg+xml;base64,PD94bWwgdmVyc2lvbj0iMS4wIiBlbmNvZGluZz0iVVRGLTgiPz4KPHN2ZyB3aWR0aD0iMTAyNHB4IiBoZWlnaHQ9IjEwMjRweCIgdmlld0JveD0iMCAwIDEwMjQgMTAyNCIgeG1sbnM9Imh0dHA6Ly93d3cudzMub3JnLzIwMDAvc3ZnIiB4bWxuczp4bGluaz0iaHR0cDovL3d3dy53My5vcmcvMTk5OS94bGluayIgdmVyc2lvbj0iMS4xIj4KIDwhLS0gR2VuZXJhdGVkIGJ5IFBpeGVsbWF0b3IgUHJvIDIuMC41IC0tPgogPGRlZnM+CiAgPHRleHQgaWQ9InN0cmluZyIgdHJhbnNmb3JtPSJtYXRyaXgoMS4wIDAuMCAwLjAgMS4wIDIyOC4wIDU0LjUpIiBmb250LWZhbWlseT0iQ29tZm9ydGFhLVJlZ3VsYXIsIENvbWZvcnRhYSIgZm9udC1zaXplPSI4MDAiIHRleHQtZGVjb3JhdGlvbj0ibm9uZSIgZmlsbD0iI2ZmZmZmZiIgeD0iMS4xOTk5OTk5OTk5OTk5ODg2IiB5PSI3MDUuMCI+bjwvdGV4dD4KIDwvZGVmcz4KIDx1c2UgaWQ9Im4iIHhsaW5rOmhyZWY9IiNzdHJpbmciLz4KPC9zdmc+Cg==\"/></a>"
   ]
  },
  {
   "cell_type": "markdown",
   "id": "nominated-sensitivity",
   "metadata": {
    "papermill": {},
    "tags": []
   },
   "source": [
    "Now that I have my reminder ready, I want to it enhance it a bit more. "
   ]
  },
  {
   "cell_type": "code",
   "execution_count": 1,
   "id": "protected-world",
   "metadata": {
    "papermill": {},
    "tags": []
   },
   "outputs": [],
   "source": [
    "email = [\"\"]"
   ]
  },
  {
   "cell_type": "code",
   "execution_count": 2,
   "id": "metropolitan-center",
   "metadata": {
    "papermill": {},
    "tags": []
   },
   "outputs": [],
   "source": [
    "import naas"
   ]
  },
  {
   "cell_type": "code",
   "execution_count": 3,
   "id": "romance-bolivia",
   "metadata": {
    "papermill": {},
    "tags": []
   },
   "outputs": [],
   "source": [
    "naas.dependency.add(\"users.txt\")"
   ]
  },
  {
   "cell_type": "markdown",
   "id": "adult-interim",
   "metadata": {
    "papermill": {},
    "tags": []
   },
   "source": [
    "## Make index page accessible "
   ]
  },
  {
   "cell_type": "code",
   "execution_count": 4,
   "id": "similar-response",
   "metadata": {
    "papermill": {},
    "tags": []
   },
   "outputs": [],
   "source": [
    "naas.assets.add(\"index.html\", params={\"inline\":True})"
   ]
  },
  {
   "cell_type": "markdown",
   "id": "completed-monkey",
   "metadata": {
    "papermill": {},
    "tags": []
   },
   "source": [
    "## Generate success page"
   ]
  },
  {
   "cell_type": "code",
   "execution_count": 5,
   "id": "arranged-customs",
   "metadata": {
    "papermill": {},
    "tags": []
   },
   "outputs": [],
   "source": [
    "ok_url = naas.assets.add(\"ok.html\", params={\"inline\":True})"
   ]
  },
  {
   "cell_type": "code",
   "execution_count": 6,
   "id": "outstanding-visit",
   "metadata": {
    "papermill": {},
    "tags": []
   },
   "outputs": [],
   "source": [
    "naas.api.add(params={\"next_url\":ok_url})"
   ]
  },
  {
   "cell_type": "markdown",
   "id": "stainless-place",
   "metadata": {
    "papermill": {},
    "tags": []
   },
   "source": [
    "## Add subscribers to user base"
   ]
  },
  {
   "cell_type": "code",
   "execution_count": 7,
   "id": "south-scroll",
   "metadata": {
    "papermill": {},
    "tags": []
   },
   "outputs": [],
   "source": [
    "emails = open(\"users.txt\", \"a\")\n",
    "emails.write(\",\"+email[0])"
   ]
  },
  {
   "cell_type": "code",
   "execution_count": null,
   "id": "experimental-hartford",
   "metadata": {
    "papermill": {},
    "tags": []
   },
   "outputs": [],
   "source": []
  }
 ],
 "metadata": {
  "kernelspec": {
   "display_name": "Python 3",
   "language": "python",
   "name": "python3"
  },
  "language_info": {
   "codemirror_mode": {
    "name": "ipython",
    "version": 3
   },
   "file_extension": ".py",
   "mimetype": "text/x-python",
   "name": "python",
   "nbconvert_exporter": "python",
   "pygments_lexer": "ipython3",
   "version": "3.8.6"
  },
  "papermill": {
   "default_parameters": {},
   "environment_variables": {},
   "parameters": {},
   "version": "2.3.3"
  }
 },
 "nbformat": 4,
 "nbformat_minor": 5
}