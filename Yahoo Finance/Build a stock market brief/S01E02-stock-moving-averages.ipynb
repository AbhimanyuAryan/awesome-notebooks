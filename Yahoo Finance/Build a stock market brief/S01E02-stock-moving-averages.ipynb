{
 "cells": [
  {
   "cell_type": "markdown",
   "id": "judicial-jungle",
   "metadata": {
    "papermill": {},
    "tags": []
   },
   "source": [
    "# Build a stock market brief - S01E02-stock-moving-averages\n",
    "<a href=\"https://app.naas.ai/user-redirect/naas/downloader?url=https://raw.githubusercontent.com/jupyter-naas/awesome-notebooks/master/Yahoo%20Finance/Build%20a%20stock%20market%20brief/S01E02-stock-moving-averages.ipynb\" target=\"_parent\"><img src=\"https://img.shields.io/badge/-Open%20in%20Naas-success?labelColor=000000&logo=data:image/svg+xml;base64,PD94bWwgdmVyc2lvbj0iMS4wIiBlbmNvZGluZz0iVVRGLTgiPz4KPHN2ZyB3aWR0aD0iMTAyNHB4IiBoZWlnaHQ9IjEwMjRweCIgdmlld0JveD0iMCAwIDEwMjQgMTAyNCIgeG1sbnM9Imh0dHA6Ly93d3cudzMub3JnLzIwMDAvc3ZnIiB4bWxuczp4bGluaz0iaHR0cDovL3d3dy53My5vcmcvMTk5OS94bGluayIgdmVyc2lvbj0iMS4xIj4KIDwhLS0gR2VuZXJhdGVkIGJ5IFBpeGVsbWF0b3IgUHJvIDIuMC41IC0tPgogPGRlZnM+CiAgPHRleHQgaWQ9InN0cmluZyIgdHJhbnNmb3JtPSJtYXRyaXgoMS4wIDAuMCAwLjAgMS4wIDIyOC4wIDU0LjUpIiBmb250LWZhbWlseT0iQ29tZm9ydGFhLVJlZ3VsYXIsIENvbWZvcnRhYSIgZm9udC1zaXplPSI4MDAiIHRleHQtZGVjb3JhdGlvbj0ibm9uZSIgZmlsbD0iI2ZmZmZmZiIgeD0iMS4xOTk5OTk5OTk5OTk5ODg2IiB5PSI3MDUuMCI+bjwvdGV4dD4KIDwvZGVmcz4KIDx1c2UgaWQ9Im4iIHhsaW5rOmhyZWY9IiNzdHJpbmciLz4KPC9zdmc+Cg==\"/></a>"
   ]
  },
  {
   "cell_type": "markdown",
   "id": "aboriginal-literature",
   "metadata": {
    "papermill": {},
    "tags": []
   },
   "source": [
    "The moving averages are one of the most common way to follow stock trends and anticipate their variations. \n",
    "\n",
    "This is one of the techniques used by traders to know better when to buy or sell.``\n",
    "- if the 20MA curve is above 50MA, you should buy\n",
    "- if the 50MA curve is above 20MA, you should sell "
   ]
  },
  {
   "cell_type": "code",
   "execution_count": 1,
   "id": "express-escape",
   "metadata": {
    "papermill": {},
    "tags": []
   },
   "outputs": [],
   "source": [
    "stock = \"TSLA\""
   ]
  },
  {
   "cell_type": "markdown",
   "id": "anonymous-blowing",
   "metadata": {
    "papermill": {},
    "tags": []
   },
   "source": [
    "## Import packages"
   ]
  },
  {
   "cell_type": "code",
   "execution_count": 2,
   "id": "monthly-joint",
   "metadata": {
    "papermill": {},
    "tags": []
   },
   "outputs": [],
   "source": [
    "import datetime as dt\n",
    "import matplotlib.pyplot as plt\n",
    "import pandas as pd \n",
    "import pandas_datareader.data as web"
   ]
  },
  {
   "cell_type": "markdown",
   "id": "scheduled-arrival",
   "metadata": {
    "papermill": {},
    "tags": []
   },
   "source": [
    "## Import data"
   ]
  },
  {
   "cell_type": "code",
   "execution_count": 3,
   "id": "abandoned-dairy",
   "metadata": {
    "papermill": {},
    "tags": []
   },
   "outputs": [],
   "source": [
    "date_from = dt.datetime(2016,1,1)\n",
    "date_to = dt.datetime.today()\n",
    "\n",
    "df=web.DataReader(stock,'yahoo',date_from,date_to)\n",
    "df.head(2)"
   ]
  },
  {
   "cell_type": "markdown",
   "id": "integrated-worcester",
   "metadata": {
    "papermill": {},
    "tags": []
   },
   "source": [
    "## Calculate moving averages"
   ]
  },
  {
   "cell_type": "code",
   "execution_count": 4,
   "id": "welcome-brook",
   "metadata": {
    "papermill": {},
    "tags": []
   },
   "outputs": [],
   "source": [
    "df[\"20ma\"]= df[\"Close\"].rolling(window=20).mean()\n",
    "df[\"50ma\"]= df[\"Close\"].rolling(window=50).mean()"
   ]
  },
  {
   "cell_type": "markdown",
   "id": "accepted-seafood",
   "metadata": {
    "papermill": {},
    "tags": []
   },
   "source": [
    "## Visualize data anlaysis"
   ]
  },
  {
   "cell_type": "code",
   "execution_count": 5,
   "id": "increasing-behalf",
   "metadata": {
    "papermill": {},
    "tags": []
   },
   "outputs": [],
   "source": [
    "fig,ax=plt.subplots(figsize=(16,9))\n",
    "\n",
    "ax.plot(df.index,df['Close'],label=f'{stock}')\n",
    "ax.plot(df.index,df['20ma'],label=\"Moving av. 20\",color=\"green\")\n",
    "ax.plot(df.index,df['50ma'],label=\"Moving av. 50\",color=\"red\")\n",
    "\n",
    "ax.set_xlabel(\"Date\")\n",
    "ax.set_ylabel(\"Closing value\")\n",
    "ax.legend()"
   ]
  },
  {
   "cell_type": "code",
   "execution_count": null,
   "id": "intensive-former",
   "metadata": {
    "papermill": {},
    "tags": []
   },
   "outputs": [],
   "source": []
  }
 ],
 "metadata": {
  "kernelspec": {
   "display_name": "Python 3",
   "language": "python",
   "name": "python3"
  },
  "language_info": {
   "codemirror_mode": {
    "name": "ipython",
    "version": 3
   },
   "file_extension": ".py",
   "mimetype": "text/x-python",
   "name": "python",
   "nbconvert_exporter": "python",
   "pygments_lexer": "ipython3",
   "version": "3.8.6"
  },
  "papermill": {
   "default_parameters": {},
   "environment_variables": {},
   "parameters": {},
   "version": "2.3.3"
  }
 },
 "nbformat": 4,
 "nbformat_minor": 5
}