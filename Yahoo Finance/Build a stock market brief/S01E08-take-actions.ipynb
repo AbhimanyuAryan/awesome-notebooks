{
 "cells": [
  {
   "cell_type": "markdown",
   "id": "understanding-watershed",
   "metadata": {
    "papermill": {},
    "tags": []
   },
   "source": [
    "# 🤖 Take actions\n",
    "[<button class=\"lm-Widget p-Widget jupyter-widgets jupyter-button widget-button mod-primary\">Open in Naas</button>](https://app.naas.ai/user-redirect/naas/downloader?url=https://raw.githubusercontent.com/jupyter-naas/awesome-notebooks/master/Yahoo%20Finance/Build%20a%20stock%20market%20brief/S01E08-take-actions.ipynb)\n",
    "\n",
    "Buy or sell the stock you follow automatically."
   ]
  },
  {
   "cell_type": "markdown",
   "id": "grand-lightning",
   "metadata": {
    "papermill": {},
    "tags": []
   },
   "source": [
    "## 👉 COMING SOON"
   ]
  },
  {
   "cell_type": "code",
   "execution_count": 1,
   "id": "integral-macedonia",
   "metadata": {
    "papermill": {},
    "tags": []
   },
   "outputs": [],
   "source": [
    "action = \"TSLA\""
   ]
  },
  {
   "cell_type": "markdown",
   "id": "imperial-zambia",
   "metadata": {
    "papermill": {},
    "tags": []
   },
   "source": [
    "## Setup buy or sell conditions\n",
    "\n",
    "- Check if 20MA goes above 50MA in the prediction = if yes, then buy at the date the event happens\n",
    "- Check if 50MA goes below 20MAA in the prediction = if yes, then sell at the date the event happens"
   ]
  },
  {
   "cell_type": "markdown",
   "id": "peaceful-active",
   "metadata": {
    "papermill": {},
    "tags": []
   },
   "source": [
    "## Connect to your trading platform via API"
   ]
  },
  {
   "cell_type": "markdown",
   "id": "serious-crisis",
   "metadata": {
    "papermill": {},
    "tags": []
   },
   "source": [
    "- Etoro : https://etorox.com/contact-support/developers/post-api-v1-orders/\n",
    "- Alpaca : https://alpaca.markets/"
   ]
  },
  {
   "cell_type": "markdown",
   "id": "directed-diana",
   "metadata": {
    "papermill": {},
    "tags": []
   },
   "source": [
    "<img src=\"https://public.naas.ai/amVyZW15LTJFcmF2ZW5lbC00MGNhc2hzdG9yeS0yRWNvbQ==/asset/1ea6c42c0d6da2fa6deb6ccf701c22ad00d3caa1ff9aee1990a0b3e252cf\" alt=\"etoro\" width=\"500\" height=\"600\">"
   ]
  },
  {
   "cell_type": "markdown",
   "id": "bottom-fantasy",
   "metadata": {
    "papermill": {},
    "tags": []
   },
   "source": [
    "Analyze the error rate of the predictions"
   ]
  },
  {
   "cell_type": "markdown",
   "id": "offensive-eligibility",
   "metadata": {
    "papermill": {},
    "tags": []
   },
   "source": [
    "## Get email with orders report"
   ]
  },
  {
   "cell_type": "markdown",
   "id": "affiliated-empty",
   "metadata": {
    "papermill": {},
    "tags": []
   },
   "source": [
    "List of buy and sells orders"
   ]
  },
  {
   "cell_type": "markdown",
   "id": "complimentary-illinois",
   "metadata": {
    "papermill": {},
    "tags": []
   },
   "source": [
    "## Analyze efficiency"
   ]
  },
  {
   "cell_type": "markdown",
   "id": "exact-landing",
   "metadata": {
    "papermill": {},
    "tags": []
   },
   "source": [
    "Analyze the efficiency of the strategy. "
   ]
  },
  {
   "cell_type": "code",
   "execution_count": null,
   "id": "structural-greensboro",
   "metadata": {
    "papermill": {},
    "tags": []
   },
   "outputs": [],
   "source": []
  }
 ],
 "metadata": {
  "kernelspec": {
   "display_name": "Python 3",
   "language": "python",
   "name": "python3"
  },
  "language_info": {
   "codemirror_mode": {
    "name": "ipython",
    "version": 3
   },
   "file_extension": ".py",
   "mimetype": "text/x-python",
   "name": "python",
   "nbconvert_exporter": "python",
   "pygments_lexer": "ipython3",
   "version": "3.8.6"
  },
  "papermill": {
   "default_parameters": {},
   "environment_variables": {},
   "parameters": {},
   "version": "2.3.3"
  }
 },
 "nbformat": 4,
 "nbformat_minor": 5
}