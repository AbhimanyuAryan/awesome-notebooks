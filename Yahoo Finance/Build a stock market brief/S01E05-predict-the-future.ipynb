{
 "cells": [
  {
   "cell_type": "markdown",
   "id": "given-cricket",
   "metadata": {
    "papermill": {},
    "tags": []
   },
   "source": [
    "# Build a stock market brief - S01E05-predict-the-future\n",
    "<a href=\"https://app.naas.ai/user-redirect/naas/downloader?url=https://raw.githubusercontent.com/jupyter-naas/awesome-notebooks/master/Yahoo%20Finance/Build%20a%20stock%20market%20brief/S01E05-predict-the-future.ipynb\" target=\"_parent\"><img src=\"https://img.shields.io/badge/-Open%20in%20Naas-success?labelColor=000000&logo=data:image/svg+xml;base64,PD94bWwgdmVyc2lvbj0iMS4wIiBlbmNvZGluZz0iVVRGLTgiPz4KPHN2ZyB3aWR0aD0iMTAyNHB4IiBoZWlnaHQ9IjEwMjRweCIgdmlld0JveD0iMCAwIDEwMjQgMTAyNCIgeG1sbnM9Imh0dHA6Ly93d3cudzMub3JnLzIwMDAvc3ZnIiB4bWxuczp4bGluaz0iaHR0cDovL3d3dy53My5vcmcvMTk5OS94bGluayIgdmVyc2lvbj0iMS4xIj4KIDwhLS0gR2VuZXJhdGVkIGJ5IFBpeGVsbWF0b3IgUHJvIDIuMC41IC0tPgogPGRlZnM+CiAgPHRleHQgaWQ9InN0cmluZyIgdHJhbnNmb3JtPSJtYXRyaXgoMS4wIDAuMCAwLjAgMS4wIDIyOC4wIDU0LjUpIiBmb250LWZhbWlseT0iQ29tZm9ydGFhLVJlZ3VsYXIsIENvbWZvcnRhYSIgZm9udC1zaXplPSI4MDAiIHRleHQtZGVjb3JhdGlvbj0ibm9uZSIgZmlsbD0iI2ZmZmZmZiIgeD0iMS4xOTk5OTk5OTk5OTk5ODg2IiB5PSI3MDUuMCI+bjwvdGV4dD4KIDwvZGVmcz4KIDx1c2UgaWQ9Im4iIHhsaW5rOmhyZWY9IiNzdHJpbmciLz4KPC9zdmc+Cg==\"/></a>"
   ]
  },
  {
   "cell_type": "code",
   "execution_count": 1,
   "id": "alien-source",
   "metadata": {
    "papermill": {},
    "tags": []
   },
   "outputs": [],
   "source": [
    "stock = \"TSLA\""
   ]
  },
  {
   "cell_type": "code",
   "execution_count": 2,
   "id": "grateful-battlefield",
   "metadata": {
    "papermill": {},
    "tags": []
   },
   "outputs": [],
   "source": [
    "import naas\n",
    "import naas_drivers"
   ]
  },
  {
   "cell_type": "markdown",
   "id": "comparable-knight",
   "metadata": {
    "papermill": {},
    "tags": []
   },
   "source": [
    "## Get data from Naas Yahoo driver"
   ]
  },
  {
   "cell_type": "code",
   "execution_count": null,
   "id": "removable-philippines",
   "metadata": {
    "papermill": {},
    "tags": []
   },
   "outputs": [],
   "source": [
    "df = naas_drivers.yahoofinance.get(stock, date_from=-200, moving_averages=[20,50])\n",
    "df"
   ]
  },
  {
   "cell_type": "markdown",
   "id": "demonstrated-crowd",
   "metadata": {
    "papermill": {},
    "tags": []
   },
   "source": [
    "## Predict stock based on ARIMA, LINEAR, SVR models \n",
    "...and get a compound of the 3 models (simple average)"
   ]
  },
  {
   "cell_type": "code",
   "execution_count": 4,
   "id": "billion-margin",
   "metadata": {
    "papermill": {},
    "tags": []
   },
   "outputs": [],
   "source": [
    "data = naas_drivers.prediction.get(dataset=df, prediction_type=\"all\", label=\"Close\", date_column=\"Date\")\n",
    "data"
   ]
  },
  {
   "cell_type": "code",
   "execution_count": 5,
   "id": "medieval-burke",
   "metadata": {
    "papermill": {},
    "tags": []
   },
   "outputs": [],
   "source": [
    "import numpy as np\n",
    "data[\"Prediction\"] = data[\"Close\"].replace(np.nan,0.000000) + data[\"COMPOUND\"].replace(np.nan,0.000000)\n",
    "data[\"Company\"] = \"TSLA\"\n",
    "data"
   ]
  },
  {
   "cell_type": "markdown",
   "id": "large-perfume",
   "metadata": {
    "papermill": {},
    "tags": []
   },
   "source": [
    "## Calculate moving averages on Prediction"
   ]
  },
  {
   "cell_type": "code",
   "execution_count": 6,
   "id": "unauthorized-precipitation",
   "metadata": {
    "papermill": {},
    "tags": []
   },
   "outputs": [],
   "source": [
    "data[\"MA20\"]= data[\"Prediction\"].rolling(window=20).mean()\n",
    "data[\"MA50\"]= data[\"Prediction\"].rolling(window=50).mean()\n",
    "data"
   ]
  },
  {
   "cell_type": "markdown",
   "id": "presidential-execution",
   "metadata": {
    "papermill": {},
    "tags": []
   },
   "source": [
    "## Drop unnecessary lines for the grah"
   ]
  },
  {
   "cell_type": "code",
   "execution_count": 7,
   "id": "studied-unemployment",
   "metadata": {
    "papermill": {},
    "tags": []
   },
   "outputs": [],
   "source": [
    "data = data.drop([\"ARIMA\",\"LINEAR\",\"SVR\"], axis=1)\n",
    "data"
   ]
  },
  {
   "cell_type": "markdown",
   "id": "exclusive-apparel",
   "metadata": {
    "papermill": {},
    "tags": []
   },
   "source": [
    "## Plot the graph"
   ]
  },
  {
   "cell_type": "code",
   "execution_count": 8,
   "id": "constant-above",
   "metadata": {
    "papermill": {},
    "tags": []
   },
   "outputs": [],
   "source": [
    "graph = naas_drivers.plotly.stock(data, \"linechart_close\")\n",
    "graph"
   ]
  },
  {
   "cell_type": "markdown",
   "id": "sealed-meter",
   "metadata": {
    "papermill": {},
    "tags": []
   },
   "source": [
    "## Export graph as files"
   ]
  },
  {
   "cell_type": "code",
   "execution_count": 9,
   "id": "played-vegetation",
   "metadata": {
    "papermill": {},
    "tags": []
   },
   "outputs": [],
   "source": [
    "image_file_prediction = f\"{stock}_prediction.png\"\n",
    "html_file_prediction = f\"{stock}_prediction.html\"\n",
    "naas_drivers.plotly.export(graph, [html_file_prediction, image_file_prediction])"
   ]
  },
  {
   "cell_type": "markdown",
   "id": "separated-galaxy",
   "metadata": {
    "papermill": {},
    "tags": []
   },
   "source": [
    "## Expose image and html"
   ]
  },
  {
   "cell_type": "code",
   "execution_count": 10,
   "id": "allied-facial",
   "metadata": {
    "papermill": {},
    "tags": []
   },
   "outputs": [],
   "source": [
    "url_image_file_prediction = naas.assets.add(image_file_prediction)\n",
    "url_html_file_prediction = naas.assets.add(html_file_prediction, params={\"inline\": True})"
   ]
  },
  {
   "cell_type": "code",
   "execution_count": null,
   "id": "present-message",
   "metadata": {
    "papermill": {},
    "tags": []
   },
   "outputs": [],
   "source": []
  }
 ],
 "metadata": {
  "kernelspec": {
   "display_name": "Python 3",
   "language": "python",
   "name": "python3"
  },
  "language_info": {
   "codemirror_mode": {
    "name": "ipython",
    "version": 3
   },
   "file_extension": ".py",
   "mimetype": "text/x-python",
   "name": "python",
   "nbconvert_exporter": "python",
   "pygments_lexer": "ipython3",
   "version": "3.8.6"
  },
  "papermill": {
   "default_parameters": {},
   "environment_variables": {},
   "parameters": {},
   "version": "2.3.3"
  }
 },
 "nbformat": 4,
 "nbformat_minor": 5
}