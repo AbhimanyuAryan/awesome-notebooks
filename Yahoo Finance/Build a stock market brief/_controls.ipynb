{
 "cells": [
  {
   "cell_type": "markdown",
   "id": "beautiful-victim",
   "metadata": {
    "papermill": {},
    "tags": []
   },
   "source": [
    "# Controls \n",
    "[<button class=\"lm-Widget p-Widget jupyter-widgets jupyter-button widget-button mod-primary\">Open in Naas</button>](https://app.naas.ai/user-redirect/naas/downloader?url=https://raw.githubusercontent.com/jupyter-naas/awesome-notebooks/master/Yahoo%20Finance/Build%20a%20stock%20market%20brief/_controls.ipynb)\n"
   ]
  },
  {
   "cell_type": "markdown",
   "id": "collective-trouble",
   "metadata": {
    "papermill": {},
    "tags": []
   },
   "source": [
    "Get output file from production "
   ]
  },
  {
   "cell_type": "code",
   "execution_count": 6,
   "id": "accessible-wales",
   "metadata": {
    "papermill": {},
    "tags": []
   },
   "outputs": [
    {
     "name": "stdout",
     "output_type": "stream",
     "text": [
      "File copied here /home/ftp/private-folder/Naas/Get Started/starters/Build_a_Trading_Assistant/prod_out_S01E07-notebooks-as-api.ipynb\n",
      "🕣 Your Notebook OUTPUT from production has been copied into your dev folder\n",
      "\n"
     ]
    }
   ],
   "source": [
    "import naas \n",
    "naas.api.get_output(\"S01E07-notebooks-as-api.ipynb\")"
   ]
  },
  {
   "cell_type": "markdown",
   "id": "national-emergency",
   "metadata": {
    "papermill": {},
    "tags": []
   },
   "source": [
    "This will download the user file from production"
   ]
  },
  {
   "cell_type": "code",
   "execution_count": 7,
   "id": "changed-bradford",
   "metadata": {
    "papermill": {},
    "tags": []
   },
   "outputs": [
    {
     "name": "stdout",
     "output_type": "stream",
     "text": [
      "File copied here /home/ftp/private-folder/Naas/Get Started/starters/Build_a_Trading_Assistant/prod_users.txt\n",
      "🕣 Your Notebook from production has been copied into your dev folder.\n",
      "\n"
     ]
    }
   ],
   "source": [
    "naas.dependency.get(\"users.txt\")"
   ]
  },
  {
   "cell_type": "code",
   "execution_count": null,
   "id": "designing-planning",
   "metadata": {
    "papermill": {},
    "tags": []
   },
   "outputs": [],
   "source": []
  }
 ],
 "metadata": {
  "kernelspec": {
   "display_name": "Python 3",
   "language": "python",
   "name": "python3"
  },
  "language_info": {
   "codemirror_mode": {
    "name": "ipython",
    "version": 3
   },
   "file_extension": ".py",
   "mimetype": "text/x-python",
   "name": "python",
   "nbconvert_exporter": "python",
   "pygments_lexer": "ipython3",
   "version": "3.8.6"
  },
  "papermill": {
   "default_parameters": {},
   "environment_variables": {},
   "parameters": {},
   "version": "2.3.3"
  }
 },
 "nbformat": 4,
 "nbformat_minor": 5
}