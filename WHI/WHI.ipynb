{
 "cells": [
  {
   "cell_type": "code",
   "execution_count": 1,
   "id": "fatty-tomato",
   "metadata": {
    "execution": {
     "iopub.execute_input": "2021-06-10T13:58:29.361901Z",
     "iopub.status.busy": "2021-06-10T13:58:29.361641Z",
     "iopub.status.idle": "2021-06-10T13:58:30.736811Z",
     "shell.execute_reply": "2021-06-10T13:58:30.735068Z",
     "shell.execute_reply.started": "2021-06-10T13:58:29.361836Z"
    },
    "papermill": {},
    "tags": []
   },
   "outputs": [],
   "source": [
    "import pandas as pd\n",
    "import naas\n",
    "import os\n",
    "from PIL import Image, ImageDraw, ImageFont\n",
    "from datetime import date"
   ]
  },
  {
   "cell_type": "markdown",
   "id": "disturbed-technology",
   "metadata": {
    "papermill": {},
    "tags": []
   },
   "source": [
    "# WHI - \n",
    "<a href=\"https://app.naas.ai/user-redirect/naas/downloader?url=https://raw.githubusercontent.com/jupyter-naas/awesome-notebooks/master/WHI/WHI.ipynb\" target=\"_parent\"><img src=\"https://img.shields.io/badge/-Open%20in%20Naas-success?labelColor=000000&logo=data:image/svg+xml;base64,PD94bWwgdmVyc2lvbj0iMS4wIiBlbmNvZGluZz0iVVRGLTgiPz4KPHN2ZyB3aWR0aD0iMTAyNHB4IiBoZWlnaHQ9IjEwMjRweCIgdmlld0JveD0iMCAwIDEwMjQgMTAyNCIgeG1sbnM9Imh0dHA6Ly93d3cudzMub3JnLzIwMDAvc3ZnIiB4bWxuczp4bGluaz0iaHR0cDovL3d3dy53My5vcmcvMTk5OS94bGluayIgdmVyc2lvbj0iMS4xIj4KIDwhLS0gR2VuZXJhdGVkIGJ5IFBpeGVsbWF0b3IgUHJvIDIuMC41IC0tPgogPGRlZnM+CiAgPHRleHQgaWQ9InN0cmluZyIgdHJhbnNmb3JtPSJtYXRyaXgoMS4wIDAuMCAwLjAgMS4wIDIyOC4wIDU0LjUpIiBmb250LWZhbWlseT0iQ29tZm9ydGFhLVJlZ3VsYXIsIENvbWZvcnRhYSIgZm9udC1zaXplPSI4MDAiIHRleHQtZGVjb3JhdGlvbj0ibm9uZSIgZmlsbD0iI2ZmZmZmZiIgeD0iMS4xOTk5OTk5OTk5OTk5ODg2IiB5PSI3MDUuMCI+bjwvdGV4dD4KIDwvZGVmcz4KIDx1c2UgaWQ9Im4iIHhsaW5rOmhyZWY9IiNzdHJpbmciLz4KPC9zdmc+Cg==\"/></a>"
   ]
  },
  {
   "cell_type": "code",
   "execution_count": 5,
   "id": "adverse-granny",
   "metadata": {
    "execution": {
     "iopub.execute_input": "2021-06-10T13:59:28.998265Z",
     "iopub.status.busy": "2021-06-10T13:59:28.998028Z",
     "iopub.status.idle": "2021-06-10T13:59:29.035596Z",
     "shell.execute_reply": "2021-06-10T13:59:29.034933Z",
     "shell.execute_reply.started": "2021-06-10T13:59:28.998233Z"
    },
    "papermill": {},
    "tags": []
   },
   "outputs": [],
   "source": [
    "weights = {}\n",
    "for filename in os.listdir('output/'):\n",
    "    if filename != '.ipynb_checkpoints' :\n",
    "        df = pd.read_csv(f'output/{filename}')\n",
    "        weights[df['INDICATOR'].values[0]] = 1"
   ]
  },
  {
   "cell_type": "code",
   "execution_count": 6,
   "id": "connected-annotation",
   "metadata": {
    "execution": {
     "iopub.execute_input": "2021-06-10T13:59:31.862101Z",
     "iopub.status.busy": "2021-06-10T13:59:31.861873Z",
     "iopub.status.idle": "2021-06-10T13:59:31.870342Z",
     "shell.execute_reply": "2021-06-10T13:59:31.869691Z",
     "shell.execute_reply.started": "2021-06-10T13:59:31.862078Z"
    },
    "papermill": {},
    "tags": []
   },
   "outputs": [],
   "source": [
    "weights"
   ]
  },
  {
   "cell_type": "code",
   "execution_count": 7,
   "id": "ongoing-disabled",
   "metadata": {
    "execution": {
     "iopub.execute_input": "2021-06-10T13:59:35.861632Z",
     "iopub.status.busy": "2021-06-10T13:59:35.861335Z",
     "iopub.status.idle": "2021-06-10T13:59:35.865391Z",
     "shell.execute_reply": "2021-06-10T13:59:35.864805Z",
     "shell.execute_reply.started": "2021-06-10T13:59:35.861601Z"
    },
    "papermill": {},
    "tags": []
   },
   "outputs": [],
   "source": [
    "weights = {'COVID-19 Active Cases': 4, \n",
    "           'Sea Level': 2,\n",
    "           'Delta global temperature': 4,\n",
    "           'Arctic Sea Ice level (million square km)': 2\n",
    "          }"
   ]
  },
  {
   "cell_type": "code",
   "execution_count": 8,
   "id": "selective-class",
   "metadata": {
    "execution": {
     "iopub.execute_input": "2021-06-10T13:59:37.919819Z",
     "iopub.status.busy": "2021-06-10T13:59:37.919584Z",
     "iopub.status.idle": "2021-06-10T13:59:37.926201Z",
     "shell.execute_reply": "2021-06-10T13:59:37.925667Z",
     "shell.execute_reply.started": "2021-06-10T13:59:37.919797Z"
    },
    "papermill": {},
    "tags": []
   },
   "outputs": [],
   "source": [
    "weights"
   ]
  },
  {
   "cell_type": "code",
   "execution_count": 10,
   "id": "naked-painting",
   "metadata": {
    "execution": {
     "iopub.execute_input": "2021-06-10T14:00:09.744391Z",
     "iopub.status.busy": "2021-06-10T14:00:09.744095Z",
     "iopub.status.idle": "2021-06-10T14:00:09.799166Z",
     "shell.execute_reply": "2021-06-10T14:00:09.798513Z",
     "shell.execute_reply.started": "2021-06-10T14:00:09.744361Z"
    },
    "papermill": {},
    "tags": []
   },
   "outputs": [],
   "source": [
    "df = None\n",
    "for filename in os.listdir('output/'):\n",
    "    if filename != '.ipynb_checkpoints' :\n",
    "        if df is not None:\n",
    "            row = pd.read_csv(f'output/{filename}')\n",
    "            ind = row['INDICATOR'].values[0]\n",
    "            row['WEIGHT'] = weights[ind]\n",
    "            df = df.append(row)\n",
    "        else:\n",
    "            df = pd.read_csv(f'output/{filename}')\n",
    "            ind = df['INDICATOR'].values[0]\n",
    "            df['WEIGHT'] = weights[ind]"
   ]
  },
  {
   "cell_type": "markdown",
   "id": "competitive-canon",
   "metadata": {
    "papermill": {},
    "tags": []
   },
   "source": [
    "# Output - Weighted Average to create WHI"
   ]
  },
  {
   "cell_type": "code",
   "execution_count": 11,
   "id": "modular-hollow",
   "metadata": {
    "execution": {
     "iopub.execute_input": "2021-06-10T14:00:14.951114Z",
     "iopub.status.busy": "2021-06-10T14:00:14.950784Z",
     "iopub.status.idle": "2021-06-10T14:00:15.026939Z",
     "shell.execute_reply": "2021-06-10T14:00:15.025993Z",
     "shell.execute_reply.started": "2021-06-10T14:00:14.951078Z"
    },
    "papermill": {},
    "tags": []
   },
   "outputs": [],
   "source": [
    "df"
   ]
  },
  {
   "cell_type": "code",
   "execution_count": 12,
   "id": "suitable-watson",
   "metadata": {
    "execution": {
     "iopub.execute_input": "2021-06-10T14:00:17.341884Z",
     "iopub.status.busy": "2021-06-10T14:00:17.341660Z",
     "iopub.status.idle": "2021-06-10T14:00:17.346563Z",
     "shell.execute_reply": "2021-06-10T14:00:17.345953Z",
     "shell.execute_reply.started": "2021-06-10T14:00:17.341861Z"
    },
    "papermill": {},
    "tags": []
   },
   "outputs": [],
   "source": [
    "def whi(df):\n",
    "    return round((df['VALUE']*df['WEIGHT']).sum() / df['WEIGHT'].sum(), 2)\n",
    "def createOutput(value, datetime):\n",
    "    img = Image.open(\"layout.png\")\n",
    "    d = ImageDraw.Draw(img)\n",
    "    \n",
    "    font = ImageFont.truetype('ArchivoBlack-Regular.ttf', 90)\n",
    "    fill = (255,255,255)\n",
    "    \n",
    "    d.text((50,900), \"{indicator}/10, {date}\".format(date=datetime.strftime(\"%d/%m/%Y\"), indicator=value), font=font, fill=fill)\n",
    "\n",
    "    return img"
   ]
  },
  {
   "cell_type": "code",
   "execution_count": 13,
   "id": "federal-graph",
   "metadata": {
    "execution": {
     "iopub.execute_input": "2021-06-10T14:00:19.264469Z",
     "iopub.status.busy": "2021-06-10T14:00:19.264114Z",
     "iopub.status.idle": "2021-06-10T14:00:19.965268Z",
     "shell.execute_reply": "2021-06-10T14:00:19.964635Z",
     "shell.execute_reply.started": "2021-06-10T14:00:19.264388Z"
    },
    "papermill": {},
    "tags": []
   },
   "outputs": [],
   "source": [
    "img = createOutput(f'{whi(df)}' , date.today())\n",
    "display(img)"
   ]
  },
  {
   "cell_type": "code",
   "execution_count": null,
   "id": "comprehensive-compromise",
   "metadata": {
    "papermill": {},
    "tags": []
   },
   "outputs": [],
   "source": []
  },
  {
   "cell_type": "code",
   "execution_count": null,
   "id": "sublime-niagara",
   "metadata": {
    "papermill": {},
    "tags": []
   },
   "outputs": [],
   "source": []
  }
 ],
 "metadata": {
  "kernelspec": {
   "display_name": "Python 3",
   "language": "python",
   "name": "python3"
  },
  "language_info": {
   "codemirror_mode": {
    "name": "ipython",
    "version": 3
   },
   "file_extension": ".py",
   "mimetype": "text/x-python",
   "name": "python",
   "nbconvert_exporter": "python",
   "pygments_lexer": "ipython3",
   "version": "3.8.8"
  },
  "papermill": {
   "default_parameters": {},
   "environment_variables": {},
   "parameters": {},
   "version": "2.3.3"
  }
 },
 "nbformat": 4,
 "nbformat_minor": 5
}