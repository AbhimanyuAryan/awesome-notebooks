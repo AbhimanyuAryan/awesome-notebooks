{
 "cells": [
  {
   "cell_type": "markdown",
   "id": "veterinary-pleasure",
   "metadata": {
    "papermill": {},
    "tags": []
   },
   "source": [
    "# NASA - Artic sea ice\n",
    "<a href=\"https://app.naas.ai/user-redirect/naas/downloader?url=https://raw.githubusercontent.com/jupyter-naas/awesome-notebooks/master/NASA/NASA_Artic_sea_ice.ipynb\" target=\"_parent\">\n",
    "<img src=\"https://img.shields.io/badge/-Open%20in%20Naas-success?labelColor=000000&logo=data:image/svg+xml;base64,PD94bWwgdmVyc2lvbj0iMS4wIiBlbmNvZGluZz0iVVRGLTgiPz4KPHN2ZyB3aWR0aD0iMTAyNHB4IiBoZWlnaHQ9IjEwMjRweCIgdmlld0JveD0iMCAwIDEwMjQgMTAyNCIgeG1sbnM9Imh0dHA6Ly93d3cudzMub3JnLzIwMDAvc3ZnIiB4bWxuczp4bGluaz0iaHR0cDovL3d3dy53My5vcmcvMTk5OS94bGluayIgdmVyc2lvbj0iMS4xIj4KIDwhLS0gR2VuZXJhdGVkIGJ5IFBpeGVsbWF0b3IgUHJvIDIuMC41IC0tPgogPGRlZnM+CiAgPHRleHQgaWQ9InN0cmluZyIgdHJhbnNmb3JtPSJtYXRyaXgoMS4wIDAuMCAwLjAgMS4wIDIyOC4wIDU0LjUpIiBmb250LWZhbWlseT0iQ29tZm9ydGFhLVJlZ3VsYXIsIENvbWZvcnRhYSIgZm9udC1zaXplPSI4MDAiIHRleHQtZGVjb3JhdGlvbj0ibm9uZSIgZmlsbD0iI2ZmZmZmZiIgeD0iMS4xOTk5OTk5OTk5OTk5ODg2IiB5PSI3MDUuMCI+bjwvdGV4dD4KIDwvZGVmcz4KIDx1c2UgaWQ9Im4iIHhsaW5rOmhyZWY9IiNzdHJpbmciLz4KPC9zdmc+Cg==\"/>\n",
    "</a>"
   ]
  },
  {
   "cell_type": "markdown",
   "id": "traditional-assist",
   "metadata": {
    "papermill": {},
    "tags": []
   },
   "source": [
    "AVERAGE SEPTEMBER MINIMUM EXTENT<br>\n",
    "Data source: Satellite observations. Credit: NSIDC/NASA\n",
    "\n",
    "**What is Arctic sea ice extent?**<br>\n",
    "Sea ice extent is a measure of the surface area of the ocean covered by sea ice. Increases in air and ocean temperatures decrease sea ice extent; in turn, the resulting darker ocean surface absorbs more solar radiation and increases Arctic warming.<br>\n",
    "Date Range: 1979 - 2020."
   ]
  },
  {
   "cell_type": "markdown",
   "id": "contained-burlington",
   "metadata": {
    "papermill": {},
    "tags": []
   },
   "source": [
    "## Get data from website\n",
    "https://climate.nasa.gov/ => click on Artic Sea Ice"
   ]
  },
  {
   "cell_type": "code",
   "execution_count": 1,
   "id": "obvious-forge",
   "metadata": {
    "execution": {
     "iopub.execute_input": "2021-05-10T08:30:59.127161Z",
     "iopub.status.busy": "2021-05-10T08:30:59.126772Z",
     "iopub.status.idle": "2021-05-10T08:31:00.074994Z",
     "shell.execute_reply": "2021-05-10T08:31:00.074344Z",
     "shell.execute_reply.started": "2021-05-10T08:30:59.127059Z"
    },
    "papermill": {},
    "tags": []
   },
   "outputs": [],
   "source": [
    "import pandas \n",
    "\n",
    "df = pandas.read_csv(\"https://climate.nasa.gov/system/internal_resources/details/original/2264_N_09_extent_v3.0.csv\")\n",
    "\n",
    "df.head(5)#read the first 5 lines"
   ]
  },
  {
   "cell_type": "markdown",
   "id": "random-restoration",
   "metadata": {
    "papermill": {},
    "tags": []
   },
   "source": [
    "## Create simple graph"
   ]
  },
  {
   "cell_type": "code",
   "execution_count": 3,
   "id": "informative-terry",
   "metadata": {
    "execution": {
     "iopub.execute_input": "2021-05-10T08:35:21.619447Z",
     "iopub.status.busy": "2021-05-10T08:35:21.619155Z",
     "iopub.status.idle": "2021-05-10T08:35:29.542973Z",
     "shell.execute_reply": "2021-05-10T08:35:29.542041Z",
     "shell.execute_reply.started": "2021-05-10T08:35:21.619416Z"
    },
    "papermill": {},
    "tags": []
   },
   "outputs": [],
   "source": [
    "import plotly.express as px\n",
    "    \n",
    "fig = px.line(df, x=\"year\", y=\" extent\")\n",
    "fig.show()"
   ]
  }
 ],
 "metadata": {
  "kernelspec": {
   "display_name": "Python 3",
   "language": "python",
   "name": "python3"
  },
  "language_info": {
   "codemirror_mode": {
    "name": "ipython",
    "version": 3
   },
   "file_extension": ".py",
   "mimetype": "text/x-python",
   "name": "python",
   "nbconvert_exporter": "python",
   "pygments_lexer": "ipython3",
   "version": "3.8.8"
  },
  "papermill": {
   "default_parameters": {},
   "environment_variables": {},
   "parameters": {},
   "version": "2.3.3"
  },
  "widgets": {
   "application/vnd.jupyter.widget-state+json": {
    "state": {},
    "version_major": 2,
    "version_minor": 0
   }
  }
 },
 "nbformat": 4,
 "nbformat_minor": 5
}