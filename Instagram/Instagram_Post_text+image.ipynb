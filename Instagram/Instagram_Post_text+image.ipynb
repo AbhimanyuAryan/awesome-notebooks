{
 "cells": [
  {
   "cell_type": "markdown",
   "id": "proved-garage",
   "metadata": {},
   "source": [
    "<img width=\"10%\" alt=\"Naas\" src=\"https://landen.imgix.net/jtci2pxwjczr/assets/5ice39g4.png?w=160\"/>\n",
    "\n",
    "# Instagram - Post text+image"
   ]
  },
  {
   "cell_type": "code",
   "execution_count": null,
   "id": "parallel-identifier",
   "metadata": {},
   "outputs": [],
   "source": [
    "pip install instabot --user"
   ]
  },
  {
   "cell_type": "code",
   "execution_count": null,
   "id": "wound-woman",
   "metadata": {},
   "outputs": [],
   "source": [
    "from instabot import Bot \n",
    "import naas\n",
    "bot = Bot() \n",
    "  \n",
    "bot.login(username = naas.secret.get('insta_em'),  \n",
    "          password = naas.secret.get('insta_pw')) \n"
   ]
  },
  {
   "cell_type": "code",
   "execution_count": null,
   "id": "comfortable-sitting",
   "metadata": {},
   "outputs": [],
   "source": [
    "bot.upload_photo(\"demo.jpg\",\n",
    "                 caption =\"Naas is doing this.\") "
   ]
  }
 ],
 "metadata": {
  "kernelspec": {
   "display_name": "Python 3",
   "language": "python",
   "name": "python3"
  },
  "language_info": {
   "codemirror_mode": {
    "name": "ipython",
    "version": 3
   },
   "file_extension": ".py",
   "mimetype": "text/x-python",
   "name": "python",
   "nbconvert_exporter": "python",
   "pygments_lexer": "ipython3",
   "version": "3.8.6"
  }
 },
 "nbformat": 4,
 "nbformat_minor": 5
}
