{
 "cells": [
  {
   "cell_type": "markdown",
   "id": "rocky-cardiff",
   "metadata": {},
   "source": [
    "<img width=\"10%\" alt=\"Naas\" src=\"https://landen.imgix.net/jtci2pxwjczr/assets/5ice39g4.png?w=160\"/>"
   ]
  },
  {
   "cell_type": "markdown",
   "id": "judicial-headline",
   "metadata": {},
   "source": [
    "# Instagram - Post image and caption"
   ]
  },
  {
   "cell_type": "code",
   "execution_count": null,
   "id": "bacterial-graphic",
   "metadata": {},
   "outputs": [],
   "source": [
    "pip install instabot --user"
   ]
  },
  {
   "cell_type": "code",
   "execution_count": null,
   "id": "legislative-taiwan",
   "metadata": {},
   "outputs": [],
   "source": [
    "from instabot import Bot \n",
    "import naas\n",
    "bot = Bot() \n",
    "  \n",
    "bot.login(username = \"USERNAME\",  \n",
    "          password = \"PASSWORD\") \n"
   ]
  },
  {
   "cell_type": "code",
   "execution_count": null,
   "id": "criminal-summit",
   "metadata": {},
   "outputs": [],
   "source": [
    "bot.upload_photo(\"demo.jpg\",\n",
    "                 caption =\"Naas is doing this.\") "
   ]
  }
 ],
 "metadata": {
  "kernelspec": {
   "display_name": "Python 3",
   "language": "python",
   "name": "python3"
  },
  "language_info": {
   "codemirror_mode": {
    "name": "ipython",
    "version": 3
   },
   "file_extension": ".py",
   "mimetype": "text/x-python",
   "name": "python",
   "nbconvert_exporter": "python",
   "pygments_lexer": "ipython3",
   "version": "3.8.6"
  }
 },
 "nbformat": 4,
 "nbformat_minor": 5
}
