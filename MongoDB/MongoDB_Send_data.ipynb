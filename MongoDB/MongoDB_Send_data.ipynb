{
 "cells": [
  {
   "cell_type": "markdown",
   "id": "funky-knowing",
   "metadata": {},
   "source": [
    "<img width=\"10%\" alt=\"Naas\" src=\"https://landen.imgix.net/jtci2pxwjczr/assets/5ice39g4.png?w=160\"/>"
   ]
  },
  {
   "cell_type": "markdown",
   "id": "north-notice",
   "metadata": {},
   "source": [
    "# MongoDB - Get data"
   ]
  },
  {
   "cell_type": "code",
   "execution_count": null,
   "id": "necessary-scholarship",
   "metadata": {},
   "outputs": [],
   "source": [
    "import naas"
   ]
  },
  {
   "cell_type": "markdown",
   "id": "interesting-seven",
   "metadata": {
    "execution": {
     "iopub.execute_input": "2021-03-03T08:25:34.105506Z",
     "iopub.status.busy": "2021-03-03T08:25:34.105279Z",
     "iopub.status.idle": "2021-03-03T08:25:34.109748Z",
     "shell.execute_reply": "2021-03-03T08:25:34.109191Z",
     "shell.execute_reply.started": "2021-03-03T08:25:34.105484Z"
    }
   },
   "source": [
    "## Connect"
   ]
  },
  {
   "cell_type": "code",
   "execution_count": null,
   "id": "alive-refund",
   "metadata": {},
   "outputs": [],
   "source": [
    "user = \"my user\"\n",
    "passwd = \"my passwd\"\n",
    "host = \"url\"\n",
    "port = 9090\n",
    "ftp = naas_drivers.mongo.connect(host, port, user, passwd)"
   ]
  },
  {
   "cell_type": "markdown",
   "id": "domestic-falls",
   "metadata": {},
   "source": [
    "## Get Data"
   ]
  },
  {
   "cell_type": "code",
   "execution_count": null,
   "id": "afraid-belarus",
   "metadata": {},
   "outputs": [],
   "source": [
    "collection_name = \"col\"\n",
    "db_name = \"db_name\"\n",
    "naas_drivers.mongo.get(collection_name, db_name)"
   ]
  }
 ],
 "metadata": {
  "kernelspec": {
   "display_name": "Python 3",
   "language": "python",
   "name": "python3"
  },
  "language_info": {
   "codemirror_mode": {
    "name": "ipython",
    "version": 3
   },
   "file_extension": ".py",
   "mimetype": "text/x-python",
   "name": "python",
   "nbconvert_exporter": "python",
   "pygments_lexer": "ipython3",
   "version": "3.8.6"
  }
 },
 "nbformat": 4,
 "nbformat_minor": 5
}
