{
 "cells": [
  {
   "cell_type": "markdown",
   "id": "caring-auction",
   "metadata": {
    "papermill": {},
    "tags": []
   },
   "source": [
    "<img width=\"10%\" alt=\"Naas\" src=\"https://landen.imgix.net/jtci2pxwjczr/assets/5ice39g4.png?w=160\"/>"
   ]
  },
  {
   "cell_type": "code",
   "execution_count": null,
   "id": "deadly-cleaners",
   "metadata": {
    "papermill": {},
    "tags": []
   },
   "outputs": [],
   "source": []
  },
  {
   "cell_type": "markdown",
   "id": "residential-working",
   "metadata": {
    "papermill": {},
    "tags": []
   },
   "source": [
    "# Stripe - Get customers\n",
    "<a href=\"https://app.naas.ai/user-redirect/naas/downloader?url=https://raw.githubusercontent.com/jupyter-naas/awesome-notebooks/master/Stripe/Stripe_Get_customers.ipynb\" target=\"_parent\"><img src=\"https://img.shields.io/badge/-Open%20in%20Naas-success?labelColor=000000&logo=data:image/svg+xml;base64,PD94bWwgdmVyc2lvbj0iMS4wIiBlbmNvZGluZz0iVVRGLTgiPz4KPHN2ZyB3aWR0aD0iMTAyNHB4IiBoZWlnaHQ9IjEwMjRweCIgdmlld0JveD0iMCAwIDEwMjQgMTAyNCIgeG1sbnM9Imh0dHA6Ly93d3cudzMub3JnLzIwMDAvc3ZnIiB4bWxuczp4bGluaz0iaHR0cDovL3d3dy53My5vcmcvMTk5OS94bGluayIgdmVyc2lvbj0iMS4xIj4KIDwhLS0gR2VuZXJhdGVkIGJ5IFBpeGVsbWF0b3IgUHJvIDIuMC41IC0tPgogPGRlZnM+CiAgPHRleHQgaWQ9InN0cmluZyIgdHJhbnNmb3JtPSJtYXRyaXgoMS4wIDAuMCAwLjAgMS4wIDIyOC4wIDU0LjUpIiBmb250LWZhbWlseT0iQ29tZm9ydGFhLVJlZ3VsYXIsIENvbWZvcnRhYSIgZm9udC1zaXplPSI4MDAiIHRleHQtZGVjb3JhdGlvbj0ibm9uZSIgZmlsbD0iI2ZmZmZmZiIgeD0iMS4xOTk5OTk5OTk5OTk5ODg2IiB5PSI3MDUuMCI+bjwvdGV4dD4KIDwvZGVmcz4KIDx1c2UgaWQ9Im4iIHhsaW5rOmhyZWY9IiNzdHJpbmciLz4KPC9zdmc+Cg==\"/></a>"
   ]
  },
  {
   "cell_type": "code",
   "execution_count": null,
   "id": "greek-advocacy",
   "metadata": {
    "papermill": {},
    "tags": []
   },
   "outputs": [],
   "source": [
    "pip install stripe"
   ]
  },
  {
   "cell_type": "code",
   "execution_count": 2,
   "id": "sound-format",
   "metadata": {
    "execution": {
     "iopub.execute_input": "2021-01-28T13:36:39.107688Z",
     "iopub.status.busy": "2021-01-28T13:36:39.107425Z",
     "iopub.status.idle": "2021-01-28T13:36:39.110700Z",
     "shell.execute_reply": "2021-01-28T13:36:39.110010Z",
     "shell.execute_reply.started": "2021-01-28T13:36:39.107664Z"
    },
    "papermill": {},
    "tags": []
   },
   "outputs": [],
   "source": [
    "api_key = \"sk_test_4eC39HqLyjWDarjtT1zdp7dc\""
   ]
  },
  {
   "cell_type": "code",
   "execution_count": 3,
   "id": "experimental-taiwan",
   "metadata": {
    "execution": {
     "iopub.execute_input": "2021-01-28T13:36:39.272305Z",
     "iopub.status.busy": "2021-01-28T13:36:39.271769Z",
     "iopub.status.idle": "2021-01-28T13:36:39.632730Z",
     "shell.execute_reply": "2021-01-28T13:36:39.632115Z",
     "shell.execute_reply.started": "2021-01-28T13:36:39.272270Z"
    },
    "papermill": {},
    "tags": []
   },
   "outputs": [],
   "source": [
    "import stripe\n",
    "import pandas as pd\n",
    "\n",
    "stripe.api_key = api_key"
   ]
  },
  {
   "cell_type": "code",
   "execution_count": 4,
   "id": "global-oracle",
   "metadata": {
    "execution": {
     "iopub.execute_input": "2021-01-28T13:36:39.634108Z",
     "iopub.status.busy": "2021-01-28T13:36:39.633836Z",
     "iopub.status.idle": "2021-01-28T13:36:40.606885Z",
     "shell.execute_reply": "2021-01-28T13:36:40.606237Z",
     "shell.execute_reply.started": "2021-01-28T13:36:39.634079Z"
    },
    "papermill": {},
    "tags": []
   },
   "outputs": [],
   "source": [
    "customers = stripe.Customer.list(limit=30)\n",
    "pd.DataFrame(customers.get('data'))"
   ]
  },
  {
   "cell_type": "code",
   "execution_count": null,
   "id": "super-cooperative",
   "metadata": {
    "papermill": {},
    "tags": []
   },
   "outputs": [],
   "source": []
  },
  {
   "cell_type": "code",
   "execution_count": null,
   "id": "clear-europe",
   "metadata": {
    "papermill": {},
    "tags": []
   },
   "outputs": [],
   "source": []
  }
 ],
 "metadata": {
  "kernelspec": {
   "display_name": "Python 3",
   "language": "python",
   "name": "python3"
  },
  "language_info": {
   "codemirror_mode": {
    "name": "ipython",
    "version": 3
   },
   "file_extension": ".py",
   "mimetype": "text/x-python",
   "name": "python",
   "nbconvert_exporter": "python",
   "pygments_lexer": "ipython3",
   "version": "3.8.6"
  },
  "papermill": {
   "default_parameters": {},
   "environment_variables": {},
   "parameters": {},
   "version": "2.3.3"
  }
 },
 "nbformat": 4,
 "nbformat_minor": 5
}