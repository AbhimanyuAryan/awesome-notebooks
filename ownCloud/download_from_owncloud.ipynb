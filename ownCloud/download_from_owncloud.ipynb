{
 "cells": [
  {
   "cell_type": "markdown",
   "id": "early-satin",
   "metadata": {
    "papermill": {},
    "tags": []
   },
   "source": [
    "<img width=\"10%\" alt=\"Naas\" src=\"https://landen.imgix.net/jtci2pxwjczr/assets/5ice39g4.png?w=160\"/>"
   ]
  },
  {
   "cell_type": "markdown",
   "id": "wrong-runner",
   "metadata": {
    "papermill": {},
    "tags": []
   },
   "source": [
    "# ownCloud - Download from owncloud\n",
    "<a href=\"https://app.naas.ai/user-redirect/naas/downloader?url=https://raw.githubusercontent.com/jupyter-naas/awesome-notebooks/master/ownCloud/download_from_owncloud.ipynb\" target=\"_parent\">\n",
    "<img src=\"https://img.shields.io/badge/-Open%20in%20Naas-success?labelColor=000000&logo=data:image/svg+xml;base64,PD94bWwgdmVyc2lvbj0iMS4wIiBlbmNvZGluZz0iVVRGLTgiPz4KPHN2ZyB3aWR0aD0iMTAyNHB4IiBoZWlnaHQ9IjEwMjRweCIgdmlld0JveD0iMCAwIDEwMjQgMTAyNCIgeG1sbnM9Imh0dHA6Ly93d3cudzMub3JnLzIwMDAvc3ZnIiB4bWxuczp4bGluaz0iaHR0cDovL3d3dy53My5vcmcvMTk5OS94bGluayIgdmVyc2lvbj0iMS4xIj4KIDwhLS0gR2VuZXJhdGVkIGJ5IFBpeGVsbWF0b3IgUHJvIDIuMC41IC0tPgogPGRlZnM+CiAgPHRleHQgaWQ9InN0cmluZyIgdHJhbnNmb3JtPSJtYXRyaXgoMS4wIDAuMCAwLjAgMS4wIDIyOC4wIDU0LjUpIiBmb250LWZhbWlseT0iQ29tZm9ydGFhLVJlZ3VsYXIsIENvbWZvcnRhYSIgZm9udC1zaXplPSI4MDAiIHRleHQtZGVjb3JhdGlvbj0ibm9uZSIgZmlsbD0iI2ZmZmZmZiIgeD0iMS4xOTk5OTk5OTk5OTk5ODg2IiB5PSI3MDUuMCI+bjwvdGV4dD4KIDwvZGVmcz4KIDx1c2UgaWQ9Im4iIHhsaW5rOmhyZWY9IiNzdHJpbmciLz4KPC9zdmc+Cg==\"/>\n",
    "</a>"
   ]
  },
  {
   "cell_type": "code",
   "execution_count": null,
   "id": "future-cutting",
   "metadata": {
    "papermill": {},
    "tags": []
   },
   "outputs": [],
   "source": [
    "!pip install pyocclient"
   ]
  },
  {
   "cell_type": "code",
   "execution_count": 5,
   "id": "guilty-habitat",
   "metadata": {
    "execution": {
     "iopub.execute_input": "2021-05-06T11:45:41.069934Z",
     "iopub.status.busy": "2021-05-06T11:45:41.069666Z",
     "iopub.status.idle": "2021-05-06T11:45:42.118949Z",
     "shell.execute_reply": "2021-05-06T11:45:42.118003Z",
     "shell.execute_reply.started": "2021-05-06T11:45:41.069905Z"
    },
    "papermill": {},
    "tags": []
   },
   "outputs": [],
   "source": [
    "import naas"
   ]
  },
  {
   "cell_type": "markdown",
   "id": "elder-drink",
   "metadata": {
    "execution": {
     "iopub.execute_input": "2021-05-06T18:19:24.101929Z",
     "iopub.status.busy": "2021-05-06T18:19:24.101555Z",
     "iopub.status.idle": "2021-05-06T18:19:24.108429Z",
     "shell.execute_reply": "2021-05-06T18:19:24.106651Z",
     "shell.execute_reply.started": "2021-05-06T18:19:24.101850Z"
    },
    "papermill": {},
    "tags": []
   },
   "source": [
    "# Connect to your ownCloud"
   ]
  },
  {
   "cell_type": "code",
   "execution_count": 7,
   "id": "accomplished-senior",
   "metadata": {
    "execution": {
     "iopub.execute_input": "2021-05-06T11:46:18.386355Z",
     "iopub.status.busy": "2021-05-06T11:46:18.385951Z",
     "iopub.status.idle": "2021-05-06T11:46:19.289285Z",
     "shell.execute_reply": "2021-05-06T11:46:19.288068Z",
     "shell.execute_reply.started": "2021-05-06T11:46:18.386317Z"
    },
    "papermill": {},
    "tags": []
   },
   "outputs": [],
   "source": [
    "import owncloud\n",
    "\n",
    "oc = owncloud.Client('https://cloud.damken.com')\n",
    "\n",
    "oc.login('YOURNAME', 'YOURPASS')"
   ]
  },
  {
   "cell_type": "markdown",
   "id": "extreme-portsmouth",
   "metadata": {
    "papermill": {},
    "tags": []
   },
   "source": [
    "# Get file from your ownCloud"
   ]
  },
  {
   "cell_type": "code",
   "execution_count": 3,
   "id": "necessary-ghana",
   "metadata": {
    "execution": {
     "iopub.execute_input": "2021-05-06T11:43:15.436204Z",
     "iopub.status.busy": "2021-05-06T11:43:15.435944Z",
     "iopub.status.idle": "2021-05-06T11:43:16.476523Z",
     "shell.execute_reply": "2021-05-06T11:43:16.475427Z",
     "shell.execute_reply.started": "2021-05-06T11:43:15.436176Z"
    },
    "papermill": {},
    "tags": []
   },
   "outputs": [],
   "source": [
    "oc.get_file('testdir/download_to_owncloud.ipynb', 'download_to_owncloud.ipynb')"
   ]
  }
 ],
 "metadata": {
  "kernelspec": {
   "display_name": "Python 3",
   "language": "python",
   "name": "python3"
  },
  "language_info": {
   "codemirror_mode": {
    "name": "ipython",
    "version": 3
   },
   "file_extension": ".py",
   "mimetype": "text/x-python",
   "name": "python",
   "nbconvert_exporter": "python",
   "pygments_lexer": "ipython3",
   "version": "3.8.8"
  },
  "papermill": {
   "default_parameters": {},
   "environment_variables": {},
   "parameters": {},
   "version": "2.3.3"
  }
 },
 "nbformat": 4,
 "nbformat_minor": 5
}