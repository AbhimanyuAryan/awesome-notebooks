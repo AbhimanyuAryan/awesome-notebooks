{
 "cells": [
  {
   "cell_type": "markdown",
   "id": "adapted-shade",
   "metadata": {
    "papermill": {},
    "tags": []
   },
   "source": [
    "<img width=\"10%\" alt=\"Naas\" src=\"https://landen.imgix.net/jtci2pxwjczr/assets/5ice39g4.png?w=160\"/>"
   ]
  },
  {
   "cell_type": "markdown",
   "id": "according-salem",
   "metadata": {
    "papermill": {},
    "tags": []
   },
   "source": [
    "# Societe.com - Get verif.com\n",
    "<a href=\"https://app.naas.ai/user-redirect/naas/downloader?url=https://raw.githubusercontent.com/jupyter-naas/awesome-notebooks/master/Societe.com/get_verif.com.ipynb\" target=\"_parent\">\n",
    "<img src=\"https://img.shields.io/badge/-Open%20in%20Naas-success?labelColor=000000&logo=data:image/svg+xml;base64,PD94bWwgdmVyc2lvbj0iMS4wIiBlbmNvZGluZz0iVVRGLTgiPz4KPHN2ZyB3aWR0aD0iMTAyNHB4IiBoZWlnaHQ9IjEwMjRweCIgdmlld0JveD0iMCAwIDEwMjQgMTAyNCIgeG1sbnM9Imh0dHA6Ly93d3cudzMub3JnLzIwMDAvc3ZnIiB4bWxuczp4bGluaz0iaHR0cDovL3d3dy53My5vcmcvMTk5OS94bGluayIgdmVyc2lvbj0iMS4xIj4KIDwhLS0gR2VuZXJhdGVkIGJ5IFBpeGVsbWF0b3IgUHJvIDIuMC41IC0tPgogPGRlZnM+CiAgPHRleHQgaWQ9InN0cmluZyIgdHJhbnNmb3JtPSJtYXRyaXgoMS4wIDAuMCAwLjAgMS4wIDIyOC4wIDU0LjUpIiBmb250LWZhbWlseT0iQ29tZm9ydGFhLVJlZ3VsYXIsIENvbWZvcnRhYSIgZm9udC1zaXplPSI4MDAiIHRleHQtZGVjb3JhdGlvbj0ibm9uZSIgZmlsbD0iI2ZmZmZmZiIgeD0iMS4xOTk5OTk5OTk5OTk5ODg2IiB5PSI3MDUuMCI+bjwvdGV4dD4KIDwvZGVmcz4KIDx1c2UgaWQ9Im4iIHhsaW5rOmhyZWY9IiNzdHJpbmciLz4KPC9zdmc+Cg==\"/>\n",
    "</a>"
   ]
  },
  {
   "cell_type": "code",
   "execution_count": 1,
   "id": "ranging-cricket",
   "metadata": {
    "execution": {
     "iopub.execute_input": "2021-01-26T16:42:30.741261Z",
     "iopub.status.busy": "2021-01-26T16:42:30.740979Z",
     "iopub.status.idle": "2021-01-26T16:42:31.570890Z",
     "shell.execute_reply": "2021-01-26T16:42:31.570214Z",
     "shell.execute_reply.started": "2021-01-26T16:42:30.741194Z"
    },
    "papermill": {},
    "tags": []
   },
   "outputs": [],
   "source": [
    "import pandas as pd\n",
    "data = pd.read_html(\"https://www.verif.com/societe/CASHSTORY-880612569/\", encoding=\"UTF-8\")"
   ]
  },
  {
   "cell_type": "code",
   "execution_count": 2,
   "id": "important-departure",
   "metadata": {
    "execution": {
     "iopub.execute_input": "2021-01-26T16:42:31.572390Z",
     "iopub.status.busy": "2021-01-26T16:42:31.572045Z",
     "iopub.status.idle": "2021-01-26T16:42:31.576083Z",
     "shell.execute_reply": "2021-01-26T16:42:31.575476Z",
     "shell.execute_reply.started": "2021-01-26T16:42:31.572360Z"
    },
    "papermill": {},
    "tags": []
   },
   "outputs": [],
   "source": [
    "print(len(data))"
   ]
  },
  {
   "cell_type": "code",
   "execution_count": 3,
   "id": "hindu-helicopter",
   "metadata": {
    "execution": {
     "iopub.execute_input": "2021-01-26T16:42:31.577446Z",
     "iopub.status.busy": "2021-01-26T16:42:31.577127Z",
     "iopub.status.idle": "2021-01-26T16:42:31.684671Z",
     "shell.execute_reply": "2021-01-26T16:42:31.684039Z",
     "shell.execute_reply.started": "2021-01-26T16:42:31.577419Z"
    },
    "papermill": {},
    "tags": []
   },
   "outputs": [],
   "source": [
    "data[0]"
   ]
  },
  {
   "cell_type": "code",
   "execution_count": 25,
   "id": "conditional-radio",
   "metadata": {
    "execution": {
     "iopub.execute_input": "2021-01-25T14:57:40.231388Z",
     "iopub.status.busy": "2021-01-25T14:57:40.231155Z",
     "iopub.status.idle": "2021-01-25T14:57:40.237602Z",
     "shell.execute_reply": "2021-01-25T14:57:40.237017Z",
     "shell.execute_reply.started": "2021-01-25T14:57:40.231363Z"
    },
    "papermill": {},
    "tags": []
   },
   "outputs": [],
   "source": [
    "data[1]"
   ]
  },
  {
   "cell_type": "code",
   "execution_count": 26,
   "id": "likely-marine",
   "metadata": {
    "execution": {
     "iopub.execute_input": "2021-01-25T14:57:40.681290Z",
     "iopub.status.busy": "2021-01-25T14:57:40.681059Z",
     "iopub.status.idle": "2021-01-25T14:57:40.687564Z",
     "shell.execute_reply": "2021-01-25T14:57:40.686888Z",
     "shell.execute_reply.started": "2021-01-25T14:57:40.681266Z"
    },
    "papermill": {},
    "tags": []
   },
   "outputs": [],
   "source": [
    "data[2]"
   ]
  },
  {
   "cell_type": "code",
   "execution_count": 27,
   "id": "exciting-explanation",
   "metadata": {
    "execution": {
     "iopub.execute_input": "2021-01-25T14:57:44.805671Z",
     "iopub.status.busy": "2021-01-25T14:57:44.805444Z",
     "iopub.status.idle": "2021-01-25T14:57:44.812000Z",
     "shell.execute_reply": "2021-01-25T14:57:44.811411Z",
     "shell.execute_reply.started": "2021-01-25T14:57:44.805647Z"
    },
    "papermill": {},
    "tags": []
   },
   "outputs": [],
   "source": [
    "data[3]"
   ]
  }
 ],
 "metadata": {
  "kernelspec": {
   "display_name": "Python 3",
   "language": "python",
   "name": "python3"
  },
  "language_info": {
   "codemirror_mode": {
    "name": "ipython",
    "version": 3
   },
   "file_extension": ".py",
   "mimetype": "text/x-python",
   "name": "python",
   "nbconvert_exporter": "python",
   "pygments_lexer": "ipython3",
   "version": "3.8.6"
  },
  "papermill": {
   "default_parameters": {},
   "environment_variables": {},
   "parameters": {},
   "version": "2.3.3"
  }
 },
 "nbformat": 4,
 "nbformat_minor": 5
}