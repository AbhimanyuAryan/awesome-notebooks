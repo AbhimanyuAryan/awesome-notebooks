{
 "cells": [
  {
   "cell_type": "markdown",
   "id": "selected-stock",
   "metadata": {
    "papermill": {},
    "tags": []
   },
   "source": [
    "<img width=\"10%\" alt=\"Naas\" src=\"https://landen.imgix.net/jtci2pxwjczr/assets/5ice39g4.png?w=160\"/>"
   ]
  },
  {
   "cell_type": "markdown",
   "id": "proved-olympus",
   "metadata": {
    "papermill": {},
    "tags": []
   },
   "source": [
    "# Societe.com - Get societe.ninja\n",
    "<a href=\"https://app.naas.ai/user-redirect/naas/downloader?url=https://raw.githubusercontent.com/jupyter-naas/awesome-notebooks/master/Societe.com/get_societe.ninja.ipynb\" target=\"_parent\"><img src=\"https://img.shields.io/badge/-Open%20in%20Naas-success?labelColor=000000&logo=data:image/svg+xml;base64,PD94bWwgdmVyc2lvbj0iMS4wIiBlbmNvZGluZz0iVVRGLTgiPz4KPHN2ZyB3aWR0aD0iMTAyNHB4IiBoZWlnaHQ9IjEwMjRweCIgdmlld0JveD0iMCAwIDEwMjQgMTAyNCIgeG1sbnM9Imh0dHA6Ly93d3cudzMub3JnLzIwMDAvc3ZnIiB4bWxuczp4bGluaz0iaHR0cDovL3d3dy53My5vcmcvMTk5OS94bGluayIgdmVyc2lvbj0iMS4xIj4KIDwhLS0gR2VuZXJhdGVkIGJ5IFBpeGVsbWF0b3IgUHJvIDIuMC41IC0tPgogPGRlZnM+CiAgPHRleHQgaWQ9InN0cmluZyIgdHJhbnNmb3JtPSJtYXRyaXgoMS4wIDAuMCAwLjAgMS4wIDIyOC4wIDU0LjUpIiBmb250LWZhbWlseT0iQ29tZm9ydGFhLVJlZ3VsYXIsIENvbWZvcnRhYSIgZm9udC1zaXplPSI4MDAiIHRleHQtZGVjb3JhdGlvbj0ibm9uZSIgZmlsbD0iI2ZmZmZmZiIgeD0iMS4xOTk5OTk5OTk5OTk5ODg2IiB5PSI3MDUuMCI+bjwvdGV4dD4KIDwvZGVmcz4KIDx1c2UgaWQ9Im4iIHhsaW5rOmhyZWY9IiNzdHJpbmciLz4KPC9zdmc+Cg==\"/></a>"
   ]
  },
  {
   "cell_type": "code",
   "execution_count": 1,
   "id": "closing-mercury",
   "metadata": {
    "execution": {
     "iopub.execute_input": "2021-01-25T15:01:53.141688Z",
     "iopub.status.busy": "2021-01-25T15:01:53.141415Z",
     "iopub.status.idle": "2021-01-25T15:01:58.565300Z",
     "shell.execute_reply": "2021-01-25T15:01:58.564720Z",
     "shell.execute_reply.started": "2021-01-25T15:01:53.141624Z"
    },
    "papermill": {},
    "tags": []
   },
   "outputs": [],
   "source": [
    "import pandas as pd\n",
    "data = pd.read_html(\"https://societe.ninja/data.php?siren=880612569\", encoding=\"UTF-8\")"
   ]
  },
  {
   "cell_type": "code",
   "execution_count": 2,
   "id": "medium-bumper",
   "metadata": {
    "execution": {
     "iopub.execute_input": "2021-01-25T15:01:58.567966Z",
     "iopub.status.busy": "2021-01-25T15:01:58.567792Z",
     "iopub.status.idle": "2021-01-25T15:01:58.572745Z",
     "shell.execute_reply": "2021-01-25T15:01:58.572121Z",
     "shell.execute_reply.started": "2021-01-25T15:01:58.567947Z"
    },
    "papermill": {},
    "tags": []
   },
   "outputs": [],
   "source": [
    "print(len(data))"
   ]
  },
  {
   "cell_type": "code",
   "execution_count": 3,
   "id": "working-world",
   "metadata": {
    "execution": {
     "iopub.execute_input": "2021-01-25T15:01:58.574355Z",
     "iopub.status.busy": "2021-01-25T15:01:58.574136Z",
     "iopub.status.idle": "2021-01-25T15:01:58.667526Z",
     "shell.execute_reply": "2021-01-25T15:01:58.667008Z",
     "shell.execute_reply.started": "2021-01-25T15:01:58.574327Z"
    },
    "papermill": {},
    "tags": []
   },
   "outputs": [],
   "source": [
    "data[0]"
   ]
  },
  {
   "cell_type": "code",
   "execution_count": 4,
   "id": "pediatric-startup",
   "metadata": {
    "execution": {
     "iopub.execute_input": "2021-01-25T15:01:58.669959Z",
     "iopub.status.busy": "2021-01-25T15:01:58.669784Z",
     "iopub.status.idle": "2021-01-25T15:01:58.767936Z",
     "shell.execute_reply": "2021-01-25T15:01:58.767301Z",
     "shell.execute_reply.started": "2021-01-25T15:01:58.669939Z"
    },
    "papermill": {},
    "tags": []
   },
   "outputs": [],
   "source": [
    "data[1]"
   ]
  },
  {
   "cell_type": "code",
   "execution_count": 5,
   "id": "tamil-enforcement",
   "metadata": {
    "execution": {
     "iopub.execute_input": "2021-01-25T15:01:58.769021Z",
     "iopub.status.busy": "2021-01-25T15:01:58.768840Z",
     "iopub.status.idle": "2021-01-25T15:01:58.883023Z",
     "shell.execute_reply": "2021-01-25T15:01:58.882507Z",
     "shell.execute_reply.started": "2021-01-25T15:01:58.768998Z"
    },
    "papermill": {},
    "tags": []
   },
   "outputs": [],
   "source": [
    "data[2]"
   ]
  },
  {
   "cell_type": "code",
   "execution_count": 6,
   "id": "governmental-going",
   "metadata": {
    "execution": {
     "iopub.execute_input": "2021-01-25T15:01:58.884119Z",
     "iopub.status.busy": "2021-01-25T15:01:58.883842Z",
     "iopub.status.idle": "2021-01-25T15:01:58.983471Z",
     "shell.execute_reply": "2021-01-25T15:01:58.982714Z",
     "shell.execute_reply.started": "2021-01-25T15:01:58.884097Z"
    },
    "papermill": {},
    "tags": []
   },
   "outputs": [],
   "source": [
    "data[3]"
   ]
  },
  {
   "cell_type": "code",
   "execution_count": 7,
   "id": "informative-return",
   "metadata": {
    "execution": {
     "iopub.execute_input": "2021-01-25T15:01:58.985542Z",
     "iopub.status.busy": "2021-01-25T15:01:58.985002Z",
     "iopub.status.idle": "2021-01-25T15:01:59.084988Z",
     "shell.execute_reply": "2021-01-25T15:01:59.084354Z",
     "shell.execute_reply.started": "2021-01-25T15:01:58.985476Z"
    },
    "papermill": {},
    "tags": []
   },
   "outputs": [],
   "source": [
    "data[4]"
   ]
  },
  {
   "cell_type": "code",
   "execution_count": 8,
   "id": "premier-garlic",
   "metadata": {
    "execution": {
     "iopub.execute_input": "2021-01-25T15:01:59.086613Z",
     "iopub.status.busy": "2021-01-25T15:01:59.086446Z",
     "iopub.status.idle": "2021-01-25T15:01:59.169075Z",
     "shell.execute_reply": "2021-01-25T15:01:59.168436Z",
     "shell.execute_reply.started": "2021-01-25T15:01:59.086595Z"
    },
    "papermill": {},
    "tags": []
   },
   "outputs": [],
   "source": [
    "data[5]"
   ]
  },
  {
   "cell_type": "code",
   "execution_count": 9,
   "id": "quiet-moses",
   "metadata": {
    "execution": {
     "iopub.execute_input": "2021-01-25T15:01:59.170452Z",
     "iopub.status.busy": "2021-01-25T15:01:59.170218Z",
     "iopub.status.idle": "2021-01-25T15:01:59.262955Z",
     "shell.execute_reply": "2021-01-25T15:01:59.262415Z",
     "shell.execute_reply.started": "2021-01-25T15:01:59.170423Z"
    },
    "papermill": {},
    "tags": []
   },
   "outputs": [],
   "source": [
    "data[6]"
   ]
  },
  {
   "cell_type": "code",
   "execution_count": 10,
   "id": "eight-exchange",
   "metadata": {
    "execution": {
     "iopub.execute_input": "2021-01-25T15:01:59.264160Z",
     "iopub.status.busy": "2021-01-25T15:01:59.263917Z",
     "iopub.status.idle": "2021-01-25T15:01:59.355149Z",
     "shell.execute_reply": "2021-01-25T15:01:59.354478Z",
     "shell.execute_reply.started": "2021-01-25T15:01:59.264129Z"
    },
    "papermill": {},
    "tags": []
   },
   "outputs": [],
   "source": [
    "data[7]"
   ]
  },
  {
   "cell_type": "code",
   "execution_count": null,
   "id": "compliant-dependence",
   "metadata": {
    "papermill": {},
    "tags": []
   },
   "outputs": [],
   "source": []
  }
 ],
 "metadata": {
  "kernelspec": {
   "display_name": "Python 3",
   "language": "python",
   "name": "python3"
  },
  "language_info": {
   "codemirror_mode": {
    "name": "ipython",
    "version": 3
   },
   "file_extension": ".py",
   "mimetype": "text/x-python",
   "name": "python",
   "nbconvert_exporter": "python",
   "pygments_lexer": "ipython3",
   "version": "3.8.6"
  },
  "papermill": {
   "default_parameters": {},
   "environment_variables": {},
   "parameters": {},
   "version": "2.3.3"
  }
 },
 "nbformat": 4,
 "nbformat_minor": 5
}