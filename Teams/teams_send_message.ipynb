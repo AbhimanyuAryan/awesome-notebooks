{
 "cells": [
  {
   "cell_type": "markdown",
   "id": "printable-interest",
   "metadata": {},
   "source": [
    "<img width=\"10%\" alt=\"Naas\" src=\"https://landen.imgix.net/jtci2pxwjczr/assets/5ice39g4.png?w=160\"/>"
   ]
  },
  {
   "cell_type": "markdown",
   "id": "olympic-courage",
   "metadata": {
    "execution": {
     "iopub.execute_input": "2021-01-26T14:10:27.020371Z",
     "iopub.status.busy": "2021-01-26T14:10:27.020098Z",
     "iopub.status.idle": "2021-01-26T14:10:27.023428Z",
     "shell.execute_reply": "2021-01-26T14:10:27.022739Z",
     "shell.execute_reply.started": "2021-01-26T14:10:27.020304Z"
    }
   },
   "source": [
    "# Send Message to Teams"
   ]
  },
  {
   "cell_type": "markdown",
   "id": "announced-lexington",
   "metadata": {},
   "source": [
    "## Import needed library"
   ]
  },
  {
   "cell_type": "code",
   "execution_count": 6,
   "id": "terminal-dinner",
   "metadata": {
    "execution": {
     "iopub.execute_input": "2021-01-26T14:14:39.339970Z",
     "iopub.status.busy": "2021-01-26T14:14:39.339717Z",
     "iopub.status.idle": "2021-01-26T14:14:40.237538Z",
     "shell.execute_reply": "2021-01-26T14:14:40.236738Z",
     "shell.execute_reply.started": "2021-01-26T14:14:39.339946Z"
    }
   },
   "outputs": [],
   "source": [
    "import naas_drivers"
   ]
  },
  {
   "cell_type": "markdown",
   "id": "residential-prize",
   "metadata": {
    "execution": {
     "iopub.execute_input": "2021-01-26T14:13:57.115792Z",
     "iopub.status.busy": "2021-01-26T14:13:57.115575Z",
     "iopub.status.idle": "2021-01-26T14:13:57.123461Z",
     "shell.execute_reply": "2021-01-26T14:13:57.122684Z",
     "shell.execute_reply.started": "2021-01-26T14:13:57.115768Z"
    }
   },
   "source": [
    "## Connect to your Teams\n",
    "[Click here to discover how to get your webhook](https://naas.gitbook.io/drivers/automation/teams)"
   ]
  },
  {
   "cell_type": "code",
   "execution_count": 11,
   "id": "consistent-tract",
   "metadata": {
    "execution": {
     "iopub.execute_input": "2021-01-26T14:18:25.176008Z",
     "iopub.status.busy": "2021-01-26T14:18:25.175736Z",
     "iopub.status.idle": "2021-01-26T14:18:25.180401Z",
     "shell.execute_reply": "2021-01-26T14:18:25.179879Z",
     "shell.execute_reply.started": "2021-01-26T14:18:25.175982Z"
    }
   },
   "outputs": [],
   "source": [
    "webhook = \"https://forgr.webhook.office.com/webhookb2/83bcbd92-7095-48e9-bc59-60fb9f6dcf2e@da744f16-111c-41b2-899f-6332dfe22d16/IncomingWebhook/b3cf540a51d7465ca10bd85a61c10d92/c97dc097-a7ff-4123-865d-ac6482bcdac2\""
   ]
  },
  {
   "cell_type": "markdown",
   "id": "rubber-citizen",
   "metadata": {
    "execution": {
     "iopub.execute_input": "2021-01-26T14:12:31.462033Z",
     "iopub.status.busy": "2021-01-26T14:12:31.461804Z",
     "iopub.status.idle": "2021-01-26T14:12:31.464769Z",
     "shell.execute_reply": "2021-01-26T14:12:31.464098Z",
     "shell.execute_reply.started": "2021-01-26T14:12:31.462007Z"
    }
   },
   "source": [
    "## Set your message "
   ]
  },
  {
   "cell_type": "code",
   "execution_count": 12,
   "id": "confidential-router",
   "metadata": {
    "execution": {
     "iopub.execute_input": "2021-01-26T14:18:25.835925Z",
     "iopub.status.busy": "2021-01-26T14:18:25.835657Z",
     "iopub.status.idle": "2021-01-26T14:18:25.838782Z",
     "shell.execute_reply": "2021-01-26T14:18:25.838160Z",
     "shell.execute_reply.started": "2021-01-26T14:18:25.835899Z"
    }
   },
   "outputs": [],
   "source": [
    "message = \"second test\"\n",
    "image_url = \"http://i.imgur.com/c4jt321l.png\" # Set to None if you don't need it"
   ]
  },
  {
   "cell_type": "markdown",
   "id": "strategic-struggle",
   "metadata": {},
   "source": [
    "## Send it"
   ]
  },
  {
   "cell_type": "code",
   "execution_count": 13,
   "id": "divine-equality",
   "metadata": {
    "execution": {
     "iopub.execute_input": "2021-01-26T14:18:36.588316Z",
     "iopub.status.busy": "2021-01-26T14:18:36.588092Z",
     "iopub.status.idle": "2021-01-26T14:18:37.292988Z",
     "shell.execute_reply": "2021-01-26T14:18:37.292283Z",
     "shell.execute_reply.started": "2021-01-26T14:18:36.588293Z"
    }
   },
   "outputs": [
    {
     "name": "stdout",
     "output_type": "stream",
     "text": [
      "Message Send\n"
     ]
    }
   ],
   "source": [
    "tm = naas_drivers.teams.connect(webhook)\n",
    "tm.send(message, image=image_url)"
   ]
  },
  {
   "cell_type": "code",
   "execution_count": null,
   "id": "suitable-trial",
   "metadata": {},
   "outputs": [],
   "source": []
  }
 ],
 "metadata": {
  "kernelspec": {
   "display_name": "Python 3",
   "language": "python",
   "name": "python3"
  },
  "language_info": {
   "codemirror_mode": {
    "name": "ipython",
    "version": 3
   },
   "file_extension": ".py",
   "mimetype": "text/x-python",
   "name": "python",
   "nbconvert_exporter": "python",
   "pygments_lexer": "ipython3",
   "version": "3.8.6"
  }
 },
 "nbformat": 4,
 "nbformat_minor": 5
}
