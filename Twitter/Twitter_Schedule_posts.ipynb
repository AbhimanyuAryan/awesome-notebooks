{
 "cells": [
  {
   "cell_type": "markdown",
   "id": "competent-physics",
   "metadata": {
    "papermill": {},
    "tags": []
   },
   "source": [
    "# Twitter - Schedule posts\n",
    "<a href=\"https://app.naas.ai/user-redirect/naas/downloader?url=https://raw.githubusercontent.com/jupyter-naas/awesome-notebooks/master/Twitter/Twitter_Schedule_posts.ipynb\" target=\"_parent\"><img src=\"https://img.shields.io/badge/-Open%20in%20Naas-success?labelColor=000000&logo=data:image/svg+xml;base64,PD94bWwgdmVyc2lvbj0iMS4wIiBlbmNvZGluZz0iVVRGLTgiPz4KPHN2ZyB3aWR0aD0iMTAyNHB4IiBoZWlnaHQ9IjEwMjRweCIgdmlld0JveD0iMCAwIDEwMjQgMTAyNCIgeG1sbnM9Imh0dHA6Ly93d3cudzMub3JnLzIwMDAvc3ZnIiB4bWxuczp4bGluaz0iaHR0cDovL3d3dy53My5vcmcvMTk5OS94bGluayIgdmVyc2lvbj0iMS4xIj4KIDwhLS0gR2VuZXJhdGVkIGJ5IFBpeGVsbWF0b3IgUHJvIDIuMC41IC0tPgogPGRlZnM+CiAgPHRleHQgaWQ9InN0cmluZyIgdHJhbnNmb3JtPSJtYXRyaXgoMS4wIDAuMCAwLjAgMS4wIDIyOC4wIDU0LjUpIiBmb250LWZhbWlseT0iQ29tZm9ydGFhLVJlZ3VsYXIsIENvbWZvcnRhYSIgZm9udC1zaXplPSI4MDAiIHRleHQtZGVjb3JhdGlvbj0ibm9uZSIgZmlsbD0iI2ZmZmZmZiIgeD0iMS4xOTk5OTk5OTk5OTk5ODg2IiB5PSI3MDUuMCI+bjwvdGV4dD4KIDwvZGVmcz4KIDx1c2UgaWQ9Im4iIHhsaW5rOmhyZWY9IiNzdHJpbmciLz4KPC9zdmc+Cg==\"/></a>"
   ]
  },
  {
   "cell_type": "markdown",
   "id": "welcome-geneva",
   "metadata": {
    "papermill": {},
    "tags": []
   },
   "source": [
    "## Get data from Gsheet"
   ]
  },
  {
   "cell_type": "code",
   "execution_count": 10,
   "id": "infinite-parent",
   "metadata": {
    "execution": {
     "iopub.execute_input": "2021-02-25T15:31:56.144449Z",
     "iopub.status.busy": "2021-02-25T15:31:56.144193Z",
     "iopub.status.idle": "2021-02-25T15:31:56.455948Z",
     "shell.execute_reply": "2021-02-25T15:31:56.455320Z",
     "shell.execute_reply.started": "2021-02-25T15:31:56.144422Z"
    },
    "papermill": {},
    "tags": []
   },
   "outputs": [],
   "source": [
    "import naas_drivers\n",
    "\n",
    "spreadsheet_id = \"1rFzw8eeVNXyD5CEUjnpxVn_iA2hzabYKU6pRdmnZ3FQ\"\n",
    "df = naas_drivers.gsheet.connect(spreadsheet_id).get(\n",
    "    sheet_name=\"Sheet1\"\n",
    ")\n",
    "df"
   ]
  },
  {
   "cell_type": "markdown",
   "id": "convertible-number",
   "metadata": {
    "papermill": {},
    "tags": []
   },
   "source": [
    "## Get current date and time details"
   ]
  },
  {
   "cell_type": "code",
   "execution_count": 2,
   "id": "expanded-fifty",
   "metadata": {
    "execution": {
     "iopub.execute_input": "2021-02-25T15:24:39.953791Z",
     "iopub.status.busy": "2021-02-25T15:24:39.953470Z",
     "iopub.status.idle": "2021-02-25T15:24:39.985067Z",
     "shell.execute_reply": "2021-02-25T15:24:39.984473Z",
     "shell.execute_reply.started": "2021-02-25T15:24:39.953753Z"
    },
    "papermill": {},
    "tags": []
   },
   "outputs": [],
   "source": [
    "from datetime import datetime\n",
    "now = datetime.now().replace(second=0, microsecond=0) #the Naas scheduler only allow minutes\n",
    "now"
   ]
  },
  {
   "cell_type": "code",
   "execution_count": 13,
   "id": "opened-possible",
   "metadata": {
    "execution": {
     "iopub.execute_input": "2021-02-25T15:32:34.768602Z",
     "iopub.status.busy": "2021-02-25T15:32:34.768344Z",
     "iopub.status.idle": "2021-02-25T15:32:34.774834Z",
     "shell.execute_reply": "2021-02-25T15:32:34.774351Z",
     "shell.execute_reply.started": "2021-02-25T15:32:34.768579Z"
    },
    "papermill": {},
    "tags": []
   },
   "outputs": [],
   "source": [
    "# dd/mm/YY H:M:S\n",
    "dt_string = now.strftime(\"%d/%m/%Y %H:%M:%S\") # To mach date time format in google sheet\n",
    "dt_string"
   ]
  },
  {
   "cell_type": "markdown",
   "id": "existing-judge",
   "metadata": {
    "papermill": {},
    "tags": []
   },
   "source": [
    "## Schedule check every minute\n",
    "If BROADCAST_DATE matches the current time then send twit from text column."
   ]
  },
  {
   "cell_type": "code",
   "execution_count": 14,
   "id": "behind-launch",
   "metadata": {
    "execution": {
     "iopub.execute_input": "2021-02-25T15:32:42.780923Z",
     "iopub.status.busy": "2021-02-25T15:32:42.780609Z",
     "iopub.status.idle": "2021-02-25T15:32:43.106146Z",
     "shell.execute_reply": "2021-02-25T15:32:43.105545Z",
     "shell.execute_reply.started": "2021-02-25T15:32:42.780888Z"
    },
    "papermill": {},
    "tags": []
   },
   "outputs": [],
   "source": [
    "import naas \n",
    "import naas_drivers\n",
    "#naas.scheduler.delete()\n",
    "naas.scheduler.add(recurrence=\"* * * * *\") # to run every minute"
   ]
  },
  {
   "cell_type": "markdown",
   "id": "useful-handling",
   "metadata": {
    "papermill": {},
    "tags": []
   },
   "source": [
    "## If current date and column date in Gsheet matches then post"
   ]
  },
  {
   "cell_type": "code",
   "execution_count": 15,
   "id": "sound-learning",
   "metadata": {
    "execution": {
     "iopub.execute_input": "2021-02-25T15:32:48.278372Z",
     "iopub.status.busy": "2021-02-25T15:32:48.278134Z",
     "iopub.status.idle": "2021-02-25T15:32:48.286146Z",
     "shell.execute_reply": "2021-02-25T15:32:48.283665Z",
     "shell.execute_reply.started": "2021-02-25T15:32:48.278348Z"
    },
    "papermill": {},
    "tags": []
   },
   "outputs": [],
   "source": [
    "for i in range(len(df)):\n",
    "    print(dt_string, df['BROADCAST_DATE'][i])\n",
    "    if dt_string == df['BROADCAST_DATE'][i]:\n",
    "        twitter_post = df['TEXT'][i]\n",
    "        event = \"naas_demo\"\n",
    "        key = \"ke4AigvXI5-EABaowdLt4fju1aOUxeMxSXQoN8FVyA\"\n",
    "        data = { \"value1\": twitter_post }\n",
    "        result = naas_drivers.ifttt.connect(key).send(event, data)   "
   ]
  },
  {
   "cell_type": "code",
   "execution_count": null,
   "id": "mysterious-likelihood",
   "metadata": {
    "papermill": {},
    "tags": []
   },
   "outputs": [],
   "source": []
  }
 ],
 "metadata": {
  "kernelspec": {
   "display_name": "Python 3",
   "language": "python",
   "name": "python3"
  },
  "language_info": {
   "codemirror_mode": {
    "name": "ipython",
    "version": 3
   },
   "file_extension": ".py",
   "mimetype": "text/x-python",
   "name": "python",
   "nbconvert_exporter": "python",
   "pygments_lexer": "ipython3",
   "version": "3.8.6"
  },
  "papermill": {
   "default_parameters": {},
   "environment_variables": {},
   "parameters": {},
   "version": "2.3.3"
  }
 },
 "nbformat": 4,
 "nbformat_minor": 5
}