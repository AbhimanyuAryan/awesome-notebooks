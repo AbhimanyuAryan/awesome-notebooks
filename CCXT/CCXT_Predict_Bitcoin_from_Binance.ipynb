{
 "cells": [
  {
   "cell_type": "markdown",
   "id": "upper-ladder",
   "metadata": {
    "papermill": {},
    "tags": []
   },
   "source": [
    "<img width=\"10%\" alt=\"Naas\" src=\"https://landen.imgix.net/jtci2pxwjczr/assets/5ice39g4.png?w=160\"/>"
   ]
  },
  {
   "cell_type": "markdown",
   "id": "pleased-transfer",
   "metadata": {
    "papermill": {},
    "tags": []
   },
   "source": [
    "# CCXT - Predict Bitcoin from Binance\n",
    "<a href=\"https://app.naas.ai/user-redirect/naas/downloader?url=https://raw.githubusercontent.com/jupyter-naas/awesome-notebooks/master/CCXT/CCXT_Predict_Bitcoin_from_Binance.ipynb\" target=\"_parent\"><img src=\"https://img.shields.io/badge/-Open%20in%20Naas-success?labelColor=000000&logo=data:image/svg+xml;base64,PD94bWwgdmVyc2lvbj0iMS4wIiBlbmNvZGluZz0iVVRGLTgiPz4KPHN2ZyB3aWR0aD0iMTAyNHB4IiBoZWlnaHQ9IjEwMjRweCIgdmlld0JveD0iMCAwIDEwMjQgMTAyNCIgeG1sbnM9Imh0dHA6Ly93d3cudzMub3JnLzIwMDAvc3ZnIiB4bWxuczp4bGluaz0iaHR0cDovL3d3dy53My5vcmcvMTk5OS94bGluayIgdmVyc2lvbj0iMS4xIj4KIDwhLS0gR2VuZXJhdGVkIGJ5IFBpeGVsbWF0b3IgUHJvIDIuMC41IC0tPgogPGRlZnM+CiAgPHRleHQgaWQ9InN0cmluZyIgdHJhbnNmb3JtPSJtYXRyaXgoMS4wIDAuMCAwLjAgMS4wIDIyOC4wIDU0LjUpIiBmb250LWZhbWlseT0iQ29tZm9ydGFhLVJlZ3VsYXIsIENvbWZvcnRhYSIgZm9udC1zaXplPSI4MDAiIHRleHQtZGVjb3JhdGlvbj0ibm9uZSIgZmlsbD0iI2ZmZmZmZiIgeD0iMS4xOTk5OTk5OTk5OTk5ODg2IiB5PSI3MDUuMCI+bjwvdGV4dD4KIDwvZGVmcz4KIDx1c2UgaWQ9Im4iIHhsaW5rOmhyZWY9IiNzdHJpbmciLz4KPC9zdmc+Cg==\"/></a>"
   ]
  },
  {
   "cell_type": "markdown",
   "id": "excess-reason",
   "metadata": {
    "papermill": {},
    "tags": []
   },
   "source": [
    "Prerequisite : get binance API Key"
   ]
  },
  {
   "cell_type": "code",
   "execution_count": null,
   "id": "further-champagne",
   "metadata": {
    "papermill": {},
    "tags": []
   },
   "outputs": [],
   "source": [
    "pip install ccxt --user"
   ]
  },
  {
   "cell_type": "code",
   "execution_count": 35,
   "id": "monthly-latino",
   "metadata": {
    "execution": {
     "iopub.execute_input": "2021-01-28T20:10:13.076454Z",
     "iopub.status.busy": "2021-01-28T20:10:13.076225Z",
     "iopub.status.idle": "2021-01-28T20:10:13.080969Z",
     "shell.execute_reply": "2021-01-28T20:10:13.080437Z",
     "shell.execute_reply.started": "2021-01-28T20:10:13.076431Z"
    },
    "papermill": {},
    "tags": []
   },
   "outputs": [],
   "source": [
    "import naas\n",
    "import ccxt\n",
    "import pandas as pd\n",
    "from datetime import datetime\n",
    "import naas_drivers"
   ]
  },
  {
   "cell_type": "code",
   "execution_count": 77,
   "id": "tamil-local",
   "metadata": {
    "execution": {
     "iopub.execute_input": "2021-01-28T20:32:43.280436Z",
     "iopub.status.busy": "2021-01-28T20:32:43.280205Z",
     "iopub.status.idle": "2021-01-28T20:32:44.318747Z",
     "shell.execute_reply": "2021-01-28T20:32:44.318119Z",
     "shell.execute_reply.started": "2021-01-28T20:32:43.280413Z"
    },
    "papermill": {},
    "tags": []
   },
   "outputs": [],
   "source": [
    "binance = ccxt.binance({\n",
    "    'apiKey': naas.secret.get('binance_api'),\n",
    "    'secret': naas.secret.get('binance_secret')\n",
    "}) \n",
    "# binance['api'] = binance['test']\n",
    "\n",
    "data = binance.fetch_ohlcv(symbol = 'BTC/USDT', limit = 200, timeframe = '1d')"
   ]
  },
  {
   "cell_type": "code",
   "execution_count": 78,
   "id": "whole-retrieval",
   "metadata": {
    "execution": {
     "iopub.execute_input": "2021-01-28T20:32:44.810383Z",
     "iopub.status.busy": "2021-01-28T20:32:44.810162Z",
     "iopub.status.idle": "2021-01-28T20:32:44.826811Z",
     "shell.execute_reply": "2021-01-28T20:32:44.826210Z",
     "shell.execute_reply.started": "2021-01-28T20:32:44.810362Z"
    },
    "papermill": {},
    "tags": []
   },
   "outputs": [],
   "source": [
    "df = pd.DataFrame(data, columns=[\"Date\",\"Open\",\"High\",\"Low\",\"Close\",\"Volume\"])\n",
    "df['Date'] = [datetime.fromtimestamp(float(time)/1000) for time in df['Date']]\n",
    "df"
   ]
  },
  {
   "cell_type": "code",
   "execution_count": 73,
   "id": "grave-opinion",
   "metadata": {
    "execution": {
     "iopub.execute_input": "2021-01-28T20:30:04.773035Z",
     "iopub.status.busy": "2021-01-28T20:30:04.772803Z",
     "iopub.status.idle": "2021-01-28T20:30:04.790593Z",
     "shell.execute_reply": "2021-01-28T20:30:04.789993Z",
     "shell.execute_reply.started": "2021-01-28T20:30:04.773006Z"
    },
    "papermill": {},
    "tags": []
   },
   "outputs": [],
   "source": [
    "chart = naas_drivers.plotly.candlestick(df,\n",
    "    label_x=\"Date\", \n",
    "    label_open=\"Open\", \n",
    "    label_high=\"High\",\n",
    "    label_low=\"Low\",\n",
    "    label_close=\"Close\"\n",
    ")\n",
    "chart"
   ]
  },
  {
   "cell_type": "code",
   "execution_count": 74,
   "id": "faced-cooler",
   "metadata": {
    "execution": {
     "iopub.execute_input": "2021-01-28T20:30:04.792120Z",
     "iopub.status.busy": "2021-01-28T20:30:04.791890Z",
     "iopub.status.idle": "2021-01-28T20:30:04.880135Z",
     "shell.execute_reply": "2021-01-28T20:30:04.879565Z",
     "shell.execute_reply.started": "2021-01-28T20:30:04.792092Z"
    },
    "papermill": {},
    "tags": []
   },
   "outputs": [],
   "source": [
    "df[f\"MA{20}\"] = df.Close.rolling(\n",
    "                    20\n",
    "                ).mean()\n",
    "df[f\"MA{50}\"] = df.Close.rolling(\n",
    "                    50\n",
    "                ).mean()"
   ]
  },
  {
   "cell_type": "code",
   "execution_count": 75,
   "id": "laden-niger",
   "metadata": {
    "execution": {
     "iopub.execute_input": "2021-01-28T20:30:05.236242Z",
     "iopub.status.busy": "2021-01-28T20:30:05.236017Z",
     "iopub.status.idle": "2021-01-28T20:30:05.695066Z",
     "shell.execute_reply": "2021-01-28T20:30:05.694235Z",
     "shell.execute_reply.started": "2021-01-28T20:30:05.236219Z"
    },
    "papermill": {},
    "tags": []
   },
   "outputs": [],
   "source": [
    "pr = naas_drivers.prediction.get(dataset=df)\n",
    "chart = naas_drivers.plotly.stock(pr, kind=\"linechart\"\n",
    ")"
   ]
  },
  {
   "cell_type": "code",
   "execution_count": 76,
   "id": "wound-passage",
   "metadata": {
    "execution": {
     "iopub.execute_input": "2021-01-28T20:30:05.721205Z",
     "iopub.status.busy": "2021-01-28T20:30:05.719378Z",
     "iopub.status.idle": "2021-01-28T20:30:05.767483Z",
     "shell.execute_reply": "2021-01-28T20:30:05.766895Z",
     "shell.execute_reply.started": "2021-01-28T20:30:05.721162Z"
    },
    "papermill": {},
    "tags": []
   },
   "outputs": [],
   "source": [
    "chart.update_layout(\n",
    "    autosize=True,\n",
    "    width=1300,\n",
    "    height=800,\n",
    ")\n",
    "chart"
   ]
  }
 ],
 "metadata": {
  "kernelspec": {
   "display_name": "Python 3",
   "language": "python",
   "name": "python3"
  },
  "language_info": {
   "codemirror_mode": {
    "name": "ipython",
    "version": 3
   },
   "file_extension": ".py",
   "mimetype": "text/x-python",
   "name": "python",
   "nbconvert_exporter": "python",
   "pygments_lexer": "ipython3",
   "version": "3.8.6"
  },
  "papermill": {
   "default_parameters": {},
   "environment_variables": {},
   "parameters": {},
   "version": "2.3.3"
  }
 },
 "nbformat": 4,
 "nbformat_minor": 5
}