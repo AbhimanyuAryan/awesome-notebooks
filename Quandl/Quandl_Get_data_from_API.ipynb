{
 "cells": [
  {
   "cell_type": "markdown",
   "id": "closing-luxembourg",
   "metadata": {
    "execution": {
     "iopub.execute_input": "2021-02-28T19:24:38.483991Z",
     "iopub.status.busy": "2021-02-28T19:24:38.483631Z",
     "iopub.status.idle": "2021-02-28T19:24:38.510384Z",
     "shell.execute_reply": "2021-02-28T19:24:38.509616Z",
     "shell.execute_reply.started": "2021-02-28T19:24:38.483892Z"
    },
    "papermill": {},
    "tags": []
   },
   "source": [
    "<img width=\"10%\" alt=\"Naas\" src=\"https://landen.imgix.net/jtci2pxwjczr/assets/5ice39g4.png?w=160\"/>"
   ]
  },
  {
   "cell_type": "markdown",
   "id": "accepting-george",
   "metadata": {
    "papermill": {},
    "tags": []
   },
   "source": [
    "# Quandl - Get data from API\n",
    "<a href=\"https://app.naas.ai/user-redirect/naas/downloader?url=https://raw.githubusercontent.com/jupyter-naas/awesome-notebooks/master/Quandl/Quandl_Get_data_from_API.ipynb\" target=\"_parent\"><img src=\"https://img.shields.io/badge/-Open%20in%20Naas-success?labelColor=000000&logo=data:image/svg+xml;base64,PD94bWwgdmVyc2lvbj0iMS4wIiBlbmNvZGluZz0iVVRGLTgiPz4KPHN2ZyB3aWR0aD0iMTAyNHB4IiBoZWlnaHQ9IjEwMjRweCIgdmlld0JveD0iMCAwIDEwMjQgMTAyNCIgeG1sbnM9Imh0dHA6Ly93d3cudzMub3JnLzIwMDAvc3ZnIiB4bWxuczp4bGluaz0iaHR0cDovL3d3dy53My5vcmcvMTk5OS94bGluayIgdmVyc2lvbj0iMS4xIj4KIDwhLS0gR2VuZXJhdGVkIGJ5IFBpeGVsbWF0b3IgUHJvIDIuMC41IC0tPgogPGRlZnM+CiAgPHRleHQgaWQ9InN0cmluZyIgdHJhbnNmb3JtPSJtYXRyaXgoMS4wIDAuMCAwLjAgMS4wIDIyOC4wIDU0LjUpIiBmb250LWZhbWlseT0iQ29tZm9ydGFhLVJlZ3VsYXIsIENvbWZvcnRhYSIgZm9udC1zaXplPSI4MDAiIHRleHQtZGVjb3JhdGlvbj0ibm9uZSIgZmlsbD0iI2ZmZmZmZiIgeD0iMS4xOTk5OTk5OTk5OTk5ODg2IiB5PSI3MDUuMCI+bjwvdGV4dD4KIDwvZGVmcz4KIDx1c2UgaWQ9Im4iIHhsaW5rOmhyZWY9IiNzdHJpbmciLz4KPC9zdmc+Cg==\"/></a>"
   ]
  },
  {
   "cell_type": "markdown",
   "id": "weekly-quarter",
   "metadata": {
    "papermill": {},
    "tags": []
   },
   "source": [
    "<img src=\"https://dka575ofm4ao0.cloudfront.net/pages-transactional_logos/retina/14289/Voe45QoqTPepkIe9ZrMW\" alt=\"drawing\" width=\"100\" align='left'/>\n",
    "<br>\n"
   ]
  },
  {
   "cell_type": "markdown",
   "id": "diagnostic-winner",
   "metadata": {
    "papermill": {},
    "tags": []
   },
   "source": [
    "### 1. Install Quandl"
   ]
  },
  {
   "cell_type": "code",
   "execution_count": 1,
   "id": "relative-swift",
   "metadata": {
    "papermill": {},
    "tags": []
   },
   "outputs": [],
   "source": [
    "!pip install quandl"
   ]
  },
  {
   "cell_type": "markdown",
   "id": "incoming-drunk",
   "metadata": {
    "papermill": {},
    "tags": []
   },
   "source": [
    "### 2. Import the quandl package"
   ]
  },
  {
   "cell_type": "code",
   "execution_count": 2,
   "id": "equipped-juvenile",
   "metadata": {
    "papermill": {},
    "tags": []
   },
   "outputs": [],
   "source": [
    "import quandl"
   ]
  },
  {
   "cell_type": "markdown",
   "id": "scheduled-hawaiian",
   "metadata": {
    "papermill": {},
    "tags": []
   },
   "source": [
    "### 3. Get the data "
   ]
  },
  {
   "cell_type": "code",
   "execution_count": 3,
   "id": "removed-leeds",
   "metadata": {
    "papermill": {},
    "tags": []
   },
   "outputs": [],
   "source": [
    "data = quandl.get('EIA/PET_RWTC_D')"
   ]
  },
  {
   "cell_type": "markdown",
   "id": "hearing-savage",
   "metadata": {
    "papermill": {},
    "tags": []
   },
   "source": [
    "### 4. Show dataframe"
   ]
  },
  {
   "cell_type": "code",
   "execution_count": 4,
   "id": "dressed-packaging",
   "metadata": {
    "papermill": {},
    "tags": []
   },
   "outputs": [],
   "source": [
    "data"
   ]
  },
  {
   "cell_type": "markdown",
   "id": "numeric-cameroon",
   "metadata": {
    "papermill": {},
    "tags": []
   },
   "source": [
    "### 5. Show the graph"
   ]
  },
  {
   "cell_type": "code",
   "execution_count": 5,
   "id": "august-stream",
   "metadata": {
    "papermill": {},
    "tags": []
   },
   "outputs": [],
   "source": [
    "import matplotlib.pyplot as plt\n",
    "%matplotlib inline"
   ]
  },
  {
   "cell_type": "code",
   "execution_count": 6,
   "id": "female-wallet",
   "metadata": {
    "papermill": {},
    "tags": []
   },
   "outputs": [],
   "source": [
    "data.plot()"
   ]
  },
  {
   "cell_type": "code",
   "execution_count": null,
   "id": "shared-background",
   "metadata": {
    "papermill": {},
    "tags": []
   },
   "outputs": [],
   "source": []
  }
 ],
 "metadata": {
  "kernelspec": {
   "display_name": "Python 3",
   "language": "python",
   "name": "python3"
  },
  "language_info": {
   "codemirror_mode": {
    "name": "ipython",
    "version": 3
   },
   "file_extension": ".py",
   "mimetype": "text/x-python",
   "name": "python",
   "nbconvert_exporter": "python",
   "pygments_lexer": "ipython3",
   "version": "3.8.6"
  },
  "papermill": {
   "default_parameters": {},
   "environment_variables": {},
   "parameters": {},
   "version": "2.3.3"
  }
 },
 "nbformat": 4,
 "nbformat_minor": 5
}