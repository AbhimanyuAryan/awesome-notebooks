{
 "cells": [
  {
   "cell_type": "markdown",
   "metadata": {},
   "source": [
    "<img width=\"10%\" alt=\"Naas\" src=\"https://landen.imgix.net/jtci2pxwjczr/assets/5ice39g4.png?w=160\"/>"
   ]
  },
  {
   "cell_type": "markdown",
   "metadata": {},
   "source": [
    "# Google - Perform search"
   ]
  },
  {
   "cell_type": "markdown",
   "metadata": {},
   "source": [
    "<img width=\"20%\" alt=\"Naas\" src=\"https://landen.imgix.net/jtci2pxwjczr/assets/b9j8mkpe.png?w=800&h=400&fit=crop\"/>"
   ]
  },
  {
   "cell_type": "code",
   "execution_count": 9,
   "metadata": {},
   "outputs": [
    {
     "name": "stdout",
     "output_type": "stream",
     "text": [
      "Requirement already satisfied: google in /opt/conda/lib/python3.8/site-packages (3.0.0)\n",
      "Requirement already satisfied: beautifulsoup4 in /opt/conda/lib/python3.8/site-packages (from google) (4.9.3)\n",
      "Requirement already satisfied: soupsieve>1.2; python_version >= \"3.0\" in /opt/conda/lib/python3.8/site-packages (from beautifulsoup4->google) (2.0.1)\n",
      "Note: you may need to restart the kernel to use updated packages.\n"
     ]
    }
   ],
   "source": [
    "pip install google"
   ]
  },
  {
   "cell_type": "code",
   "execution_count": 10,
   "metadata": {},
   "outputs": [
    {
     "name": "stdout",
     "output_type": "stream",
     "text": [
      "https://www.tesla.com/en_eu\n",
      "https://www.tesla.com/en_eu/models\n",
      "https://www.tesla.com/en_eu/model3/design\n",
      "https://www.tesla.com/en_eu/modely\n",
      "https://www.tesla.com/en_eu/modelx\n",
      "https://www.capital.fr/entreprises-marches/succes-retentissant-pour-la-tequila-signee-tesla-1385345\n",
      "https://fr.news.yahoo.com/succ%C3%A8s-retentissant-tequila-sign%C3%A9e-tesla-211500829.html\n",
      "https://fr.news.yahoo.com/nouveau-projet-fou-delon-musk-204000253.html\n",
      "https://en.wikipedia.org/wiki/Tesla,_Inc.\n",
      "https://en.wikipedia.org/wiki/Tesla_Model_S\n"
     ]
    }
   ],
   "source": [
    "from googlesearch import search\n",
    "\n",
    "query = \"telsa\"\n",
    "\n",
    "for i in search(query, tld=\"co.in\", num=30, stop=10, pause=2):\n",
    "    print(i)"
   ]
  },
  {
   "cell_type": "markdown",
   "metadata": {},
   "source": [
    "Parameters : \n",
    "\n",
    "- query: This is the text that you want to search for.\n",
    "\n",
    "- tld: This refers to the top level domain value like co.in or com which will specify which Google website we want to use.\n",
    "\n",
    "- lang: This parameter stands for language.\n",
    "\n",
    "- num: This is used to specify the number of results we want.\n",
    "\n",
    "- start: This is to specify from where to start the results. We should keep it 0 to begin from the very start.\n",
    "\n",
    "- stop: The last result to retrieve. Use None to keep searching forever.\n",
    "\n",
    "- pause: This parameter is used to specify the number of seconds to pause between consecutive HTTP requests because if we hit too many requests, Google can block our IP address.\n",
    "\n",
    "The above function will return a python generator (iterator) which has the search result URLs."
   ]
  },
  {
   "cell_type": "markdown",
   "metadata": {},
   "source": [
    "Source : https://www.studytonight.com/post/how-to-perform-google-search-using-python#"
   ]
  },
  {
   "cell_type": "code",
   "execution_count": null,
   "metadata": {},
   "outputs": [],
   "source": [
    "TSL"
   ]
  }
 ],
 "metadata": {
  "kernelspec": {
   "display_name": "Python 3",
   "language": "python",
   "name": "python3"
  },
  "language_info": {
   "codemirror_mode": {
    "name": "ipython",
    "version": 3
   },
   "file_extension": ".py",
   "mimetype": "text/x-python",
   "name": "python",
   "nbconvert_exporter": "python",
   "pygments_lexer": "ipython3",
   "version": "3.8.6"
  }
 },
 "nbformat": 4,
 "nbformat_minor": 4
}
