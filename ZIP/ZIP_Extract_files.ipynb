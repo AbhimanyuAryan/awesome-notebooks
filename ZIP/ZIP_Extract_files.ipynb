{
 "cells": [
  {
   "cell_type": "markdown",
   "id": "limiting-testimony",
   "metadata": {
    "papermill": {},
    "tags": []
   },
   "source": [
    "<img width=\"10%\" alt=\"Naas\" src=\"https://landen.imgix.net/jtci2pxwjczr/assets/5ice39g4.png?w=160\"/>\n",
    "\n",
    "# ZIP - Extract files\n",
    "[<button class=\"lm-Widget p-Widget jupyter-widgets jupyter-button widget-button mod-primary\">Open in Naas</button>](https://app.naas.ai/user-redirect/naas/downloader?url=https://raw.githubusercontent.com/jupyter-naas/awesome-notebooks/master/ZIP/ZIP_Extract_files.ipynb)"
   ]
  },
  {
   "cell_type": "code",
   "execution_count": 2,
   "id": "separate-inside",
   "metadata": {
    "papermill": {},
    "tags": []
   },
   "outputs": [],
   "source": [
    "import zipfile\n",
    "from io import BytesIO\n",
    "import re"
   ]
  },
  {
   "cell_type": "code",
   "execution_count": 3,
   "id": "sporting-factory",
   "metadata": {
    "papermill": {},
    "tags": []
   },
   "outputs": [],
   "source": [
    "def extract_zip(filepath):\n",
    "    i = 0\n",
    "    with zipfile.ZipFile(filepath, \"r\") as zfile:\n",
    "        for name in zfile.namelist():\n",
    "            if re.search(r'\\.zip$', name) is not None:\n",
    "                zfiledata = BytesIO(zfile.read(name))\n",
    "                with zipfile.ZipFile(zfiledata) as zfile2:\n",
    "                    for name2 in zfile2.namelist():\n",
    "                        zfile2.extract(name2, path=\"../\", pwd=None)\n",
    "                        i=i+1\n",
    "    zfile.close()\n",
    "    print(\"Processing Completed. \"+str(i)+\" file(s) extracted\")"
   ]
  },
  {
   "cell_type": "code",
   "execution_count": 5,
   "id": "anticipated-corps",
   "metadata": {
    "papermill": {},
    "tags": []
   },
   "outputs": [
    {
     "name": "stdout",
     "output_type": "stream",
     "text": [
      "Processing Completed. 4062 file(s) extracted\n"
     ]
    }
   ],
   "source": [
    "extract_zip('bilans_saisis_20181231.zip')"
   ]
  },
  {
   "cell_type": "code",
   "execution_count": null,
   "id": "commercial-stream",
   "metadata": {
    "papermill": {},
    "tags": []
   },
   "outputs": [],
   "source": []
  }
 ],
 "metadata": {
  "kernelspec": {
   "display_name": "Python 3",
   "language": "python",
   "name": "python3"
  },
  "language_info": {
   "codemirror_mode": {
    "name": "ipython",
    "version": 3
   },
   "file_extension": ".py",
   "mimetype": "text/x-python",
   "name": "python",
   "nbconvert_exporter": "python",
   "pygments_lexer": "ipython3",
   "version": "3.8.6"
  },
  "papermill": {
   "default_parameters": {},
   "environment_variables": {},
   "parameters": {},
   "version": "2.3.3"
  }
 },
 "nbformat": 4,
 "nbformat_minor": 5
}