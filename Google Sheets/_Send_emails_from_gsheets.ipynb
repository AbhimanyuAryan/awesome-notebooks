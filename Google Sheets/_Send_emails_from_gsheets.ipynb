{
 "cells": [
  {
   "cell_type": "markdown",
   "metadata": {},
   "source": [
    "<img width=\"10%\" alt=\"Naas\" src=\"https://landen.imgix.net/jtci2pxwjczr/assets/5ice39g4.png?w=160\"/>"
   ]
  },
  {
   "cell_type": "markdown",
   "metadata": {},
   "source": [
    "# Send emails batches with your email account from Gsheet"
   ]
  },
  {
   "cell_type": "code",
   "execution_count": 5,
   "metadata": {},
   "outputs": [],
   "source": [
    "# Import module\n",
    "\n",
    "from naas_drivers import *"
   ]
  },
  {
   "cell_type": "markdown",
   "metadata": {},
   "source": [
    "## Connect to your gmail account"
   ]
  },
  {
   "cell_type": "code",
   "execution_count": null,
   "metadata": {},
   "outputs": [],
   "source": [
    "username = \"USERNAME\"\n",
    "password = \"PASSWORD\"\n",
    "email_from = \"bob@cashstory.com\",\n",
    "smtp_server = \"smtp.gmail.com\",\n",
    "smtp_port = 465,\n",
    "smtp_type = \"SSL\",\n",
    "\n",
    "gmail = emails.connect(username,\n",
    "                       password,\n",
    "                       email_from,\n",
    "                       smtp_server,\n",
    "                       smtp_port,\n",
    "                       smtp_type)"
   ]
  },
  {
   "cell_type": "markdown",
   "metadata": {},
   "source": [
    "## Get email list from Gsheet"
   ]
  },
  {
   "cell_type": "code",
   "execution_count": 3,
   "metadata": {},
   "outputs": [
    {
     "data": {
      "text/html": [
       "<div>\n",
       "<style scoped>\n",
       "    .dataframe tbody tr th:only-of-type {\n",
       "        vertical-align: middle;\n",
       "    }\n",
       "\n",
       "    .dataframe tbody tr th {\n",
       "        vertical-align: top;\n",
       "    }\n",
       "\n",
       "    .dataframe thead th {\n",
       "        text-align: right;\n",
       "    }\n",
       "</style>\n",
       "<table border=\"1\" class=\"dataframe\">\n",
       "  <thead>\n",
       "    <tr style=\"text-align: right;\">\n",
       "      <th></th>\n",
       "      <th>EMAIL</th>\n",
       "      <th>FIRST_NAME</th>\n",
       "      <th>LAST_NAME</th>\n",
       "      <th>PHONE_NUMBER</th>\n",
       "    </tr>\n",
       "  </thead>\n",
       "  <tbody>\n",
       "    <tr>\n",
       "      <th>0</th>\n",
       "      <td>jeremy@naas.ai</td>\n",
       "      <td>Jeremy</td>\n",
       "      <td>Naas</td>\n",
       "      <td>+33600000000</td>\n",
       "    </tr>\n",
       "    <tr>\n",
       "      <th>1</th>\n",
       "      <td>jeremy.ravenel@cashstory.com</td>\n",
       "      <td>Jeremy</td>\n",
       "      <td>Ravenel</td>\n",
       "      <td>+33600000000</td>\n",
       "    </tr>\n",
       "    <tr>\n",
       "      <th>2</th>\n",
       "      <td>florent.ravenel@cashstory.com</td>\n",
       "      <td>Florent</td>\n",
       "      <td>Ravenel</td>\n",
       "      <td>+33600000000</td>\n",
       "    </tr>\n",
       "  </tbody>\n",
       "</table>\n",
       "</div>"
      ],
      "text/plain": [
       "                           EMAIL FIRST_NAME LAST_NAME  PHONE_NUMBER\n",
       "0                 jeremy@naas.ai     Jeremy      Naas  +33600000000\n",
       "1   jeremy.ravenel@cashstory.com     Jeremy   Ravenel  +33600000000\n",
       "2  florent.ravenel@cashstory.com    Florent   Ravenel  +33600000000"
      ]
     },
     "execution_count": 3,
     "metadata": {},
     "output_type": "execute_result"
    }
   ],
   "source": [
    "spreadsheet_id = \"1s-TQZrevbmveFKlx2H49fgvr_nZPEY_ffoi0iWall3E\"\n",
    "sheet_name = \"DB_CONTACT\"\n",
    "\n",
    "df = gsheet.connect(spreadsheet_id).get(sheet_name)\n",
    "df"
   ]
  },
  {
   "cell_type": "code",
   "execution_count": 11,
   "metadata": {},
   "outputs": [
    {
     "name": "stdout",
     "output_type": "stream",
     "text": [
      "['jeremy@naas.ai' 'jeremy.ravenel@cashstory.com'\n",
      " 'florent.ravenel@cashstory.com']\n"
     ]
    }
   ],
   "source": [
    "emails = df['EMAIL'].drop_duplicates().values\n",
    "print(emails)"
   ]
  },
  {
   "cell_type": "markdown",
   "metadata": {},
   "source": [
    "## Send emails batchs"
   ]
  },
  {
   "cell_type": "code",
   "execution_count": 12,
   "metadata": {},
   "outputs": [
    {
     "name": "stdout",
     "output_type": "stream",
     "text": [
      "jeremy@naas.ai\n",
      "jeremy.ravenel@cashstory.com\n",
      "florent.ravenel@cashstory.com\n"
     ]
    }
   ],
   "source": [
    "subject = \"The tesla action is going up\"\n",
    "content = \"check in the link the chart data maide from fresh dataset : [LINK]\"\n",
    "\n",
    "for email in emails:\n",
    "    print(email)\n",
    "#     gmail.send(email_to=email, subject=subject, html=content)"
   ]
  }
 ],
 "metadata": {
  "kernelspec": {
   "display_name": "Python 3",
   "language": "python",
   "name": "python3"
  },
  "language_info": {
   "codemirror_mode": {
    "name": "ipython",
    "version": 3
   },
   "file_extension": ".py",
   "mimetype": "text/x-python",
   "name": "python",
   "nbconvert_exporter": "python",
   "pygments_lexer": "ipython3",
   "version": "3.8.6"
  }
 },
 "nbformat": 4,
 "nbformat_minor": 4
}
