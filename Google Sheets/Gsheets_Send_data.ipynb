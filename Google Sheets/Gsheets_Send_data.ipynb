{
 "cells": [
  {
   "cell_type": "markdown",
   "id": "international-creativity",
   "metadata": {
    "papermill": {},
    "tags": []
   },
   "source": [
    "<img width=\"10%\" alt=\"Naas\" src=\"https://landen.imgix.net/jtci2pxwjczr/assets/5ice39g4.png?w=160\"/>"
   ]
  },
  {
   "cell_type": "markdown",
   "id": "unlimited-bookmark",
   "metadata": {
    "papermill": {},
    "tags": []
   },
   "source": [
    "# Google Sheets - Send data\n",
    "[<button class=\"lm-Widget p-Widget jupyter-widgets jupyter-button widget-button mod-primary\">Open in Naas</button>](https://app.naas.ai/user-redirect/naas/downloader?url=https://raw.githubusercontent.com/jupyter-naas/awesome-notebooks/master/Google%20Sheets/Gsheets_Send_data.ipynb)"
   ]
  },
  {
   "cell_type": "markdown",
   "id": "featured-boutique",
   "metadata": {
    "papermill": {},
    "tags": []
   },
   "source": [
    "<img width=\"20%\" alt=\"Naas\" src=\"https://landen.imgix.net/jtci2pxwjczr/assets/l10u6f2c.png?w=800&h=400&fit=crop\"/>"
   ]
  },
  {
   "cell_type": "markdown",
   "id": "digital-holder",
   "metadata": {
    "papermill": {},
    "tags": []
   },
   "source": [
    "Pre-requisite: share your Google Sheet with our service account\n",
    "For the driver to fetch the contents of your google sheet, you need to share it with the service account linked with Naas.\n",
    "\n",
    "🔗 naas-share@naas-gsheets.iam.gserviceaccount.com"
   ]
  },
  {
   "cell_type": "code",
   "execution_count": null,
   "id": "closed-field",
   "metadata": {
    "papermill": {},
    "tags": []
   },
   "outputs": [],
   "source": [
    "import naas_drivers\n",
    "\n",
    "data = [{ \"name\": \"Jean\", \"email\": \"jean@appleseed.com\" }, { \"name\": \"Bunny\", \"email\": \"bunny@appleseed.com\" }]\n",
    "# It accept list of dict or dataframe\n",
    "\n",
    "spreadsheet_id = \"id\"\n",
    "naas_drivers.gsheet.connect(spreadsheet_id).send(\n",
    "    sheet_name=\"TSLA\",\n",
    "    data=data\n",
    ")"
   ]
  }
 ],
 "metadata": {
  "kernelspec": {
   "display_name": "Python 3",
   "language": "python",
   "name": "python3"
  },
  "language_info": {
   "codemirror_mode": {
    "name": "ipython",
    "version": 3
   },
   "file_extension": ".py",
   "mimetype": "text/x-python",
   "name": "python",
   "nbconvert_exporter": "python",
   "pygments_lexer": "ipython3",
   "version": "3.8.6"
  },
  "papermill": {
   "default_parameters": {},
   "environment_variables": {},
   "parameters": {},
   "version": "2.3.3"
  }
 },
 "nbformat": 4,
 "nbformat_minor": 5
}