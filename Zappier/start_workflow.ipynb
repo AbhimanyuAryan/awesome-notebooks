{
 "cells": [
  {
   "cell_type": "markdown",
   "id": "mediterranean-rocket",
   "metadata": {},
   "source": [
    "<img width=\"10%\" alt=\"Naas\" src=\"https://landen.imgix.net/jtci2pxwjczr/assets/5ice39g4.png?w=160\"/>\n",
    "\n",
    "# Star Zappier workflow from Jupyuter "
   ]
  },
  {
   "cell_type": "code",
   "execution_count": 1,
   "id": "working-mineral",
   "metadata": {
    "execution": {
     "iopub.execute_input": "2021-01-28T17:37:04.954448Z",
     "iopub.status.busy": "2021-01-28T17:37:04.954176Z",
     "iopub.status.idle": "2021-01-28T17:37:05.993413Z",
     "shell.execute_reply": "2021-01-28T17:37:05.992677Z",
     "shell.execute_reply.started": "2021-01-28T17:37:04.954383Z"
    }
   },
   "outputs": [],
   "source": [
    "import naas_drivers"
   ]
  },
  {
   "cell_type": "code",
   "execution_count": null,
   "id": "exact-spyware",
   "metadata": {},
   "outputs": [],
   "source": [
    "url = \"https://zapier.com/hooks/catch/n/Lx2RH/\"\n",
    "data = { \"first_name\":\"Bryan\", \"last_name\":\"Helmig\", \"age\": 27 }\n",
    "result = naas_drivers.zappier.connect(url).send(data)"
   ]
  }
 ],
 "metadata": {
  "kernelspec": {
   "display_name": "Python 3",
   "language": "python",
   "name": "python3"
  },
  "language_info": {
   "codemirror_mode": {
    "name": "ipython",
    "version": 3
   },
   "file_extension": ".py",
   "mimetype": "text/x-python",
   "name": "python",
   "nbconvert_exporter": "python",
   "pygments_lexer": "ipython3",
   "version": "3.8.6"
  }
 },
 "nbformat": 4,
 "nbformat_minor": 5
}
