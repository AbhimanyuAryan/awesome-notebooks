{
 "cells": [
  {
   "cell_type": "markdown",
   "id": "above-calvin",
   "metadata": {},
   "source": [
    "<img width=\"10%\" alt=\"Naas\" src=\"https://landen.imgix.net/jtci2pxwjczr/assets/5ice39g4.png?w=160\"/>"
   ]
  },
  {
   "cell_type": "markdown",
   "id": "professional-browse",
   "metadata": {
    "execution": {
     "iopub.execute_input": "2021-03-01T23:08:51.432231Z",
     "iopub.status.busy": "2021-03-01T23:08:51.431909Z",
     "iopub.status.idle": "2021-03-01T23:08:51.438164Z",
     "shell.execute_reply": "2021-03-01T23:08:51.437596Z",
     "shell.execute_reply.started": "2021-03-01T23:08:51.432154Z"
    }
   },
   "source": [
    "# Thinkific - Send users"
   ]
  },
  {
   "cell_type": "code",
   "execution_count": null,
   "id": "latter-revelation",
   "metadata": {},
   "outputs": [],
   "source": [
    "import nass_drivers\n",
    "api_key = \"api_key\"\n",
    "naas_drivers.thinkific.connect(api_key).users.send(\n",
    "    email=\"bob@cashstory.com\"\n",
    ")"
   ]
  }
 ],
 "metadata": {
  "kernelspec": {
   "display_name": "Python 3",
   "language": "python",
   "name": "python3"
  },
  "language_info": {
   "codemirror_mode": {
    "name": "ipython",
    "version": 3
   },
   "file_extension": ".py",
   "mimetype": "text/x-python",
   "name": "python",
   "nbconvert_exporter": "python",
   "pygments_lexer": "ipython3",
   "version": "3.8.6"
  }
 },
 "nbformat": 4,
 "nbformat_minor": 5
}
