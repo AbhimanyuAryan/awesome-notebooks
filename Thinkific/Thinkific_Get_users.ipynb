{
 "cells": [
  {
   "cell_type": "markdown",
   "id": "suitable-offer",
   "metadata": {
    "papermill": {},
    "tags": []
   },
   "source": [
    "<img width=\"10%\" alt=\"Naas\" src=\"https://landen.imgix.net/jtci2pxwjczr/assets/5ice39g4.png?w=160\"/>"
   ]
  },
  {
   "cell_type": "markdown",
   "id": "excessive-direction",
   "metadata": {
    "execution": {
     "iopub.execute_input": "2021-03-01T23:07:47.548863Z",
     "iopub.status.busy": "2021-03-01T23:07:47.548590Z",
     "iopub.status.idle": "2021-03-01T23:07:47.553710Z",
     "shell.execute_reply": "2021-03-01T23:07:47.553199Z",
     "shell.execute_reply.started": "2021-03-01T23:07:47.548800Z"
    },
    "papermill": {},
    "tags": []
   },
   "source": [
    "# Thinkific - Get users\n",
    "[<button class=\"lm-Widget p-Widget jupyter-widgets jupyter-button widget-button mod-primary\">Open in Naas</button>](https://app.naas.ai/user-redirect/naas/downloader?url=https://raw.githubusercontent.com/jupyter-naas/awesome-notebooks/master/Thinkific/Thinkific_Get_users.ipynb)"
   ]
  },
  {
   "cell_type": "code",
   "execution_count": null,
   "id": "completed-three",
   "metadata": {
    "papermill": {},
    "tags": []
   },
   "outputs": [],
   "source": [
    "import nass_drivers\n",
    "api_key = \"api_key\"\n",
    "naas_drivers.thinkific.connect(api_key).users.get(\n",
    "    uid=\"uid\"\n",
    ")"
   ]
  }
 ],
 "metadata": {
  "kernelspec": {
   "display_name": "Python 3",
   "language": "python",
   "name": "python3"
  },
  "language_info": {
   "codemirror_mode": {
    "name": "ipython",
    "version": 3
   },
   "file_extension": ".py",
   "mimetype": "text/x-python",
   "name": "python",
   "nbconvert_exporter": "python",
   "pygments_lexer": "ipython3",
   "version": "3.8.6"
  },
  "papermill": {
   "default_parameters": {},
   "environment_variables": {},
   "parameters": {},
   "version": "2.3.3"
  }
 },
 "nbformat": 4,
 "nbformat_minor": 5
}