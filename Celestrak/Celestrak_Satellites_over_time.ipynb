{
 "cells": [
  {
   "cell_type": "markdown",
   "id": "located-temperature",
   "metadata": {
    "execution": {
     "iopub.execute_input": "2021-05-19T07:42:23.666460Z",
     "iopub.status.busy": "2021-05-19T07:42:23.666241Z",
     "iopub.status.idle": "2021-05-19T07:42:23.669434Z",
     "shell.execute_reply": "2021-05-19T07:42:23.668778Z",
     "shell.execute_reply.started": "2021-05-19T07:42:23.666438Z"
    },
    "papermill": {},
    "tags": []
   },
   "source": [
    "# Celestrak - Satellites over time\n",
    "<a href=\"https://app.naas.ai/user-redirect/naas/downloader?url=https://raw.githubusercontent.com/jupyter-naas/awesome-notebooks/master/Celestrak/Celestrak_Satellites_over_time.ipynb\" target=\"_parent\">\n",
    "<img src=\"https://img.shields.io/badge/-Open%20in%20Naas-success?labelColor=000000&logo=data:image/svg+xml;base64,PD94bWwgdmVyc2lvbj0iMS4wIiBlbmNvZGluZz0iVVRGLTgiPz4KPHN2ZyB3aWR0aD0iMTAyNHB4IiBoZWlnaHQ9IjEwMjRweCIgdmlld0JveD0iMCAwIDEwMjQgMTAyNCIgeG1sbnM9Imh0dHA6Ly93d3cudzMub3JnLzIwMDAvc3ZnIiB4bWxuczp4bGluaz0iaHR0cDovL3d3dy53My5vcmcvMTk5OS94bGluayIgdmVyc2lvbj0iMS4xIj4KIDwhLS0gR2VuZXJhdGVkIGJ5IFBpeGVsbWF0b3IgUHJvIDIuMC41IC0tPgogPGRlZnM+CiAgPHRleHQgaWQ9InN0cmluZyIgdHJhbnNmb3JtPSJtYXRyaXgoMS4wIDAuMCAwLjAgMS4wIDIyOC4wIDU0LjUpIiBmb250LWZhbWlseT0iQ29tZm9ydGFhLVJlZ3VsYXIsIENvbWZvcnRhYSIgZm9udC1zaXplPSI4MDAiIHRleHQtZGVjb3JhdGlvbj0ibm9uZSIgZmlsbD0iI2ZmZmZmZiIgeD0iMS4xOTk5OTk5OTk5OTk5ODg2IiB5PSI3MDUuMCI+bjwvdGV4dD4KIDwvZGVmcz4KIDx1c2UgaWQ9Im4iIHhsaW5rOmhyZWY9IiNzdHJpbmciLz4KPC9zdmc+Cg==\"/>\n",
    "</a>"
   ]
  },
  {
   "cell_type": "markdown",
   "id": "comparable-spank",
   "metadata": {
    "papermill": {},
    "tags": []
   },
   "source": [
    "We analyze the number of satellites in the space from the first launch to now, and the part of them which became inactive.\n",
    "These data come from http://www.celestrak.com/. It provides free data as CSV files easily accessible.\n",
    "The CSV file we got contains many data as the name of the satellite, its owner, launch site, id, apogee and many others.\n",
    "What interested us the most were the status code, the launch date and the decay date, in order to create a graph with years in X axis and number of satellites in Y axis."
   ]
  },
  {
   "cell_type": "code",
   "execution_count": 1,
   "id": "regional-begin",
   "metadata": {
    "execution": {
     "iopub.execute_input": "2021-06-10T09:02:29.906992Z",
     "iopub.status.busy": "2021-06-10T09:02:29.906734Z",
     "iopub.status.idle": "2021-06-10T09:02:30.346455Z",
     "shell.execute_reply": "2021-06-10T09:02:30.345882Z",
     "shell.execute_reply.started": "2021-06-10T09:02:29.906922Z"
    },
    "papermill": {},
    "tags": []
   },
   "outputs": [],
   "source": [
    "import pandas as pd\n",
    "import plotly.express as px\n",
    "import plotly.graph_objects as go\n",
    "import numpy as np"
   ]
  },
  {
   "cell_type": "markdown",
   "id": "civic-quantity",
   "metadata": {
    "execution": {
     "iopub.execute_input": "2021-05-19T07:20:40.704203Z",
     "iopub.status.busy": "2021-05-19T07:20:40.703946Z",
     "iopub.status.idle": "2021-05-19T07:20:40.707275Z",
     "shell.execute_reply": "2021-05-19T07:20:40.706641Z",
     "shell.execute_reply.started": "2021-05-19T07:20:40.704140Z"
    },
    "papermill": {},
    "tags": []
   },
   "source": [
    "## Input"
   ]
  },
  {
   "cell_type": "code",
   "execution_count": 2,
   "id": "balanced-malaysia",
   "metadata": {
    "execution": {
     "iopub.execute_input": "2021-06-10T09:02:30.348039Z",
     "iopub.status.busy": "2021-06-10T09:02:30.347818Z",
     "iopub.status.idle": "2021-06-10T09:02:32.288176Z",
     "shell.execute_reply": "2021-06-10T09:02:32.287593Z",
     "shell.execute_reply.started": "2021-06-10T09:02:30.348012Z"
    },
    "papermill": {},
    "tags": []
   },
   "outputs": [],
   "source": [
    "url = 'http://www.celestrak.com/pub/satcat.csv'\n",
    "df = pd.read_csv(url)\n",
    "df.head()"
   ]
  },
  {
   "cell_type": "markdown",
   "id": "optional-fifty",
   "metadata": {
    "papermill": {},
    "tags": []
   },
   "source": [
    "## Model"
   ]
  },
  {
   "cell_type": "code",
   "execution_count": 3,
   "id": "approved-attribute",
   "metadata": {
    "execution": {
     "iopub.execute_input": "2021-06-10T09:02:32.291412Z",
     "iopub.status.busy": "2021-06-10T09:02:32.291212Z",
     "iopub.status.idle": "2021-06-10T09:02:33.188700Z",
     "shell.execute_reply": "2021-06-10T09:02:33.188007Z",
     "shell.execute_reply.started": "2021-06-10T09:02:32.291392Z"
    },
    "papermill": {},
    "tags": []
   },
   "outputs": [],
   "source": [
    "df = df[['OPS_STATUS_CODE', 'LAUNCH_DATE', 'DECAY_DATE']]\n",
    "df['DECAY_DATE'] = df['DECAY_DATE'].mask(df['DECAY_DATE'].isnull(), '9999')\n",
    "df['LAUNCH_DATE'] = df['LAUNCH_DATE'].str[:4].astype(int)\n",
    "df['DECAY_DATE'] = df['DECAY_DATE'].str[:4].astype(int)\n",
    "years = df['LAUNCH_DATE'].unique()\n",
    "inactive = list()\n",
    "active = list()\n",
    "\n",
    "for year in years:\n",
    "    active.append(len(df[\n",
    "        ((df['OPS_STATUS_CODE'].isin(['+', 'P', 'B', 'S', 'X'])) & (df['LAUNCH_DATE'] <= year))\n",
    "        | ((df['DECAY_DATE'] > year) & (df['OPS_STATUS_CODE'] == 'D') & (df['LAUNCH_DATE'] <= year))\n",
    "    ].index))\n",
    "    \n",
    "    inactive.append(len(df[\n",
    "        ((df['OPS_STATUS_CODE'] == 'D') & (df['DECAY_DATE'] <= year))\n",
    "        | ((df['OPS_STATUS_CODE'] == '-') & (df['LAUNCH_DATE'] <= year) )\n",
    "    ].index))\n",
    "    "
   ]
  },
  {
   "cell_type": "markdown",
   "id": "caring-shelter",
   "metadata": {
    "papermill": {},
    "tags": []
   },
   "source": [
    "## Output"
   ]
  },
  {
   "cell_type": "code",
   "execution_count": 4,
   "id": "limited-recall",
   "metadata": {
    "execution": {
     "iopub.execute_input": "2021-06-10T09:02:33.190135Z",
     "iopub.status.busy": "2021-06-10T09:02:33.189733Z",
     "iopub.status.idle": "2021-06-10T09:02:33.365096Z",
     "shell.execute_reply": "2021-06-10T09:02:33.364360Z",
     "shell.execute_reply.started": "2021-06-10T09:02:33.190105Z"
    },
    "papermill": {},
    "tags": []
   },
   "outputs": [],
   "source": [
    "fig = go.Figure(data=[\n",
    "    go.Bar(name='Inactive satellites', x=years, y=inactive),\n",
    "    go.Bar(name='Active satellites', x=years, y=active)\n",
    "])\n",
    "# Change the bar mode\n",
    "fig.update_layout(\n",
    "    title=\"Number of satellites in space over time\",\n",
    "    xaxis_title=\"Years\",\n",
    "    yaxis_title=\"Number of satellites\",\n",
    "    barmode='stack'\n",
    ")\n",
    "fig.show()"
   ]
  },
  {
   "cell_type": "markdown",
   "id": "lesser-nigeria",
   "metadata": {
    "papermill": {},
    "tags": []
   },
   "source": [
    "Source: http://www.celestrak.com/pub/satcat.csv"
   ]
  },
  {
   "cell_type": "code",
   "execution_count": 5,
   "id": "extended-filing",
   "metadata": {
    "execution": {
     "iopub.execute_input": "2021-06-10T09:02:33.366299Z",
     "iopub.status.busy": "2021-06-10T09:02:33.366003Z",
     "iopub.status.idle": "2021-06-10T09:02:33.402991Z",
     "shell.execute_reply": "2021-06-10T09:02:33.402415Z",
     "shell.execute_reply.started": "2021-06-10T09:02:33.366272Z"
    },
    "papermill": {},
    "tags": []
   },
   "outputs": [],
   "source": [
    "labels = years\n",
    "widths = [100/len(years) for year in years]\n",
    "\n",
    "active_percentage = list()\n",
    "inactive_percentage = list()\n",
    "\n",
    "for index, _ in np.ndenumerate(active):\n",
    "    total = active[index[0]] + inactive[index[0]]\n",
    "    active_percentage.append(active[index[0]]/total*100)\n",
    "    inactive_percentage.append(inactive[index[0]]/total*100)\n",
    "\n",
    "data = {\n",
    "    \"Inactive\": inactive_percentage,\n",
    "    \"Active\": active_percentage\n",
    "}\n",
    "\n",
    "fig = go.Figure()\n",
    "for key in data:\n",
    "    fig.add_trace(go.Bar(\n",
    "        name=key,\n",
    "        y=data[key],\n",
    "        x=years,\n",
    "        offset=0\n",
    "    ))\n",
    "\n",
    "fig.update_xaxes(range=[years[0],years[-1]])\n",
    "fig.update_yaxes(range=[0,100])\n",
    "\n",
    "fig.update_layout(\n",
    "    title_text=\"Perecntage of inactive VS active satellites from 1957 to now\",\n",
    "    barmode=\"stack\",\n",
    "    uniformtext=dict(mode=\"hide\", minsize=10),\n",
    ")"
   ]
  }
 ],
 "metadata": {
  "kernelspec": {
   "display_name": "Python 3",
   "language": "python",
   "name": "python3"
  },
  "language_info": {
   "codemirror_mode": {
    "name": "ipython",
    "version": 3
   },
   "file_extension": ".py",
   "mimetype": "text/x-python",
   "name": "python",
   "nbconvert_exporter": "python",
   "pygments_lexer": "ipython3",
   "version": "3.8.8"
  },
  "papermill": {
   "default_parameters": {},
   "environment_variables": {},
   "parameters": {},
   "version": "2.3.3"
  }
 },
 "nbformat": 4,
 "nbformat_minor": 5
}