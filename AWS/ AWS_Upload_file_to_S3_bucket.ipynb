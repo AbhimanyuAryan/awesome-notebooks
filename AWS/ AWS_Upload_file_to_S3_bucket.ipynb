{
 "cells": [
  {
   "cell_type": "markdown",
   "id": "complete-carbon",
   "metadata": {
    "execution": {
     "iopub.execute_input": "2021-02-23T14:22:16.610471Z",
     "iopub.status.busy": "2021-02-23T14:22:16.610129Z",
     "iopub.status.idle": "2021-02-23T14:22:16.627784Z",
     "shell.execute_reply": "2021-02-23T14:22:16.626866Z",
     "shell.execute_reply.started": "2021-02-23T14:22:16.610384Z"
    },
    "papermill": {},
    "tags": []
   },
   "source": [
    "<img width=\"10%\" alt=\"Naas\" src=\"https://landen.imgix.net/jtci2pxwjczr/assets/5ice39g4.png?w=160\"/>"
   ]
  },
  {
   "cell_type": "markdown",
   "id": "going-execution",
   "metadata": {
    "papermill": {},
    "tags": []
   },
   "source": [
    "## AWS - Upload file to S3 bucket\n",
    "[<button class=\"lm-Widget p-Widget jupyter-widgets jupyter-button widget-button mod-primary\">Open in Naas</button>](https://app.naas.ai/user-redirect/naas/downloader?url=https://raw.githubusercontent.com/jupyter-naas/awesome-notebooks/master/AWS/%20AWS_Upload_file_to_S3_bucket.ipynb)"
   ]
  },
  {
   "cell_type": "code",
   "execution_count": null,
   "id": "lesser-librarian",
   "metadata": {
    "papermill": {},
    "tags": []
   },
   "outputs": [],
   "source": [
    "#! pip install boto3 getpass4"
   ]
  },
  {
   "cell_type": "code",
   "execution_count": null,
   "id": "elder-partner",
   "metadata": {
    "execution": {
     "iopub.status.busy": "2021-02-23T14:28:14.665219Z",
     "iopub.status.idle": "2021-02-23T14:28:14.668943Z",
     "shell.execute_reply": "2021-02-23T14:28:14.666989Z"
    },
    "papermill": {},
    "tags": []
   },
   "outputs": [],
   "source": [
    "import boto3\n",
    "\n",
    "ACCESS_KEY_ID = \"**********\"\n",
    "SECRET_ACCESS_KEY = \"**********\"\n",
    "\n",
    "BUCKET_NAME = \"naas-example\"\n",
    "BUCKET_OBJECT_KEY = 'naas_happy_hour.mp3'"
   ]
  },
  {
   "cell_type": "code",
   "execution_count": null,
   "id": "massive-process",
   "metadata": {
    "papermill": {},
    "tags": []
   },
   "outputs": [],
   "source": [
    "s3 = boto3.client('s3', aws_access_key_id=ACCESS_KEY_ID, aws_secret_access_key=SECRET_ACCESS_KEY)\n",
    "with open('naas_happy_hour.mp3', \"rb\") as f:\n",
    "    s3.upload_fileobj(f, BUCKET_NAME, BUCKET_OBJECT_KEY)"
   ]
  }
 ],
 "metadata": {
  "kernelspec": {
   "display_name": "Python 3",
   "language": "python",
   "name": "python3"
  },
  "language_info": {
   "codemirror_mode": {
    "name": "ipython",
    "version": 3
   },
   "file_extension": ".py",
   "mimetype": "text/x-python",
   "name": "python",
   "nbconvert_exporter": "python",
   "pygments_lexer": "ipython3",
   "version": "3.8.6"
  },
  "papermill": {
   "default_parameters": {},
   "environment_variables": {},
   "parameters": {},
   "version": "2.3.3"
  }
 },
 "nbformat": 4,
 "nbformat_minor": 5
}