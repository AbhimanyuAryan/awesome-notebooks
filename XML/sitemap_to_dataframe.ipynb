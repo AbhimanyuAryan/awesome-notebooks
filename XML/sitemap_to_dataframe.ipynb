{
 "cells": [
  {
   "cell_type": "markdown",
   "id": "sitting-strand",
   "metadata": {},
   "source": [
    "<img width=\"10%\" alt=\"Naas\" src=\"https://landen.imgix.net/jtci2pxwjczr/assets/5ice39g4.png?w=160\"/>"
   ]
  },
  {
   "cell_type": "markdown",
   "id": "fifteen-greensboro",
   "metadata": {},
   "source": [
    "# Transform sitemap to Dataframe"
   ]
  },
  {
   "cell_type": "markdown",
   "id": "thorough-interface",
   "metadata": {},
   "source": [
    "## Install needed library"
   ]
  },
  {
   "cell_type": "code",
   "execution_count": 1,
   "id": "straight-lloyd",
   "metadata": {
    "execution": {
     "iopub.execute_input": "2021-01-26T13:48:07.547074Z",
     "iopub.status.busy": "2021-01-26T13:48:07.546613Z",
     "iopub.status.idle": "2021-01-26T13:48:09.722083Z",
     "shell.execute_reply": "2021-01-26T13:48:09.721418Z",
     "shell.execute_reply.started": "2021-01-26T13:48:07.547000Z"
    },
    "jupyter": {
     "source_hidden": true
    }
   },
   "outputs": [
    {
     "name": "stdout",
     "output_type": "stream",
     "text": [
      "Requirement already satisfied: xmltodict in /opt/conda/lib/python3.8/site-packages (0.12.0)\n",
      "Note: you may need to restart the kernel to use updated packages.\n"
     ]
    }
   ],
   "source": [
    "pip install xmltodict"
   ]
  },
  {
   "cell_type": "markdown",
   "id": "lesser-lexington",
   "metadata": {},
   "source": [
    "## Run the magic code"
   ]
  },
  {
   "cell_type": "code",
   "execution_count": 2,
   "id": "peaceful-chaos",
   "metadata": {
    "execution": {
     "iopub.execute_input": "2021-01-26T13:48:09.724068Z",
     "iopub.status.busy": "2021-01-26T13:48:09.723782Z",
     "iopub.status.idle": "2021-01-26T13:48:10.068799Z",
     "shell.execute_reply": "2021-01-26T13:48:10.068219Z",
     "shell.execute_reply.started": "2021-01-26T13:48:09.724032Z"
    },
    "jupyter": {
     "source_hidden": true
    }
   },
   "outputs": [],
   "source": [
    "import json \n",
    "import xmltodict\n",
    "import pandas as pd\n",
    "import requests\n",
    "\n",
    "def sitemap_to_df(url):\n",
    "    df = None\n",
    "    key = \"urlset.url.url\"\n",
    "    r = requests.get(f'{url}/sitemap.xml')\n",
    "    data_dict = xmltodict.parse(r.content) \n",
    "    if key and len(key.split('.')) > 0:\n",
    "        keys = key.split('.')\n",
    "        keys.reverse()\n",
    "        data = data_dict.get(keys.pop())\n",
    "        while(len(keys) > 1):\n",
    "            data = data.get(keys.pop())\n",
    "        df = pd.DataFrame.from_dict(data=data)\n",
    "    elif key and data_dict.get(key):\n",
    "        df = pd.DataFrame.from_dict(data=data_dict.get(key))\n",
    "    else:\n",
    "        df = pd.DataFrame.from_dict(data=data_dict)\n",
    "    return df\n"
   ]
  },
  {
   "cell_type": "markdown",
   "id": "flush-speaker",
   "metadata": {},
   "source": [
    "## Choose the website you want"
   ]
  },
  {
   "cell_type": "code",
   "execution_count": 5,
   "id": "starting-final",
   "metadata": {
    "execution": {
     "iopub.execute_input": "2021-01-26T13:51:46.220346Z",
     "iopub.status.busy": "2021-01-26T13:51:46.220103Z",
     "iopub.status.idle": "2021-01-26T13:51:46.223158Z",
     "shell.execute_reply": "2021-01-26T13:51:46.222531Z",
     "shell.execute_reply.started": "2021-01-26T13:51:46.220323Z"
    }
   },
   "outputs": [],
   "source": [
    "website = \"https://zapier.com\""
   ]
  },
  {
   "cell_type": "markdown",
   "id": "increasing-distance",
   "metadata": {},
   "source": [
    "## Get your Dataframe"
   ]
  },
  {
   "cell_type": "code",
   "execution_count": 6,
   "id": "forced-grave",
   "metadata": {
    "execution": {
     "iopub.execute_input": "2021-01-26T13:51:47.480141Z",
     "iopub.status.busy": "2021-01-26T13:51:47.479911Z",
     "iopub.status.idle": "2021-01-26T13:51:49.417506Z",
     "shell.execute_reply": "2021-01-26T13:51:49.416976Z",
     "shell.execute_reply.started": "2021-01-26T13:51:47.480119Z"
    }
   },
   "outputs": [
    {
     "data": {
      "text/html": [
       "<div>\n",
       "<style scoped>\n",
       "    .dataframe tbody tr th:only-of-type {\n",
       "        vertical-align: middle;\n",
       "    }\n",
       "\n",
       "    .dataframe tbody tr th {\n",
       "        vertical-align: top;\n",
       "    }\n",
       "\n",
       "    .dataframe thead th {\n",
       "        text-align: right;\n",
       "    }\n",
       "</style>\n",
       "<table border=\"1\" class=\"dataframe\">\n",
       "  <thead>\n",
       "    <tr style=\"text-align: right;\">\n",
       "      <th></th>\n",
       "      <th>loc</th>\n",
       "      <th>changefreq</th>\n",
       "      <th>priority</th>\n",
       "    </tr>\n",
       "  </thead>\n",
       "  <tbody>\n",
       "    <tr>\n",
       "      <th>0</th>\n",
       "      <td>https://zapier.com/</td>\n",
       "      <td>daily</td>\n",
       "      <td>1.0</td>\n",
       "    </tr>\n",
       "    <tr>\n",
       "      <th>1</th>\n",
       "      <td>https://zapier.com/home</td>\n",
       "      <td>daily</td>\n",
       "      <td>1.0</td>\n",
       "    </tr>\n",
       "    <tr>\n",
       "      <th>2</th>\n",
       "      <td>https://zapier.com/how-it-works</td>\n",
       "      <td>daily</td>\n",
       "      <td>1.0</td>\n",
       "    </tr>\n",
       "    <tr>\n",
       "      <th>3</th>\n",
       "      <td>https://zapier.com/explore</td>\n",
       "      <td>daily</td>\n",
       "      <td>1.0</td>\n",
       "    </tr>\n",
       "    <tr>\n",
       "      <th>4</th>\n",
       "      <td>https://zapier.com/roles</td>\n",
       "      <td>daily</td>\n",
       "      <td>1.0</td>\n",
       "    </tr>\n",
       "    <tr>\n",
       "      <th>5</th>\n",
       "      <td>https://zapier.com/about/</td>\n",
       "      <td>daily</td>\n",
       "      <td>1.0</td>\n",
       "    </tr>\n",
       "    <tr>\n",
       "      <th>6</th>\n",
       "      <td>https://zapier.com/companies</td>\n",
       "      <td>daily</td>\n",
       "      <td>1.0</td>\n",
       "    </tr>\n",
       "    <tr>\n",
       "      <th>7</th>\n",
       "      <td>https://zapier.com/teams/</td>\n",
       "      <td>daily</td>\n",
       "      <td>1.0</td>\n",
       "    </tr>\n",
       "    <tr>\n",
       "      <th>8</th>\n",
       "      <td>https://zapier.com/apps/</td>\n",
       "      <td>daily</td>\n",
       "      <td>1.0</td>\n",
       "    </tr>\n",
       "    <tr>\n",
       "      <th>9</th>\n",
       "      <td>https://zapier.com/learn/</td>\n",
       "      <td>daily</td>\n",
       "      <td>1.0</td>\n",
       "    </tr>\n",
       "    <tr>\n",
       "      <th>10</th>\n",
       "      <td>https://zapier.com/blog/</td>\n",
       "      <td>daily</td>\n",
       "      <td>1.0</td>\n",
       "    </tr>\n",
       "    <tr>\n",
       "      <th>11</th>\n",
       "      <td>https://zapier.com/engineering/</td>\n",
       "      <td>daily</td>\n",
       "      <td>1.0</td>\n",
       "    </tr>\n",
       "    <tr>\n",
       "      <th>12</th>\n",
       "      <td>https://zapier.com/jobs/</td>\n",
       "      <td>daily</td>\n",
       "      <td>1.0</td>\n",
       "    </tr>\n",
       "    <tr>\n",
       "      <th>13</th>\n",
       "      <td>https://zapier.com/help/</td>\n",
       "      <td>daily</td>\n",
       "      <td>1.0</td>\n",
       "    </tr>\n",
       "    <tr>\n",
       "      <th>14</th>\n",
       "      <td>https://zapier.com/pricing</td>\n",
       "      <td>daily</td>\n",
       "      <td>1.0</td>\n",
       "    </tr>\n",
       "    <tr>\n",
       "      <th>15</th>\n",
       "      <td>https://zapier.com/platform</td>\n",
       "      <td>daily</td>\n",
       "      <td>1.0</td>\n",
       "    </tr>\n",
       "    <tr>\n",
       "      <th>16</th>\n",
       "      <td>https://zapier.com/platform/sign-up</td>\n",
       "      <td>daily</td>\n",
       "      <td>1.0</td>\n",
       "    </tr>\n",
       "    <tr>\n",
       "      <th>17</th>\n",
       "      <td>https://zapier.com/platform/how-to-build</td>\n",
       "      <td>daily</td>\n",
       "      <td>1.0</td>\n",
       "    </tr>\n",
       "    <tr>\n",
       "      <th>18</th>\n",
       "      <td>https://zapier.com/platform/partner-program</td>\n",
       "      <td>daily</td>\n",
       "      <td>1.0</td>\n",
       "    </tr>\n",
       "    <tr>\n",
       "      <th>19</th>\n",
       "      <td>https://zapier.com/paths</td>\n",
       "      <td>daily</td>\n",
       "      <td>1.0</td>\n",
       "    </tr>\n",
       "    <tr>\n",
       "      <th>20</th>\n",
       "      <td>https://zapier.com/experts/</td>\n",
       "      <td>daily</td>\n",
       "      <td>1.0</td>\n",
       "    </tr>\n",
       "    <tr>\n",
       "      <th>21</th>\n",
       "      <td>https://zapier.com/developer/</td>\n",
       "      <td>daily</td>\n",
       "      <td>1.0</td>\n",
       "    </tr>\n",
       "    <tr>\n",
       "      <th>22</th>\n",
       "      <td>https://zapier.com/developer/documentation/</td>\n",
       "      <td>daily</td>\n",
       "      <td>1.0</td>\n",
       "    </tr>\n",
       "    <tr>\n",
       "      <th>23</th>\n",
       "      <td>https://zapier.com/oss/</td>\n",
       "      <td>daily</td>\n",
       "      <td>1.0</td>\n",
       "    </tr>\n",
       "    <tr>\n",
       "      <th>24</th>\n",
       "      <td>https://zapier.com/non-profits/</td>\n",
       "      <td>daily</td>\n",
       "      <td>1.0</td>\n",
       "    </tr>\n",
       "    <tr>\n",
       "      <th>25</th>\n",
       "      <td>https://zapier.com/apps/</td>\n",
       "      <td>daily</td>\n",
       "      <td>1.0</td>\n",
       "    </tr>\n",
       "    <tr>\n",
       "      <th>26</th>\n",
       "      <td>https://zapier.com/zappy</td>\n",
       "      <td>daily</td>\n",
       "      <td>1.0</td>\n",
       "    </tr>\n",
       "    <tr>\n",
       "      <th>27</th>\n",
       "      <td>https://zapier.com/demo</td>\n",
       "      <td>daily</td>\n",
       "      <td>1.0</td>\n",
       "    </tr>\n",
       "    <tr>\n",
       "      <th>28</th>\n",
       "      <td>https://zapier.com/blog/covid-19-assitance-pro...</td>\n",
       "      <td>daily</td>\n",
       "      <td>1.0</td>\n",
       "    </tr>\n",
       "  </tbody>\n",
       "</table>\n",
       "</div>"
      ],
      "text/plain": [
       "                                                  loc changefreq priority\n",
       "0                                 https://zapier.com/      daily      1.0\n",
       "1                             https://zapier.com/home      daily      1.0\n",
       "2                     https://zapier.com/how-it-works      daily      1.0\n",
       "3                          https://zapier.com/explore      daily      1.0\n",
       "4                            https://zapier.com/roles      daily      1.0\n",
       "5                           https://zapier.com/about/      daily      1.0\n",
       "6                        https://zapier.com/companies      daily      1.0\n",
       "7                           https://zapier.com/teams/      daily      1.0\n",
       "8                            https://zapier.com/apps/      daily      1.0\n",
       "9                           https://zapier.com/learn/      daily      1.0\n",
       "10                           https://zapier.com/blog/      daily      1.0\n",
       "11                    https://zapier.com/engineering/      daily      1.0\n",
       "12                           https://zapier.com/jobs/      daily      1.0\n",
       "13                           https://zapier.com/help/      daily      1.0\n",
       "14                         https://zapier.com/pricing      daily      1.0\n",
       "15                        https://zapier.com/platform      daily      1.0\n",
       "16                https://zapier.com/platform/sign-up      daily      1.0\n",
       "17           https://zapier.com/platform/how-to-build      daily      1.0\n",
       "18        https://zapier.com/platform/partner-program      daily      1.0\n",
       "19                           https://zapier.com/paths      daily      1.0\n",
       "20                        https://zapier.com/experts/      daily      1.0\n",
       "21                      https://zapier.com/developer/      daily      1.0\n",
       "22        https://zapier.com/developer/documentation/      daily      1.0\n",
       "23                            https://zapier.com/oss/      daily      1.0\n",
       "24                    https://zapier.com/non-profits/      daily      1.0\n",
       "25                           https://zapier.com/apps/      daily      1.0\n",
       "26                           https://zapier.com/zappy      daily      1.0\n",
       "27                            https://zapier.com/demo      daily      1.0\n",
       "28  https://zapier.com/blog/covid-19-assitance-pro...      daily      1.0"
      ]
     },
     "execution_count": 6,
     "metadata": {},
     "output_type": "execute_result"
    }
   ],
   "source": [
    "df = sitemap_to_df(website)\n",
    "df"
   ]
  },
  {
   "cell_type": "code",
   "execution_count": 1,
   "id": "neither-profit",
   "metadata": {
    "execution": {
     "iopub.execute_input": "2021-01-26T13:56:34.474962Z",
     "iopub.status.busy": "2021-01-26T13:56:34.474678Z",
     "iopub.status.idle": "2021-01-26T13:56:35.470911Z",
     "shell.execute_reply": "2021-01-26T13:56:35.470409Z",
     "shell.execute_reply.started": "2021-01-26T13:56:34.474890Z"
    }
   },
   "outputs": [
    {
     "name": "stdout",
     "output_type": "stream",
     "text": [
      "🕣 Your Production Timezone is Europe/Paris\n",
      "\n"
     ]
    },
    {
     "data": {
      "text/plain": [
       "{'tz': 'Europe/Paris'}"
      ]
     },
     "execution_count": 1,
     "metadata": {},
     "output_type": "execute_result"
    }
   ],
   "source": [
    "import naas\n",
    "naas.get_remote_timezone()"
   ]
  },
  {
   "cell_type": "code",
   "execution_count": 2,
   "id": "chronic-generic",
   "metadata": {
    "execution": {
     "iopub.execute_input": "2021-01-26T13:56:46.674985Z",
     "iopub.status.busy": "2021-01-26T13:56:46.674753Z",
     "iopub.status.idle": "2021-01-26T13:56:46.686764Z",
     "shell.execute_reply": "2021-01-26T13:56:46.686053Z",
     "shell.execute_reply.started": "2021-01-26T13:56:46.674961Z"
    }
   },
   "outputs": [
    {
     "name": "stdout",
     "output_type": "stream",
     "text": [
      "🕣 Your Production Timezone is Europe/Lisbon\n",
      "\n"
     ]
    },
    {
     "data": {
      "text/plain": [
       "{'tz': 'Europe/Lisbon'}"
      ]
     },
     "execution_count": 2,
     "metadata": {},
     "output_type": "execute_result"
    }
   ],
   "source": [
    "import naas\n",
    "naas.set_remote_timezone(\"Europe/Lisbon\")"
   ]
  },
  {
   "cell_type": "code",
   "execution_count": null,
   "id": "legal-lawyer",
   "metadata": {},
   "outputs": [],
   "source": []
  }
 ],
 "metadata": {
  "kernelspec": {
   "display_name": "Python 3",
   "language": "python",
   "name": "python3"
  },
  "language_info": {
   "codemirror_mode": {
    "name": "ipython",
    "version": 3
   },
   "file_extension": ".py",
   "mimetype": "text/x-python",
   "name": "python",
   "nbconvert_exporter": "python",
   "pygments_lexer": "ipython3",
   "version": "3.8.6"
  }
 },
 "nbformat": 4,
 "nbformat_minor": 5
}
