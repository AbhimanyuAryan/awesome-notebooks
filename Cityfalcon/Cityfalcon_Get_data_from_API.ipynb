{
 "cells": [
  {
   "cell_type": "markdown",
   "id": "congressional-lincoln",
   "metadata": {},
   "source": [
    "<img width=\"10%\" alt=\"Naas\" src=\"https://landen.imgix.net/jtci2pxwjczr/assets/5ice39g4.png?w=160\"/>"
   ]
  },
  {
   "cell_type": "markdown",
   "id": "great-basket",
   "metadata": {},
   "source": [
    "# Cityfalcon - Get data from API"
   ]
  },
  {
   "cell_type": "code",
   "execution_count": null,
   "id": "tracked-cleaner",
   "metadata": {},
   "outputs": [],
   "source": [
    "import naas_drivers\n",
    "naas_drivers.cityfalcon.connect(\"YOUR_API_KEY\").get(\"TSLA\")"
   ]
  }
 ],
 "metadata": {
  "kernelspec": {
   "display_name": "Python 3",
   "language": "python",
   "name": "python3"
  },
  "language_info": {
   "codemirror_mode": {
    "name": "ipython",
    "version": 3
   },
   "file_extension": ".py",
   "mimetype": "text/x-python",
   "name": "python",
   "nbconvert_exporter": "python",
   "pygments_lexer": "ipython3",
   "version": "3.8.6"
  }
 },
 "nbformat": 4,
 "nbformat_minor": 5
}
