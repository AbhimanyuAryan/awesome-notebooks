{
 "cells": [
  {
   "cell_type": "markdown",
   "id": "congressional-lincoln",
   "metadata": {
    "papermill": {},
    "tags": []
   },
   "source": [
    "<img width=\"10%\" alt=\"Naas\" src=\"https://landen.imgix.net/jtci2pxwjczr/assets/5ice39g4.png?w=160\"/>"
   ]
  },
  {
   "cell_type": "markdown",
   "id": "great-basket",
   "metadata": {
    "papermill": {},
    "tags": []
   },
   "source": [
    "# Cityfalcon - Get data from API\n",
    "[<button class=\"lm-Widget p-Widget jupyter-widgets jupyter-button widget-button mod-primary\">Open in Naas</button>](https://app.naas.ai/user-redirect/naas/downloader?url=https://raw.githubusercontent.com/jupyter-naas/awesome-notebooks/master/Cityfalcon/Cityfalcon_Get_data_from_API.ipynb)"
   ]
  },
  {
   "cell_type": "code",
   "execution_count": null,
   "id": "tracked-cleaner",
   "metadata": {
    "papermill": {},
    "tags": []
   },
   "outputs": [],
   "source": [
    "import naas_drivers\n",
    "naas_drivers.cityfalcon.connect(\"YOUR_API_KEY\").get(\"TSLA\")"
   ]
  }
 ],
 "metadata": {
  "kernelspec": {
   "display_name": "Python 3",
   "language": "python",
   "name": "python3"
  },
  "language_info": {
   "codemirror_mode": {
    "name": "ipython",
    "version": 3
   },
   "file_extension": ".py",
   "mimetype": "text/x-python",
   "name": "python",
   "nbconvert_exporter": "python",
   "pygments_lexer": "ipython3",
   "version": "3.8.6"
  },
  "papermill": {
   "default_parameters": {},
   "environment_variables": {},
   "parameters": {},
   "version": "2.3.3"
  }
 },
 "nbformat": 4,
 "nbformat_minor": 5
}