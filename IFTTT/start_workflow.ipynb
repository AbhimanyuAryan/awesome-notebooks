{
 "cells": [
  {
   "cell_type": "markdown",
   "id": "opened-symphony",
   "metadata": {},
   "source": [
    "<img width=\"10%\" alt=\"Naas\" src=\"https://landen.imgix.net/jtci2pxwjczr/assets/5ice39g4.png?w=160\"/>\n",
    "\n",
    "# Star IFTTT workflow from Jupyuter "
   ]
  },
  {
   "cell_type": "code",
   "execution_count": 1,
   "id": "individual-creature",
   "metadata": {
    "execution": {
     "iopub.execute_input": "2021-01-28T17:37:04.954448Z",
     "iopub.status.busy": "2021-01-28T17:37:04.954176Z",
     "iopub.status.idle": "2021-01-28T17:37:05.993413Z",
     "shell.execute_reply": "2021-01-28T17:37:05.992677Z",
     "shell.execute_reply.started": "2021-01-28T17:37:04.954383Z"
    }
   },
   "outputs": [],
   "source": [
    "import naas_drivers"
   ]
  },
  {
   "cell_type": "code",
   "execution_count": null,
   "id": "shared-perception",
   "metadata": {},
   "outputs": [],
   "source": [
    "event = \"myevent\"\n",
    "key = \"cl9U-VaeBu1**********\"\n",
    "data = { \"value1\": \"Bryan\", \"value2\": \"Helmig\", \"value3\": 27 }\n",
    "result = naas_drivers.ifttt.connect(key).send(event, data)"
   ]
  }
 ],
 "metadata": {
  "kernelspec": {
   "display_name": "Python 3",
   "language": "python",
   "name": "python3"
  },
  "language_info": {
   "codemirror_mode": {
    "name": "ipython",
    "version": 3
   },
   "file_extension": ".py",
   "mimetype": "text/x-python",
   "name": "python",
   "nbconvert_exporter": "python",
   "pygments_lexer": "ipython3",
   "version": "3.8.6"
  }
 },
 "nbformat": 4,
 "nbformat_minor": 5
}
