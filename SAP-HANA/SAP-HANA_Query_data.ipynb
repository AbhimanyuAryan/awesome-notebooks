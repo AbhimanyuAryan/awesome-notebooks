{
 "cells": [
  {
   "cell_type": "markdown",
   "id": "removed-motel",
   "metadata": {
    "papermill": {},
    "tags": []
   },
   "source": [
    "<img width=\"10%\" alt=\"Naas\" src=\"https://landen.imgix.net/jtci2pxwjczr/assets/5ice39g4.png?w=160\"/>"
   ]
  },
  {
   "cell_type": "markdown",
   "id": "passive-probability",
   "metadata": {
    "papermill": {},
    "tags": []
   },
   "source": [
    "# SAP HANA - Query data\n",
    "[<button class=\"lm-Widget p-Widget jupyter-widgets jupyter-button widget-button mod-primary\">Open in Naas</button>](https://app.naas.ai/user-redirect/naas/downloader?url=https://raw.githubusercontent.com/jupyter-naas/awesome-notebooks/master/SAP-HANA/SAP-HANA_Query_data.ipynb)"
   ]
  },
  {
   "cell_type": "code",
   "execution_count": null,
   "id": "false-backing",
   "metadata": {
    "papermill": {},
    "tags": []
   },
   "outputs": [],
   "source": [
    "!pip install hdbcli"
   ]
  },
  {
   "cell_type": "markdown",
   "id": "controlled-hypothesis",
   "metadata": {
    "papermill": {},
    "tags": []
   },
   "source": [
    "## Step 1 : Import libraries"
   ]
  },
  {
   "cell_type": "code",
   "execution_count": null,
   "id": "refined-biography",
   "metadata": {
    "papermill": {},
    "tags": []
   },
   "outputs": [],
   "source": [
    "import sap_hana_connector"
   ]
  },
  {
   "cell_type": "markdown",
   "id": "printable-hypothetical",
   "metadata": {
    "papermill": {},
    "tags": []
   },
   "source": [
    "## Step 2 : Declare variables"
   ]
  },
  {
   "cell_type": "code",
   "execution_count": null,
   "id": "regulated-throat",
   "metadata": {
    "papermill": {},
    "tags": []
   },
   "outputs": [],
   "source": [
    "type: 'SapHana'\n",
    "name: 'JPAK_LIVE'\n",
    "user: 'USER'\n",
    "password: 'PASSWORD'\n",
    "port: 30015\n",
    "host: 'HOST'"
   ]
  },
  {
   "cell_type": "markdown",
   "id": "robust-breach",
   "metadata": {
    "papermill": {},
    "tags": []
   },
   "source": [
    "## Step 3 : Query to get specific table in SAP HANA"
   ]
  },
  {
   "cell_type": "code",
   "execution_count": null,
   "id": "growing-artist",
   "metadata": {
    "papermill": {},
    "tags": []
   },
   "outputs": [],
   "source": [
    "query: 'SELECT * FROM JPAK_LIVE.OINV T0'"
   ]
  },
  {
   "cell_type": "markdown",
   "id": "meaningful-sister",
   "metadata": {
    "papermill": {},
    "tags": []
   },
   "source": [
    "## Step 4 : Return Data Frame "
   ]
  },
  {
   "cell_type": "code",
   "execution_count": null,
   "id": "vietnamese-coalition",
   "metadata": {
    "papermill": {},
    "tags": []
   },
   "outputs": [],
   "source": [
    "df = query"
   ]
  }
 ],
 "metadata": {
  "kernelspec": {
   "display_name": "Python 3",
   "language": "python",
   "name": "python3"
  },
  "language_info": {
   "codemirror_mode": {
    "name": "ipython",
    "version": 3
   },
   "file_extension": ".py",
   "mimetype": "text/x-python",
   "name": "python",
   "nbconvert_exporter": "python",
   "pygments_lexer": "ipython3",
   "version": "3.8.6"
  },
  "papermill": {
   "default_parameters": {},
   "environment_variables": {},
   "parameters": {},
   "version": "2.3.3"
  }
 },
 "nbformat": 4,
 "nbformat_minor": 5
}