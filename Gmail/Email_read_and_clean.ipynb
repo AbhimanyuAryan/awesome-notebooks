{
 "cells": [
  {
   "cell_type": "markdown",
   "metadata": {},
   "source": [
    "<img width=\"10%\" alt=\"Naas\" src=\"https://landen.imgix.net/jtci2pxwjczr/assets/5ice39g4.png?w=160\"/>"
   ]
  },
  {
   "cell_type": "markdown",
   "metadata": {},
   "source": [
    "# Emailing - Read and clean"
   ]
  },
  {
   "cell_type": "markdown",
   "metadata": {},
   "source": [
    "<img width=\"20%\" alt=\"Naas\" src=\"https://cdn.vox-cdn.com/thumbor/K-q2WRPRyxxzzPLjxHGt26swMfM=/0x0:1320x880/1200x800/filters:focal(555x335:765x545)/cdn.vox-cdn.com/uploads/chorus_image/image/67587450/newgmaillogo.0.jpg\"/>"
   ]
  },
  {
   "cell_type": "markdown",
   "metadata": {},
   "source": [
    "## Account credentials"
   ]
  },
  {
   "cell_type": "code",
   "execution_count": 1,
   "metadata": {},
   "outputs": [],
   "source": [
    "username = \"**********@gmail.com\"\n",
    "password = \"**********\"\n",
    "smtp_server = \"imap.gmail.com\"\n",
    "box = \"INBOX\""
   ]
  },
  {
   "cell_type": "markdown",
   "metadata": {},
   "source": [
    "Note: You need to create an application password following this procedure - https://support.google.com/mail/answer/185833?hl=en"
   ]
  },
  {
   "cell_type": "markdown",
   "metadata": {},
   "source": [
    "## Connect to email box"
   ]
  },
  {
   "cell_type": "code",
   "execution_count": 2,
   "metadata": {},
   "outputs": [],
   "source": [
    "import naas_drivers\n",
    "emails = naas_drivers.email.connect(username, \n",
    "        password, \n",
    "        username, \n",
    "        smtp_server)"
   ]
  },
  {
   "cell_type": "markdown",
   "metadata": {},
   "source": [
    "## Get email list"
   ]
  },
  {
   "cell_type": "code",
   "execution_count": 3,
   "metadata": {},
   "outputs": [
    {
     "data": {
      "text/html": [
       "<div>\n",
       "<style scoped>\n",
       "    .dataframe tbody tr th:only-of-type {\n",
       "        vertical-align: middle;\n",
       "    }\n",
       "\n",
       "    .dataframe tbody tr th {\n",
       "        vertical-align: top;\n",
       "    }\n",
       "\n",
       "    .dataframe thead th {\n",
       "        text-align: right;\n",
       "    }\n",
       "</style>\n",
       "<table border=\"1\" class=\"dataframe\">\n",
       "  <thead>\n",
       "    <tr style=\"text-align: right;\">\n",
       "      <th></th>\n",
       "      <th>uid</th>\n",
       "      <th>subject</th>\n",
       "      <th>from</th>\n",
       "      <th>to</th>\n",
       "      <th>cc</th>\n",
       "      <th>bcc</th>\n",
       "      <th>reply_to</th>\n",
       "      <th>date</th>\n",
       "      <th>text</th>\n",
       "      <th>html</th>\n",
       "      <th>flags</th>\n",
       "      <th>headers</th>\n",
       "      <th>size_rfc822</th>\n",
       "      <th>size</th>\n",
       "      <th>obj</th>\n",
       "      <th>attachments</th>\n",
       "    </tr>\n",
       "  </thead>\n",
       "  <tbody>\n",
       "    <tr>\n",
       "      <th>0</th>\n",
       "      <td>32</td>\n",
       "      <td>Test</td>\n",
       "      <td>{'email': 'ajaysabu007@gmail.com', 'name': 'Or...</td>\n",
       "      <td>[{'email': 'naas.sanjay22@gmail.com', 'name': ...</td>\n",
       "      <td>[]</td>\n",
       "      <td>[]</td>\n",
       "      <td>[]</td>\n",
       "      <td>2020-12-24 15:15:12+05:30</td>\n",
       "      <td>Test mail\\r\\n</td>\n",
       "      <td>&lt;div dir=\"auto\"&gt;Test mail&lt;/div&gt;\\r\\n</td>\n",
       "      <td>()</td>\n",
       "      <td>{'Content-Type': ('multipart/alternative; boun...</td>\n",
       "      <td>4718</td>\n",
       "      <td>4648</td>\n",
       "      <td>[Delivered-To, Received, X-Received, ARC-Seal,...</td>\n",
       "      <td>0</td>\n",
       "    </tr>\n",
       "    <tr>\n",
       "      <th>1</th>\n",
       "      <td>31</td>\n",
       "      <td>Test mail</td>\n",
       "      <td>{'email': 'dorissabu111@gmail.com', 'name': 'D...</td>\n",
       "      <td>[{'email': 'naas.sanjay22@gmail.com', 'name': ...</td>\n",
       "      <td>[]</td>\n",
       "      <td>[]</td>\n",
       "      <td>[]</td>\n",
       "      <td>2020-12-24 15:14:42+05:30</td>\n",
       "      <td>Test mail received\\r\\n</td>\n",
       "      <td>&lt;div dir=\"auto\"&gt;Test mail received&lt;/div&gt;\\r\\n</td>\n",
       "      <td>()</td>\n",
       "      <td>{'Content-Type': ('multipart/alternative; boun...</td>\n",
       "      <td>4755</td>\n",
       "      <td>4685</td>\n",
       "      <td>[Delivered-To, Received, X-Received, ARC-Seal,...</td>\n",
       "      <td>0</td>\n",
       "    </tr>\n",
       "    <tr>\n",
       "      <th>2</th>\n",
       "      <td>30</td>\n",
       "      <td>Test mail</td>\n",
       "      <td>{'email': 'sanjay.s@bridge-global.com', 'name'...</td>\n",
       "      <td>[{'email': 'naas.sanjay22@gmail.com', 'name': ...</td>\n",
       "      <td>[]</td>\n",
       "      <td>[]</td>\n",
       "      <td>[]</td>\n",
       "      <td>2020-12-24 15:12:05+05:30</td>\n",
       "      <td>This is a test mail\\r\\n-- \\r\\nBest Regards,\\r\\...</td>\n",
       "      <td>&lt;div dir=\"ltr\"&gt;&lt;br clear=\"all\"&gt;&lt;div&gt;This is a ...</td>\n",
       "      <td>()</td>\n",
       "      <td>{'Content-Type': ('multipart/alternative; boun...</td>\n",
       "      <td>7070</td>\n",
       "      <td>6969</td>\n",
       "      <td>[Delivered-To, Received, X-Received, ARC-Seal,...</td>\n",
       "      <td>0</td>\n",
       "    </tr>\n",
       "    <tr>\n",
       "      <th>3</th>\n",
       "      <td>29</td>\n",
       "      <td>Test mail</td>\n",
       "      <td>{'email': 'sanjaysabu4205@gmail.com', 'name': ...</td>\n",
       "      <td>[{'email': 'naas.sanjay22@gmail.com', 'name': ...</td>\n",
       "      <td>[]</td>\n",
       "      <td>[]</td>\n",
       "      <td>[]</td>\n",
       "      <td>2020-12-24 15:11:49+05:30</td>\n",
       "      <td>This is a test mail\\r\\n</td>\n",
       "      <td>&lt;div dir=\"ltr\"&gt;This is a test mail&lt;/div&gt;\\r\\n</td>\n",
       "      <td>()</td>\n",
       "      <td>{'Content-Type': ('multipart/alternative; boun...</td>\n",
       "      <td>4779</td>\n",
       "      <td>4709</td>\n",
       "      <td>[Delivered-To, Received, X-Received, ARC-Seal,...</td>\n",
       "      <td>0</td>\n",
       "    </tr>\n",
       "    <tr>\n",
       "      <th>4</th>\n",
       "      <td>22</td>\n",
       "      <td>Another test mail</td>\n",
       "      <td>{'email': 'sanjaysabu4205@gmail.com', 'name': ...</td>\n",
       "      <td>[{'email': 'naas.sanjay22@gmail.com', 'name': ...</td>\n",
       "      <td>[]</td>\n",
       "      <td>[]</td>\n",
       "      <td>[]</td>\n",
       "      <td>2020-12-17 11:54:36+05:30</td>\n",
       "      <td>This is another test mail\\r\\n</td>\n",
       "      <td>&lt;div dir=\"ltr\"&gt;This is another test mail&lt;/div&gt;...</td>\n",
       "      <td>(SEEN,)</td>\n",
       "      <td>{'Content-Type': ('multipart/alternative; boun...</td>\n",
       "      <td>4795</td>\n",
       "      <td>4725</td>\n",
       "      <td>[Delivered-To, Received, X-Received, ARC-Seal,...</td>\n",
       "      <td>0</td>\n",
       "    </tr>\n",
       "    <tr>\n",
       "      <th>5</th>\n",
       "      <td>16</td>\n",
       "      <td>Please send sales report?</td>\n",
       "      <td>{'email': 'jeremy.ravenel@cashstory.com', 'nam...</td>\n",
       "      <td>[{'email': 'naas.sanjay22@gmail.com', 'name': ...</td>\n",
       "      <td>[]</td>\n",
       "      <td>[]</td>\n",
       "      <td>[]</td>\n",
       "      <td>2020-12-15 10:56:37+01:00</td>\n",
       "      <td>Could you please send sales report man?\\r\\n\\r\\...</td>\n",
       "      <td>&lt;div dir=\"ltr\"&gt;&lt;div class=\"gmail_default\" styl...</td>\n",
       "      <td>(SEEN,)</td>\n",
       "      <td>{'Content-Type': ('multipart/alternative; boun...</td>\n",
       "      <td>6050</td>\n",
       "      <td>5962</td>\n",
       "      <td>[Delivered-To, Received, X-Received, ARC-Seal,...</td>\n",
       "      <td>0</td>\n",
       "    </tr>\n",
       "  </tbody>\n",
       "</table>\n",
       "</div>"
      ],
      "text/plain": [
       "  uid                    subject  \\\n",
       "0  32                       Test   \n",
       "1  31                  Test mail   \n",
       "2  30                  Test mail   \n",
       "3  29                  Test mail   \n",
       "4  22          Another test mail   \n",
       "5  16  Please send sales report?   \n",
       "\n",
       "                                                from  \\\n",
       "0  {'email': 'ajaysabu007@gmail.com', 'name': 'Or...   \n",
       "1  {'email': 'dorissabu111@gmail.com', 'name': 'D...   \n",
       "2  {'email': 'sanjay.s@bridge-global.com', 'name'...   \n",
       "3  {'email': 'sanjaysabu4205@gmail.com', 'name': ...   \n",
       "4  {'email': 'sanjaysabu4205@gmail.com', 'name': ...   \n",
       "5  {'email': 'jeremy.ravenel@cashstory.com', 'nam...   \n",
       "\n",
       "                                                  to  cc bcc reply_to  \\\n",
       "0  [{'email': 'naas.sanjay22@gmail.com', 'name': ...  []  []       []   \n",
       "1  [{'email': 'naas.sanjay22@gmail.com', 'name': ...  []  []       []   \n",
       "2  [{'email': 'naas.sanjay22@gmail.com', 'name': ...  []  []       []   \n",
       "3  [{'email': 'naas.sanjay22@gmail.com', 'name': ...  []  []       []   \n",
       "4  [{'email': 'naas.sanjay22@gmail.com', 'name': ...  []  []       []   \n",
       "5  [{'email': 'naas.sanjay22@gmail.com', 'name': ...  []  []       []   \n",
       "\n",
       "                        date  \\\n",
       "0  2020-12-24 15:15:12+05:30   \n",
       "1  2020-12-24 15:14:42+05:30   \n",
       "2  2020-12-24 15:12:05+05:30   \n",
       "3  2020-12-24 15:11:49+05:30   \n",
       "4  2020-12-17 11:54:36+05:30   \n",
       "5  2020-12-15 10:56:37+01:00   \n",
       "\n",
       "                                                text  \\\n",
       "0                                      Test mail\\r\\n   \n",
       "1                             Test mail received\\r\\n   \n",
       "2  This is a test mail\\r\\n-- \\r\\nBest Regards,\\r\\...   \n",
       "3                            This is a test mail\\r\\n   \n",
       "4                      This is another test mail\\r\\n   \n",
       "5  Could you please send sales report man?\\r\\n\\r\\...   \n",
       "\n",
       "                                                html    flags  \\\n",
       "0                <div dir=\"auto\">Test mail</div>\\r\\n       ()   \n",
       "1       <div dir=\"auto\">Test mail received</div>\\r\\n       ()   \n",
       "2  <div dir=\"ltr\"><br clear=\"all\"><div>This is a ...       ()   \n",
       "3       <div dir=\"ltr\">This is a test mail</div>\\r\\n       ()   \n",
       "4  <div dir=\"ltr\">This is another test mail</div>...  (SEEN,)   \n",
       "5  <div dir=\"ltr\"><div class=\"gmail_default\" styl...  (SEEN,)   \n",
       "\n",
       "                                             headers  size_rfc822  size  \\\n",
       "0  {'Content-Type': ('multipart/alternative; boun...         4718  4648   \n",
       "1  {'Content-Type': ('multipart/alternative; boun...         4755  4685   \n",
       "2  {'Content-Type': ('multipart/alternative; boun...         7070  6969   \n",
       "3  {'Content-Type': ('multipart/alternative; boun...         4779  4709   \n",
       "4  {'Content-Type': ('multipart/alternative; boun...         4795  4725   \n",
       "5  {'Content-Type': ('multipart/alternative; boun...         6050  5962   \n",
       "\n",
       "                                                 obj  attachments  \n",
       "0  [Delivered-To, Received, X-Received, ARC-Seal,...            0  \n",
       "1  [Delivered-To, Received, X-Received, ARC-Seal,...            0  \n",
       "2  [Delivered-To, Received, X-Received, ARC-Seal,...            0  \n",
       "3  [Delivered-To, Received, X-Received, ARC-Seal,...            0  \n",
       "4  [Delivered-To, Received, X-Received, ARC-Seal,...            0  \n",
       "5  [Delivered-To, Received, X-Received, ARC-Seal,...            0  "
      ]
     },
     "execution_count": 3,
     "metadata": {},
     "output_type": "execute_result"
    }
   ],
   "source": [
    "dataframe = emails.get(criteria=\"ALL\")\n",
    "dataframe"
   ]
  },
  {
   "cell_type": "markdown",
   "metadata": {},
   "source": [
    "## Creating dataframe and inserting values"
   ]
  },
  {
   "cell_type": "code",
   "execution_count": 4,
   "metadata": {},
   "outputs": [
    {
     "data": {
      "text/html": [
       "<div>\n",
       "<style scoped>\n",
       "    .dataframe tbody tr th:only-of-type {\n",
       "        vertical-align: middle;\n",
       "    }\n",
       "\n",
       "    .dataframe tbody tr th {\n",
       "        vertical-align: top;\n",
       "    }\n",
       "\n",
       "    .dataframe thead th {\n",
       "        text-align: right;\n",
       "    }\n",
       "</style>\n",
       "<table border=\"1\" class=\"dataframe\">\n",
       "  <thead>\n",
       "    <tr style=\"text-align: right;\">\n",
       "      <th></th>\n",
       "      <th>SENDER_NAME</th>\n",
       "      <th>SENDER_EMAIL</th>\n",
       "      <th>COUNT</th>\n",
       "      <th>PERCENTAGE</th>\n",
       "    </tr>\n",
       "  </thead>\n",
       "  <tbody>\n",
       "    <tr>\n",
       "      <th>3</th>\n",
       "      <td>Sanjay Sabu</td>\n",
       "      <td>sanjaysabu4205@gmail.com</td>\n",
       "      <td>2</td>\n",
       "      <td>33</td>\n",
       "    </tr>\n",
       "    <tr>\n",
       "      <th>0</th>\n",
       "      <td>Orb</td>\n",
       "      <td>ajaysabu007@gmail.com</td>\n",
       "      <td>1</td>\n",
       "      <td>17</td>\n",
       "    </tr>\n",
       "    <tr>\n",
       "      <th>1</th>\n",
       "      <td>Doris Sabu</td>\n",
       "      <td>dorissabu111@gmail.com</td>\n",
       "      <td>1</td>\n",
       "      <td>17</td>\n",
       "    </tr>\n",
       "    <tr>\n",
       "      <th>2</th>\n",
       "      <td>Sanjay Sabu</td>\n",
       "      <td>sanjay.s@bridge-global.com</td>\n",
       "      <td>1</td>\n",
       "      <td>17</td>\n",
       "    </tr>\n",
       "    <tr>\n",
       "      <th>5</th>\n",
       "      <td>Jeremy Ravenel</td>\n",
       "      <td>jeremy.ravenel@cashstory.com</td>\n",
       "      <td>1</td>\n",
       "      <td>17</td>\n",
       "    </tr>\n",
       "  </tbody>\n",
       "</table>\n",
       "</div>"
      ],
      "text/plain": [
       "      SENDER_NAME                  SENDER_EMAIL COUNT PERCENTAGE\n",
       "3     Sanjay Sabu      sanjaysabu4205@gmail.com     2         33\n",
       "0             Orb         ajaysabu007@gmail.com     1         17\n",
       "1      Doris Sabu        dorissabu111@gmail.com     1         17\n",
       "2     Sanjay Sabu    sanjay.s@bridge-global.com     1         17\n",
       "5  Jeremy Ravenel  jeremy.ravenel@cashstory.com     1         17"
      ]
     },
     "execution_count": 4,
     "metadata": {},
     "output_type": "execute_result"
    }
   ],
   "source": [
    "sender_name = []\n",
    "sender_email = []\n",
    "for df in dataframe[\"from\"]:\n",
    "    sender_name.append(df['name'])\n",
    "    sender_email.append(df['email'])\n",
    "import pandas as pd\n",
    "result = pd.DataFrame(columns = ['SENDER_NAME','SENDER_EMAIL','COUNT','PERCENTAGE'])\n",
    "import numpy as np\n",
    "indexes = np.unique(sender_name, return_index=True)[1]\n",
    "[sender_name[index] for index in sorted(indexes)]\n",
    "\n",
    "indexes = np.unique(sender_email, return_index=True)[1]\n",
    "[sender_email[index] for index in sorted(indexes)]\n",
    "total_email = len(emails.get(criteria=\"ALL\"))\n",
    "c = 0\n",
    "for i in sender_email:\n",
    "    new_row = {'SENDER_NAME':sender_name[c],'SENDER_EMAIL':i,'COUNT':sender_email.count(i),'PERCENTAGE':round(((sender_email.count(i))/total_email)*100)}\n",
    "    result = result.append(new_row, ignore_index=True)\n",
    "    c+=1\n",
    "result = result.drop_duplicates()\n",
    "result.sort_values(by=['COUNT'], inplace=True, ascending=False)\n",
    "result"
   ]
  },
  {
   "cell_type": "markdown",
   "metadata": {},
   "source": [
    "## Email graph plot"
   ]
  },
  {
   "cell_type": "code",
   "execution_count": 13,
   "metadata": {},
   "outputs": [
    {
     "data": {
      "application/vnd.plotly.v1+json": {
       "config": {
        "plotlyServerURL": "https://plot.ly"
       },
       "data": [
        {
         "alignmentgroup": "True",
         "hovertemplate": "x=%{x}<br>y=%{y}<extra></extra>",
         "legendgroup": "",
         "marker": {
          "color": "#636efa"
         },
         "name": "",
         "offsetgroup": "",
         "orientation": "h",
         "showlegend": false,
         "textposition": "auto",
         "type": "bar",
         "x": [
          2,
          1,
          1,
          1,
          1
         ],
         "xaxis": "x",
         "y": [
          "sanjaysabu4205@gmail.com",
          "ajaysabu007@gmail.com",
          "dorissabu111@gmail.com",
          "sanjay.s@bridge-global.com",
          "jeremy.ravenel@cashstory.com"
         ],
         "yaxis": "y"
        }
       ],
       "layout": {
        "autosize": true,
        "barmode": "relative",
        "legend": {
         "tracegroupgap": 0
        },
        "margin": {
         "t": 60
        },
        "template": {
         "data": {
          "bar": [
           {
            "error_x": {
             "color": "#2a3f5f"
            },
            "error_y": {
             "color": "#2a3f5f"
            },
            "marker": {
             "line": {
              "color": "#E5ECF6",
              "width": 0.5
             }
            },
            "type": "bar"
           }
          ],
          "barpolar": [
           {
            "marker": {
             "line": {
              "color": "#E5ECF6",
              "width": 0.5
             }
            },
            "type": "barpolar"
           }
          ],
          "carpet": [
           {
            "aaxis": {
             "endlinecolor": "#2a3f5f",
             "gridcolor": "white",
             "linecolor": "white",
             "minorgridcolor": "white",
             "startlinecolor": "#2a3f5f"
            },
            "baxis": {
             "endlinecolor": "#2a3f5f",
             "gridcolor": "white",
             "linecolor": "white",
             "minorgridcolor": "white",
             "startlinecolor": "#2a3f5f"
            },
            "type": "carpet"
           }
          ],
          "choropleth": [
           {
            "colorbar": {
             "outlinewidth": 0,
             "ticks": ""
            },
            "type": "choropleth"
           }
          ],
          "contour": [
           {
            "colorbar": {
             "outlinewidth": 0,
             "ticks": ""
            },
            "colorscale": [
             [
              0,
              "#0d0887"
             ],
             [
              0.1111111111111111,
              "#46039f"
             ],
             [
              0.2222222222222222,
              "#7201a8"
             ],
             [
              0.3333333333333333,
              "#9c179e"
             ],
             [
              0.4444444444444444,
              "#bd3786"
             ],
             [
              0.5555555555555556,
              "#d8576b"
             ],
             [
              0.6666666666666666,
              "#ed7953"
             ],
             [
              0.7777777777777778,
              "#fb9f3a"
             ],
             [
              0.8888888888888888,
              "#fdca26"
             ],
             [
              1,
              "#f0f921"
             ]
            ],
            "type": "contour"
           }
          ],
          "contourcarpet": [
           {
            "colorbar": {
             "outlinewidth": 0,
             "ticks": ""
            },
            "type": "contourcarpet"
           }
          ],
          "heatmap": [
           {
            "colorbar": {
             "outlinewidth": 0,
             "ticks": ""
            },
            "colorscale": [
             [
              0,
              "#0d0887"
             ],
             [
              0.1111111111111111,
              "#46039f"
             ],
             [
              0.2222222222222222,
              "#7201a8"
             ],
             [
              0.3333333333333333,
              "#9c179e"
             ],
             [
              0.4444444444444444,
              "#bd3786"
             ],
             [
              0.5555555555555556,
              "#d8576b"
             ],
             [
              0.6666666666666666,
              "#ed7953"
             ],
             [
              0.7777777777777778,
              "#fb9f3a"
             ],
             [
              0.8888888888888888,
              "#fdca26"
             ],
             [
              1,
              "#f0f921"
             ]
            ],
            "type": "heatmap"
           }
          ],
          "heatmapgl": [
           {
            "colorbar": {
             "outlinewidth": 0,
             "ticks": ""
            },
            "colorscale": [
             [
              0,
              "#0d0887"
             ],
             [
              0.1111111111111111,
              "#46039f"
             ],
             [
              0.2222222222222222,
              "#7201a8"
             ],
             [
              0.3333333333333333,
              "#9c179e"
             ],
             [
              0.4444444444444444,
              "#bd3786"
             ],
             [
              0.5555555555555556,
              "#d8576b"
             ],
             [
              0.6666666666666666,
              "#ed7953"
             ],
             [
              0.7777777777777778,
              "#fb9f3a"
             ],
             [
              0.8888888888888888,
              "#fdca26"
             ],
             [
              1,
              "#f0f921"
             ]
            ],
            "type": "heatmapgl"
           }
          ],
          "histogram": [
           {
            "marker": {
             "colorbar": {
              "outlinewidth": 0,
              "ticks": ""
             }
            },
            "type": "histogram"
           }
          ],
          "histogram2d": [
           {
            "colorbar": {
             "outlinewidth": 0,
             "ticks": ""
            },
            "colorscale": [
             [
              0,
              "#0d0887"
             ],
             [
              0.1111111111111111,
              "#46039f"
             ],
             [
              0.2222222222222222,
              "#7201a8"
             ],
             [
              0.3333333333333333,
              "#9c179e"
             ],
             [
              0.4444444444444444,
              "#bd3786"
             ],
             [
              0.5555555555555556,
              "#d8576b"
             ],
             [
              0.6666666666666666,
              "#ed7953"
             ],
             [
              0.7777777777777778,
              "#fb9f3a"
             ],
             [
              0.8888888888888888,
              "#fdca26"
             ],
             [
              1,
              "#f0f921"
             ]
            ],
            "type": "histogram2d"
           }
          ],
          "histogram2dcontour": [
           {
            "colorbar": {
             "outlinewidth": 0,
             "ticks": ""
            },
            "colorscale": [
             [
              0,
              "#0d0887"
             ],
             [
              0.1111111111111111,
              "#46039f"
             ],
             [
              0.2222222222222222,
              "#7201a8"
             ],
             [
              0.3333333333333333,
              "#9c179e"
             ],
             [
              0.4444444444444444,
              "#bd3786"
             ],
             [
              0.5555555555555556,
              "#d8576b"
             ],
             [
              0.6666666666666666,
              "#ed7953"
             ],
             [
              0.7777777777777778,
              "#fb9f3a"
             ],
             [
              0.8888888888888888,
              "#fdca26"
             ],
             [
              1,
              "#f0f921"
             ]
            ],
            "type": "histogram2dcontour"
           }
          ],
          "mesh3d": [
           {
            "colorbar": {
             "outlinewidth": 0,
             "ticks": ""
            },
            "type": "mesh3d"
           }
          ],
          "parcoords": [
           {
            "line": {
             "colorbar": {
              "outlinewidth": 0,
              "ticks": ""
             }
            },
            "type": "parcoords"
           }
          ],
          "pie": [
           {
            "automargin": true,
            "type": "pie"
           }
          ],
          "scatter": [
           {
            "marker": {
             "colorbar": {
              "outlinewidth": 0,
              "ticks": ""
             }
            },
            "type": "scatter"
           }
          ],
          "scatter3d": [
           {
            "line": {
             "colorbar": {
              "outlinewidth": 0,
              "ticks": ""
             }
            },
            "marker": {
             "colorbar": {
              "outlinewidth": 0,
              "ticks": ""
             }
            },
            "type": "scatter3d"
           }
          ],
          "scattercarpet": [
           {
            "marker": {
             "colorbar": {
              "outlinewidth": 0,
              "ticks": ""
             }
            },
            "type": "scattercarpet"
           }
          ],
          "scattergeo": [
           {
            "marker": {
             "colorbar": {
              "outlinewidth": 0,
              "ticks": ""
             }
            },
            "type": "scattergeo"
           }
          ],
          "scattergl": [
           {
            "marker": {
             "colorbar": {
              "outlinewidth": 0,
              "ticks": ""
             }
            },
            "type": "scattergl"
           }
          ],
          "scattermapbox": [
           {
            "marker": {
             "colorbar": {
              "outlinewidth": 0,
              "ticks": ""
             }
            },
            "type": "scattermapbox"
           }
          ],
          "scatterpolar": [
           {
            "marker": {
             "colorbar": {
              "outlinewidth": 0,
              "ticks": ""
             }
            },
            "type": "scatterpolar"
           }
          ],
          "scatterpolargl": [
           {
            "marker": {
             "colorbar": {
              "outlinewidth": 0,
              "ticks": ""
             }
            },
            "type": "scatterpolargl"
           }
          ],
          "scatterternary": [
           {
            "marker": {
             "colorbar": {
              "outlinewidth": 0,
              "ticks": ""
             }
            },
            "type": "scatterternary"
           }
          ],
          "surface": [
           {
            "colorbar": {
             "outlinewidth": 0,
             "ticks": ""
            },
            "colorscale": [
             [
              0,
              "#0d0887"
             ],
             [
              0.1111111111111111,
              "#46039f"
             ],
             [
              0.2222222222222222,
              "#7201a8"
             ],
             [
              0.3333333333333333,
              "#9c179e"
             ],
             [
              0.4444444444444444,
              "#bd3786"
             ],
             [
              0.5555555555555556,
              "#d8576b"
             ],
             [
              0.6666666666666666,
              "#ed7953"
             ],
             [
              0.7777777777777778,
              "#fb9f3a"
             ],
             [
              0.8888888888888888,
              "#fdca26"
             ],
             [
              1,
              "#f0f921"
             ]
            ],
            "type": "surface"
           }
          ],
          "table": [
           {
            "cells": {
             "fill": {
              "color": "#EBF0F8"
             },
             "line": {
              "color": "white"
             }
            },
            "header": {
             "fill": {
              "color": "#C8D4E3"
             },
             "line": {
              "color": "white"
             }
            },
            "type": "table"
           }
          ]
         },
         "layout": {
          "annotationdefaults": {
           "arrowcolor": "#2a3f5f",
           "arrowhead": 0,
           "arrowwidth": 1
          },
          "autotypenumbers": "strict",
          "coloraxis": {
           "colorbar": {
            "outlinewidth": 0,
            "ticks": ""
           }
          },
          "colorscale": {
           "diverging": [
            [
             0,
             "#8e0152"
            ],
            [
             0.1,
             "#c51b7d"
            ],
            [
             0.2,
             "#de77ae"
            ],
            [
             0.3,
             "#f1b6da"
            ],
            [
             0.4,
             "#fde0ef"
            ],
            [
             0.5,
             "#f7f7f7"
            ],
            [
             0.6,
             "#e6f5d0"
            ],
            [
             0.7,
             "#b8e186"
            ],
            [
             0.8,
             "#7fbc41"
            ],
            [
             0.9,
             "#4d9221"
            ],
            [
             1,
             "#276419"
            ]
           ],
           "sequential": [
            [
             0,
             "#0d0887"
            ],
            [
             0.1111111111111111,
             "#46039f"
            ],
            [
             0.2222222222222222,
             "#7201a8"
            ],
            [
             0.3333333333333333,
             "#9c179e"
            ],
            [
             0.4444444444444444,
             "#bd3786"
            ],
            [
             0.5555555555555556,
             "#d8576b"
            ],
            [
             0.6666666666666666,
             "#ed7953"
            ],
            [
             0.7777777777777778,
             "#fb9f3a"
            ],
            [
             0.8888888888888888,
             "#fdca26"
            ],
            [
             1,
             "#f0f921"
            ]
           ],
           "sequentialminus": [
            [
             0,
             "#0d0887"
            ],
            [
             0.1111111111111111,
             "#46039f"
            ],
            [
             0.2222222222222222,
             "#7201a8"
            ],
            [
             0.3333333333333333,
             "#9c179e"
            ],
            [
             0.4444444444444444,
             "#bd3786"
            ],
            [
             0.5555555555555556,
             "#d8576b"
            ],
            [
             0.6666666666666666,
             "#ed7953"
            ],
            [
             0.7777777777777778,
             "#fb9f3a"
            ],
            [
             0.8888888888888888,
             "#fdca26"
            ],
            [
             1,
             "#f0f921"
            ]
           ]
          },
          "colorway": [
           "#636efa",
           "#EF553B",
           "#00cc96",
           "#ab63fa",
           "#FFA15A",
           "#19d3f3",
           "#FF6692",
           "#B6E880",
           "#FF97FF",
           "#FECB52"
          ],
          "font": {
           "color": "#2a3f5f"
          },
          "geo": {
           "bgcolor": "white",
           "lakecolor": "white",
           "landcolor": "#E5ECF6",
           "showlakes": true,
           "showland": true,
           "subunitcolor": "white"
          },
          "hoverlabel": {
           "align": "left"
          },
          "hovermode": "closest",
          "mapbox": {
           "style": "light"
          },
          "paper_bgcolor": "white",
          "plot_bgcolor": "#E5ECF6",
          "polar": {
           "angularaxis": {
            "gridcolor": "white",
            "linecolor": "white",
            "ticks": ""
           },
           "bgcolor": "#E5ECF6",
           "radialaxis": {
            "gridcolor": "white",
            "linecolor": "white",
            "ticks": ""
           }
          },
          "scene": {
           "xaxis": {
            "backgroundcolor": "#E5ECF6",
            "gridcolor": "white",
            "gridwidth": 2,
            "linecolor": "white",
            "showbackground": true,
            "ticks": "",
            "zerolinecolor": "white"
           },
           "yaxis": {
            "backgroundcolor": "#E5ECF6",
            "gridcolor": "white",
            "gridwidth": 2,
            "linecolor": "white",
            "showbackground": true,
            "ticks": "",
            "zerolinecolor": "white"
           },
           "zaxis": {
            "backgroundcolor": "#E5ECF6",
            "gridcolor": "white",
            "gridwidth": 2,
            "linecolor": "white",
            "showbackground": true,
            "ticks": "",
            "zerolinecolor": "white"
           }
          },
          "shapedefaults": {
           "line": {
            "color": "#2a3f5f"
           }
          },
          "ternary": {
           "aaxis": {
            "gridcolor": "white",
            "linecolor": "white",
            "ticks": ""
           },
           "baxis": {
            "gridcolor": "white",
            "linecolor": "white",
            "ticks": ""
           },
           "bgcolor": "#E5ECF6",
           "caxis": {
            "gridcolor": "white",
            "linecolor": "white",
            "ticks": ""
           }
          },
          "title": {
           "x": 0.05
          },
          "xaxis": {
           "automargin": true,
           "gridcolor": "white",
           "linecolor": "white",
           "ticks": "",
           "title": {
            "standoff": 15
           },
           "zerolinecolor": "white",
           "zerolinewidth": 2
          },
          "yaxis": {
           "automargin": true,
           "gridcolor": "white",
           "linecolor": "white",
           "ticks": "",
           "title": {
            "standoff": 15
           },
           "zerolinecolor": "white",
           "zerolinewidth": 2
          }
         }
        },
        "xaxis": {
         "anchor": "y",
         "autorange": true,
         "domain": [
          0,
          1
         ],
         "range": [
          0,
          2.1052631578947367
         ],
         "title": {
          "text": "x"
         },
         "type": "linear"
        },
        "yaxis": {
         "anchor": "x",
         "autorange": true,
         "domain": [
          0,
          1
         ],
         "range": [
          -0.5,
          4.5
         ],
         "title": {
          "text": "y"
         },
         "type": "category"
        }
       }
      },
      "image/png": "[encoded data removed]",
      "text/html": [
       "<div>                            <div id=\"ba722e57-4be3-472f-b0bc-c31d664bea1d\" class=\"plotly-graph-div\" style=\"height:525px; width:100%;\"></div>            <script type=\"text/javascript\">                require([\"plotly\"], function(Plotly) {                    window.PLOTLYENV=window.PLOTLYENV || {};                                    if (document.getElementById(\"ba722e57-4be3-472f-b0bc-c31d664bea1d\")) {                    Plotly.newPlot(                        \"ba722e57-4be3-472f-b0bc-c31d664bea1d\",                        [{\"alignmentgroup\": \"True\", \"hovertemplate\": \"x=%{x}<br>y=%{y}<extra></extra>\", \"legendgroup\": \"\", \"marker\": {\"color\": \"#636efa\"}, \"name\": \"\", \"offsetgroup\": \"\", \"orientation\": \"h\", \"showlegend\": false, \"textposition\": \"auto\", \"type\": \"bar\", \"x\": [2, 1, 1, 1, 1], \"xaxis\": \"x\", \"y\": [\"sanjaysabu4205@gmail.com\", \"ajaysabu007@gmail.com\", \"dorissabu111@gmail.com\", \"sanjay.s@bridge-global.com\", \"jeremy.ravenel@cashstory.com\"], \"yaxis\": \"y\"}],                        {\"barmode\": \"relative\", \"legend\": {\"tracegroupgap\": 0}, \"margin\": {\"t\": 60}, \"template\": {\"data\": {\"bar\": [{\"error_x\": {\"color\": \"#2a3f5f\"}, \"error_y\": {\"color\": \"#2a3f5f\"}, \"marker\": {\"line\": {\"color\": \"#E5ECF6\", \"width\": 0.5}}, \"type\": \"bar\"}], \"barpolar\": [{\"marker\": {\"line\": {\"color\": \"#E5ECF6\", \"width\": 0.5}}, \"type\": \"barpolar\"}], \"carpet\": [{\"aaxis\": {\"endlinecolor\": \"#2a3f5f\", \"gridcolor\": \"white\", \"linecolor\": \"white\", \"minorgridcolor\": \"white\", \"startlinecolor\": \"#2a3f5f\"}, \"baxis\": {\"endlinecolor\": \"#2a3f5f\", \"gridcolor\": \"white\", \"linecolor\": \"white\", \"minorgridcolor\": \"white\", \"startlinecolor\": \"#2a3f5f\"}, \"type\": \"carpet\"}], \"choropleth\": [{\"colorbar\": {\"outlinewidth\": 0, \"ticks\": \"\"}, \"type\": \"choropleth\"}], \"contour\": [{\"colorbar\": {\"outlinewidth\": 0, \"ticks\": \"\"}, \"colorscale\": [[0.0, \"#0d0887\"], [0.1111111111111111, \"#46039f\"], [0.2222222222222222, \"#7201a8\"], [0.3333333333333333, \"#9c179e\"], [0.4444444444444444, \"#bd3786\"], [0.5555555555555556, \"#d8576b\"], [0.6666666666666666, \"#ed7953\"], [0.7777777777777778, \"#fb9f3a\"], [0.8888888888888888, \"#fdca26\"], [1.0, \"#f0f921\"]], \"type\": \"contour\"}], \"contourcarpet\": [{\"colorbar\": {\"outlinewidth\": 0, \"ticks\": \"\"}, \"type\": \"contourcarpet\"}], \"heatmap\": [{\"colorbar\": {\"outlinewidth\": 0, \"ticks\": \"\"}, \"colorscale\": [[0.0, \"#0d0887\"], [0.1111111111111111, \"#46039f\"], [0.2222222222222222, \"#7201a8\"], [0.3333333333333333, \"#9c179e\"], [0.4444444444444444, \"#bd3786\"], [0.5555555555555556, \"#d8576b\"], [0.6666666666666666, \"#ed7953\"], [0.7777777777777778, \"#fb9f3a\"], [0.8888888888888888, \"#fdca26\"], [1.0, \"#f0f921\"]], \"type\": \"heatmap\"}], \"heatmapgl\": [{\"colorbar\": {\"outlinewidth\": 0, \"ticks\": \"\"}, \"colorscale\": [[0.0, \"#0d0887\"], [0.1111111111111111, \"#46039f\"], [0.2222222222222222, \"#7201a8\"], [0.3333333333333333, \"#9c179e\"], [0.4444444444444444, \"#bd3786\"], [0.5555555555555556, \"#d8576b\"], [0.6666666666666666, \"#ed7953\"], [0.7777777777777778, \"#fb9f3a\"], [0.8888888888888888, \"#fdca26\"], [1.0, \"#f0f921\"]], \"type\": \"heatmapgl\"}], \"histogram\": [{\"marker\": {\"colorbar\": {\"outlinewidth\": 0, \"ticks\": \"\"}}, \"type\": \"histogram\"}], \"histogram2d\": [{\"colorbar\": {\"outlinewidth\": 0, \"ticks\": \"\"}, \"colorscale\": [[0.0, \"#0d0887\"], [0.1111111111111111, \"#46039f\"], [0.2222222222222222, \"#7201a8\"], [0.3333333333333333, \"#9c179e\"], [0.4444444444444444, \"#bd3786\"], [0.5555555555555556, \"#d8576b\"], [0.6666666666666666, \"#ed7953\"], [0.7777777777777778, \"#fb9f3a\"], [0.8888888888888888, \"#fdca26\"], [1.0, \"#f0f921\"]], \"type\": \"histogram2d\"}], \"histogram2dcontour\": [{\"colorbar\": {\"outlinewidth\": 0, \"ticks\": \"\"}, \"colorscale\": [[0.0, \"#0d0887\"], [0.1111111111111111, \"#46039f\"], [0.2222222222222222, \"#7201a8\"], [0.3333333333333333, \"#9c179e\"], [0.4444444444444444, \"#bd3786\"], [0.5555555555555556, \"#d8576b\"], [0.6666666666666666, \"#ed7953\"], [0.7777777777777778, \"#fb9f3a\"], [0.8888888888888888, \"#fdca26\"], [1.0, \"#f0f921\"]], \"type\": \"histogram2dcontour\"}], \"mesh3d\": [{\"colorbar\": {\"outlinewidth\": 0, \"ticks\": \"\"}, \"type\": \"mesh3d\"}], \"parcoords\": [{\"line\": {\"colorbar\": {\"outlinewidth\": 0, \"ticks\": \"\"}}, \"type\": \"parcoords\"}], \"pie\": [{\"automargin\": true, \"type\": \"pie\"}], \"scatter\": [{\"marker\": {\"colorbar\": {\"outlinewidth\": 0, \"ticks\": \"\"}}, \"type\": \"scatter\"}], \"scatter3d\": [{\"line\": {\"colorbar\": {\"outlinewidth\": 0, \"ticks\": \"\"}}, \"marker\": {\"colorbar\": {\"outlinewidth\": 0, \"ticks\": \"\"}}, \"type\": \"scatter3d\"}], \"scattercarpet\": [{\"marker\": {\"colorbar\": {\"outlinewidth\": 0, \"ticks\": \"\"}}, \"type\": \"scattercarpet\"}], \"scattergeo\": [{\"marker\": {\"colorbar\": {\"outlinewidth\": 0, \"ticks\": \"\"}}, \"type\": \"scattergeo\"}], \"scattergl\": [{\"marker\": {\"colorbar\": {\"outlinewidth\": 0, \"ticks\": \"\"}}, \"type\": \"scattergl\"}], \"scattermapbox\": [{\"marker\": {\"colorbar\": {\"outlinewidth\": 0, \"ticks\": \"\"}}, \"type\": \"scattermapbox\"}], \"scatterpolar\": [{\"marker\": {\"colorbar\": {\"outlinewidth\": 0, \"ticks\": \"\"}}, \"type\": \"scatterpolar\"}], \"scatterpolargl\": [{\"marker\": {\"colorbar\": {\"outlinewidth\": 0, \"ticks\": \"\"}}, \"type\": \"scatterpolargl\"}], \"scatterternary\": [{\"marker\": {\"colorbar\": {\"outlinewidth\": 0, \"ticks\": \"\"}}, \"type\": \"scatterternary\"}], \"surface\": [{\"colorbar\": {\"outlinewidth\": 0, \"ticks\": \"\"}, \"colorscale\": [[0.0, \"#0d0887\"], [0.1111111111111111, \"#46039f\"], [0.2222222222222222, \"#7201a8\"], [0.3333333333333333, \"#9c179e\"], [0.4444444444444444, \"#bd3786\"], [0.5555555555555556, \"#d8576b\"], [0.6666666666666666, \"#ed7953\"], [0.7777777777777778, \"#fb9f3a\"], [0.8888888888888888, \"#fdca26\"], [1.0, \"#f0f921\"]], \"type\": \"surface\"}], \"table\": [{\"cells\": {\"fill\": {\"color\": \"#EBF0F8\"}, \"line\": {\"color\": \"white\"}}, \"header\": {\"fill\": {\"color\": \"#C8D4E3\"}, \"line\": {\"color\": \"white\"}}, \"type\": \"table\"}]}, \"layout\": {\"annotationdefaults\": {\"arrowcolor\": \"#2a3f5f\", \"arrowhead\": 0, \"arrowwidth\": 1}, \"autotypenumbers\": \"strict\", \"coloraxis\": {\"colorbar\": {\"outlinewidth\": 0, \"ticks\": \"\"}}, \"colorscale\": {\"diverging\": [[0, \"#8e0152\"], [0.1, \"#c51b7d\"], [0.2, \"#de77ae\"], [0.3, \"#f1b6da\"], [0.4, \"#fde0ef\"], [0.5, \"#f7f7f7\"], [0.6, \"#e6f5d0\"], [0.7, \"#b8e186\"], [0.8, \"#7fbc41\"], [0.9, \"#4d9221\"], [1, \"#276419\"]], \"sequential\": [[0.0, \"#0d0887\"], [0.1111111111111111, \"#46039f\"], [0.2222222222222222, \"#7201a8\"], [0.3333333333333333, \"#9c179e\"], [0.4444444444444444, \"#bd3786\"], [0.5555555555555556, \"#d8576b\"], [0.6666666666666666, \"#ed7953\"], [0.7777777777777778, \"#fb9f3a\"], [0.8888888888888888, \"#fdca26\"], [1.0, \"#f0f921\"]], \"sequentialminus\": [[0.0, \"#0d0887\"], [0.1111111111111111, \"#46039f\"], [0.2222222222222222, \"#7201a8\"], [0.3333333333333333, \"#9c179e\"], [0.4444444444444444, \"#bd3786\"], [0.5555555555555556, \"#d8576b\"], [0.6666666666666666, \"#ed7953\"], [0.7777777777777778, \"#fb9f3a\"], [0.8888888888888888, \"#fdca26\"], [1.0, \"#f0f921\"]]}, \"colorway\": [\"#636efa\", \"#EF553B\", \"#00cc96\", \"#ab63fa\", \"#FFA15A\", \"#19d3f3\", \"#FF6692\", \"#B6E880\", \"#FF97FF\", \"#FECB52\"], \"font\": {\"color\": \"#2a3f5f\"}, \"geo\": {\"bgcolor\": \"white\", \"lakecolor\": \"white\", \"landcolor\": \"#E5ECF6\", \"showlakes\": true, \"showland\": true, \"subunitcolor\": \"white\"}, \"hoverlabel\": {\"align\": \"left\"}, \"hovermode\": \"closest\", \"mapbox\": {\"style\": \"light\"}, \"paper_bgcolor\": \"white\", \"plot_bgcolor\": \"#E5ECF6\", \"polar\": {\"angularaxis\": {\"gridcolor\": \"white\", \"linecolor\": \"white\", \"ticks\": \"\"}, \"bgcolor\": \"#E5ECF6\", \"radialaxis\": {\"gridcolor\": \"white\", \"linecolor\": \"white\", \"ticks\": \"\"}}, \"scene\": {\"xaxis\": {\"backgroundcolor\": \"#E5ECF6\", \"gridcolor\": \"white\", \"gridwidth\": 2, \"linecolor\": \"white\", \"showbackground\": true, \"ticks\": \"\", \"zerolinecolor\": \"white\"}, \"yaxis\": {\"backgroundcolor\": \"#E5ECF6\", \"gridcolor\": \"white\", \"gridwidth\": 2, \"linecolor\": \"white\", \"showbackground\": true, \"ticks\": \"\", \"zerolinecolor\": \"white\"}, \"zaxis\": {\"backgroundcolor\": \"#E5ECF6\", \"gridcolor\": \"white\", \"gridwidth\": 2, \"linecolor\": \"white\", \"showbackground\": true, \"ticks\": \"\", \"zerolinecolor\": \"white\"}}, \"shapedefaults\": {\"line\": {\"color\": \"#2a3f5f\"}}, \"ternary\": {\"aaxis\": {\"gridcolor\": \"white\", \"linecolor\": \"white\", \"ticks\": \"\"}, \"baxis\": {\"gridcolor\": \"white\", \"linecolor\": \"white\", \"ticks\": \"\"}, \"bgcolor\": \"#E5ECF6\", \"caxis\": {\"gridcolor\": \"white\", \"linecolor\": \"white\", \"ticks\": \"\"}}, \"title\": {\"x\": 0.05}, \"xaxis\": {\"automargin\": true, \"gridcolor\": \"white\", \"linecolor\": \"white\", \"ticks\": \"\", \"title\": {\"standoff\": 15}, \"zerolinecolor\": \"white\", \"zerolinewidth\": 2}, \"yaxis\": {\"automargin\": true, \"gridcolor\": \"white\", \"linecolor\": \"white\", \"ticks\": \"\", \"title\": {\"standoff\": 15}, \"zerolinecolor\": \"white\", \"zerolinewidth\": 2}}}, \"xaxis\": {\"anchor\": \"y\", \"domain\": [0.0, 1.0], \"title\": {\"text\": \"x\"}}, \"yaxis\": {\"anchor\": \"x\", \"domain\": [0.0, 1.0], \"title\": {\"text\": \"y\"}}},                        {\"responsive\": true}                    ).then(function(){\n",
       "                            \n",
       "var gd = document.getElementById('ba722e57-4be3-472f-b0bc-c31d664bea1d');\n",
       "var x = new MutationObserver(function (mutations, observer) {{\n",
       "        var display = window.getComputedStyle(gd).display;\n",
       "        if (!display || display === 'none') {{\n",
       "            console.log([gd, 'removed!']);\n",
       "            Plotly.purge(gd);\n",
       "            observer.disconnect();\n",
       "        }}\n",
       "}});\n",
       "\n",
       "// Listen for the removal of the full notebook cells\n",
       "var notebookContainer = gd.closest('#notebook-container');\n",
       "if (notebookContainer) {{\n",
       "    x.observe(notebookContainer, {childList: true});\n",
       "}}\n",
       "\n",
       "// Listen for the clearing of the current output cell\n",
       "var outputEl = gd.closest('.output');\n",
       "if (outputEl) {{\n",
       "    x.observe(outputEl, {childList: true});\n",
       "}}\n",
       "\n",
       "                        })                };                });            </script>        </div>"
      ]
     },
     "metadata": {},
     "output_type": "display_data"
    }
   ],
   "source": [
    "import plotly.express as px\n",
    "fig = px.bar(x=result['COUNT'], y=result['SENDER_EMAIL'], orientation='h')\n",
    "fig.show()"
   ]
  },
  {
   "cell_type": "markdown",
   "metadata": {},
   "source": [
    "## Deleting using uid"
   ]
  },
  {
   "cell_type": "code",
   "execution_count": 6,
   "metadata": {},
   "outputs": [
    {
     "name": "stdout",
     "output_type": "stream",
     "text": [
      "CPU times: user 5.55 ms, sys: 0 ns, total: 5.55 ms\n",
      "Wall time: 434 ms\n"
     ]
    }
   ],
   "source": [
    "%%time\n",
    "uid = [21]   #uid of mails to be deleted\n",
    "uid = map(str, uid)  \n",
    "flag = \"DELETED\"\n",
    "for i in uid:\n",
    "    attachments = emails.set_flag(i, flag, True)"
   ]
  },
  {
   "cell_type": "markdown",
   "metadata": {},
   "source": [
    "## Deleting using email id"
   ]
  },
  {
   "cell_type": "code",
   "execution_count": 7,
   "metadata": {},
   "outputs": [],
   "source": [
    "d_email = \"notifications@naas.ai\"  # email id to be deleted\n",
    "data_from = dataframe['from']\n",
    "data_uid = dataframe['uid']\n",
    "uid = []\n",
    "for i in range(len(dataframe)):\n",
    "    if data_from[i]['email'] == d_email:\n",
    "        uid.append(data_uid[i])"
   ]
  },
  {
   "cell_type": "markdown",
   "metadata": {},
   "source": [
    "## Deleting the emails"
   ]
  },
  {
   "cell_type": "code",
   "execution_count": 9,
   "metadata": {},
   "outputs": [],
   "source": [
    "for i in uid:\n",
    "    attachments = emails.set_flag(i, \"DELETED\", True)"
   ]
  },
  {
   "cell_type": "markdown",
   "metadata": {},
   "source": [
    "## Showing the upated email list"
   ]
  },
  {
   "cell_type": "code",
   "execution_count": 10,
   "metadata": {},
   "outputs": [
    {
     "data": {
      "text/html": [
       "<div>\n",
       "<style scoped>\n",
       "    .dataframe tbody tr th:only-of-type {\n",
       "        vertical-align: middle;\n",
       "    }\n",
       "\n",
       "    .dataframe tbody tr th {\n",
       "        vertical-align: top;\n",
       "    }\n",
       "\n",
       "    .dataframe thead th {\n",
       "        text-align: right;\n",
       "    }\n",
       "</style>\n",
       "<table border=\"1\" class=\"dataframe\">\n",
       "  <thead>\n",
       "    <tr style=\"text-align: right;\">\n",
       "      <th></th>\n",
       "      <th>uid</th>\n",
       "      <th>subject</th>\n",
       "      <th>from</th>\n",
       "      <th>to</th>\n",
       "      <th>cc</th>\n",
       "      <th>bcc</th>\n",
       "      <th>reply_to</th>\n",
       "      <th>date</th>\n",
       "      <th>text</th>\n",
       "      <th>html</th>\n",
       "      <th>flags</th>\n",
       "      <th>headers</th>\n",
       "      <th>size_rfc822</th>\n",
       "      <th>size</th>\n",
       "      <th>obj</th>\n",
       "      <th>attachments</th>\n",
       "    </tr>\n",
       "  </thead>\n",
       "  <tbody>\n",
       "    <tr>\n",
       "      <th>0</th>\n",
       "      <td>32</td>\n",
       "      <td>Test</td>\n",
       "      <td>{'email': 'ajaysabu007@gmail.com', 'name': 'Or...</td>\n",
       "      <td>[{'email': 'naas.sanjay22@gmail.com', 'name': ...</td>\n",
       "      <td>[]</td>\n",
       "      <td>[]</td>\n",
       "      <td>[]</td>\n",
       "      <td>2020-12-24 15:15:12+05:30</td>\n",
       "      <td>Test mail\\r\\n</td>\n",
       "      <td>&lt;div dir=\"auto\"&gt;Test mail&lt;/div&gt;\\r\\n</td>\n",
       "      <td>()</td>\n",
       "      <td>{'Content-Type': ('multipart/alternative; boun...</td>\n",
       "      <td>4718</td>\n",
       "      <td>4648</td>\n",
       "      <td>[Delivered-To, Received, X-Received, ARC-Seal,...</td>\n",
       "      <td>0</td>\n",
       "    </tr>\n",
       "    <tr>\n",
       "      <th>1</th>\n",
       "      <td>31</td>\n",
       "      <td>Test mail</td>\n",
       "      <td>{'email': 'dorissabu111@gmail.com', 'name': 'D...</td>\n",
       "      <td>[{'email': 'naas.sanjay22@gmail.com', 'name': ...</td>\n",
       "      <td>[]</td>\n",
       "      <td>[]</td>\n",
       "      <td>[]</td>\n",
       "      <td>2020-12-24 15:14:42+05:30</td>\n",
       "      <td>Test mail received\\r\\n</td>\n",
       "      <td>&lt;div dir=\"auto\"&gt;Test mail received&lt;/div&gt;\\r\\n</td>\n",
       "      <td>()</td>\n",
       "      <td>{'Content-Type': ('multipart/alternative; boun...</td>\n",
       "      <td>4755</td>\n",
       "      <td>4685</td>\n",
       "      <td>[Delivered-To, Received, X-Received, ARC-Seal,...</td>\n",
       "      <td>0</td>\n",
       "    </tr>\n",
       "    <tr>\n",
       "      <th>2</th>\n",
       "      <td>30</td>\n",
       "      <td>Test mail</td>\n",
       "      <td>{'email': 'sanjay.s@bridge-global.com', 'name'...</td>\n",
       "      <td>[{'email': 'naas.sanjay22@gmail.com', 'name': ...</td>\n",
       "      <td>[]</td>\n",
       "      <td>[]</td>\n",
       "      <td>[]</td>\n",
       "      <td>2020-12-24 15:12:05+05:30</td>\n",
       "      <td>This is a test mail\\r\\n-- \\r\\nBest Regards,\\r\\...</td>\n",
       "      <td>&lt;div dir=\"ltr\"&gt;&lt;br clear=\"all\"&gt;&lt;div&gt;This is a ...</td>\n",
       "      <td>()</td>\n",
       "      <td>{'Content-Type': ('multipart/alternative; boun...</td>\n",
       "      <td>7070</td>\n",
       "      <td>6969</td>\n",
       "      <td>[Delivered-To, Received, X-Received, ARC-Seal,...</td>\n",
       "      <td>0</td>\n",
       "    </tr>\n",
       "    <tr>\n",
       "      <th>3</th>\n",
       "      <td>29</td>\n",
       "      <td>Test mail</td>\n",
       "      <td>{'email': 'sanjaysabu4205@gmail.com', 'name': ...</td>\n",
       "      <td>[{'email': 'naas.sanjay22@gmail.com', 'name': ...</td>\n",
       "      <td>[]</td>\n",
       "      <td>[]</td>\n",
       "      <td>[]</td>\n",
       "      <td>2020-12-24 15:11:49+05:30</td>\n",
       "      <td>This is a test mail\\r\\n</td>\n",
       "      <td>&lt;div dir=\"ltr\"&gt;This is a test mail&lt;/div&gt;\\r\\n</td>\n",
       "      <td>()</td>\n",
       "      <td>{'Content-Type': ('multipart/alternative; boun...</td>\n",
       "      <td>4779</td>\n",
       "      <td>4709</td>\n",
       "      <td>[Delivered-To, Received, X-Received, ARC-Seal,...</td>\n",
       "      <td>0</td>\n",
       "    </tr>\n",
       "    <tr>\n",
       "      <th>4</th>\n",
       "      <td>22</td>\n",
       "      <td>Another test mail</td>\n",
       "      <td>{'email': 'sanjaysabu4205@gmail.com', 'name': ...</td>\n",
       "      <td>[{'email': 'naas.sanjay22@gmail.com', 'name': ...</td>\n",
       "      <td>[]</td>\n",
       "      <td>[]</td>\n",
       "      <td>[]</td>\n",
       "      <td>2020-12-17 11:54:36+05:30</td>\n",
       "      <td>This is another test mail\\r\\n</td>\n",
       "      <td>&lt;div dir=\"ltr\"&gt;This is another test mail&lt;/div&gt;...</td>\n",
       "      <td>(SEEN,)</td>\n",
       "      <td>{'Content-Type': ('multipart/alternative; boun...</td>\n",
       "      <td>4795</td>\n",
       "      <td>4725</td>\n",
       "      <td>[Delivered-To, Received, X-Received, ARC-Seal,...</td>\n",
       "      <td>0</td>\n",
       "    </tr>\n",
       "    <tr>\n",
       "      <th>5</th>\n",
       "      <td>16</td>\n",
       "      <td>Please send sales report?</td>\n",
       "      <td>{'email': 'jeremy.ravenel@cashstory.com', 'nam...</td>\n",
       "      <td>[{'email': 'naas.sanjay22@gmail.com', 'name': ...</td>\n",
       "      <td>[]</td>\n",
       "      <td>[]</td>\n",
       "      <td>[]</td>\n",
       "      <td>2020-12-15 10:56:37+01:00</td>\n",
       "      <td>Could you please send sales report man?\\r\\n\\r\\...</td>\n",
       "      <td>&lt;div dir=\"ltr\"&gt;&lt;div class=\"gmail_default\" styl...</td>\n",
       "      <td>(SEEN,)</td>\n",
       "      <td>{'Content-Type': ('multipart/alternative; boun...</td>\n",
       "      <td>6050</td>\n",
       "      <td>5962</td>\n",
       "      <td>[Delivered-To, Received, X-Received, ARC-Seal,...</td>\n",
       "      <td>0</td>\n",
       "    </tr>\n",
       "  </tbody>\n",
       "</table>\n",
       "</div>"
      ],
      "text/plain": [
       "  uid                    subject  \\\n",
       "0  32                       Test   \n",
       "1  31                  Test mail   \n",
       "2  30                  Test mail   \n",
       "3  29                  Test mail   \n",
       "4  22          Another test mail   \n",
       "5  16  Please send sales report?   \n",
       "\n",
       "                                                from  \\\n",
       "0  {'email': 'ajaysabu007@gmail.com', 'name': 'Or...   \n",
       "1  {'email': 'dorissabu111@gmail.com', 'name': 'D...   \n",
       "2  {'email': 'sanjay.s@bridge-global.com', 'name'...   \n",
       "3  {'email': 'sanjaysabu4205@gmail.com', 'name': ...   \n",
       "4  {'email': 'sanjaysabu4205@gmail.com', 'name': ...   \n",
       "5  {'email': 'jeremy.ravenel@cashstory.com', 'nam...   \n",
       "\n",
       "                                                  to  cc bcc reply_to  \\\n",
       "0  [{'email': 'naas.sanjay22@gmail.com', 'name': ...  []  []       []   \n",
       "1  [{'email': 'naas.sanjay22@gmail.com', 'name': ...  []  []       []   \n",
       "2  [{'email': 'naas.sanjay22@gmail.com', 'name': ...  []  []       []   \n",
       "3  [{'email': 'naas.sanjay22@gmail.com', 'name': ...  []  []       []   \n",
       "4  [{'email': 'naas.sanjay22@gmail.com', 'name': ...  []  []       []   \n",
       "5  [{'email': 'naas.sanjay22@gmail.com', 'name': ...  []  []       []   \n",
       "\n",
       "                        date  \\\n",
       "0  2020-12-24 15:15:12+05:30   \n",
       "1  2020-12-24 15:14:42+05:30   \n",
       "2  2020-12-24 15:12:05+05:30   \n",
       "3  2020-12-24 15:11:49+05:30   \n",
       "4  2020-12-17 11:54:36+05:30   \n",
       "5  2020-12-15 10:56:37+01:00   \n",
       "\n",
       "                                                text  \\\n",
       "0                                      Test mail\\r\\n   \n",
       "1                             Test mail received\\r\\n   \n",
       "2  This is a test mail\\r\\n-- \\r\\nBest Regards,\\r\\...   \n",
       "3                            This is a test mail\\r\\n   \n",
       "4                      This is another test mail\\r\\n   \n",
       "5  Could you please send sales report man?\\r\\n\\r\\...   \n",
       "\n",
       "                                                html    flags  \\\n",
       "0                <div dir=\"auto\">Test mail</div>\\r\\n       ()   \n",
       "1       <div dir=\"auto\">Test mail received</div>\\r\\n       ()   \n",
       "2  <div dir=\"ltr\"><br clear=\"all\"><div>This is a ...       ()   \n",
       "3       <div dir=\"ltr\">This is a test mail</div>\\r\\n       ()   \n",
       "4  <div dir=\"ltr\">This is another test mail</div>...  (SEEN,)   \n",
       "5  <div dir=\"ltr\"><div class=\"gmail_default\" styl...  (SEEN,)   \n",
       "\n",
       "                                             headers  size_rfc822  size  \\\n",
       "0  {'Content-Type': ('multipart/alternative; boun...         4718  4648   \n",
       "1  {'Content-Type': ('multipart/alternative; boun...         4755  4685   \n",
       "2  {'Content-Type': ('multipart/alternative; boun...         7070  6969   \n",
       "3  {'Content-Type': ('multipart/alternative; boun...         4779  4709   \n",
       "4  {'Content-Type': ('multipart/alternative; boun...         4795  4725   \n",
       "5  {'Content-Type': ('multipart/alternative; boun...         6050  5962   \n",
       "\n",
       "                                                 obj  attachments  \n",
       "0  [Delivered-To, Received, X-Received, ARC-Seal,...            0  \n",
       "1  [Delivered-To, Received, X-Received, ARC-Seal,...            0  \n",
       "2  [Delivered-To, Received, X-Received, ARC-Seal,...            0  \n",
       "3  [Delivered-To, Received, X-Received, ARC-Seal,...            0  \n",
       "4  [Delivered-To, Received, X-Received, ARC-Seal,...            0  \n",
       "5  [Delivered-To, Received, X-Received, ARC-Seal,...            0  "
      ]
     },
     "execution_count": 10,
     "metadata": {},
     "output_type": "execute_result"
    }
   ],
   "source": [
    "dataframe = emails.get(criteria=\"ALL\")\n",
    "dataframe"
   ]
  }
 ],
 "metadata": {
  "kernelspec": {
   "display_name": "Python 3",
   "language": "python",
   "name": "python3"
  },
  "language_info": {
   "codemirror_mode": {
    "name": "ipython",
    "version": 3
   },
   "file_extension": ".py",
   "mimetype": "text/x-python",
   "name": "python",
   "nbconvert_exporter": "python",
   "pygments_lexer": "ipython3",
   "version": "3.8.6"
  }
 },
 "nbformat": 4,
 "nbformat_minor": 4
}
