{
 "cells": [
  {
   "cell_type": "markdown",
   "id": "color-electric",
   "metadata": {
    "execution": {
     "iopub.execute_input": "2021-02-23T07:25:55.665867Z",
     "iopub.status.busy": "2021-02-23T07:25:55.665598Z",
     "iopub.status.idle": "2021-02-23T07:25:55.670756Z",
     "shell.execute_reply": "2021-02-23T07:25:55.670230Z",
     "shell.execute_reply.started": "2021-02-23T07:25:55.665804Z"
    }
   },
   "source": [
    "<img width=\"10%\" alt=\"Naas\" src=\"https://landen.imgix.net/jtci2pxwjczr/assets/5ice39g4.png?w=160\"/>\n",
    "\n",
    "# Jupyter - Get user information"
   ]
  },
  {
   "cell_type": "code",
   "execution_count": 3,
   "id": "critical-neutral",
   "metadata": {
    "execution": {
     "iopub.execute_input": "2021-02-23T08:33:08.032009Z",
     "iopub.status.busy": "2021-02-23T08:33:08.031779Z",
     "iopub.status.idle": "2021-02-23T08:33:09.449526Z",
     "shell.execute_reply": "2021-02-23T08:33:09.448473Z",
     "shell.execute_reply.started": "2021-02-23T08:33:08.031986Z"
    }
   },
   "outputs": [],
   "source": [
    "import naas_drivers\n",
    "token = \"*********\"\n",
    "jp = naas_drivers.jupyter.connect(token)"
   ]
  },
  {
   "cell_type": "code",
   "execution_count": null,
   "id": "imported-muslim",
   "metadata": {},
   "outputs": [],
   "source": [
    "me = jp.get_me()\n",
    "me"
   ]
  },
  {
   "cell_type": "code",
   "execution_count": null,
   "id": "attempted-submission",
   "metadata": {
    "execution": {
     "iopub.status.busy": "2021-02-23T08:33:09.550078Z",
     "iopub.status.idle": "2021-02-23T08:33:09.550556Z",
     "shell.execute_reply": "2021-02-23T08:33:09.550373Z"
    }
   },
   "outputs": [],
   "source": [
    "uptime = jp.get_me_uptime()\n",
    "uptime"
   ]
  }
 ],
 "metadata": {
  "kernelspec": {
   "display_name": "Python 3",
   "language": "python",
   "name": "python3"
  },
  "language_info": {
   "codemirror_mode": {
    "name": "ipython",
    "version": 3
   },
   "file_extension": ".py",
   "mimetype": "text/x-python",
   "name": "python",
   "nbconvert_exporter": "python",
   "pygments_lexer": "ipython3",
   "version": "3.8.6"
  }
 },
 "nbformat": 4,
 "nbformat_minor": 5
}
