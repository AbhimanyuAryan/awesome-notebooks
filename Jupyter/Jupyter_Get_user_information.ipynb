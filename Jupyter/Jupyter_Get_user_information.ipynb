{
 "cells": [
  {
   "cell_type": "markdown",
   "id": "color-electric",
   "metadata": {
    "execution": {
     "iopub.execute_input": "2021-02-23T07:25:55.665867Z",
     "iopub.status.busy": "2021-02-23T07:25:55.665598Z",
     "iopub.status.idle": "2021-02-23T07:25:55.670756Z",
     "shell.execute_reply": "2021-02-23T07:25:55.670230Z",
     "shell.execute_reply.started": "2021-02-23T07:25:55.665804Z"
    },
    "papermill": {},
    "tags": []
   },
   "source": [
    "<img width=\"10%\" alt=\"Naas\" src=\"https://landen.imgix.net/jtci2pxwjczr/assets/5ice39g4.png?w=160\"/>\n",
    "\n",
    "# Jupyter - Get user information\n",
    "[<button class=\"lm-Widget p-Widget jupyter-widgets jupyter-button widget-button mod-primary\">Open in Naas</button>](https://app.naas.ai/user-redirect/naas/downloader?url=https://raw.githubusercontent.com/jupyter-naas/awesome-notebooks/master/Jupyter/Jupyter_Get_user_information.ipynb)"
   ]
  },
  {
   "cell_type": "code",
   "execution_count": 3,
   "id": "critical-neutral",
   "metadata": {
    "execution": {
     "iopub.execute_input": "2021-02-23T08:33:08.032009Z",
     "iopub.status.busy": "2021-02-23T08:33:08.031779Z",
     "iopub.status.idle": "2021-02-23T08:33:09.449526Z",
     "shell.execute_reply": "2021-02-23T08:33:09.448473Z",
     "shell.execute_reply.started": "2021-02-23T08:33:08.031986Z"
    },
    "papermill": {},
    "tags": []
   },
   "outputs": [],
   "source": [
    "import naas_drivers\n",
    "token = \"*********\"\n",
    "jp = naas_drivers.jupyter.connect(token)"
   ]
  },
  {
   "cell_type": "code",
   "execution_count": null,
   "id": "imported-muslim",
   "metadata": {
    "papermill": {},
    "tags": []
   },
   "outputs": [],
   "source": [
    "me = jp.get_me()\n",
    "me"
   ]
  },
  {
   "cell_type": "code",
   "execution_count": null,
   "id": "attempted-submission",
   "metadata": {
    "execution": {
     "iopub.status.busy": "2021-02-23T08:33:09.550078Z",
     "iopub.status.idle": "2021-02-23T08:33:09.550556Z",
     "shell.execute_reply": "2021-02-23T08:33:09.550373Z"
    },
    "papermill": {},
    "tags": []
   },
   "outputs": [],
   "source": [
    "uptime = jp.get_me_uptime()\n",
    "uptime"
   ]
  }
 ],
 "metadata": {
  "kernelspec": {
   "display_name": "Python 3",
   "language": "python",
   "name": "python3"
  },
  "language_info": {
   "codemirror_mode": {
    "name": "ipython",
    "version": 3
   },
   "file_extension": ".py",
   "mimetype": "text/x-python",
   "name": "python",
   "nbconvert_exporter": "python",
   "pygments_lexer": "ipython3",
   "version": "3.8.6"
  },
  "papermill": {
   "default_parameters": {},
   "environment_variables": {},
   "parameters": {},
   "version": "2.3.3"
  }
 },
 "nbformat": 4,
 "nbformat_minor": 5
}