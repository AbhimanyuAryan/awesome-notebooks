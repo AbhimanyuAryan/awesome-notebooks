{
 "cells": [
  {
   "cell_type": "markdown",
   "id": "rocky-search",
   "metadata": {
    "execution": {
     "iopub.execute_input": "2021-02-23T14:07:40.156540Z",
     "iopub.status.busy": "2021-02-23T14:07:40.156186Z",
     "iopub.status.idle": "2021-02-23T14:07:40.169288Z",
     "shell.execute_reply": "2021-02-23T14:07:40.168472Z",
     "shell.execute_reply.started": "2021-02-23T14:07:40.156456Z"
    }
   },
   "source": [
    "<img width=\"10%\" alt=\"Naas\" src=\"https://landen.imgix.net/jtci2pxwjczr/assets/5ice39g4.png?w=160\"/>"
   ]
  },
  {
   "cell_type": "markdown",
   "id": "contemporary-nickname",
   "metadata": {},
   "source": [
    "# Alpha Vantage - Get fundamental data"
   ]
  },
  {
   "cell_type": "markdown",
   "id": "martial-union",
   "metadata": {
    "execution": {
     "iopub.execute_input": "2021-02-23T14:11:21.153305Z",
     "iopub.status.busy": "2021-02-23T14:11:21.153078Z",
     "iopub.status.idle": "2021-02-23T14:11:21.157581Z",
     "shell.execute_reply": "2021-02-23T14:11:21.157084Z",
     "shell.execute_reply.started": "2021-02-23T14:11:21.153281Z"
    }
   },
   "source": [
    "## Company overview"
   ]
  },
  {
   "cell_type": "code",
   "execution_count": null,
   "id": "occasional-freight",
   "metadata": {},
   "outputs": [],
   "source": [
    "import requests\n",
    "import pandas as pd\n",
    "\n",
    "response = requests.get('https://www.alphavantage.co/query?function=OVERVIEW&symbol=IBM&apikey=demo')\n",
    "data = response.json()\n",
    "data"
   ]
  },
  {
   "cell_type": "markdown",
   "id": "protected-neighbor",
   "metadata": {},
   "source": [
    "## Income statement "
   ]
  },
  {
   "cell_type": "code",
   "execution_count": null,
   "id": "extreme-programmer",
   "metadata": {},
   "outputs": [],
   "source": [
    "import requests\n",
    "\n",
    "response = requests.get('https://www.alphavantage.co/query?function=INCOME_STATEMENT&symbol=IBM&apikey=demo')\n",
    "data = response.json()\n",
    "data"
   ]
  },
  {
   "cell_type": "markdown",
   "id": "unnecessary-official",
   "metadata": {},
   "source": [
    "## Balance sheet "
   ]
  },
  {
   "cell_type": "code",
   "execution_count": null,
   "id": "photographic-times",
   "metadata": {},
   "outputs": [],
   "source": [
    "import requests\n",
    "\n",
    "response = requests.get('https://www.alphavantage.co/query?function=BALANCE_SHEET&symbol=IBM&apikey=demo')\n",
    "\n",
    "data = response.json()\n",
    "data"
   ]
  },
  {
   "cell_type": "markdown",
   "id": "tough-movement",
   "metadata": {},
   "source": [
    "## Cashflow statement"
   ]
  },
  {
   "cell_type": "code",
   "execution_count": null,
   "id": "oriented-providence",
   "metadata": {},
   "outputs": [],
   "source": [
    "import requests\n",
    "\n",
    "response = requests.get('https://www.alphavantage.co/query?function=CASH_FLOW&symbol=IBM&apikey=demo')\n",
    "\n",
    "data = response.json()\n",
    "data"
   ]
  }
 ],
 "metadata": {
  "kernelspec": {
   "display_name": "Python 3",
   "language": "python",
   "name": "python3"
  },
  "language_info": {
   "codemirror_mode": {
    "name": "ipython",
    "version": 3
   },
   "file_extension": ".py",
   "mimetype": "text/x-python",
   "name": "python",
   "nbconvert_exporter": "python",
   "pygments_lexer": "ipython3",
   "version": "3.8.6"
  }
 },
 "nbformat": 4,
 "nbformat_minor": 5
}
