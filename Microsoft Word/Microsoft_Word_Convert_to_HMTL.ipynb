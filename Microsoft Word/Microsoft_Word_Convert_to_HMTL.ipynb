{
 "cells": [
  {
   "cell_type": "markdown",
   "id": "colonial-commerce",
   "metadata": {
    "papermill": {},
    "tags": []
   },
   "source": [
    "<img width=\"10%\" alt=\"Naas\" src=\"https://landen.imgix.net/jtci2pxwjczr/assets/5ice39g4.png?w=160\"/>"
   ]
  },
  {
   "cell_type": "markdown",
   "id": "essential-nylon",
   "metadata": {
    "papermill": {},
    "tags": []
   },
   "source": [
    "# Microsoft Word - Convert to html\n",
    "[<button class=\"lm-Widget p-Widget jupyter-widgets jupyter-button widget-button mod-primary\">Open in Naas</button>](https://app.naas.ai/user-redirect/naas/downloader?url=https://raw.githubusercontent.com/jupyter-naas/awesome-notebooks/master/Microsoft%20Word/Microsoft_Word_Convert_to_HMTL.ipynb)"
   ]
  },
  {
   "cell_type": "markdown",
   "id": "antique-dividend",
   "metadata": {
    "papermill": {},
    "tags": []
   },
   "source": [
    "## Installing necessary packages"
   ]
  },
  {
   "cell_type": "code",
   "execution_count": 1,
   "id": "filled-clone",
   "metadata": {
    "papermill": {},
    "tags": []
   },
   "outputs": [],
   "source": [
    "# pip install mammoth"
   ]
  },
  {
   "cell_type": "markdown",
   "id": "complicated-blocking",
   "metadata": {
    "papermill": {},
    "tags": []
   },
   "source": [
    "## Reading file and converting"
   ]
  },
  {
   "cell_type": "code",
   "execution_count": 2,
   "id": "minor-upgrade",
   "metadata": {
    "papermill": {},
    "tags": []
   },
   "outputs": [],
   "source": [
    "import mammoth\n",
    "\n",
    "with open(\"naas.docx\", \"rb\") as docx_file:\n",
    "    result = mammoth.convert_to_html(docx_file)\n",
    "    html = result.value # The generated HTML\n",
    "    messages = result.messages # Any messages, such as warnings during conversion"
   ]
  },
  {
   "cell_type": "markdown",
   "id": "black-diploma",
   "metadata": {
    "papermill": {},
    "tags": []
   },
   "source": [
    "## Converted"
   ]
  },
  {
   "cell_type": "code",
   "execution_count": 4,
   "id": "located-criterion",
   "metadata": {
    "papermill": {},
    "tags": []
   },
   "outputs": [
    {
     "data": {
      "text/plain": [
       "'<p>Hai</p><p>How are you</p>'"
      ]
     },
     "execution_count": 4,
     "metadata": {},
     "output_type": "execute_result"
    }
   ],
   "source": [
    "html"
   ]
  }
 ],
 "metadata": {
  "kernelspec": {
   "display_name": "Python 3",
   "language": "python",
   "name": "python3"
  },
  "language_info": {
   "codemirror_mode": {
    "name": "ipython",
    "version": 3
   },
   "file_extension": ".py",
   "mimetype": "text/x-python",
   "name": "python",
   "nbconvert_exporter": "python",
   "pygments_lexer": "ipython3",
   "version": "3.8.6"
  },
  "papermill": {
   "default_parameters": {},
   "environment_variables": {},
   "parameters": {},
   "version": "2.3.3"
  }
 },
 "nbformat": 4,
 "nbformat_minor": 5
}