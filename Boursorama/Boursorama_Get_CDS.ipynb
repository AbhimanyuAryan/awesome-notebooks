{
 "cells": [
  {
   "cell_type": "markdown",
   "id": "first-equity",
   "metadata": {
    "papermill": {},
    "tags": []
   },
   "source": [
    "<img width=\"10%\" alt=\"Naas\" src=\"https://landen.imgix.net/jtci2pxwjczr/assets/5ice39g4.png?w=160\"/>"
   ]
  },
  {
   "cell_type": "markdown",
   "id": "demanding-finland",
   "metadata": {
    "papermill": {},
    "tags": []
   },
   "source": [
    "# Boursorama - Get CDS\n",
    "<a href=\"https://app.naas.ai/user-redirect/naas/downloader?url=https://raw.githubusercontent.com/jupyter-naas/awesome-notebooks/master/Boursorama/Boursorama_Get_CDS.ipynb\" target=\"_parent\"><img src=\"https://img.shields.io/badge/-Open%20in%20Naas-success?labelColor=000000&logo=data:image/svg+xml;base64,PD94bWwgdmVyc2lvbj0iMS4wIiBlbmNvZGluZz0iVVRGLTgiPz4KPHN2ZyB3aWR0aD0iMTAyNHB4IiBoZWlnaHQ9IjEwMjRweCIgdmlld0JveD0iMCAwIDEwMjQgMTAyNCIgeG1sbnM9Imh0dHA6Ly93d3cudzMub3JnLzIwMDAvc3ZnIiB4bWxuczp4bGluaz0iaHR0cDovL3d3dy53My5vcmcvMTk5OS94bGluayIgdmVyc2lvbj0iMS4xIj4KIDwhLS0gR2VuZXJhdGVkIGJ5IFBpeGVsbWF0b3IgUHJvIDIuMC41IC0tPgogPGRlZnM+CiAgPHRleHQgaWQ9InN0cmluZyIgdHJhbnNmb3JtPSJtYXRyaXgoMS4wIDAuMCAwLjAgMS4wIDIyOC4wIDU0LjUpIiBmb250LWZhbWlseT0iQ29tZm9ydGFhLVJlZ3VsYXIsIENvbWZvcnRhYSIgZm9udC1zaXplPSI4MDAiIHRleHQtZGVjb3JhdGlvbj0ibm9uZSIgZmlsbD0iI2ZmZmZmZiIgeD0iMS4xOTk5OTk5OTk5OTk5ODg2IiB5PSI3MDUuMCI+bjwvdGV4dD4KIDwvZGVmcz4KIDx1c2UgaWQ9Im4iIHhsaW5rOmhyZWY9IiNzdHJpbmciLz4KPC9zdmc+Cg==\"/></a>"
   ]
  },
  {
   "cell_type": "markdown",
   "id": "listed-vehicle",
   "metadata": {
    "papermill": {},
    "tags": []
   },
   "source": [
    "A credit default swap (CDS) is a financial derivative or contract that allows an investor to \"swap\" or offset his or her credit risk with that of another investor. For example, if a lender is worried that a borrower is going to default on a loan, the lender could use a CDS to offset or swap that risk.<br>\n",
    "To access the CDS table from https://www.boursorama.com/bourse/taux/cds/ we will use Pandas and its read_html function."
   ]
  },
  {
   "cell_type": "markdown",
   "id": "functioning-honor",
   "metadata": {
    "papermill": {},
    "tags": []
   },
   "source": [
    "## Get the CDS from URL "
   ]
  },
  {
   "cell_type": "code",
   "execution_count": 2,
   "id": "general-arrow",
   "metadata": {
    "execution": {
     "iopub.execute_input": "2021-05-09T16:37:57.346506Z",
     "iopub.status.busy": "2021-05-09T16:37:57.346231Z",
     "iopub.status.idle": "2021-05-09T16:37:57.628589Z",
     "shell.execute_reply": "2021-05-09T16:37:57.627926Z",
     "shell.execute_reply.started": "2021-05-09T16:37:57.346479Z"
    },
    "papermill": {},
    "tags": []
   },
   "outputs": [],
   "source": [
    "import pandas as pd\n",
    "\n",
    "# url of the page where the table to extract is\n",
    "url = \"https://www.boursorama.com/bourse/taux/cds/\"\n",
    "\n",
    "dfs = pd.read_html(url)\n",
    "df = dfs[0]\n",
    "\n",
    "df"
   ]
  },
  {
   "cell_type": "markdown",
   "id": "mathematical-balloon",
   "metadata": {
    "papermill": {},
    "tags": []
   },
   "source": [
    "## Save as csv"
   ]
  },
  {
   "cell_type": "code",
   "execution_count": 2,
   "id": "flush-mounting",
   "metadata": {
    "papermill": {},
    "tags": []
   },
   "outputs": [],
   "source": [
    "df.to_excel(r'Get_CDS.csv', index = False)"
   ]
  }
 ],
 "metadata": {
  "kernelspec": {
   "display_name": "Python 3",
   "language": "python",
   "name": "python3"
  },
  "language_info": {
   "codemirror_mode": {
    "name": "ipython",
    "version": 3
   },
   "file_extension": ".py",
   "mimetype": "text/x-python",
   "name": "python",
   "nbconvert_exporter": "python",
   "pygments_lexer": "ipython3",
   "version": "3.8.8"
  },
  "papermill": {
   "default_parameters": {},
   "environment_variables": {},
   "parameters": {},
   "version": "2.3.3"
  },
  "widgets": {
   "application/vnd.jupyter.widget-state+json": {
    "state": {},
    "version_major": 2,
    "version_minor": 0
   }
  }
 },
 "nbformat": 4,
 "nbformat_minor": 5
}