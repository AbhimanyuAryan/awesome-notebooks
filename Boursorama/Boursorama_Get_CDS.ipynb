{
 "cells": [
  {
   "cell_type": "markdown",
   "metadata": {},
   "source": [
    "<img width=\"10%\" alt=\"Naas\" src=\"https://landen.imgix.net/jtci2pxwjczr/assets/5ice39g4.png?w=160\"/>"
   ]
  },
  {
   "cell_type": "markdown",
   "metadata": {},
   "source": [
    "# Boursorama - Get Credit Default Swap"
   ]
  },
  {
   "cell_type": "markdown",
   "metadata": {},
   "source": [
    "A credit default swap (CDS) is a financial derivative or contract that allows an investor to \"swap\" or offset his or her credit risk with that of another investor. For example, if a lender is worried that a borrower is going to default on a loan, the lender could use a CDS to offset or swap that risk.<br>\n",
    "To access the CDS table from https://www.boursorama.com/bourse/taux/cds/ we will use Pandas and its read_html function."
   ]
  },
  {
   "cell_type": "markdown",
   "metadata": {},
   "source": [
    "## Get the CDS from URL "
   ]
  },
  {
   "cell_type": "code",
   "execution_count": 2,
   "metadata": {
    "execution": {
     "iopub.execute_input": "2021-05-09T16:37:57.346506Z",
     "iopub.status.busy": "2021-05-09T16:37:57.346231Z",
     "iopub.status.idle": "2021-05-09T16:37:57.628589Z",
     "shell.execute_reply": "2021-05-09T16:37:57.627926Z",
     "shell.execute_reply.started": "2021-05-09T16:37:57.346479Z"
    },
    "tags": []
   },
   "outputs": [
    {
     "data": {
      "text/html": [
       "<div>\n",
       "<style scoped>\n",
       "    .dataframe tbody tr th:only-of-type {\n",
       "        vertical-align: middle;\n",
       "    }\n",
       "\n",
       "    .dataframe tbody tr th {\n",
       "        vertical-align: top;\n",
       "    }\n",
       "\n",
       "    .dataframe thead th {\n",
       "        text-align: right;\n",
       "    }\n",
       "</style>\n",
       "<table border=\"1\" class=\"dataframe\">\n",
       "  <thead>\n",
       "    <tr style=\"text-align: right;\">\n",
       "      <th></th>\n",
       "      <th>libellé</th>\n",
       "      <th>dernier</th>\n",
       "      <th>var.</th>\n",
       "      <th>Veille</th>\n",
       "      <th>var / 1sem</th>\n",
       "      <th>var / 1mois</th>\n",
       "      <th>Emetteur</th>\n",
       "    </tr>\n",
       "  </thead>\n",
       "  <tbody>\n",
       "    <tr>\n",
       "      <th>0</th>\n",
       "      <td>CDS-5A SUEDE</td>\n",
       "      <td>9.0</td>\n",
       "      <td>-50.0 BP</td>\n",
       "      <td>9.5</td>\n",
       "      <td>-10.0 BP</td>\n",
       "      <td>+20.0 BP</td>\n",
       "      <td>Emetteur</td>\n",
       "    </tr>\n",
       "    <tr>\n",
       "      <th>1</th>\n",
       "      <td>CDS-5A PAYS-BAS</td>\n",
       "      <td>9.8</td>\n",
       "      <td>+10.0 BP</td>\n",
       "      <td>9.7</td>\n",
       "      <td>0.0 BP</td>\n",
       "      <td>+10.0 BP</td>\n",
       "      <td>Emetteur</td>\n",
       "    </tr>\n",
       "    <tr>\n",
       "      <th>2</th>\n",
       "      <td>CDS-5A NORVEGE</td>\n",
       "      <td>10.3</td>\n",
       "      <td>0.0 BP</td>\n",
       "      <td>10.3</td>\n",
       "      <td>0.0 BP</td>\n",
       "      <td>-20.0 BP</td>\n",
       "      <td>Emetteur</td>\n",
       "    </tr>\n",
       "    <tr>\n",
       "      <th>3</th>\n",
       "      <td>CDS-5A ALLEMAGNE</td>\n",
       "      <td>10.5</td>\n",
       "      <td>-10.0 BP</td>\n",
       "      <td>10.6</td>\n",
       "      <td>0.0 BP</td>\n",
       "      <td>+30.0 BP</td>\n",
       "      <td>Emetteur</td>\n",
       "    </tr>\n",
       "    <tr>\n",
       "      <th>4</th>\n",
       "      <td>CDS-5A ROYAUME-UNI</td>\n",
       "      <td>12.0</td>\n",
       "      <td>-20.0 BP</td>\n",
       "      <td>12.2</td>\n",
       "      <td>-50.0 BP</td>\n",
       "      <td>-90.0 BP</td>\n",
       "      <td>Emetteur</td>\n",
       "    </tr>\n",
       "    <tr>\n",
       "      <th>5</th>\n",
       "      <td>CDS-5A BELGIQUE</td>\n",
       "      <td>12.5</td>\n",
       "      <td>0.0 BP</td>\n",
       "      <td>12.5</td>\n",
       "      <td>-60.0 BP</td>\n",
       "      <td>+120.0 BP</td>\n",
       "      <td>Emetteur</td>\n",
       "    </tr>\n",
       "    <tr>\n",
       "      <th>6</th>\n",
       "      <td>CDS-5A IRLANDE</td>\n",
       "      <td>14.9</td>\n",
       "      <td>+10.0 BP</td>\n",
       "      <td>14.8</td>\n",
       "      <td>-20.0 BP</td>\n",
       "      <td>+50.0 BP</td>\n",
       "      <td>Emetteur</td>\n",
       "    </tr>\n",
       "    <tr>\n",
       "      <th>7</th>\n",
       "      <td>CDS-5A FRANCE</td>\n",
       "      <td>23.6</td>\n",
       "      <td>+60.0 BP</td>\n",
       "      <td>23.0</td>\n",
       "      <td>+120.0 BP</td>\n",
       "      <td>+540.0 BP</td>\n",
       "      <td>Emetteur</td>\n",
       "    </tr>\n",
       "    <tr>\n",
       "      <th>8</th>\n",
       "      <td>CDS-5A PORTUGAL</td>\n",
       "      <td>32.1</td>\n",
       "      <td>+70.0 BP</td>\n",
       "      <td>31.4</td>\n",
       "      <td>+110.0 BP</td>\n",
       "      <td>+210.0 BP</td>\n",
       "      <td>Emetteur</td>\n",
       "    </tr>\n",
       "    <tr>\n",
       "      <th>9</th>\n",
       "      <td>CDS-5A ESPAGNE</td>\n",
       "      <td>36.0</td>\n",
       "      <td>+100.0 BP</td>\n",
       "      <td>35.0</td>\n",
       "      <td>+170.0 BP</td>\n",
       "      <td>+290.0 BP</td>\n",
       "      <td>Emetteur</td>\n",
       "    </tr>\n",
       "    <tr>\n",
       "      <th>10</th>\n",
       "      <td>CDS-5A GRECE</td>\n",
       "      <td>82.0</td>\n",
       "      <td>+150.0 BP</td>\n",
       "      <td>80.5</td>\n",
       "      <td>+190.0 BP</td>\n",
       "      <td>+390.0 BP</td>\n",
       "      <td>Emetteur</td>\n",
       "    </tr>\n",
       "    <tr>\n",
       "      <th>11</th>\n",
       "      <td>CDS-5A ITALIE</td>\n",
       "      <td>85.4</td>\n",
       "      <td>+100.0 BP</td>\n",
       "      <td>84.4</td>\n",
       "      <td>+260.0 BP</td>\n",
       "      <td>+780.0 BP</td>\n",
       "      <td>Emetteur</td>\n",
       "    </tr>\n",
       "  </tbody>\n",
       "</table>\n",
       "</div>"
      ],
      "text/plain": [
       "               libellé  dernier       var.  Veille var / 1sem var / 1mois  \\\n",
       "0         CDS-5A SUEDE      9.0   -50.0 BP     9.5   -10.0 BP    +20.0 BP   \n",
       "1      CDS-5A PAYS-BAS      9.8   +10.0 BP     9.7     0.0 BP    +10.0 BP   \n",
       "2       CDS-5A NORVEGE     10.3     0.0 BP    10.3     0.0 BP    -20.0 BP   \n",
       "3     CDS-5A ALLEMAGNE     10.5   -10.0 BP    10.6     0.0 BP    +30.0 BP   \n",
       "4   CDS-5A ROYAUME-UNI     12.0   -20.0 BP    12.2   -50.0 BP    -90.0 BP   \n",
       "5      CDS-5A BELGIQUE     12.5     0.0 BP    12.5   -60.0 BP   +120.0 BP   \n",
       "6       CDS-5A IRLANDE     14.9   +10.0 BP    14.8   -20.0 BP    +50.0 BP   \n",
       "7        CDS-5A FRANCE     23.6   +60.0 BP    23.0  +120.0 BP   +540.0 BP   \n",
       "8      CDS-5A PORTUGAL     32.1   +70.0 BP    31.4  +110.0 BP   +210.0 BP   \n",
       "9       CDS-5A ESPAGNE     36.0  +100.0 BP    35.0  +170.0 BP   +290.0 BP   \n",
       "10        CDS-5A GRECE     82.0  +150.0 BP    80.5  +190.0 BP   +390.0 BP   \n",
       "11       CDS-5A ITALIE     85.4  +100.0 BP    84.4  +260.0 BP   +780.0 BP   \n",
       "\n",
       "    Emetteur  \n",
       "0   Emetteur  \n",
       "1   Emetteur  \n",
       "2   Emetteur  \n",
       "3   Emetteur  \n",
       "4   Emetteur  \n",
       "5   Emetteur  \n",
       "6   Emetteur  \n",
       "7   Emetteur  \n",
       "8   Emetteur  \n",
       "9   Emetteur  \n",
       "10  Emetteur  \n",
       "11  Emetteur  "
      ]
     },
     "execution_count": 2,
     "metadata": {},
     "output_type": "execute_result"
    }
   ],
   "source": [
    "import pandas as pd\n",
    "\n",
    "# url of the page where the table to extract is\n",
    "url = \"https://www.boursorama.com/bourse/taux/cds/\"\n",
    "\n",
    "dfs = pd.read_html(url)\n",
    "df = dfs[0]\n",
    "\n",
    "df"
   ]
  },
  {
   "cell_type": "markdown",
   "metadata": {},
   "source": [
    "## Save as csv"
   ]
  },
  {
   "cell_type": "code",
   "execution_count": 2,
   "metadata": {},
   "outputs": [],
   "source": [
    "df.to_excel(r'Get_CDS.csv', index = False)"
   ]
  }
 ],
 "metadata": {
  "kernelspec": {
   "display_name": "Python 3",
   "language": "python",
   "name": "python3"
  },
  "language_info": {
   "codemirror_mode": {
    "name": "ipython",
    "version": 3
   },
   "file_extension": ".py",
   "mimetype": "text/x-python",
   "name": "python",
   "nbconvert_exporter": "python",
   "pygments_lexer": "ipython3",
   "version": "3.8.8"
  },
  "widgets": {
   "application/vnd.jupyter.widget-state+json": {
    "state": {},
    "version_major": 2,
    "version_minor": 0
   }
  }
 },
 "nbformat": 4,
 "nbformat_minor": 4
}
