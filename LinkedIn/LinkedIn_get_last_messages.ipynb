{
 "cells": [
  {
   "cell_type": "markdown",
   "id": "lucky-disabled",
   "metadata": {
    "execution": {
     "iopub.execute_input": "2021-01-25T08:00:35.294800Z",
     "iopub.status.busy": "2021-01-25T08:00:35.294557Z",
     "iopub.status.idle": "2021-01-25T08:00:35.307281Z",
     "shell.execute_reply": "2021-01-25T08:00:35.306468Z",
     "shell.execute_reply.started": "2021-01-25T08:00:35.294775Z"
    },
    "papermill": {},
    "tags": []
   },
   "source": [
    "<img width=\"10%\" alt=\"Naas\" src=\"https://landen.imgix.net/jtci2pxwjczr/assets/5ice39g4.png?w=160\"/>"
   ]
  },
  {
   "cell_type": "markdown",
   "id": "generous-litigation",
   "metadata": {
    "papermill": {},
    "tags": []
   },
   "source": [
    "<img width=\"20%\" alt=\"Naas\" src=\"https://logos-world.net/wp-content/uploads/2020/04/Linkedin-Logo.png\">"
   ]
  },
  {
   "cell_type": "markdown",
   "id": "charged-dinner",
   "metadata": {
    "papermill": {},
    "tags": []
   },
   "source": [
    "## Get your Linkedin cookies\n",
    "[<button class=\"lm-Widget p-Widget jupyter-widgets jupyter-button widget-button mod-primary\">Open in Naas</button>](https://app.naas.ai/user-redirect/naas/downloader?url=https://raw.githubusercontent.com/jupyter-naas/awesome-notebooks/master/LinkedIn/LinkedIn_get_last_messages.ipynb)"
   ]
  },
  {
   "cell_type": "markdown",
   "id": "charming-collect",
   "metadata": {
    "papermill": {},
    "tags": []
   },
   "source": [
    "[Open your profile](https://www.linkedin.com/in/)\n",
    "### -> Click right, inspect your web page and get your cookies info"
   ]
  },
  {
   "cell_type": "markdown",
   "id": "republican-purple",
   "metadata": {
    "papermill": {},
    "tags": []
   },
   "source": [
    "<img width=\"80%\" alt=\"Naas\" src=\"https://public.naas.ai/ZmxvcmVudC0yRXJhdmVuZWwtNDBjYXNoc3RvcnktMkVjb20=/asset/4ccb0452e5717de02f550f4b87026dd0ee6ddcb4e14b898e59d31fce64b3\">"
   ]
  },
  {
   "cell_type": "code",
   "execution_count": null,
   "id": "absent-reporter",
   "metadata": {
    "papermill": {},
    "tags": []
   },
   "outputs": [],
   "source": [
    "from naas_drivers import linkedin\n",
    "\n",
    "LI_AT = 'YOUR_COOKIE_LI_AT'  # EXAMPLE AQFAzQN_PLPR4wAAAXc-FCKmgiMit5FLdY1af3-2\n",
    "JSESSIONID = 'YOUR_COOKIE_JSESSIONID'  # EXAMPLE ajax:8379907400220387585"
   ]
  },
  {
   "cell_type": "markdown",
   "id": "independent-exhibition",
   "metadata": {
    "papermill": {},
    "tags": []
   },
   "source": [
    "## Get your last messages"
   ]
  },
  {
   "cell_type": "code",
   "execution_count": null,
   "id": "interstate-poison",
   "metadata": {
    "papermill": {},
    "tags": []
   },
   "outputs": [],
   "source": [
    "# Get last conversations :\n",
    "df_messages = linkedin.connect(LI_AT, JSESSIONID).get_messages()\n",
    "df_messages"
   ]
  }
 ],
 "metadata": {
  "kernelspec": {
   "display_name": "Python 3",
   "language": "python",
   "name": "python3"
  },
  "language_info": {
   "codemirror_mode": {
    "name": "ipython",
    "version": 3
   },
   "file_extension": ".py",
   "mimetype": "text/x-python",
   "name": "python",
   "nbconvert_exporter": "python",
   "pygments_lexer": "ipython3",
   "version": "3.8.8"
  },
  "papermill": {
   "default_parameters": {},
   "environment_variables": {},
   "parameters": {},
   "version": "2.3.3"
  }
 },
 "nbformat": 4,
 "nbformat_minor": 5
}