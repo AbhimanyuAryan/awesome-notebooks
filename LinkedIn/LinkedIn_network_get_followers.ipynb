{
 "cells": [
  {
   "cell_type": "markdown",
   "id": "caring-traveler",
   "metadata": {
    "execution": {
     "iopub.execute_input": "2021-01-25T08:00:35.294800Z",
     "iopub.status.busy": "2021-01-25T08:00:35.294557Z",
     "iopub.status.idle": "2021-01-25T08:00:35.307281Z",
     "shell.execute_reply": "2021-01-25T08:00:35.306468Z",
     "shell.execute_reply.started": "2021-01-25T08:00:35.294775Z"
    },
    "papermill": {},
    "tags": []
   },
   "source": [
    "<img width=\"10%\" alt=\"Naas\" src=\"https://landen.imgix.net/jtci2pxwjczr/assets/5ice39g4.png?w=160\"/>"
   ]
  },
  {
   "cell_type": "markdown",
   "id": "freelance-administration",
   "metadata": {
    "papermill": {},
    "tags": []
   },
   "source": [
    "<img width=\"20%\" alt=\"Naas\" src=\"https://logos-world.net/wp-content/uploads/2020/04/Linkedin-Logo.png\">"
   ]
  },
  {
   "cell_type": "markdown",
   "id": "conscious-scenario",
   "metadata": {
    "papermill": {},
    "tags": []
   },
   "source": [
    "# LinkedIn - Network get followers (naas v1.17.3)\n",
    "<a href=\"https://app.naas.ai/user-redirect/naas/downloader?url=https://raw.githubusercontent.com/jupyter-naas/awesome-notebooks/master/LinkedIn/LinkedIn_network_get_followers.ipynb\" target=\"_parent\">\n",
    "<img src=\"https://img.shields.io/badge/-Open%20in%20Naas-success?labelColor=000000&logo=data:image/svg+xml;base64,PD94bWwgdmVyc2lvbj0iMS4wIiBlbmNvZGluZz0iVVRGLTgiPz4KPHN2ZyB3aWR0aD0iMTAyNHB4IiBoZWlnaHQ9IjEwMjRweCIgdmlld0JveD0iMCAwIDEwMjQgMTAyNCIgeG1sbnM9Imh0dHA6Ly93d3cudzMub3JnLzIwMDAvc3ZnIiB4bWxuczp4bGluaz0iaHR0cDovL3d3dy53My5vcmcvMTk5OS94bGluayIgdmVyc2lvbj0iMS4xIj4KIDwhLS0gR2VuZXJhdGVkIGJ5IFBpeGVsbWF0b3IgUHJvIDIuMC41IC0tPgogPGRlZnM+CiAgPHRleHQgaWQ9InN0cmluZyIgdHJhbnNmb3JtPSJtYXRyaXgoMS4wIDAuMCAwLjAgMS4wIDIyOC4wIDU0LjUpIiBmb250LWZhbWlseT0iQ29tZm9ydGFhLVJlZ3VsYXIsIENvbWZvcnRhYSIgZm9udC1zaXplPSI4MDAiIHRleHQtZGVjb3JhdGlvbj0ibm9uZSIgZmlsbD0iI2ZmZmZmZiIgeD0iMS4xOTk5OTk5OTk5OTk5ODg2IiB5PSI3MDUuMCI+bjwvdGV4dD4KIDwvZGVmcz4KIDx1c2UgaWQ9Im4iIHhsaW5rOmhyZWY9IiNzdHJpbmciLz4KPC9zdmc+Cg==\"/>\n",
    "</a>"
   ]
  },
  {
   "cell_type": "markdown",
   "id": "unable-calvin",
   "metadata": {
    "papermill": {},
    "tags": []
   },
   "source": [
    "## Get your cookies\n",
    "To take action on your behalf on a social network, Naas needs to connect as you. To do this, it needs your session cookie(s). This will give your Naas access to your social network account.\n",
    "- [Open your profile](https://www.linkedin.com/in/)\n",
    "- Right-click anywhere on the page and open \"Inspect\"\n",
    "- Locate the \"Application\" tab. Then select \"Cookies\" > \"http://www.websiteyoureafter.com\". Locate the cookie you're looking for = \"li_at\" and \"JSESSIONID\" :"
   ]
  },
  {
   "cell_type": "markdown",
   "id": "impaired-proportion",
   "metadata": {
    "papermill": {},
    "tags": []
   },
   "source": [
    "<img width=\"80%\" alt=\"Naas\" src=\"https://public.naas.ai/ZmxvcmVudC0yRXJhdmVuZWwtNDBjYXNoc3RvcnktMkVjb20=/asset/4ccb0452e5717de02f550f4b87026dd0ee6ddcb4e14b898e59d31fce64b3\">"
   ]
  },
  {
   "cell_type": "code",
   "execution_count": 1,
   "id": "impaired-theta",
   "metadata": {
    "execution": {
     "iopub.execute_input": "2021-06-15T14:54:37.871201Z",
     "iopub.status.busy": "2021-06-15T14:54:37.870937Z",
     "iopub.status.idle": "2021-06-15T14:54:42.711953Z",
     "shell.execute_reply": "2021-06-15T14:54:42.711284Z",
     "shell.execute_reply.started": "2021-06-15T14:54:37.871139Z"
    },
    "papermill": {},
    "tags": []
   },
   "outputs": [],
   "source": [
    "from naas_drivers import linkedin\n",
    "\n",
    "LI_AT = 'YOUR_COOKIE_LI_AT'  # EXAMPLE AQFAzQN_PLPR4wAAAXc-FCKmgiMit5FLdY1af3-2\n",
    "JSESSIONID = 'YOUR_COOKIE_JSESSIONID'  # EXAMPLE ajax:8379907400220387585"
   ]
  },
  {
   "cell_type": "markdown",
   "id": "statistical-shareware",
   "metadata": {
    "execution": {
     "iopub.execute_input": "2021-05-15T10:12:55.887028Z",
     "iopub.status.busy": "2021-05-15T10:12:55.886761Z",
     "iopub.status.idle": "2021-05-15T10:12:55.899441Z",
     "shell.execute_reply": "2021-05-15T10:12:55.898476Z",
     "shell.execute_reply.started": "2021-05-15T10:12:55.886964Z"
    },
    "papermill": {},
    "tags": []
   },
   "source": [
    "## Network - Get your followers (due to follower privacy, it will not match with the exact number of followers)\n",
    "Get the information return in a dataframe.<br><br>\n",
    "**Available columns :**\n",
    "- PROFILE_URN : LinkedIn unique profile id\n",
    "- PROFILE_ID : LinkedIn public profile id\n",
    "- FIRSTNAME\n",
    "- LASTNAME\n",
    "- OCCUPATION\n",
    "- FOLLOWER_COUNT\n",
    "- FOLLOWING\n",
    "- FOLLOWING_TYPE\n",
    "- INFLUENCER"
   ]
  },
  {
   "cell_type": "code",
   "execution_count": 3,
   "id": "pleased-thousand",
   "metadata": {
    "execution": {
     "iopub.execute_input": "2021-06-15T14:54:48.544856Z",
     "iopub.status.busy": "2021-06-15T14:54:48.544621Z",
     "iopub.status.idle": "2021-06-15T14:54:49.326162Z",
     "shell.execute_reply": "2021-06-15T14:54:49.325445Z",
     "shell.execute_reply.started": "2021-06-15T14:54:48.544833Z"
    },
    "tags": []
   },
   "outputs": [
    {
     "name": "stderr",
     "output_type": "stream",
     "text": [
      "/opt/conda/lib/python3.8/site-packages/papermill/iorw.py:50: FutureWarning: pyarrow.HadoopFileSystem is deprecated as of 2.0.0, please use pyarrow.fs.HadoopFileSystem instead.\n",
      "  from pyarrow import HadoopFileSystem\n"
     ]
    }
   ],
   "source": [
    "import naas\n",
    "LI_AT = naas.secret.get(\"FRV_LI_AT\")\n",
    "JSESSIONID = naas.secret.get(\"FRV_JSESSIONID\")"
   ]
  },
  {
   "cell_type": "code",
   "execution_count": 4,
   "id": "dramatic-quick",
   "metadata": {
    "execution": {
     "iopub.execute_input": "2021-06-15T14:54:52.714324Z",
     "iopub.status.busy": "2021-06-15T14:54:52.714080Z",
     "iopub.status.idle": "2021-06-15T14:55:06.409972Z",
     "shell.execute_reply": "2021-06-15T14:55:06.408299Z",
     "shell.execute_reply.started": "2021-06-15T14:54:52.714300Z"
    },
    "papermill": {},
    "tags": []
   },
   "outputs": [
    {
     "data": {
      "text/html": [
       "<div>\n",
       "<style scoped>\n",
       "    .dataframe tbody tr th:only-of-type {\n",
       "        vertical-align: middle;\n",
       "    }\n",
       "\n",
       "    .dataframe tbody tr th {\n",
       "        vertical-align: top;\n",
       "    }\n",
       "\n",
       "    .dataframe thead th {\n",
       "        text-align: right;\n",
       "    }\n",
       "</style>\n",
       "<table border=\"1\" class=\"dataframe\">\n",
       "  <thead>\n",
       "    <tr style=\"text-align: right;\">\n",
       "      <th></th>\n",
       "      <th>PROFILE_URN</th>\n",
       "      <th>PROFILE_ID</th>\n",
       "      <th>FIRSTNAME</th>\n",
       "      <th>LASTNAME</th>\n",
       "      <th>OCCUPATION</th>\n",
       "      <th>FOLLOWER_COUNT</th>\n",
       "      <th>FOLLOWING</th>\n",
       "      <th>FOLLOWING_TYPE</th>\n",
       "      <th>INFLUENCER</th>\n",
       "    </tr>\n",
       "  </thead>\n",
       "  <tbody>\n",
       "    <tr>\n",
       "      <th>0</th>\n",
       "      <td>ACoAAAkgWIQBjSA0tmThRb2WkI7foehq89Q4-nA</td>\n",
       "      <td>denis-rothman-0b034043</td>\n",
       "      <td>Denis</td>\n",
       "      <td>Rothman</td>\n",
       "      <td>Artificial Intelligence Expert ⏩ Author ⏩ Spea...</td>\n",
       "      <td>39528</td>\n",
       "      <td>True</td>\n",
       "      <td>FOLLOWING</td>\n",
       "      <td>False</td>\n",
       "    </tr>\n",
       "    <tr>\n",
       "      <th>1</th>\n",
       "      <td>ACoAABR-EnsBo9PfmJbrlH4-59nbF9QwkDFil5Y</td>\n",
       "      <td>pierre-rischmann-18b18297</td>\n",
       "      <td>Pierre</td>\n",
       "      <td>Rischmann</td>\n",
       "      <td>Responsable SI chez AVISIA</td>\n",
       "      <td>38393</td>\n",
       "      <td>False</td>\n",
       "      <td>DEFAULT</td>\n",
       "      <td>False</td>\n",
       "    </tr>\n",
       "    <tr>\n",
       "      <th>2</th>\n",
       "      <td>ACoAABTkgXYByX1i76cn8_5yprrUzwkGOIQtUPs</td>\n",
       "      <td>ravitjain</td>\n",
       "      <td>∞ Ravit</td>\n",
       "      <td>Jain ∞</td>\n",
       "      <td>Community Manager at Packt | Host of \"The Ravi...</td>\n",
       "      <td>37312</td>\n",
       "      <td>True</td>\n",
       "      <td>FOLLOWING</td>\n",
       "      <td>False</td>\n",
       "    </tr>\n",
       "    <tr>\n",
       "      <th>3</th>\n",
       "      <td>ACoAAAR9n7sBG7TdSBlA5YMMvWkQXu8uNzIIPAI</td>\n",
       "      <td>yves-dufour-67729421</td>\n",
       "      <td>Yves</td>\n",
       "      <td>Dufour</td>\n",
       "      <td>Travel Deluxe &amp; Art partenaire de Charming Houses</td>\n",
       "      <td>36396</td>\n",
       "      <td>True</td>\n",
       "      <td>FOLLOWING</td>\n",
       "      <td>False</td>\n",
       "    </tr>\n",
       "    <tr>\n",
       "      <th>4</th>\n",
       "      <td>ACoAABoGW2sBiL86XOT4w6TabA-x0POOtV5g2C4</td>\n",
       "      <td>tylauret</td>\n",
       "      <td>Thierry</td>\n",
       "      <td>LAURET . OLY</td>\n",
       "      <td>MRICS | Consultant</td>\n",
       "      <td>34663</td>\n",
       "      <td>False</td>\n",
       "      <td>DEFAULT</td>\n",
       "      <td>False</td>\n",
       "    </tr>\n",
       "    <tr>\n",
       "      <th>...</th>\n",
       "      <td>...</td>\n",
       "      <td>...</td>\n",
       "      <td>...</td>\n",
       "      <td>...</td>\n",
       "      <td>...</td>\n",
       "      <td>...</td>\n",
       "      <td>...</td>\n",
       "      <td>...</td>\n",
       "      <td>...</td>\n",
       "    </tr>\n",
       "    <tr>\n",
       "      <th>1249</th>\n",
       "      <td>ACoAAByXq5ABMsDgwY40Gkq3IcyZgu1GgV7dLzw</td>\n",
       "      <td>sanjay-sabu-4205</td>\n",
       "      <td>Sanjay</td>\n",
       "      <td>Sabu</td>\n",
       "      <td>Software Engineer at Bridge Global</td>\n",
       "      <td>147</td>\n",
       "      <td>True</td>\n",
       "      <td>FOLLOWING</td>\n",
       "      <td>False</td>\n",
       "    </tr>\n",
       "    <tr>\n",
       "      <th>1250</th>\n",
       "      <td>ACoAAA89kH0B2dOtBIY2czV9PWdAe5gMAQoADz4</td>\n",
       "      <td>jourdan-fabrice-53976a71</td>\n",
       "      <td>Jourdan</td>\n",
       "      <td>Fabrice</td>\n",
       "      <td>Expert technique chez Capgemini</td>\n",
       "      <td>121</td>\n",
       "      <td>True</td>\n",
       "      <td>FOLLOWING</td>\n",
       "      <td>False</td>\n",
       "    </tr>\n",
       "    <tr>\n",
       "      <th>1251</th>\n",
       "      <td>ACoAACYVKN8BudV75FKBgSB8ROFemWsetWcX1gc</td>\n",
       "      <td>françois-elharrar-aa7b81159</td>\n",
       "      <td>François</td>\n",
       "      <td>Elharrar</td>\n",
       "      <td>Acutally looking for an opportunity in Marketi...</td>\n",
       "      <td>118</td>\n",
       "      <td>True</td>\n",
       "      <td>FOLLOWING</td>\n",
       "      <td>False</td>\n",
       "    </tr>\n",
       "    <tr>\n",
       "      <th>1252</th>\n",
       "      <td>ACoAACbwUKIBz_QOmn-ChEz9l8ehSDUINoaSLls</td>\n",
       "      <td>alice-r-6aa949162</td>\n",
       "      <td>Alice</td>\n",
       "      <td>Ravenel</td>\n",
       "      <td>None</td>\n",
       "      <td>77</td>\n",
       "      <td>True</td>\n",
       "      <td>FOLLOWING</td>\n",
       "      <td>False</td>\n",
       "    </tr>\n",
       "    <tr>\n",
       "      <th>1253</th>\n",
       "      <td>ACoAAC8nIFwBFye-U7jIkHRy7H8MB-FfeKIaNp4</td>\n",
       "      <td>cindy-fesnoux-790b281a0</td>\n",
       "      <td>Cindy</td>\n",
       "      <td>Fesnoux</td>\n",
       "      <td>Chargée de missions transverses - Médecine de ...</td>\n",
       "      <td>72</td>\n",
       "      <td>True</td>\n",
       "      <td>FOLLOWING</td>\n",
       "      <td>False</td>\n",
       "    </tr>\n",
       "  </tbody>\n",
       "</table>\n",
       "<p>1254 rows × 9 columns</p>\n",
       "</div>"
      ],
      "text/plain": [
       "                                  PROFILE_URN                   PROFILE_ID  \\\n",
       "0     ACoAAAkgWIQBjSA0tmThRb2WkI7foehq89Q4-nA       denis-rothman-0b034043   \n",
       "1     ACoAABR-EnsBo9PfmJbrlH4-59nbF9QwkDFil5Y    pierre-rischmann-18b18297   \n",
       "2     ACoAABTkgXYByX1i76cn8_5yprrUzwkGOIQtUPs                    ravitjain   \n",
       "3     ACoAAAR9n7sBG7TdSBlA5YMMvWkQXu8uNzIIPAI         yves-dufour-67729421   \n",
       "4     ACoAABoGW2sBiL86XOT4w6TabA-x0POOtV5g2C4                     tylauret   \n",
       "...                                       ...                          ...   \n",
       "1249  ACoAAByXq5ABMsDgwY40Gkq3IcyZgu1GgV7dLzw             sanjay-sabu-4205   \n",
       "1250  ACoAAA89kH0B2dOtBIY2czV9PWdAe5gMAQoADz4     jourdan-fabrice-53976a71   \n",
       "1251  ACoAACYVKN8BudV75FKBgSB8ROFemWsetWcX1gc  françois-elharrar-aa7b81159   \n",
       "1252  ACoAACbwUKIBz_QOmn-ChEz9l8ehSDUINoaSLls            alice-r-6aa949162   \n",
       "1253  ACoAAC8nIFwBFye-U7jIkHRy7H8MB-FfeKIaNp4      cindy-fesnoux-790b281a0   \n",
       "\n",
       "     FIRSTNAME        LASTNAME  \\\n",
       "0        Denis         Rothman   \n",
       "1       Pierre       Rischmann   \n",
       "2      ∞ Ravit          Jain ∞   \n",
       "3         Yves          Dufour   \n",
       "4      Thierry  LAURET . OLY     \n",
       "...        ...             ...   \n",
       "1249    Sanjay            Sabu   \n",
       "1250   Jourdan         Fabrice   \n",
       "1251  François        Elharrar   \n",
       "1252     Alice         Ravenel   \n",
       "1253     Cindy         Fesnoux   \n",
       "\n",
       "                                             OCCUPATION FOLLOWER_COUNT  \\\n",
       "0     Artificial Intelligence Expert ⏩ Author ⏩ Spea...          39528   \n",
       "1                            Responsable SI chez AVISIA          38393   \n",
       "2     Community Manager at Packt | Host of \"The Ravi...          37312   \n",
       "3     Travel Deluxe & Art partenaire de Charming Houses          36396   \n",
       "4                                    MRICS | Consultant          34663   \n",
       "...                                                 ...            ...   \n",
       "1249                 Software Engineer at Bridge Global            147   \n",
       "1250                    Expert technique chez Capgemini            121   \n",
       "1251  Acutally looking for an opportunity in Marketi...            118   \n",
       "1252                                               None             77   \n",
       "1253  Chargée de missions transverses - Médecine de ...             72   \n",
       "\n",
       "     FOLLOWING FOLLOWING_TYPE INFLUENCER  \n",
       "0         True      FOLLOWING      False  \n",
       "1        False        DEFAULT      False  \n",
       "2         True      FOLLOWING      False  \n",
       "3         True      FOLLOWING      False  \n",
       "4        False        DEFAULT      False  \n",
       "...        ...            ...        ...  \n",
       "1249      True      FOLLOWING      False  \n",
       "1250      True      FOLLOWING      False  \n",
       "1251      True      FOLLOWING      False  \n",
       "1252      True      FOLLOWING      False  \n",
       "1253      True      FOLLOWING      False  \n",
       "\n",
       "[1254 rows x 9 columns]"
      ]
     },
     "execution_count": 4,
     "metadata": {},
     "output_type": "execute_result"
    }
   ],
   "source": [
    "# Get dataframe as result\n",
    "df = linkedin.connect(LI_AT, JSESSIONID).network.get_followers()\n",
    "df"
   ]
  },
  {
   "cell_type": "code",
   "execution_count": null,
   "id": "announced-number",
   "metadata": {},
   "outputs": [],
   "source": []
  }
 ],
 "metadata": {
  "kernelspec": {
   "display_name": "Python 3",
   "language": "python",
   "name": "python3"
  },
  "language_info": {
   "codemirror_mode": {
    "name": "ipython",
    "version": 3
   },
   "file_extension": ".py",
   "mimetype": "text/x-python",
   "name": "python",
   "nbconvert_exporter": "python",
   "pygments_lexer": "ipython3",
   "version": "3.8.8"
  },
  "papermill": {
   "default_parameters": {},
   "environment_variables": {},
   "parameters": {},
   "version": "2.3.3"
  },
  "widgets": {
   "application/vnd.jupyter.widget-state+json": {
    "state": {},
    "version_major": 2,
    "version_minor": 0
   }
  }
 },
 "nbformat": 4,
 "nbformat_minor": 5
}
