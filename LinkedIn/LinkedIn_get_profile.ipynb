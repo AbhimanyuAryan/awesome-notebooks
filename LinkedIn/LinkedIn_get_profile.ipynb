{
 "cells": [
  {
   "cell_type": "markdown",
   "id": "aboriginal-allergy",
   "metadata": {
    "execution": {
     "iopub.execute_input": "2021-01-25T08:00:35.294800Z",
     "iopub.status.busy": "2021-01-25T08:00:35.294557Z",
     "iopub.status.idle": "2021-01-25T08:00:35.307281Z",
     "shell.execute_reply": "2021-01-25T08:00:35.306468Z",
     "shell.execute_reply.started": "2021-01-25T08:00:35.294775Z"
    },
    "papermill": {},
    "tags": []
   },
   "source": [
    "<img width=\"10%\" alt=\"Naas\" src=\"https://landen.imgix.net/jtci2pxwjczr/assets/5ice39g4.png?w=160\"/>"
   ]
  },
  {
   "cell_type": "markdown",
   "id": "above-instrument",
   "metadata": {
    "papermill": {},
    "tags": []
   },
   "source": [
    "<img width=\"20%\" alt=\"Naas\" src=\"https://logos-world.net/wp-content/uploads/2020/04/Linkedin-Logo.png\">"
   ]
  },
  {
   "cell_type": "markdown",
   "id": "reverse-plain",
   "metadata": {
    "papermill": {},
    "tags": []
   },
   "source": [
    "# LinkedIn - Get profile\n",
    "<a href=\"https://app.naas.ai/user-redirect/naas/downloader?url=https://raw.githubusercontent.com/jupyter-naas/awesome-notebooks/master/LinkedIn/LinkedIn_get_profil.ipynb\" target=\"_parent\">\n",
    "<img src=\"https://img.shields.io/badge/-Open%20in%20Naas-success?labelColor=000000&logo=data:image/svg+xml;base64,PD94bWwgdmVyc2lvbj0iMS4wIiBlbmNvZGluZz0iVVRGLTgiPz4KPHN2ZyB3aWR0aD0iMTAyNHB4IiBoZWlnaHQ9IjEwMjRweCIgdmlld0JveD0iMCAwIDEwMjQgMTAyNCIgeG1sbnM9Imh0dHA6Ly93d3cudzMub3JnLzIwMDAvc3ZnIiB4bWxuczp4bGluaz0iaHR0cDovL3d3dy53My5vcmcvMTk5OS94bGluayIgdmVyc2lvbj0iMS4xIj4KIDwhLS0gR2VuZXJhdGVkIGJ5IFBpeGVsbWF0b3IgUHJvIDIuMC41IC0tPgogPGRlZnM+CiAgPHRleHQgaWQ9InN0cmluZyIgdHJhbnNmb3JtPSJtYXRyaXgoMS4wIDAuMCAwLjAgMS4wIDIyOC4wIDU0LjUpIiBmb250LWZhbWlseT0iQ29tZm9ydGFhLVJlZ3VsYXIsIENvbWZvcnRhYSIgZm9udC1zaXplPSI4MDAiIHRleHQtZGVjb3JhdGlvbj0ibm9uZSIgZmlsbD0iI2ZmZmZmZiIgeD0iMS4xOTk5OTk5OTk5OTk5ODg2IiB5PSI3MDUuMCI+bjwvdGV4dD4KIDwvZGVmcz4KIDx1c2UgaWQ9Im4iIHhsaW5rOmhyZWY9IiNzdHJpbmciLz4KPC9zdmc+Cg==\"/>\n",
    "</a>"
   ]
  },
  {
   "cell_type": "markdown",
   "id": "coral-policy",
   "metadata": {
    "papermill": {},
    "tags": []
   },
   "source": [
    "## Get your cookies\n",
    "To take action on your behalf on a social network, Naas needs to connect as you. To do this, it needs your session cookie(s). This will give your Naas access to your social network account.\n",
    "- [Open your profile](https://www.linkedin.com/in/)\n",
    "- Right-click anywhere on the page and open \"Inspect\"\n",
    "- Locate the \"Application\" tab. Then select \"Cookies\" > \"http://www.websiteyoureafter.com\". Locate the cookie you're looking for = \"li_at\" and \"JSESSIONID\" :"
   ]
  },
  {
   "cell_type": "markdown",
   "id": "figured-martial",
   "metadata": {
    "papermill": {},
    "tags": []
   },
   "source": [
    "<img width=\"80%\" alt=\"Naas\" src=\"https://public.naas.ai/ZmxvcmVudC0yRXJhdmVuZWwtNDBjYXNoc3RvcnktMkVjb20=/asset/4ccb0452e5717de02f550f4b87026dd0ee6ddcb4e14b898e59d31fce64b3\">"
   ]
  },
  {
   "cell_type": "code",
   "execution_count": 2,
   "id": "oriented-judges",
   "metadata": {
    "execution": {
     "iopub.execute_input": "2021-05-15T10:14:54.141350Z",
     "iopub.status.busy": "2021-05-15T10:14:54.141074Z",
     "iopub.status.idle": "2021-05-15T10:15:00.578767Z",
     "shell.execute_reply": "2021-05-15T10:15:00.574412Z",
     "shell.execute_reply.started": "2021-05-15T10:14:54.141322Z"
    },
    "papermill": {},
    "tags": []
   },
   "outputs": [],
   "source": [
    "from naas_drivers import linkedin\n",
    "\n",
    "LI_AT = 'YOUR_COOKIE_LI_AT'  # EXAMPLE AQFAzQN_PLPR4wAAAXc-FCKmgiMit5FLdY1af3-2\n",
    "JSESSIONID = 'YOUR_COOKIE_JSESSIONID'  # EXAMPLE ajax:8379907400220387585"
   ]
  },
  {
   "cell_type": "markdown",
   "id": "binding-dublin",
   "metadata": {
    "papermill": {},
    "tags": []
   },
   "source": [
    "## Find the profile ID or profile url\n",
    "Find the profile ID you want to get information from, located after the \"https://www.linkedin.com/in/******\" or enter the complete url"
   ]
  },
  {
   "cell_type": "markdown",
   "id": "mounted-pollution",
   "metadata": {
    "papermill": {},
    "tags": []
   },
   "source": [
    "<img width=\"80%\" alt=\"Naas\" src=\"https://public.naas.ai/ZmxvcmVudC0yRXJhdmVuZWwtNDBjYXNoc3RvcnktMkVjb20=/asset/c05b3bf416d771e70ca2f1f0b96855fe1a9e9cae53899e5412d0232075ff\">"
   ]
  },
  {
   "cell_type": "markdown",
   "id": "organic-serbia",
   "metadata": {
    "execution": {
     "iopub.execute_input": "2021-05-15T10:12:55.887028Z",
     "iopub.status.busy": "2021-05-15T10:12:55.886761Z",
     "iopub.status.idle": "2021-05-15T10:12:55.899441Z",
     "shell.execute_reply": "2021-05-15T10:12:55.898476Z",
     "shell.execute_reply.started": "2021-05-15T10:12:55.886964Z"
    }
   },
   "source": [
    "## Get the profile\n",
    "Get the information return in a dataframe.<br><br>\n",
    "**Available columns :** \n",
    "- FIRSTNAME\n",
    "- LASTNAME\n",
    "- BIRTHDATE_DAY\n",
    "- BIRTHDATE_MONTH\n",
    "- BIRTHDATE_YEAR\n",
    "- BIRTHDATE\n",
    "- COUNTRY\n",
    "- ADDRESS\n",
    "- LK_HEADLINE\n",
    "- LK_SECTOR\n",
    "- LK_FOLLOWERS\n",
    "- LK_PHONE\n",
    "- LK_EMAIL\n",
    "- LK_TWITER"
   ]
  },
  {
   "cell_type": "code",
   "execution_count": 3,
   "id": "nuclear-content",
   "metadata": {
    "execution": {
     "iopub.execute_input": "2021-05-15T10:15:14.315672Z",
     "iopub.status.busy": "2021-05-15T10:15:14.315360Z",
     "iopub.status.idle": "2021-05-15T10:15:21.296164Z",
     "shell.execute_reply": "2021-05-15T10:15:21.295502Z",
     "shell.execute_reply.started": "2021-05-15T10:15:14.315637Z"
    },
    "papermill": {},
    "tags": []
   },
   "outputs": [
    {
     "data": {
      "text/html": [
       "<div>\n",
       "<style scoped>\n",
       "    .dataframe tbody tr th:only-of-type {\n",
       "        vertical-align: middle;\n",
       "    }\n",
       "\n",
       "    .dataframe tbody tr th {\n",
       "        vertical-align: top;\n",
       "    }\n",
       "\n",
       "    .dataframe thead th {\n",
       "        text-align: right;\n",
       "    }\n",
       "</style>\n",
       "<table border=\"1\" class=\"dataframe\">\n",
       "  <thead>\n",
       "    <tr style=\"text-align: right;\">\n",
       "      <th></th>\n",
       "      <th>FIRSTNAME</th>\n",
       "      <th>LASTNAME</th>\n",
       "      <th>BIRTHDATE_DAY</th>\n",
       "      <th>BIRTHDATE_MONTH</th>\n",
       "      <th>BIRTHDATE_YEAR</th>\n",
       "      <th>BIRTHDATE</th>\n",
       "      <th>COUNTRY</th>\n",
       "      <th>ADRESS</th>\n",
       "      <th>LK_HEADLINE</th>\n",
       "      <th>LK_SECTOR</th>\n",
       "      <th>LK_FOLLOWERS</th>\n",
       "      <th>LK_PHONE</th>\n",
       "      <th>LK_EMAIL</th>\n",
       "      <th>LK_TWITER</th>\n",
       "    </tr>\n",
       "  </thead>\n",
       "  <tbody>\n",
       "    <tr>\n",
       "      <th>0</th>\n",
       "      <td>Jérémy</td>\n",
       "      <td>RAVENEL</td>\n",
       "      <td>5</td>\n",
       "      <td>12</td>\n",
       "      <td>1989</td>\n",
       "      <td>5, 12 - 1989</td>\n",
       "      <td>France</td>\n",
       "      <td>Paris, Île-de-France</td>\n",
       "      <td>Founder @CashStory | Open-sourcing @Naas.ai | ...</td>\n",
       "      <td>Financial Services</td>\n",
       "      <td>6794</td>\n",
       "      <td>+3385256997</td>\n",
       "      <td>j.ravenel@mdm-is.com</td>\n",
       "      <td>Mdm_IS</td>\n",
       "    </tr>\n",
       "  </tbody>\n",
       "</table>\n",
       "</div>"
      ],
      "text/plain": [
       "  FIRSTNAME LASTNAME  BIRTHDATE_DAY  BIRTHDATE_MONTH  BIRTHDATE_YEAR  \\\n",
       "0    Jérémy  RAVENEL              5               12            1989   \n",
       "\n",
       "      BIRTHDATE COUNTRY                ADRESS  \\\n",
       "0  5, 12 - 1989  France  Paris, Île-de-France   \n",
       "\n",
       "                                         LK_HEADLINE           LK_SECTOR  \\\n",
       "0  Founder @CashStory | Open-sourcing @Naas.ai | ...  Financial Services   \n",
       "\n",
       "   LK_FOLLOWERS     LK_PHONE              LK_EMAIL LK_TWITER  \n",
       "0          6794  +3385256997  j.ravenel@mdm-is.com    Mdm_IS  "
      ]
     },
     "execution_count": 3,
     "metadata": {},
     "output_type": "execute_result"
    }
   ],
   "source": [
    "linkedinid = \"jeremy-ravenel-******\"\n",
    "profil = linkedin.connect(LI_AT, JSESSIONID).get_profil(linkedinid)\n",
    "profil"
   ]
  },
  {
   "cell_type": "code",
   "execution_count": null,
   "id": "wireless-sampling",
   "metadata": {},
   "outputs": [],
   "source": []
  }
 ],
 "metadata": {
  "kernelspec": {
   "display_name": "Python 3",
   "language": "python",
   "name": "python3"
  },
  "language_info": {
   "codemirror_mode": {
    "name": "ipython",
    "version": 3
   },
   "file_extension": ".py",
   "mimetype": "text/x-python",
   "name": "python",
   "nbconvert_exporter": "python",
   "pygments_lexer": "ipython3",
   "version": "3.8.8"
  },
  "papermill": {
   "default_parameters": {},
   "environment_variables": {},
   "parameters": {},
   "version": "2.3.3"
  },
  "widgets": {
   "application/vnd.jupyter.widget-state+json": {
    "state": {},
    "version_major": 2,
    "version_minor": 0
   }
  }
 },
 "nbformat": 4,
 "nbformat_minor": 5
}
