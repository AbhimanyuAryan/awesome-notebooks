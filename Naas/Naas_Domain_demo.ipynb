{
 "cells": [
  {
   "cell_type": "markdown",
   "id": "lesser-particle",
   "metadata": {
    "papermill": {},
    "tags": []
   },
   "source": [
    "<img width=\"10%\" alt=\"Naas\" src=\"https://landen.imgix.net/jtci2pxwjczr/assets/5ice39g4.png?w=160\"/>\n"
   ]
  },
  {
   "cell_type": "markdown",
   "id": "recreational-canberra",
   "metadata": {
    "papermill": {},
    "tags": []
   },
   "source": [
    "# 🏰 Domain demo \n",
    "[<button class=\"lm-Widget p-Widget jupyter-widgets jupyter-button widget-button mod-primary\">Open in Naas</button>](https://app.naas.ai/user-redirect/naas/downloader?url=https://raw.githubusercontent.com/jupyter-naas/awesome-notebooks/master/Naas/Naas_Domain_demo.ipynb)"
   ]
  },
  {
   "cell_type": "markdown",
   "id": "hydraulic-sensitivity",
   "metadata": {
    "papermill": {},
    "tags": []
   },
   "source": [
    "Coming Soon"
   ]
  },
  {
   "cell_type": "code",
   "execution_count": null,
   "id": "understanding-potter",
   "metadata": {
    "papermill": {},
    "tags": []
   },
   "outputs": [],
   "source": []
  }
 ],
 "metadata": {
  "kernelspec": {
   "display_name": "Python 3",
   "language": "python",
   "name": "python3"
  },
  "language_info": {
   "codemirror_mode": {
    "name": "ipython",
    "version": 3
   },
   "file_extension": ".py",
   "mimetype": "text/x-python",
   "name": "python",
   "nbconvert_exporter": "python",
   "pygments_lexer": "ipython3",
   "version": "3.8.6"
  },
  "papermill": {
   "default_parameters": {},
   "environment_variables": {},
   "parameters": {},
   "version": "2.3.3"
  }
 },
 "nbformat": 4,
 "nbformat_minor": 5
}