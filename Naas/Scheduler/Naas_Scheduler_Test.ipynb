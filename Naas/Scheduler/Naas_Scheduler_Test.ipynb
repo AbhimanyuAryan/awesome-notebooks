{
 "cells": [
  {
   "cell_type": "markdown",
   "metadata": {},
   "source": [
    "# Naas Scheduler Testing"
   ]
  },
  {
   "cell_type": "code",
   "execution_count": 5,
   "metadata": {},
   "outputs": [],
   "source": [
    "import naas"
   ]
  },
  {
   "cell_type": "code",
   "execution_count": 14,
   "metadata": {},
   "outputs": [
    {
     "name": "stdout",
     "output_type": "stream",
     "text": [
      "👌 Well done! Your Notebook has been sent to production folder. \n",
      "\n",
      "⏰ It will be scheduled \"At 01:00 every day\" (more on the syntax on https://crontab.guru/).\n",
      "\n",
      "Ps: to remove the \"Scheduler\", just replace .add by .delete\n"
     ]
    }
   ],
   "source": [
    "naas.scheduler.add(recurrence=\"0 1 * * *\")"
   ]
  },
  {
   "cell_type": "code",
   "execution_count": 13,
   "metadata": {},
   "outputs": [
    {
     "data": {
      "text/plain": [
       "{'email': 'send'}"
      ]
     },
     "execution_count": 13,
     "metadata": {},
     "output_type": "execute_result"
    }
   ],
   "source": [
    "email_to = \"jeremy.ravenel@cashstory.com\"\n",
    "email_two = \"martin.donadieu@cashstory.com\"\n",
    "subject = \"Naas Scheduler Test\"\n",
    "msg = \"This is a Naas Scheduler Test\"\n",
    "\n",
    "naas.notifications.send(email_to, subject, msg)\n",
    "naas.notifications.send(email_two, subject, msg)"
   ]
  },
  {
   "cell_type": "code",
   "execution_count": null,
   "metadata": {},
   "outputs": [],
   "source": []
  }
 ],
 "metadata": {
  "kernelspec": {
   "display_name": "Python 3",
   "language": "python",
   "name": "python3"
  },
  "language_info": {
   "codemirror_mode": {
    "name": "ipython",
    "version": 3
   },
   "file_extension": ".py",
   "mimetype": "text/x-python",
   "name": "python",
   "nbconvert_exporter": "python",
   "pygments_lexer": "ipython3",
   "version": "3.8.5"
  }
 },
 "nbformat": 4,
 "nbformat_minor": 4
}
