{
 "cells": [
  {
   "cell_type": "markdown",
   "metadata": {},
   "source": [
    "# Naas Shareable Assets Testing"
   ]
  },
  {
   "cell_type": "code",
   "execution_count": 1,
   "metadata": {},
   "outputs": [],
   "source": [
    "import naas\n",
    "import pandas as pd"
   ]
  },
  {
   "cell_type": "code",
   "execution_count": 2,
   "metadata": {},
   "outputs": [
    {
     "data": {
      "text/html": [
       "<div>\n",
       "<style scoped>\n",
       "    .dataframe tbody tr th:only-of-type {\n",
       "        vertical-align: middle;\n",
       "    }\n",
       "\n",
       "    .dataframe tbody tr th {\n",
       "        vertical-align: top;\n",
       "    }\n",
       "\n",
       "    .dataframe thead th {\n",
       "        text-align: right;\n",
       "    }\n",
       "</style>\n",
       "<table border=\"1\" class=\"dataframe\">\n",
       "  <thead>\n",
       "    <tr style=\"text-align: right;\">\n",
       "      <th></th>\n",
       "      <th>Date</th>\n",
       "      <th>Open</th>\n",
       "      <th>High</th>\n",
       "      <th>Low</th>\n",
       "      <th>Close</th>\n",
       "      <th>Adj Close</th>\n",
       "      <th>Volume</th>\n",
       "    </tr>\n",
       "  </thead>\n",
       "  <tbody>\n",
       "    <tr>\n",
       "      <th>0</th>\n",
       "      <td>2005-03-24</td>\n",
       "      <td>976.500000</td>\n",
       "      <td>1044.750000</td>\n",
       "      <td>947.099976</td>\n",
       "      <td>1008.000000</td>\n",
       "      <td>1008.000000</td>\n",
       "      <td>200</td>\n",
       "    </tr>\n",
       "    <tr>\n",
       "      <th>1</th>\n",
       "      <td>2005-03-28</td>\n",
       "      <td>1050.000000</td>\n",
       "      <td>1155.000000</td>\n",
       "      <td>1050.000000</td>\n",
       "      <td>1076.250000</td>\n",
       "      <td>1076.250000</td>\n",
       "      <td>500</td>\n",
       "    </tr>\n",
       "    <tr>\n",
       "      <th>2</th>\n",
       "      <td>2005-03-29</td>\n",
       "      <td>1085.699951</td>\n",
       "      <td>1110.900024</td>\n",
       "      <td>999.599976</td>\n",
       "      <td>1032.150024</td>\n",
       "      <td>1032.150024</td>\n",
       "      <td>100</td>\n",
       "    </tr>\n",
       "    <tr>\n",
       "      <th>3</th>\n",
       "      <td>2005-03-30</td>\n",
       "      <td>1050.000000</td>\n",
       "      <td>1068.900024</td>\n",
       "      <td>1042.650024</td>\n",
       "      <td>1050.000000</td>\n",
       "      <td>1050.000000</td>\n",
       "      <td>0</td>\n",
       "    </tr>\n",
       "    <tr>\n",
       "      <th>4</th>\n",
       "      <td>2005-03-31</td>\n",
       "      <td>1076.250000</td>\n",
       "      <td>1076.250000</td>\n",
       "      <td>1044.750000</td>\n",
       "      <td>1053.150024</td>\n",
       "      <td>1053.150024</td>\n",
       "      <td>100</td>\n",
       "    </tr>\n",
       "    <tr>\n",
       "      <th>...</th>\n",
       "      <td>...</td>\n",
       "      <td>...</td>\n",
       "      <td>...</td>\n",
       "      <td>...</td>\n",
       "      <td>...</td>\n",
       "      <td>...</td>\n",
       "      <td>...</td>\n",
       "    </tr>\n",
       "    <tr>\n",
       "      <th>3769</th>\n",
       "      <td>2020-03-16</td>\n",
       "      <td>0.260000</td>\n",
       "      <td>0.260000</td>\n",
       "      <td>0.220000</td>\n",
       "      <td>0.250000</td>\n",
       "      <td>0.250000</td>\n",
       "      <td>444200</td>\n",
       "    </tr>\n",
       "    <tr>\n",
       "      <th>3770</th>\n",
       "      <td>2020-03-17</td>\n",
       "      <td>0.260000</td>\n",
       "      <td>0.280000</td>\n",
       "      <td>0.220000</td>\n",
       "      <td>0.230000</td>\n",
       "      <td>0.230000</td>\n",
       "      <td>519000</td>\n",
       "    </tr>\n",
       "    <tr>\n",
       "      <th>3771</th>\n",
       "      <td>2020-03-18</td>\n",
       "      <td>0.250000</td>\n",
       "      <td>0.280000</td>\n",
       "      <td>0.230000</td>\n",
       "      <td>0.240000</td>\n",
       "      <td>0.240000</td>\n",
       "      <td>450800</td>\n",
       "    </tr>\n",
       "    <tr>\n",
       "      <th>3772</th>\n",
       "      <td>2020-03-19</td>\n",
       "      <td>0.230000</td>\n",
       "      <td>0.300000</td>\n",
       "      <td>0.230000</td>\n",
       "      <td>0.250000</td>\n",
       "      <td>0.250000</td>\n",
       "      <td>1037600</td>\n",
       "    </tr>\n",
       "    <tr>\n",
       "      <th>3773</th>\n",
       "      <td>2020-03-20</td>\n",
       "      <td>0.280000</td>\n",
       "      <td>0.450000</td>\n",
       "      <td>0.270000</td>\n",
       "      <td>0.370000</td>\n",
       "      <td>0.370000</td>\n",
       "      <td>9409000</td>\n",
       "    </tr>\n",
       "  </tbody>\n",
       "</table>\n",
       "<p>3774 rows × 7 columns</p>\n",
       "</div>"
      ],
      "text/plain": [
       "            Date         Open         High          Low        Close  \\\n",
       "0     2005-03-24   976.500000  1044.750000   947.099976  1008.000000   \n",
       "1     2005-03-28  1050.000000  1155.000000  1050.000000  1076.250000   \n",
       "2     2005-03-29  1085.699951  1110.900024   999.599976  1032.150024   \n",
       "3     2005-03-30  1050.000000  1068.900024  1042.650024  1050.000000   \n",
       "4     2005-03-31  1076.250000  1076.250000  1044.750000  1053.150024   \n",
       "...          ...          ...          ...          ...          ...   \n",
       "3769  2020-03-16     0.260000     0.260000     0.220000     0.250000   \n",
       "3770  2020-03-17     0.260000     0.280000     0.220000     0.230000   \n",
       "3771  2020-03-18     0.250000     0.280000     0.230000     0.240000   \n",
       "3772  2020-03-19     0.230000     0.300000     0.230000     0.250000   \n",
       "3773  2020-03-20     0.280000     0.450000     0.270000     0.370000   \n",
       "\n",
       "        Adj Close   Volume  \n",
       "0     1008.000000      200  \n",
       "1     1076.250000      500  \n",
       "2     1032.150024      100  \n",
       "3     1050.000000        0  \n",
       "4     1053.150024      100  \n",
       "...           ...      ...  \n",
       "3769     0.250000   444200  \n",
       "3770     0.230000   519000  \n",
       "3771     0.240000   450800  \n",
       "3772     0.250000  1037600  \n",
       "3773     0.370000  9409000  \n",
       "\n",
       "[3774 rows x 7 columns]"
      ]
     },
     "execution_count": 2,
     "metadata": {},
     "output_type": "execute_result"
    }
   ],
   "source": [
    "df = pd.read_csv(\"PEIX.csv\")\n",
    "df"
   ]
  },
  {
   "cell_type": "code",
   "execution_count": 3,
   "metadata": {},
   "outputs": [
    {
     "name": "stdout",
     "output_type": "stream",
     "text": [
      "👌 Well done! Your Assets has been sent to production folder.\n",
      "\n",
      "🔗 You can access this assets remotely with: https://public.naas.ai/amVyZW15LTJFcmF2ZW5lbC00MGNhc2hzdG9yeS0yRWNvbQ==/asset/668e123a3d7e90788237f691b967e889f80ad7ccb5395ce174ea6defc2c5 \n",
      "\n"
     ]
    },
    {
     "data": {
      "application/vnd.jupyter.widget-view+json": {
       "model_id": "7b05662f43544fe6b542b2365878014d",
       "version_major": 2,
       "version_minor": 0
      },
      "text/plain": [
       "Button(description='Copy URL', style=ButtonStyle())"
      ]
     },
     "metadata": {},
     "output_type": "display_data"
    },
    {
     "data": {
      "application/vnd.jupyter.widget-view+json": {
       "model_id": "f9d2c43d46a84fe0ad558153395a3d0f",
       "version_major": 2,
       "version_minor": 0
      },
      "text/plain": [
       "Output()"
      ]
     },
     "metadata": {},
     "output_type": "display_data"
    },
    {
     "name": "stdout",
     "output_type": "stream",
     "text": [
      "PS: to remove the \"Assets\" feature, just replace .add by .delete\n"
     ]
    },
    {
     "data": {
      "text/plain": [
       "'https://public.naas.ai/amVyZW15LTJFcmF2ZW5lbC00MGNhc2hzdG9yeS0yRWNvbQ==/asset/668e123a3d7e90788237f691b967e889f80ad7ccb5395ce174ea6defc2c5'"
      ]
     },
     "execution_count": 3,
     "metadata": {},
     "output_type": "execute_result"
    }
   ],
   "source": [
    "naas.assets.add(\"PEIX.csv\")"
   ]
  },
  {
   "cell_type": "code",
   "execution_count": 4,
   "metadata": {},
   "outputs": [
    {
     "name": "stdout",
     "output_type": "stream",
     "text": [
      "You can check your current tasks list here :\n"
     ]
    },
    {
     "data": {
      "text/html": [
       "<a href=\"https://public.naas.ai/amVyZW15LTJFcmF2ZW5lbC00MGNhc2hzdG9yeS0yRWNvbQ==/\"\">Manager</a>"
      ],
      "text/plain": [
       "<IPython.core.display.HTML object>"
      ]
     },
     "metadata": {},
     "output_type": "display_data"
    }
   ],
   "source": [
    "naas.manager()"
   ]
  },
  {
   "cell_type": "code",
   "execution_count": null,
   "metadata": {},
   "outputs": [],
   "source": []
  }
 ],
 "metadata": {
  "kernelspec": {
   "display_name": "Python 3",
   "language": "python",
   "name": "python3"
  },
  "language_info": {
   "codemirror_mode": {
    "name": "ipython",
    "version": 3
   },
   "file_extension": ".py",
   "mimetype": "text/x-python",
   "name": "python",
   "nbconvert_exporter": "python",
   "pygments_lexer": "ipython3",
   "version": "3.8.5"
  }
 },
 "nbformat": 4,
 "nbformat_minor": 4
}
