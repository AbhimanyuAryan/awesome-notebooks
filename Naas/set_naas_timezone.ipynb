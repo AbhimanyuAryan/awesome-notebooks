{
 "cells": [
  {
   "cell_type": "markdown",
   "id": "broad-avatar",
   "metadata": {},
   "source": [
    "<img width=\"10%\" alt=\"Naas\" src=\"https://landen.imgix.net/jtci2pxwjczr/assets/5ice39g4.png?w=160\"/>"
   ]
  },
  {
   "cell_type": "markdown",
   "id": "defensive-audit",
   "metadata": {},
   "source": [
    "# Change Naas timezone"
   ]
  },
  {
   "cell_type": "markdown",
   "id": "turkish-course",
   "metadata": {},
   "source": [
    "## Import needed library"
   ]
  },
  {
   "cell_type": "code",
   "execution_count": 2,
   "id": "theoretical-racing",
   "metadata": {
    "execution": {
     "iopub.execute_input": "2021-01-26T14:01:17.429904Z",
     "iopub.status.busy": "2021-01-26T14:01:17.429671Z",
     "iopub.status.idle": "2021-01-26T14:01:18.420124Z",
     "shell.execute_reply": "2021-01-26T14:01:18.419513Z",
     "shell.execute_reply.started": "2021-01-26T14:01:17.429879Z"
    }
   },
   "outputs": [],
   "source": [
    "import naas"
   ]
  },
  {
   "cell_type": "markdown",
   "id": "warming-economy",
   "metadata": {},
   "source": [
    "## Get your current timezone"
   ]
  },
  {
   "cell_type": "code",
   "execution_count": 3,
   "id": "level-assignment",
   "metadata": {
    "execution": {
     "iopub.execute_input": "2021-01-26T14:01:18.421472Z",
     "iopub.status.busy": "2021-01-26T14:01:18.421214Z",
     "iopub.status.idle": "2021-01-26T14:01:18.437192Z",
     "shell.execute_reply": "2021-01-26T14:01:18.436646Z",
     "shell.execute_reply.started": "2021-01-26T14:01:18.421422Z"
    }
   },
   "outputs": [
    {
     "name": "stdout",
     "output_type": "stream",
     "text": [
      "🕣 Your Production Timezone is Europe/Lisbon\n",
      "\n"
     ]
    },
    {
     "data": {
      "text/plain": [
       "{'tz': 'Europe/Lisbon'}"
      ]
     },
     "execution_count": 3,
     "metadata": {},
     "output_type": "execute_result"
    }
   ],
   "source": [
    "naas.get_remote_timezone()"
   ]
  },
  {
   "cell_type": "markdown",
   "id": "minimal-creator",
   "metadata": {},
   "source": [
    "## Select your timezone\n",
    "[Wikipedia timezones](https://en.wikipedia.org/wiki/List_of_tz_database_time_zones)"
   ]
  },
  {
   "cell_type": "code",
   "execution_count": 4,
   "id": "hungry-redhead",
   "metadata": {
    "execution": {
     "iopub.execute_input": "2021-01-26T14:05:47.702679Z",
     "iopub.status.busy": "2021-01-26T14:05:47.702448Z",
     "iopub.status.idle": "2021-01-26T14:05:47.705359Z",
     "shell.execute_reply": "2021-01-26T14:05:47.704751Z",
     "shell.execute_reply.started": "2021-01-26T14:05:47.702656Z"
    }
   },
   "outputs": [],
   "source": [
    "new_timezone = \"Europe/Paris\""
   ]
  },
  {
   "cell_type": "code",
   "execution_count": 5,
   "id": "geographic-banner",
   "metadata": {
    "execution": {
     "iopub.execute_input": "2021-01-26T14:05:47.979686Z",
     "iopub.status.busy": "2021-01-26T14:05:47.979461Z",
     "iopub.status.idle": "2021-01-26T14:05:47.994361Z",
     "shell.execute_reply": "2021-01-26T14:05:47.993777Z",
     "shell.execute_reply.started": "2021-01-26T14:05:47.979663Z"
    }
   },
   "outputs": [
    {
     "name": "stdout",
     "output_type": "stream",
     "text": [
      "🕣 Your Production Timezone is Europe/Paris\n",
      "\n"
     ]
    },
    {
     "data": {
      "text/plain": [
       "{'tz': 'Europe/Paris'}"
      ]
     },
     "execution_count": 5,
     "metadata": {},
     "output_type": "execute_result"
    }
   ],
   "source": [
    "naas.set_remote_timezone(new_timezone)"
   ]
  },
  {
   "cell_type": "code",
   "execution_count": null,
   "id": "indoor-electron",
   "metadata": {},
   "outputs": [],
   "source": []
  }
 ],
 "metadata": {
  "kernelspec": {
   "display_name": "Python 3",
   "language": "python",
   "name": "python3"
  },
  "language_info": {
   "codemirror_mode": {
    "name": "ipython",
    "version": 3
   },
   "file_extension": ".py",
   "mimetype": "text/x-python",
   "name": "python",
   "nbconvert_exporter": "python",
   "pygments_lexer": "ipython3",
   "version": "3.8.6"
  }
 },
 "nbformat": 4,
 "nbformat_minor": 5
}
