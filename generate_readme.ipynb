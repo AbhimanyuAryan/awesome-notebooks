{
 "cells": [
  {
   "cell_type": "markdown",
   "id": "silver-project",
   "metadata": {},
   "source": [
    "<img width=\"10%\" alt=\"Naas\" src=\"https://landen.imgix.net/jtci2pxwjczr/assets/5ice39g4.png?w=160\"/>\n",
    "\n",
    "# Generate Readme for Awesome Notebooks"
   ]
  },
  {
   "cell_type": "code",
   "execution_count": 1,
   "id": "economic-ordinance",
   "metadata": {
    "execution": {
     "iopub.execute_input": "2021-05-19T13:37:07.949983Z",
     "iopub.status.busy": "2021-05-19T13:37:07.949547Z",
     "iopub.status.idle": "2021-05-19T13:37:12.580886Z",
     "shell.execute_reply": "2021-05-19T13:37:12.580107Z",
     "shell.execute_reply.started": "2021-05-19T13:37:07.949897Z"
    },
    "tags": []
   },
   "outputs": [],
   "source": [
    "import os\n",
    "import naas_drivers\n",
    "import urllib.parse\n",
    "\n",
    "import copy\n",
    "import nbformat\n",
    "\n",
    "from papermill.iorw import (\n",
    "    load_notebook_node,\n",
    "    write_ipynb,\n",
    ")"
   ]
  },
  {
   "cell_type": "markdown",
   "id": "elegant-variable",
   "metadata": {},
   "source": [
    "## Variables"
   ]
  },
  {
   "cell_type": "code",
   "execution_count": 2,
   "id": "complex-pilot",
   "metadata": {
    "execution": {
     "iopub.execute_input": "2021-05-19T13:37:12.583264Z",
     "iopub.status.busy": "2021-05-19T13:37:12.582833Z",
     "iopub.status.idle": "2021-05-19T13:37:12.593896Z",
     "shell.execute_reply": "2021-05-19T13:37:12.593354Z",
     "shell.execute_reply.started": "2021-05-19T13:37:12.583230Z"
    },
    "tags": []
   },
   "outputs": [],
   "source": [
    "readme_template = \"README_template.md\"\n",
    "readme = \"README.md\"\n",
    "replace_var = \"[[DYNAMIC_LIST]]\"\n",
    "current_file = '.'\n",
    "notebook_ext = '.ipynb'\n",
    "github_url = 'https://github.com/jupyter-naas/awesome-notebooks/tree/master'\n",
    "github_download_url = 'https://raw.githubusercontent.com/jupyter-naas/awesome-notebooks/master/'\n",
    "naas_download_url='https://app.naas.ai/user-redirect/naas/downloader?url='\n",
    "naas_logo='https://img.shields.io/badge/-Open%20in%20Naas-success?labelColor=000000&logo=data:image/svg+xml;base64,PD94bWwgdmVyc2lvbj0iMS4wIiBlbmNvZGluZz0iVVRGLTgiPz4KPHN2ZyB3aWR0aD0iMTAyNHB4IiBoZWlnaHQ9IjEwMjRweCIgdmlld0JveD0iMCAwIDEwMjQgMTAyNCIgeG1sbnM9Imh0dHA6Ly93d3cudzMub3JnLzIwMDAvc3ZnIiB4bWxuczp4bGluaz0iaHR0cDovL3d3dy53My5vcmcvMTk5OS94bGluayIgdmVyc2lvbj0iMS4xIj4KIDwhLS0gR2VuZXJhdGVkIGJ5IFBpeGVsbWF0b3IgUHJvIDIuMC41IC0tPgogPGRlZnM+CiAgPHRleHQgaWQ9InN0cmluZyIgdHJhbnNmb3JtPSJtYXRyaXgoMS4wIDAuMCAwLjAgMS4wIDIyOC4wIDU0LjUpIiBmb250LWZhbWlseT0iQ29tZm9ydGFhLVJlZ3VsYXIsIENvbWZvcnRhYSIgZm9udC1zaXplPSI4MDAiIHRleHQtZGVjb3JhdGlvbj0ibm9uZSIgZmlsbD0iI2ZmZmZmZiIgeD0iMS4xOTk5OTk5OTk5OTk5ODg2IiB5PSI3MDUuMCI+bjwvdGV4dD4KIDwvZGVmcz4KIDx1c2UgaWQ9Im4iIHhsaW5rOmhyZWY9IiNzdHJpbmciLz4KPC9zdmc+Cg=='"
   ]
  },
  {
   "cell_type": "markdown",
   "id": "floppy-surrey",
   "metadata": {},
   "source": [
    "## Get files list"
   ]
  },
  {
   "cell_type": "code",
   "execution_count": 3,
   "id": "pretty-valve",
   "metadata": {
    "execution": {
     "iopub.execute_input": "2021-05-19T13:37:12.595399Z",
     "iopub.status.busy": "2021-05-19T13:37:12.595013Z",
     "iopub.status.idle": "2021-05-19T13:37:12.790721Z",
     "shell.execute_reply": "2021-05-19T13:37:12.785603Z",
     "shell.execute_reply.started": "2021-05-19T13:37:12.595370Z"
    },
    "tags": []
   },
   "outputs": [],
   "source": [
    "total = []\n",
    "for root, directories, files in os.walk(current_file, topdown=False):\n",
    "    total.append({\"root\": root, \"directories\":directories, \"files\":files})\n",
    "total.sort(key=lambda x: x.get('root'))"
   ]
  },
  {
   "cell_type": "markdown",
   "id": "phantom-breakdown",
   "metadata": {},
   "source": [
    "## Set 'Naas Download' link on notebook"
   ]
  },
  {
   "cell_type": "code",
   "execution_count": 4,
   "id": "minute-three",
   "metadata": {
    "execution": {
     "iopub.execute_input": "2021-05-19T13:37:12.791865Z",
     "iopub.status.busy": "2021-05-19T13:37:12.791640Z",
     "iopub.status.idle": "2021-05-19T13:37:12.812955Z",
     "shell.execute_reply": "2021-05-19T13:37:12.805383Z",
     "shell.execute_reply.started": "2021-05-19T13:37:12.791835Z"
    },
    "tags": []
   },
   "outputs": [],
   "source": [
    "def get_title(folder_nice, file_nice, download_link):\n",
    "    return f\"\"\"# {folder_nice} - {file_nice}\\n<a href=\"{download_link}\" target=\"_parent\">\\n<img src=\"{naas_logo}\"/>\\n</a>\"\"\"\n",
    "\n",
    "def set_notebook_title(notebook_path, title_source):\n",
    "    count = 0\n",
    "    nb = load_notebook_node(notebook_path)\n",
    "    nb = copy.deepcopy(nb)\n",
    "    for cell in nb.cells:\n",
    "        source = cell.source\n",
    "        if  cell.cell_type == \"markdown\" and len(source) > 2 and source[0] == '#' and source[1] == ' ':\n",
    "            nb.cells[count].source = title_source\n",
    "            write_ipynb(nb, notebook_path)\n",
    "            break\n",
    "        count += 1\n"
   ]
  },
  {
   "cell_type": "markdown",
   "id": "stunning-instrument",
   "metadata": {
    "execution": {
     "iopub.execute_input": "2021-01-26T16:25:51.412411Z",
     "iopub.status.busy": "2021-01-26T16:25:51.412178Z",
     "iopub.status.idle": "2021-01-26T16:25:51.414944Z",
     "shell.execute_reply": "2021-01-26T16:25:51.414298Z",
     "shell.execute_reply.started": "2021-01-26T16:25:51.412388Z"
    }
   },
   "source": [
    "## Convert filepath in Markdown text"
   ]
  },
  {
   "cell_type": "code",
   "execution_count": 5,
   "id": "incredible-pastor",
   "metadata": {
    "execution": {
     "iopub.execute_input": "2021-05-19T13:37:12.814027Z",
     "iopub.status.busy": "2021-05-19T13:37:12.813819Z",
     "iopub.status.idle": "2021-05-19T13:37:12.904221Z",
     "shell.execute_reply": "2021-05-19T13:37:12.900057Z",
     "shell.execute_reply.started": "2021-05-19T13:37:12.814002Z"
    },
    "tags": []
   },
   "outputs": [],
   "source": [
    "def get_file_md(folder_nice, folder_url, files, title_sep=\"##\", subtitle_sep=\"*\"):\n",
    "    md = \"\"\n",
    "    if (len(files) > 0):\n",
    "        md += f\"\\n{title_sep} {folder_nice}\\n\"\n",
    "        for file in files:\n",
    "    #                 print(file)\n",
    "\n",
    "            if file.endswith(notebook_ext):\n",
    "                file_url = urllib.parse.quote(file)\n",
    "                file_nice = file.replace('_', ' ')\n",
    "                file_nice = file_nice.replace(notebook_ext, '')\n",
    "                file_nice = file_nice.replace(folder_nice, '')\n",
    "                file_nice = file_nice.strip()\n",
    "                file_nice = file_nice[0].capitalize() + file_nice[1:]\n",
    "                path = urllib.parse.unquote(f\"{folder_url}/{file_url}\")\n",
    "                title = get_title(folder_nice, file_nice, f\"{naas_download_url}{github_download_url}{folder_url}/{file_url}\")\n",
    "                set_notebook_title(path, title)\n",
    "                md += f\"{subtitle_sep} [{file_nice}]({github_url}/{folder_url}/{file_url})\\n\"\n",
    "    return md"
   ]
  },
  {
   "cell_type": "markdown",
   "id": "amateur-sequence",
   "metadata": {},
   "source": [
    "## Create list of all notebooks"
   ]
  },
  {
   "cell_type": "code",
   "execution_count": null,
   "id": "exciting-vault",
   "metadata": {
    "execution": {
     "iopub.execute_input": "2021-05-19T13:37:12.907244Z",
     "iopub.status.busy": "2021-05-19T13:37:12.906451Z",
     "iopub.status.idle": "2021-05-19T13:37:30.172608Z",
     "shell.execute_reply": "2021-05-19T13:37:30.171824Z",
     "shell.execute_reply.started": "2021-05-19T13:37:12.907211Z"
    },
    "tags": []
   },
   "outputs": [],
   "source": [
    "generated_list = \"\"\n",
    "\n",
    "for cur in total:\n",
    "    root = cur.get('root')\n",
    "    md_round = \"\"\n",
    "    directories = cur.get('directories') \n",
    "    files = cur.get('files')\n",
    "    if ('.git' not in root and '.ipynb_checkpoints' not in root and '.' != root):\n",
    "#         print(root)\n",
    "#         print(root, files, '\\n')\n",
    "        folder_nice = root.replace('./', '')\n",
    "        folder_url = urllib.parse.quote(folder_nice)\n",
    "        if ('/' not in folder_nice):\n",
    "            md_round += get_file_md(folder_nice, folder_url, files)\n",
    "        elif ('/' in folder_nice):\n",
    "            folder_url = urllib.parse.quote(folder_nice)\n",
    "            subfolder_nice = folder_nice.split('/')[1].replace('_', ' ').replace(folder_nice, '').strip()\n",
    "            md_round += get_file_md(subfolder_nice, folder_url, files, \"\\t###\", \"\\t-\")\n",
    "    elif ('.ipynb_checkpoints' in root):\n",
    "         print(root, files)\n",
    "         for file in files:\n",
    "            try:\n",
    "                os.remove(os.path.join(root, file))\n",
    "            except:\n",
    "                pass\n",
    "         try:\n",
    "            os.rmdir(root)\n",
    "         except:\n",
    "            pass\n",
    "#     print(md_round)\n",
    "    generated_list += md_round\n",
    "      "
   ]
  },
  {
   "cell_type": "markdown",
   "id": "disabled-enemy",
   "metadata": {},
   "source": [
    "## Preview the generated list"
   ]
  },
  {
   "cell_type": "code",
   "execution_count": null,
   "id": "bulgarian-bench",
   "metadata": {
    "execution": {
     "iopub.execute_input": "2021-05-19T13:37:30.174125Z",
     "iopub.status.busy": "2021-05-19T13:37:30.173707Z",
     "iopub.status.idle": "2021-05-19T13:37:30.767647Z",
     "shell.execute_reply": "2021-05-19T13:37:30.766969Z",
     "shell.execute_reply.started": "2021-05-19T13:37:30.174091Z"
    },
    "tags": []
   },
   "outputs": [],
   "source": [
    "naas_drivers.markdown.display(generated_list)"
   ]
  },
  {
   "cell_type": "code",
   "execution_count": null,
   "id": "prime-conclusion",
   "metadata": {
    "execution": {
     "iopub.execute_input": "2021-05-19T13:37:30.769147Z",
     "iopub.status.busy": "2021-05-19T13:37:30.768743Z",
     "iopub.status.idle": "2021-05-19T13:37:30.818934Z",
     "shell.execute_reply": "2021-05-19T13:37:30.818319Z",
     "shell.execute_reply.started": "2021-05-19T13:37:30.769115Z"
    },
    "tags": []
   },
   "outputs": [],
   "source": [
    "template = open(readme_template).read()\n",
    "\n",
    "template = template.replace(replace_var, generated_list)\n",
    "\n",
    "f  = open(readme, \"w+\")\n",
    "f.write(template)\n",
    "f.close()"
   ]
  }
 ],
 "metadata": {
  "kernelspec": {
   "display_name": "Python 3",
   "language": "python",
   "name": "python3"
  },
  "language_info": {
   "codemirror_mode": {
    "name": "ipython",
    "version": 3
   },
   "file_extension": ".py",
   "mimetype": "text/x-python",
   "name": "python",
   "nbconvert_exporter": "python",
   "pygments_lexer": "ipython3",
   "version": "3.9.4"
  },
  "widgets": {
   "application/vnd.jupyter.widget-state+json": {
    "state": {},
    "version_major": 2,
    "version_minor": 0
   }
  }
 },
 "nbformat": 4,
 "nbformat_minor": 5
}