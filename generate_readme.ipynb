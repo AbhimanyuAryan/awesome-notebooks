{
 "cells": [
  {
   "cell_type": "markdown",
   "id": "practical-ownership",
   "metadata": {},
   "source": [
    "<img width=\"10%\" alt=\"Naas\" src=\"https://landen.imgix.net/jtci2pxwjczr/assets/5ice39g4.png?w=160\"/>\n",
    "\n",
    "# Generate Readme for Awesome Notebooks"
   ]
  },
  {
   "cell_type": "code",
   "execution_count": 29,
   "id": "medieval-father",
   "metadata": {
    "execution": {
     "iopub.execute_input": "2021-03-03T08:50:20.951558Z",
     "iopub.status.busy": "2021-03-03T08:50:20.951299Z",
     "iopub.status.idle": "2021-03-03T08:50:22.902557Z",
     "shell.execute_reply": "2021-03-03T08:50:22.901812Z",
     "shell.execute_reply.started": "2021-03-03T08:50:20.951489Z"
    }
   },
   "outputs": [],
   "source": [
    "import os\n",
    "import naas_drivers\n",
    "import urllib.parse"
   ]
  },
  {
   "cell_type": "markdown",
   "id": "frank-denver",
   "metadata": {},
   "source": [
    "## Variables"
   ]
  },
  {
   "cell_type": "code",
   "execution_count": 60,
   "id": "premium-favorite",
   "metadata": {
    "execution": {
     "iopub.execute_input": "2021-03-03T08:50:22.904384Z",
     "iopub.status.busy": "2021-03-03T08:50:22.904153Z",
     "iopub.status.idle": "2021-03-03T08:50:22.909255Z",
     "shell.execute_reply": "2021-03-03T08:50:22.908741Z",
     "shell.execute_reply.started": "2021-03-03T08:50:22.904352Z"
    }
   },
   "outputs": [],
   "source": [
    "readme_template = \"README_template.md\"\n",
    "readme = \"README.md\"\n",
    "replace_var = \"[[DYNAMIC_LIST]]\"\n",
    "current_file = '.'\n",
    "notebook_ext = '.ipynb'\n",
    "github_url = 'https://github.com/jupyter-naas/awesome-notebooks/tree/master'\n",
    "github_download_url = 'https://raw.githubusercontent.com/jupyter-naas/awesome-notebooks/master/'\n",
    "naas_download_url='https://app.naas.ai/user-redirect/naas/downloader?url='"
   ]
  },
  {
   "cell_type": "markdown",
   "id": "extended-custom",
   "metadata": {},
   "source": [
    "## Get files list"
   ]
  },
  {
   "cell_type": "code",
   "execution_count": 31,
   "id": "rising-pakistan",
   "metadata": {
    "execution": {
     "iopub.execute_input": "2021-03-03T08:50:22.911225Z",
     "iopub.status.busy": "2021-03-03T08:50:22.911013Z",
     "iopub.status.idle": "2021-03-03T08:50:23.329610Z",
     "shell.execute_reply": "2021-03-03T08:50:23.328857Z",
     "shell.execute_reply.started": "2021-03-03T08:50:22.911198Z"
    }
   },
   "outputs": [],
   "source": [
    "total = []\n",
    "for root, directories, files in os.walk(current_file, topdown=False):\n",
    "    total.append({\"root\": root, \"directories\":directories, \"files\":files})\n",
    "total.sort(key=lambda x: x.get('root'))"
   ]
  },
  {
   "cell_type": "markdown",
   "id": "massive-quarter",
   "metadata": {
    "execution": {
     "iopub.execute_input": "2021-01-26T16:25:51.412411Z",
     "iopub.status.busy": "2021-01-26T16:25:51.412178Z",
     "iopub.status.idle": "2021-01-26T16:25:51.414944Z",
     "shell.execute_reply": "2021-01-26T16:25:51.414298Z",
     "shell.execute_reply.started": "2021-01-26T16:25:51.412388Z"
    }
   },
   "source": [
    "## Convert filepath in Markdown text"
   ]
  },
  {
   "cell_type": "code",
   "execution_count": 76,
   "id": "found-supplier",
   "metadata": {
    "execution": {
     "iopub.execute_input": "2021-03-03T08:50:23.331020Z",
     "iopub.status.busy": "2021-03-03T08:50:23.330771Z",
     "iopub.status.idle": "2021-03-03T08:50:23.336457Z",
     "shell.execute_reply": "2021-03-03T08:50:23.335893Z",
     "shell.execute_reply.started": "2021-03-03T08:50:23.330988Z"
    }
   },
   "outputs": [],
   "source": [
    "def get_file_md(folder_nice, folder_url, files, title_sep=\"##\", subtitle_sep=\"*\"):\n",
    "    md = \"\"\n",
    "    if (len(files) > 0):\n",
    "        md += f\"\\n{title_sep} {folder_nice}\\n\"\n",
    "        for file in files:\n",
    "    #                 print(file)\n",
    "\n",
    "            if file.endswith(notebook_ext):\n",
    "                file_url = urllib.parse.quote(file)\n",
    "                file_nice = file.replace('_', ' ')\n",
    "                file_nice = file_nice.replace(notebook_ext, '')\n",
    "                file_nice = file_nice.replace(folder_nice, '')\n",
    "                file_nice = file_nice.strip()\n",
    "                file_nice = file_nice[0].capitalize() + file_nice[1:]\n",
    "                md += f\"{subtitle_sep} [{file_nice}]({github_url}/{folder_url}/{file_url}) [⬆️]({naas_download_url}{github_download_url}{folder_url}/{file_url})\\n\"\n",
    "    return md"
   ]
  },
  {
   "cell_type": "markdown",
   "id": "acute-harvest",
   "metadata": {},
   "source": [
    "## Create list of all notebooks"
   ]
  },
  {
   "cell_type": "code",
   "execution_count": 77,
   "id": "criminal-vietnamese",
   "metadata": {
    "execution": {
     "iopub.execute_input": "2021-03-03T08:50:23.337873Z",
     "iopub.status.busy": "2021-03-03T08:50:23.337467Z",
     "iopub.status.idle": "2021-03-03T08:50:23.484164Z",
     "shell.execute_reply": "2021-03-03T08:50:23.483581Z",
     "shell.execute_reply.started": "2021-03-03T08:50:23.337844Z"
    }
   },
   "outputs": [],
   "source": [
    "generated_list = \"\"\n",
    "\n",
    "for cur in total:\n",
    "    root = cur.get('root')\n",
    "    md_round = \"\"\n",
    "    directories = cur.get('directories') \n",
    "    files = cur.get('files')\n",
    "    if ('.git' not in root and '.ipynb_checkpoints' not in root and '.' != root):\n",
    "#         print(root)\n",
    "#         print(root, files, '\\n')\n",
    "        folder_nice = root.replace('./', '')\n",
    "        folder_url = urllib.parse.quote(folder_nice)\n",
    "        if ('/' not in folder_nice):\n",
    "            md_round += get_file_md(folder_nice, folder_url, files)\n",
    "        elif ('/' in folder_nice):\n",
    "            folder_url = urllib.parse.quote(folder_nice)\n",
    "            subfolder_nice = folder_nice.split('/')[1].replace('_', ' ').replace(folder_nice, '').strip()\n",
    "            md_round += get_file_md(subfolder_nice, folder_url, files, \"\\t###\", \"\\t-\")\n",
    "    elif ('.ipynb_checkpoints' in root):\n",
    "#         print(root, files)\n",
    "        for file in files:\n",
    "            try:\n",
    "                os.remove(os.path.join(root, file))\n",
    "            except:\n",
    "                pass\n",
    "        try:\n",
    "            os.rmdir(root)\n",
    "        except:\n",
    "            pass\n",
    "#     print(md_round)\n",
    "    generated_list += md_round\n",
    "      "
   ]
  },
  {
   "cell_type": "markdown",
   "id": "public-organ",
   "metadata": {},
   "source": [
    "## Preview the generated list"
   ]
  },
  {
   "cell_type": "code",
   "execution_count": 9,
   "id": "pretty-africa",
   "metadata": {
    "execution": {
     "iopub.execute_input": "2021-03-03T08:50:23.485378Z",
     "iopub.status.busy": "2021-03-03T08:50:23.485144Z",
     "iopub.status.idle": "2021-03-03T08:50:23.770232Z",
     "shell.execute_reply": "2021-03-03T08:50:23.769616Z",
     "shell.execute_reply.started": "2021-03-03T08:50:23.485348Z"
    }
   },
   "outputs": [
    {
     "output_type": "error",
     "ename": "AttributeError",
     "evalue": "module 'naas_drivers' has no attribute 'markdown'",
     "traceback": [
      "\u001b[0;31m---------------------------------------------------------------------------\u001b[0m",
      "\u001b[0;31mAttributeError\u001b[0m                            Traceback (most recent call last)",
      "\u001b[0;32m<ipython-input-9-102d7d7a34c9>\u001b[0m in \u001b[0;36m<module>\u001b[0;34m\u001b[0m\n\u001b[0;32m----> 1\u001b[0;31m \u001b[0mnaas_drivers\u001b[0m\u001b[0;34m.\u001b[0m\u001b[0mmarkdown\u001b[0m\u001b[0;34m.\u001b[0m\u001b[0mdisplay\u001b[0m\u001b[0;34m(\u001b[0m\u001b[0mgenerated_list\u001b[0m\u001b[0;34m)\u001b[0m\u001b[0;34m\u001b[0m\u001b[0;34m\u001b[0m\u001b[0m\n\u001b[0m",
      "\u001b[0;31mAttributeError\u001b[0m: module 'naas_drivers' has no attribute 'markdown'"
     ]
    }
   ],
   "source": [
    "naas_drivers.markdown.display(generated_list)"
   ]
  },
  {
   "cell_type": "code",
   "execution_count": 78,
   "id": "arctic-language",
   "metadata": {
    "execution": {
     "iopub.execute_input": "2021-03-03T08:50:23.771184Z",
     "iopub.status.busy": "2021-03-03T08:50:23.771017Z",
     "iopub.status.idle": "2021-03-03T08:50:23.817216Z",
     "shell.execute_reply": "2021-03-03T08:50:23.816658Z",
     "shell.execute_reply.started": "2021-03-03T08:50:23.771165Z"
    }
   },
   "outputs": [],
   "source": [
    "template = open(readme_template).read()\n",
    "\n",
    "template = template.replace(replace_var, generated_list)\n",
    "\n",
    "f  = open(readme, \"w+\")\n",
    "f.write(template)\n",
    "f.close()"
   ]
  },
  {
   "cell_type": "code",
   "execution_count": null,
   "id": "addressed-developer",
   "metadata": {},
   "outputs": [],
   "source": []
  }
 ],
 "metadata": {
  "kernelspec": {
   "display_name": "Python 3",
   "language": "python",
   "name": "python3"
  },
  "language_info": {
   "codemirror_mode": {
    "name": "ipython",
    "version": 3
   },
   "file_extension": ".py",
   "mimetype": "text/x-python",
   "name": "python",
   "nbconvert_exporter": "python",
   "pygments_lexer": "ipython3",
   "version": "3.9.2-final"
  }
 },
 "nbformat": 4,
 "nbformat_minor": 5
}