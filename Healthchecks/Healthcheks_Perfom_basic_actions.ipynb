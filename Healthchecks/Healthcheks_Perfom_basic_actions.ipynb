{
 "cells": [
  {
   "cell_type": "markdown",
   "id": "imposed-nickname",
   "metadata": {},
   "source": [
    "<img width=\"10%\" alt=\"Naas\" src=\"https://landen.imgix.net/jtci2pxwjczr/assets/5ice39g4.png?w=160\"/>"
   ]
  },
  {
   "cell_type": "markdown",
   "id": "dated-disco",
   "metadata": {},
   "source": [
    "# Healthchecks - Perform basic actions"
   ]
  },
  {
   "cell_type": "markdown",
   "id": "ruled-admission",
   "metadata": {},
   "source": [
    "Get notified of your Cron jobs"
   ]
  },
  {
   "cell_type": "markdown",
   "id": "known-battlefield",
   "metadata": {
    "execution": {
     "iopub.execute_input": "2021-02-28T13:36:11.829590Z",
     "iopub.status.busy": "2021-02-28T13:36:11.829246Z",
     "iopub.status.idle": "2021-02-28T13:36:11.835447Z",
     "shell.execute_reply": "2021-02-28T13:36:11.834849Z",
     "shell.execute_reply.started": "2021-02-28T13:36:11.829498Z"
    }
   },
   "source": [
    "## Starting"
   ]
  },
  {
   "cell_type": "code",
   "execution_count": null,
   "id": "vital-brush",
   "metadata": {},
   "outputs": [],
   "source": [
    "key = \"123456-123456-12455\"\n",
    "naas_drivers.healthcheck.connect(key).send(\"start\")"
   ]
  },
  {
   "cell_type": "markdown",
   "id": "banner-privacy",
   "metadata": {},
   "source": [
    "## Done"
   ]
  },
  {
   "cell_type": "code",
   "execution_count": null,
   "id": "nuclear-friend",
   "metadata": {},
   "outputs": [],
   "source": [
    "key = \"123456-123456-12455\"\n",
    "naas_drivers.healthcheck.connect(key).send()"
   ]
  },
  {
   "cell_type": "markdown",
   "id": "hourly-kidney",
   "metadata": {},
   "source": [
    "## Failing"
   ]
  },
  {
   "cell_type": "code",
   "execution_count": null,
   "id": "involved-earthquake",
   "metadata": {},
   "outputs": [],
   "source": [
    "key = \"123456-123456-12455\"\n",
    "naas_drivers.healthcheck.connect(key).send(\"fail\")"
   ]
  },
  {
   "cell_type": "markdown",
   "id": "dominant-hardwood",
   "metadata": {
    "execution": {
     "iopub.execute_input": "2021-02-28T13:43:57.617499Z",
     "iopub.status.busy": "2021-02-28T13:43:57.617275Z",
     "iopub.status.idle": "2021-02-28T13:43:57.619938Z",
     "shell.execute_reply": "2021-02-28T13:43:57.619317Z",
     "shell.execute_reply.started": "2021-02-28T13:43:57.617477Z"
    }
   },
   "source": [
    "## Check status UP"
   ]
  },
  {
   "cell_type": "code",
   "execution_count": null,
   "id": "eligible-mandate",
   "metadata": {},
   "outputs": [],
   "source": [
    "url = \"https://google.com\"\n",
    "key = \"123456-123456-12455\"\n",
    "naas_drivers.health_check.connect(key).check_up(url)"
   ]
  }
 ],
 "metadata": {
  "kernelspec": {
   "display_name": "Python 3",
   "language": "python",
   "name": "python3"
  },
  "language_info": {
   "codemirror_mode": {
    "name": "ipython",
    "version": 3
   },
   "file_extension": ".py",
   "mimetype": "text/x-python",
   "name": "python",
   "nbconvert_exporter": "python",
   "pygments_lexer": "ipython3",
   "version": "3.8.6"
  }
 },
 "nbformat": 4,
 "nbformat_minor": 5
}
