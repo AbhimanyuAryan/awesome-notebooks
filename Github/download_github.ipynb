{
 "cells": [
  {
   "cell_type": "markdown",
   "id": "capital-title",
   "metadata": {
    "execution": {
     "iopub.execute_input": "2021-01-26T14:19:41.734342Z",
     "iopub.status.busy": "2021-01-26T14:19:41.734061Z",
     "iopub.status.idle": "2021-01-26T14:19:41.746082Z",
     "shell.execute_reply": "2021-01-26T14:19:41.745168Z",
     "shell.execute_reply.started": "2021-01-26T14:19:41.734276Z"
    }
   },
   "source": [
    "<img width=\"10%\" alt=\"Naas\" src=\"https://landen.imgix.net/jtci2pxwjczr/assets/5ice39g4.png?w=160\"/>"
   ]
  },
  {
   "cell_type": "markdown",
   "id": "varying-cliff",
   "metadata": {
    "execution": {
     "iopub.execute_input": "2021-01-26T14:20:23.712683Z",
     "iopub.status.busy": "2021-01-26T14:20:23.712460Z",
     "iopub.status.idle": "2021-01-26T14:20:23.715365Z",
     "shell.execute_reply": "2021-01-26T14:20:23.714680Z",
     "shell.execute_reply.started": "2021-01-26T14:20:23.712660Z"
    }
   },
   "source": [
    "# Create Download url for github file"
   ]
  },
  {
   "cell_type": "markdown",
   "id": "missing-horror",
   "metadata": {
    "execution": {
     "iopub.execute_input": "2021-01-26T14:20:42.280435Z",
     "iopub.status.busy": "2021-01-26T14:20:42.280200Z",
     "iopub.status.idle": "2021-01-26T14:20:42.283029Z",
     "shell.execute_reply": "2021-01-26T14:20:42.282302Z",
     "shell.execute_reply.started": "2021-01-26T14:20:42.280412Z"
    }
   },
   "source": [
    "## Import needed library"
   ]
  },
  {
   "cell_type": "code",
   "execution_count": 7,
   "id": "posted-fabric",
   "metadata": {
    "execution": {
     "iopub.execute_input": "2021-01-26T14:27:18.914548Z",
     "iopub.status.busy": "2021-01-26T14:27:18.914290Z",
     "iopub.status.idle": "2021-01-26T14:27:18.917310Z",
     "shell.execute_reply": "2021-01-26T14:27:18.916718Z",
     "shell.execute_reply.started": "2021-01-26T14:27:18.914518Z"
    }
   },
   "outputs": [],
   "source": [
    "import requests\n",
    "import naas\n",
    "import uuid"
   ]
  },
  {
   "cell_type": "markdown",
   "id": "hundred-success",
   "metadata": {},
   "source": [
    "## Default Github file for testing purpose"
   ]
  },
  {
   "cell_type": "code",
   "execution_count": 8,
   "id": "operating-commerce",
   "metadata": {
    "execution": {
     "iopub.execute_input": "2021-01-26T14:27:19.233901Z",
     "iopub.status.busy": "2021-01-26T14:27:19.233658Z",
     "iopub.status.idle": "2021-01-26T14:27:19.236530Z",
     "shell.execute_reply": "2021-01-26T14:27:19.235922Z",
     "shell.execute_reply.started": "2021-01-26T14:27:19.233872Z"
    },
    "tags": [
     "parameters"
    ]
   },
   "outputs": [],
   "source": [
    "target = \"https://github.com/jupyter-naas/awesome-notebooks/blob/master/Plotly/Create%20Candlestick%20chart.ipynb\""
   ]
  },
  {
   "cell_type": "markdown",
   "id": "ignored-railway",
   "metadata": {},
   "source": [
    "## Convert url to downloadable one"
   ]
  },
  {
   "cell_type": "code",
   "execution_count": 9,
   "id": "hired-navigator",
   "metadata": {
    "execution": {
     "iopub.execute_input": "2021-01-26T14:27:19.578306Z",
     "iopub.status.busy": "2021-01-26T14:27:19.578063Z",
     "iopub.status.idle": "2021-01-26T14:27:19.581772Z",
     "shell.execute_reply": "2021-01-26T14:27:19.581168Z",
     "shell.execute_reply.started": "2021-01-26T14:27:19.578283Z"
    }
   },
   "outputs": [
    {
     "name": "stdout",
     "output_type": "stream",
     "text": [
      "https://raw.githubusercontent.com/jupyter-naas/awesome-notebooks/master/Plotly/Create%20Candlestick%20chart.ipynb\n"
     ]
    }
   ],
   "source": [
    "# https://raw.githubusercontent.com/jupyter-naas/awesome-notebooks/master/Dataviz/Plotly/Create%20Candlestick%20chart.ipynb\n",
    "raw_target = target.replace(\"https://github.com/\", \"https://raw.githubusercontent.com/\")\n",
    "raw_target = raw_target.replace(\"/blob/\", \"/\")\n",
    "print(raw_target)"
   ]
  },
  {
   "cell_type": "markdown",
   "id": "continental-syndication",
   "metadata": {},
   "source": [
    "## Dowload file locally"
   ]
  },
  {
   "cell_type": "code",
   "execution_count": 10,
   "id": "industrial-water",
   "metadata": {
    "execution": {
     "iopub.execute_input": "2021-01-26T14:27:19.965153Z",
     "iopub.status.busy": "2021-01-26T14:27:19.964928Z",
     "iopub.status.idle": "2021-01-26T14:27:20.163246Z",
     "shell.execute_reply": "2021-01-26T14:27:20.162705Z",
     "shell.execute_reply.started": "2021-01-26T14:27:19.965129Z"
    }
   },
   "outputs": [],
   "source": [
    "import urllib.parse\n",
    "r = requests.get(raw_target)\n",
    "uid = uuid.uuid4().hex\n",
    "\n",
    "file_name = raw_target.split('/')[-1]\n",
    "file_name = urllib.parse.unquote(file_name)\n",
    "\n",
    "with open(file_name, 'wb') as f:\n",
    "    f.write(r.content)"
   ]
  },
  {
   "cell_type": "markdown",
   "id": "brave-relaxation",
   "metadata": {},
   "source": [
    "## Set new file as response"
   ]
  },
  {
   "cell_type": "code",
   "execution_count": 5,
   "id": "understood-terrorism",
   "metadata": {
    "execution": {
     "iopub.execute_input": "2021-01-26T14:22:26.762191Z",
     "iopub.status.busy": "2021-01-26T14:22:26.762008Z",
     "iopub.status.idle": "2021-01-26T14:22:26.776045Z",
     "shell.execute_reply": "2021-01-26T14:22:26.775531Z",
     "shell.execute_reply.started": "2021-01-26T14:22:26.762171Z"
    }
   },
   "outputs": [
    {
     "data": {
      "text/markdown": [
       "Response Set as File, preview below: "
      ],
      "text/plain": [
       "<IPython.core.display.Markdown object>"
      ]
     },
     "metadata": {},
     "output_type": "display_data"
    },
    {
     "data": {
      "application/json": {
       "path": "/home/ftp/templates/Create Candlestick chart.ipynb"
      },
      "text/plain": [
       "<IPython.core.display.JSON object>"
      ]
     },
     "metadata": {
      "application/json": {
       "expanded": false,
       "naas_api": true,
       "naas_type": "application/vnd.jupyter",
       "root": "root"
      }
     },
     "output_type": "display_data"
    }
   ],
   "source": [
    "naas.webhook.respond_file(file_name)"
   ]
  },
  {
   "cell_type": "markdown",
   "id": "durable-california",
   "metadata": {},
   "source": [
    "## Add this notebook in production to get url"
   ]
  },
  {
   "cell_type": "code",
   "execution_count": 6,
   "id": "organic-relaxation",
   "metadata": {
    "execution": {
     "iopub.execute_input": "2021-01-26T14:22:26.777107Z",
     "iopub.status.busy": "2021-01-26T14:22:26.776889Z",
     "iopub.status.idle": "2021-01-26T14:22:27.027314Z",
     "shell.execute_reply": "2021-01-26T14:22:27.026682Z",
     "shell.execute_reply.started": "2021-01-26T14:22:26.777080Z"
    }
   },
   "outputs": [
    {
     "name": "stdout",
     "output_type": "stream",
     "text": [
      "👌 Well done! Your Notebook has been sent to production.\n",
      "\n"
     ]
    },
    {
     "data": {
      "application/vnd.jupyter.widget-view+json": {
       "model_id": "1f8a721a6d1c43499cff17bee330df36",
       "version_major": 2,
       "version_minor": 0
      },
      "text/plain": [
       "Button(button_style='primary', description='Copy URL', style=ButtonStyle())"
      ]
     },
     "metadata": {},
     "output_type": "display_data"
    },
    {
     "data": {
      "application/vnd.jupyter.widget-view+json": {
       "model_id": "f022080164c84f05b97b0b765ccd2682",
       "version_major": 2,
       "version_minor": 0
      },
      "text/plain": [
       "Output()"
      ]
     },
     "metadata": {},
     "output_type": "display_data"
    },
    {
     "name": "stdout",
     "output_type": "stream",
     "text": [
      "PS: to remove the \"Notebook as API\" feature, just replace .add by .delete\n"
     ]
    },
    {
     "data": {
      "text/plain": [
       "'https://public.naas.ai/ZGV2b3BzLTQwY2FzaHN0b3J5LTJFY29t/notebook/50ab81c07ba03d9dbc27b68ef8a293d682ec5b4cfc17983adba95fd1e46c'"
      ]
     },
     "execution_count": 6,
     "metadata": {},
     "output_type": "execute_result"
    }
   ],
   "source": [
    "naas.webhook.add()"
   ]
  },
  {
   "cell_type": "markdown",
   "id": "pacific-tradition",
   "metadata": {},
   "source": [
    "## Option\n",
    "\n",
    "Add ?target=URL to the link upper where URL is a url to github file,\n",
    "\n",
    "To get a different file, it's dynamic !\n",
    "\n",
    "Exemple :\n",
    "https://public.naas.ai/ZGV2b3BzLTQwY2FzaHN0b3J5LTJFY29t/notebook/50ab81c07ba03d9dbc27b68ef8a293d682ec5b4cfc17983adba95fd1e46c?target=https://github.com/sibylla-io/jupyter-launcher-shortcuts/blob/master/jupyterlab-launcher-shortcuts/package.json"
   ]
  },
  {
   "cell_type": "code",
   "execution_count": null,
   "id": "minus-fields",
   "metadata": {},
   "outputs": [],
   "source": []
  }
 ],
 "metadata": {
  "kernelspec": {
   "display_name": "Python 3",
   "language": "python",
   "name": "python3"
  },
  "language_info": {
   "codemirror_mode": {
    "name": "ipython",
    "version": 3
   },
   "file_extension": ".py",
   "mimetype": "text/x-python",
   "name": "python",
   "nbconvert_exporter": "python",
   "pygments_lexer": "ipython3",
   "version": "3.8.6"
  }
 },
 "nbformat": 4,
 "nbformat_minor": 5
}
