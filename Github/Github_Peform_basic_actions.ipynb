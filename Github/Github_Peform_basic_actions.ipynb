{
 "cells": [
  {
   "cell_type": "markdown",
   "id": "aboriginal-overall",
   "metadata": {
    "papermill": {},
    "tags": []
   },
   "source": [
    "# Perform Git basic actions\n",
    "[<button class=\"lm-Widget p-Widget jupyter-widgets jupyter-button widget-button mod-primary\">Open in Naas</button>](https://app.naas.ai/user-redirect/naas/downloader?url=https://raw.githubusercontent.com/jupyter-naas/awesome-notebooks/master/Github/Github_Peform_basic_actions.ipynb)\n",
    "(clone,commit,push,pull,checkout)"
   ]
  },
  {
   "cell_type": "markdown",
   "id": "psychological-technical",
   "metadata": {
    "papermill": {},
    "tags": []
   },
   "source": [
    "### Git configuration"
   ]
  },
  {
   "cell_type": "code",
   "execution_count": 7,
   "id": "directed-employee",
   "metadata": {
    "papermill": {},
    "tags": []
   },
   "outputs": [],
   "source": [
    "config = {\n",
    "            'username':'< Your github username >',\n",
    "            'password':'< Your github password >',\n",
    "            'github_url':'< Github url >',\n",
    "            'branch':'< Github branch name >',\n",
    "            'target_folder':'< Folder name >',\n",
    "            'action':'< Github action >',\n",
    "            'commit_message':'< Your message for commit >'\n",
    "         }"
   ]
  },
  {
   "cell_type": "markdown",
   "id": "indirect-closing",
   "metadata": {
    "papermill": {},
    "tags": []
   },
   "source": [
    "### Configuration attribute description\n",
    "- username : Git username\n",
    "- password : Git password\n",
    "- github_url : Git url to clone\n",
    "- branch : Branch name on which perform action\n",
    "- target_folder : Folder name of which clone,commit,push,pull,checkout has to be performed\n",
    "- action : Action you wish to perform **(clone,commit,push,pull,checkout)**\n",
    "- commit_message : Any message you wish to pass while commit"
   ]
  },
  {
   "cell_type": "markdown",
   "id": "unlike-province",
   "metadata": {
    "papermill": {},
    "tags": []
   },
   "source": [
    "### Execute Github connector"
   ]
  },
  {
   "cell_type": "code",
   "execution_count": 8,
   "id": "native-collectible",
   "metadata": {
    "papermill": {},
    "tags": []
   },
   "outputs": [
    {
     "name": "stdout",
     "output_type": "stream",
     "text": [
      "Checkout successful\n",
      "Commit successful!\n",
      "Push successful\n"
     ]
    }
   ],
   "source": [
    "from git_lib import Git\n",
    "# Initialize git\n",
    "git_instance = Git(config)"
   ]
  },
  {
   "cell_type": "code",
   "execution_count": null,
   "id": "sweet-scanning",
   "metadata": {
    "papermill": {},
    "tags": []
   },
   "outputs": [],
   "source": []
  }
 ],
 "metadata": {
  "kernelspec": {
   "display_name": "Python 3",
   "language": "python",
   "name": "python3"
  },
  "language_info": {
   "codemirror_mode": {
    "name": "ipython",
    "version": 3
   },
   "file_extension": ".py",
   "mimetype": "text/x-python",
   "name": "python",
   "nbconvert_exporter": "python",
   "pygments_lexer": "ipython3",
   "version": "3.8.6"
  },
  "papermill": {
   "default_parameters": {},
   "environment_variables": {},
   "parameters": {},
   "version": "2.3.3"
  }
 },
 "nbformat": 4,
 "nbformat_minor": 5
}