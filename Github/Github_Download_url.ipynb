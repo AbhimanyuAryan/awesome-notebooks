{
 "cells": [
  {
   "cell_type": "markdown",
   "id": "continuing-camping",
   "metadata": {
    "execution": {
     "iopub.execute_input": "2021-01-26T14:19:41.734342Z",
     "iopub.status.busy": "2021-01-26T14:19:41.734061Z",
     "iopub.status.idle": "2021-01-26T14:19:41.746082Z",
     "shell.execute_reply": "2021-01-26T14:19:41.745168Z",
     "shell.execute_reply.started": "2021-01-26T14:19:41.734276Z"
    }
   },
   "source": [
    "<img width=\"10%\" alt=\"Naas\" src=\"https://landen.imgix.net/jtci2pxwjczr/assets/5ice39g4.png?w=160\"/>"
   ]
  },
  {
   "cell_type": "markdown",
   "id": "binary-prairie",
   "metadata": {
    "execution": {
     "iopub.execute_input": "2021-01-26T14:20:23.712683Z",
     "iopub.status.busy": "2021-01-26T14:20:23.712460Z",
     "iopub.status.idle": "2021-01-26T14:20:23.715365Z",
     "shell.execute_reply": "2021-01-26T14:20:23.714680Z",
     "shell.execute_reply.started": "2021-01-26T14:20:23.712660Z"
    }
   },
   "source": [
    "# Create Download url for github file"
   ]
  },
  {
   "cell_type": "markdown",
   "id": "worldwide-softball",
   "metadata": {
    "execution": {
     "iopub.execute_input": "2021-01-26T14:20:42.280435Z",
     "iopub.status.busy": "2021-01-26T14:20:42.280200Z",
     "iopub.status.idle": "2021-01-26T14:20:42.283029Z",
     "shell.execute_reply": "2021-01-26T14:20:42.282302Z",
     "shell.execute_reply.started": "2021-01-26T14:20:42.280412Z"
    }
   },
   "source": [
    "## Import needed library"
   ]
  },
  {
   "cell_type": "code",
   "execution_count": 7,
   "id": "extra-termination",
   "metadata": {
    "execution": {
     "iopub.execute_input": "2021-01-26T14:27:18.914548Z",
     "iopub.status.busy": "2021-01-26T14:27:18.914290Z",
     "iopub.status.idle": "2021-01-26T14:27:18.917310Z",
     "shell.execute_reply": "2021-01-26T14:27:18.916718Z",
     "shell.execute_reply.started": "2021-01-26T14:27:18.914518Z"
    }
   },
   "outputs": [],
   "source": [
    "import requests\n",
    "import naas\n",
    "import uuid"
   ]
  },
  {
   "cell_type": "markdown",
   "id": "acceptable-shift",
   "metadata": {},
   "source": [
    "## Default Github file for testing purpose"
   ]
  },
  {
   "cell_type": "code",
   "execution_count": 8,
   "id": "molecular-approval",
   "metadata": {
    "execution": {
     "iopub.execute_input": "2021-01-26T14:27:19.233901Z",
     "iopub.status.busy": "2021-01-26T14:27:19.233658Z",
     "iopub.status.idle": "2021-01-26T14:27:19.236530Z",
     "shell.execute_reply": "2021-01-26T14:27:19.235922Z",
     "shell.execute_reply.started": "2021-01-26T14:27:19.233872Z"
    },
    "tags": [
     "parameters"
    ]
   },
   "outputs": [],
   "source": [
    "target = \"https://github.com/jupyter-naas/awesome-notebooks/blob/master/Plotly/Create%20Candlestick%20chart.ipynb\""
   ]
  },
  {
   "cell_type": "markdown",
   "id": "likely-millennium",
   "metadata": {},
   "source": [
    "## Convert url to downloadable one"
   ]
  },
  {
   "cell_type": "code",
   "execution_count": 9,
   "id": "attached-wisdom",
   "metadata": {
    "execution": {
     "iopub.execute_input": "2021-01-26T14:27:19.578306Z",
     "iopub.status.busy": "2021-01-26T14:27:19.578063Z",
     "iopub.status.idle": "2021-01-26T14:27:19.581772Z",
     "shell.execute_reply": "2021-01-26T14:27:19.581168Z",
     "shell.execute_reply.started": "2021-01-26T14:27:19.578283Z"
    }
   },
   "outputs": [
    {
     "name": "stdout",
     "output_type": "stream",
     "text": [
      "https://raw.githubusercontent.com/jupyter-naas/awesome-notebooks/master/Plotly/Create%20Candlestick%20chart.ipynb\n"
     ]
    }
   ],
   "source": [
    "# https://raw.githubusercontent.com/jupyter-naas/awesome-notebooks/master/Dataviz/Plotly/Create%20Candlestick%20chart.ipynb\n",
    "raw_target = target.replace(\"https://github.com/\", \"https://raw.githubusercontent.com/\")\n",
    "raw_target = raw_target.replace(\"/blob/\", \"/\")\n",
    "print(raw_target)"
   ]
  },
  {
   "cell_type": "markdown",
   "id": "south-fetish",
   "metadata": {},
   "source": [
    "## Dowload file locally"
   ]
  },
  {
   "cell_type": "code",
   "execution_count": 10,
   "id": "backed-drain",
   "metadata": {
    "execution": {
     "iopub.execute_input": "2021-01-26T14:27:19.965153Z",
     "iopub.status.busy": "2021-01-26T14:27:19.964928Z",
     "iopub.status.idle": "2021-01-26T14:27:20.163246Z",
     "shell.execute_reply": "2021-01-26T14:27:20.162705Z",
     "shell.execute_reply.started": "2021-01-26T14:27:19.965129Z"
    }
   },
   "outputs": [],
   "source": [
    "import urllib.parse\n",
    "r = requests.get(raw_target)\n",
    "uid = uuid.uuid4().hex\n",
    "\n",
    "file_name = raw_target.split('/')[-1]\n",
    "file_name = urllib.parse.unquote(file_name)\n",
    "\n",
    "with open(file_name, 'wb') as f:\n",
    "    f.write(r.content)"
   ]
  }
 ],
 "metadata": {
  "kernelspec": {
   "display_name": "Python 3",
   "language": "python",
   "name": "python3"
  },
  "language_info": {
   "codemirror_mode": {
    "name": "ipython",
    "version": 3
   },
   "file_extension": ".py",
   "mimetype": "text/x-python",
   "name": "python",
   "nbconvert_exporter": "python",
   "pygments_lexer": "ipython3",
   "version": "3.8.6"
  }
 },
 "nbformat": 4,
 "nbformat_minor": 5
}
