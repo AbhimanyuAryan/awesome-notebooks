{
 "cells": [
  {
   "cell_type": "markdown",
   "id": "honest-constitutional",
   "metadata": {},
   "source": [
    "<img width=\"10%\" alt=\"Naas\" src=\"https://landen.imgix.net/jtci2pxwjczr/assets/5ice39g4.png?w=160\"/>\n",
    "\n",
    "# Star integromat workflow from Jupyuter "
   ]
  },
  {
   "cell_type": "code",
   "execution_count": 2,
   "id": "proved-contact",
   "metadata": {
    "execution": {
     "iopub.execute_input": "2021-01-28T17:38:28.882495Z",
     "iopub.status.busy": "2021-01-28T17:38:28.882259Z",
     "iopub.status.idle": "2021-01-28T17:38:29.854375Z",
     "shell.execute_reply": "2021-01-28T17:38:29.853632Z",
     "shell.execute_reply.started": "2021-01-28T17:38:28.882474Z"
    }
   },
   "outputs": [],
   "source": [
    "import naas_drivers\n"
   ]
  },
  {
   "cell_type": "code",
   "execution_count": null,
   "id": "developing-convertible",
   "metadata": {},
   "outputs": [],
   "source": [
    "url = \"https://hook.integromat.com/7edtlwmn8foer0r9i9ainjvsz3vxmwos\"\n",
    "data = { \"first_name\":\"Bryan\", \"last_name\":\"Helmig\", \"age\": 27 }\n",
    "result = naas_drivers.integromat.connect(url).send(data)"
   ]
  },
  {
   "cell_type": "code",
   "execution_count": null,
   "id": "automated-campus",
   "metadata": {},
   "outputs": [],
   "source": []
  }
 ],
 "metadata": {
  "kernelspec": {
   "display_name": "Python 3",
   "language": "python",
   "name": "python3"
  },
  "language_info": {
   "codemirror_mode": {
    "name": "ipython",
    "version": 3
   },
   "file_extension": ".py",
   "mimetype": "text/x-python",
   "name": "python",
   "nbconvert_exporter": "python",
   "pygments_lexer": "ipython3",
   "version": "3.8.6"
  }
 },
 "nbformat": 4,
 "nbformat_minor": 5
}
