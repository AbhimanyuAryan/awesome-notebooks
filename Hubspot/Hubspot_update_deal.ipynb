{
 "cells": [
  {
   "cell_type": "markdown",
   "id": "dressed-square",
   "metadata": {
    "papermill": {},
    "tags": []
   },
   "source": [
    "<img width=\"10%\" alt=\"Naas\" src=\"https://landen.imgix.net/jtci2pxwjczr/assets/5ice39g4.png?w=160\"/>"
   ]
  },
  {
   "cell_type": "markdown",
   "id": "supreme-award",
   "metadata": {
    "papermill": {},
    "tags": []
   },
   "source": [
    "<img src=\"https://upload.wikimedia.org/wikipedia/commons/thumb/3/3f/HubSpot_Logo.svg/220px-HubSpot_Logo.svg.png\" alt=\"drawing\" width=\"200\" align='left'/>"
   ]
  },
  {
   "cell_type": "markdown",
   "id": "impaired-vacuum",
   "metadata": {
    "papermill": {},
    "tags": []
   },
   "source": [
    "# Hubspot - Update deal\n",
    "[<button class=\"lm-Widget p-Widget jupyter-widgets jupyter-button widget-button mod-primary\">Open in Naas</button>](https://app.naas.ai/user-redirect/naas/downloader?url=https://raw.githubusercontent.com/jupyter-naas/awesome-notebooks/master/Hubspot/Hubspot_update_deal.ipynb)"
   ]
  },
  {
   "cell_type": "code",
   "execution_count": null,
   "id": "spread-knock",
   "metadata": {
    "papermill": {},
    "tags": []
   },
   "outputs": [],
   "source": [
    "from naas_drivers import hubspot\n",
    "\n",
    "# Enter your hubspot api key\n",
    "auth_token = 'YOUR_HUBSPOT_API_KEY'\n",
    "\n",
    "# Connect to hubspot\n",
    "hs = hubspot.connect(auth_token)"
   ]
  },
  {
   "cell_type": "code",
   "execution_count": null,
   "id": "mineral-shoot",
   "metadata": {
    "papermill": {},
    "tags": []
   },
   "outputs": [],
   "source": [
    "# Deal parameters\n",
    "deal_id = \"3501002068\"\n",
    "dealname = \"TEST\"\n",
    "dealstage = '5102584'\n",
    "closedate = '24/11/2020'\n",
    "amount = '100.50'\n",
    "hubspot_owner_id = None"
   ]
  },
  {
   "cell_type": "code",
   "execution_count": null,
   "id": "secret-belfast",
   "metadata": {
    "papermill": {},
    "tags": []
   },
   "outputs": [],
   "source": [
    "# With update method without subclass\n",
    "update_deal = {\"properties\": \n",
    "                  {\n",
    "                    \"dealstage\": dealstage,\n",
    "                    \"dealname\": dealname,\n",
    "                    \"amount\": amount,\n",
    "                    \"closedate\": closedate,\n",
    "                    \"hubspot_owner_id\": hubspot_owner_id,\n",
    "                   }\n",
    "                 }\n",
    "\n",
    "hs.deals.patch(deal_id, update_deal)"
   ]
  },
  {
   "cell_type": "code",
   "execution_count": null,
   "id": "rough-tunisia",
   "metadata": {
    "papermill": {},
    "tags": []
   },
   "outputs": [],
   "source": [
    "# With update method with subclass\n",
    "hs.deals.update(deal_id, dealname, dealstage, closedate, amount, hubspot_owner_id)"
   ]
  }
 ],
 "metadata": {
  "kernelspec": {
   "display_name": "Python 3",
   "language": "python",
   "name": "python3"
  },
  "language_info": {
   "codemirror_mode": {
    "name": "ipython",
    "version": 3
   },
   "file_extension": ".py",
   "mimetype": "text/x-python",
   "name": "python",
   "nbconvert_exporter": "python",
   "pygments_lexer": "ipython3",
   "version": "3.8.6"
  },
  "papermill": {
   "default_parameters": {},
   "environment_variables": {},
   "parameters": {},
   "version": "2.3.3"
  }
 },
 "nbformat": 4,
 "nbformat_minor": 5
}