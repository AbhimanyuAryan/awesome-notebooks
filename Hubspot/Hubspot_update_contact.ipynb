{
 "cells": [
  {
   "cell_type": "markdown",
   "id": "neutral-oxide",
   "metadata": {
    "papermill": {},
    "tags": []
   },
   "source": [
    "<img width=\"10%\" alt=\"Naas\" src=\"https://landen.imgix.net/jtci2pxwjczr/assets/5ice39g4.png?w=160\"/>"
   ]
  },
  {
   "cell_type": "markdown",
   "id": "warming-association",
   "metadata": {
    "papermill": {},
    "tags": []
   },
   "source": [
    "<img src=\"https://upload.wikimedia.org/wikipedia/commons/thumb/3/3f/HubSpot_Logo.svg/220px-HubSpot_Logo.svg.png\" alt=\"drawing\" width=\"200\" align='left'/>"
   ]
  },
  {
   "cell_type": "markdown",
   "id": "anonymous-innocent",
   "metadata": {
    "papermill": {},
    "tags": []
   },
   "source": [
    "# Hubspot - Update contact\n",
    "[<button class=\"lm-Widget p-Widget jupyter-widgets jupyter-button widget-button mod-primary\">Open in Naas</button>](https://app.naas.ai/user-redirect/naas/downloader?url=https://raw.githubusercontent.com/jupyter-naas/awesome-notebooks/master/Hubspot/Hubspot_update_contact.ipynb)"
   ]
  },
  {
   "cell_type": "code",
   "execution_count": null,
   "id": "charitable-cornell",
   "metadata": {
    "papermill": {},
    "tags": []
   },
   "outputs": [],
   "source": [
    "from naas_drivers import hubspot\n",
    "\n",
    "# Enter your hubspot api key\n",
    "auth_token = \"YOUR_HUBSPOT_API_KEY\"\n",
    "\n",
    "# Connect to hubspot\n",
    "hs = hubspot.connect(auth_token)"
   ]
  },
  {
   "cell_type": "code",
   "execution_count": null,
   "id": "alpha-lingerie",
   "metadata": {
    "papermill": {},
    "tags": []
   },
   "outputs": [],
   "source": [
    "# Contact parameters\n",
    "contact_id = \"280751\"\n",
    "email = \"test@cashstory.com\"\n",
    "firstname = \"Jean test\"\n",
    "lastname ='CASHSTOrY'\n",
    "phone = \"+336.00.00.00.00\"\n",
    "jobtitle = \"Consultant\"\n",
    "website = \"www.cashstory.com\"\n",
    "company = 'CASHSTORY'\n",
    "hubspot_owner_id = None"
   ]
  },
  {
   "cell_type": "code",
   "execution_count": null,
   "id": "systematic-execution",
   "metadata": {
    "papermill": {},
    "tags": []
   },
   "outputs": [],
   "source": [
    "# With patch method\n",
    "update_contact = {\"properties\": \n",
    "                  {\n",
    "                    \"email\": email,\n",
    "                    \"firstname\": firstname,\n",
    "                    \"lastname\": lastname,\n",
    "                    \"phone\": phone,\n",
    "                    \"jobtitle\": jobtitle,\n",
    "                    \"website\": website,\n",
    "                    \"company\": company,\n",
    "                    \"url\": \"test3\",\n",
    "                    \"hubspot_owner_id\": hubspot_owner_id,\n",
    "                   }\n",
    "                 }\n",
    "\n",
    "hs.contacts.patch(contact_id, update_contact)"
   ]
  },
  {
   "cell_type": "code",
   "execution_count": null,
   "id": "quality-bracelet",
   "metadata": {
    "papermill": {},
    "tags": []
   },
   "outputs": [],
   "source": [
    "# With update method\n",
    "hs.contacts.update(contact_id, email, firstname, lastname, phone, jobtitle, website, company, hubspot_owner_id)"
   ]
  },
  {
   "cell_type": "code",
   "execution_count": null,
   "id": "historic-reception",
   "metadata": {
    "papermill": {},
    "tags": []
   },
   "outputs": [],
   "source": []
  }
 ],
 "metadata": {
  "kernelspec": {
   "display_name": "Python 3",
   "language": "python",
   "name": "python3"
  },
  "language_info": {
   "codemirror_mode": {
    "name": "ipython",
    "version": 3
   },
   "file_extension": ".py",
   "mimetype": "text/x-python",
   "name": "python",
   "nbconvert_exporter": "python",
   "pygments_lexer": "ipython3",
   "version": "3.8.6"
  },
  "papermill": {
   "default_parameters": {},
   "environment_variables": {},
   "parameters": {},
   "version": "2.3.3"
  }
 },
 "nbformat": 4,
 "nbformat_minor": 5
}