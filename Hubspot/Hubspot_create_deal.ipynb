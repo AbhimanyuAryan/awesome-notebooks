{
 "cells": [
  {
   "cell_type": "markdown",
   "metadata": {},
   "source": [
    "<img width=\"10%\" alt=\"Naas\" src=\"https://landen.imgix.net/jtci2pxwjczr/assets/5ice39g4.png?w=160\"/>"
   ]
  },
  {
   "cell_type": "markdown",
   "metadata": {},
   "source": [
    "<img src=\"https://upload.wikimedia.org/wikipedia/commons/thumb/3/3f/HubSpot_Logo.svg/220px-HubSpot_Logo.svg.png\" alt=\"drawing\" width=\"200\" align='left'/>"
   ]
  },
  {
   "cell_type": "markdown",
   "metadata": {},
   "source": [
    "# Hubspot - Create deal"
   ]
  },
  {
   "cell_type": "code",
   "execution_count": null,
   "metadata": {},
   "outputs": [],
   "source": [
    "from naas_drivers import hubspot\n",
    "\n",
    "# Enter your hubspot api key\n",
    "auth_token = 'YOUR_HUBSPOT_API_KEY'\n",
    "\n",
    "# Connect to hubspot\n",
    "hs = hubspot.connect(auth_token)"
   ]
  },
  {
   "cell_type": "code",
   "execution_count": null,
   "metadata": {},
   "outputs": [],
   "source": [
    "# Deal parameters\n",
    "dealname = \"TEST\"\n",
    "dealstage = '5102584'\n",
    "closedate = None\n",
    "amount = None\n",
    "hubspot_owner_id = None"
   ]
  },
  {
   "cell_type": "code",
   "execution_count": null,
   "metadata": {},
   "outputs": [],
   "source": [
    "# With send method\n",
    "send_deal = {\"properties\": \n",
    "                  {\n",
    "                    \"dealstage\": dealstage,\n",
    "                    \"dealname\": dealname,\n",
    "                    \"amount\": amount,\n",
    "                    \"closedate\": closedate,\n",
    "                    \"hubspot_owner_id\": hubspot_owner_id,\n",
    "                   }\n",
    "                 }\n",
    "\n",
    "deal_id1 = hs.deals.send(send_deal)"
   ]
  },
  {
   "cell_type": "code",
   "execution_count": null,
   "metadata": {},
   "outputs": [],
   "source": [
    "# With create method\n",
    "deal_id2 = hs.deals.create(dealname, dealstage, closedate)"
   ]
  }
 ],
 "metadata": {
  "kernelspec": {
   "display_name": "Python 3",
   "language": "python",
   "name": "python3"
  },
  "language_info": {
   "codemirror_mode": {
    "name": "ipython",
    "version": 3
   },
   "file_extension": ".py",
   "mimetype": "text/x-python",
   "name": "python",
   "nbconvert_exporter": "python",
   "pygments_lexer": "ipython3",
   "version": "3.8.6"
  }
 },
 "nbformat": 4,
 "nbformat_minor": 4
}
