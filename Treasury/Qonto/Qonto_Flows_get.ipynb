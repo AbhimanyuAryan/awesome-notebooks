{
 "cells": [
  {
   "cell_type": "markdown",
   "metadata": {},
   "source": [
    "<img width=\"10%\" alt=\"Naas\" src=\"https://landen.imgix.net/jtci2pxwjczr/assets/5ice39g4.png?w=160\"/>"
   ]
  },
  {
   "cell_type": "markdown",
   "metadata": {},
   "source": [
    "# Qonto - Get all flows"
   ]
  },
  {
   "cell_type": "code",
   "execution_count": null,
   "metadata": {},
   "outputs": [],
   "source": [
    "import naas\n",
    "from naas_drivers import qonto\n",
    "\n",
    "# # Add your secrets in naas => if already done you can delete next 2 rows\n",
    "# naas.secret.add('qonto_user_id', 'YOUR_USER_ID')\n",
    "# naas.secret.add('qonto_api_key', 'YOUR_API_KEY')\n",
    "\n",
    "# Get secrets from naas\n",
    "user_id = naas.secret.get('qonto_user_id')\n",
    "api_key = naas.secret.get('qonto_api_key')\n",
    "\n",
    "# Connect to Qonto\n",
    "qt = qonto.connect(user_id, api_key)"
   ]
  },
  {
   "cell_type": "code",
   "execution_count": null,
   "metadata": {},
   "outputs": [],
   "source": [
    "# Get all flows\n",
    "df_flows = qt.flows.get_all()\n",
    "df_flows"
   ]
  }
 ],
 "metadata": {
  "kernelspec": {
   "display_name": "Python 3",
   "language": "python",
   "name": "python3"
  },
  "language_info": {
   "codemirror_mode": {
    "name": "ipython",
    "version": 3
   },
   "file_extension": ".py",
   "mimetype": "text/x-python",
   "name": "python",
   "nbconvert_exporter": "python",
   "pygments_lexer": "ipython3",
   "version": "3.8.6"
  }
 },
 "nbformat": 4,
 "nbformat_minor": 4
}
