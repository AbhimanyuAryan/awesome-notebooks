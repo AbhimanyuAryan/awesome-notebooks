{
 "cells": [
  {
   "cell_type": "markdown",
   "id": "ordered-supervisor",
   "metadata": {
    "papermill": {},
    "tags": []
   },
   "source": [
    "<img width=\"10%\" alt=\"Naas\" src=\"https://landen.imgix.net/jtci2pxwjczr/assets/5ice39g4.png?w=160\"/>"
   ]
  },
  {
   "cell_type": "markdown",
   "id": "acceptable-subsection",
   "metadata": {
    "papermill": {},
    "tags": []
   },
   "source": [
    "# Notion - Send data\n",
    "[<button class=\"lm-Widget p-Widget jupyter-widgets jupyter-button widget-button mod-primary\">Open in Naas</button>](https://app.naas.ai/user-redirect/naas/downloader?url=https://raw.githubusercontent.com/jupyter-naas/awesome-notebooks/master/Notion/Notion_Send_data.ipynb)"
   ]
  },
  {
   "cell_type": "markdown",
   "id": "typical-decrease",
   "metadata": {
    "papermill": {},
    "tags": []
   },
   "source": [
    "<img width=\"20%\" alt=\"Naas\" src=\"https://project-management.com/wp-content/uploads/2020/01/notion-logo.png\"/>"
   ]
  },
  {
   "cell_type": "markdown",
   "id": "desirable-final",
   "metadata": {
    "papermill": {},
    "tags": []
   },
   "source": [
    "## Get your token "
   ]
  },
  {
   "cell_type": "markdown",
   "id": "another-colonial",
   "metadata": {
    "papermill": {},
    "tags": []
   },
   "source": [
    "To obtain the `token_v2` : \n",
    "- click right on a Notion.so logged-in (non-guest) session, then\n",
    "- \"Inspect\" will open a technical window \n",
    "- Go to \"Applications\" and in the table search for \"token_v2\" simply copy the value."
   ]
  },
  {
   "cell_type": "markdown",
   "id": "quarterly-lending",
   "metadata": {
    "papermill": {},
    "tags": []
   },
   "source": [
    "## Use the driver to send data"
   ]
  },
  {
   "cell_type": "markdown",
   "id": "official-sport",
   "metadata": {
    "papermill": {},
    "tags": []
   },
   "source": [
    "Replace table_url with the URL of the page you want to edit"
   ]
  },
  {
   "cell_type": "code",
   "execution_count": 2,
   "id": "confident-advancement",
   "metadata": {
    "execution": {
     "iopub.execute_input": "2021-01-26T15:34:04.459748Z",
     "iopub.status.busy": "2021-01-26T15:34:04.459512Z",
     "iopub.status.idle": "2021-01-26T15:34:04.464173Z",
     "shell.execute_reply": "2021-01-26T15:34:04.463620Z",
     "shell.execute_reply.started": "2021-01-26T15:34:04.459725Z"
    },
    "papermill": {},
    "tags": []
   },
   "outputs": [],
   "source": [
    "import naas_drivers\n",
    "\n",
    "token = \"*********\"\n",
    "url = \"https://www.notion.so/myorg/Test-c0d20a71c0944985ae96e661ccc99821\"\n",
    "n = naas_drivers.notion.connect(token=token)\n",
    "cv = n.get_collection(url, raw=True)\n",
    "\n",
    "# Add a new record\n",
    "row = cv.collection.add_row()\n",
    "row.name = \"Just some data\"\n",
    "row.is_confirmed = True\n",
    "row.estimated_value = 399\n",
    "row.files = [\"https://www.birdlife.org/sites/default/files/styles/1600/public/slide.jpg\"]\n",
    "row.person = client.current_user\n",
    "row.tags = [\"A\", \"C\"]\n",
    "row.where_to = \"https://learningequality.org\""
   ]
  }
 ],
 "metadata": {
  "kernelspec": {
   "display_name": "Python 3",
   "language": "python",
   "name": "python3"
  },
  "language_info": {
   "codemirror_mode": {
    "name": "ipython",
    "version": 3
   },
   "file_extension": ".py",
   "mimetype": "text/x-python",
   "name": "python",
   "nbconvert_exporter": "python",
   "pygments_lexer": "ipython3",
   "version": "3.8.6"
  },
  "papermill": {
   "default_parameters": {},
   "environment_variables": {},
   "parameters": {},
   "version": "2.3.3"
  }
 },
 "nbformat": 4,
 "nbformat_minor": 5
}