{
 "cells": [
  {
   "cell_type": "markdown",
   "metadata": {},
   "source": [
    "<img width=\"10%\" alt=\"Naas\" src=\"https://landen.imgix.net/jtci2pxwjczr/assets/5ice39g4.png?w=160\"/>"
   ]
  },
  {
   "cell_type": "markdown",
   "metadata": {},
   "source": [
    "# Notion - Send data"
   ]
  },
  {
   "cell_type": "markdown",
   "metadata": {},
   "source": [
    "<img width=\"20%\" alt=\"Naas\" src=\"https://project-management.com/wp-content/uploads/2020/01/notion-logo.png\"/>"
   ]
  },
  {
   "cell_type": "markdown",
   "metadata": {},
   "source": [
    "## Get your token "
   ]
  },
  {
   "cell_type": "markdown",
   "metadata": {},
   "source": [
    "To obtain the `token_v2` : \n",
    "- click right on a Notion.so logged-in (non-guest) session, then\n",
    "- \"Inspect\" will open a technical window \n",
    "- Go to \"Applications\" and in the table search for \"token_v2\" simply copy the value."
   ]
  },
  {
   "cell_type": "markdown",
   "metadata": {},
   "source": [
    "## Use the driver to send data"
   ]
  },
  {
   "cell_type": "markdown",
   "metadata": {},
   "source": [
    "Replace table_url with the URL of the page you want to edit"
   ]
  },
  {
   "cell_type": "code",
   "execution_count": 2,
   "metadata": {
    "execution": {
     "iopub.execute_input": "2021-01-26T15:34:04.459748Z",
     "iopub.status.busy": "2021-01-26T15:34:04.459512Z",
     "iopub.status.idle": "2021-01-26T15:34:04.464173Z",
     "shell.execute_reply": "2021-01-26T15:34:04.463620Z",
     "shell.execute_reply.started": "2021-01-26T15:34:04.459725Z"
    }
   },
   "outputs": [],
   "source": [
    "import naas_drivers\n",
    "\n",
    "token = \"*********\"\n",
    "url = \"https://www.notion.so/myorg/Test-c0d20a71c0944985ae96e661ccc99821\"\n",
    "n = naas_drivers.notion.connect(token=token)\n",
    "cv = n.get_collection(url, raw=True)\n",
    "\n",
    "# Add a new record\n",
    "row = cv.collection.add_row()\n",
    "row.name = \"Just some data\"\n",
    "row.is_confirmed = True\n",
    "row.estimated_value = 399\n",
    "row.files = [\"https://www.birdlife.org/sites/default/files/styles/1600/public/slide.jpg\"]\n",
    "row.person = client.current_user\n",
    "row.tags = [\"A\", \"C\"]\n",
    "row.where_to = \"https://learningequality.org\""
   ]
  }
 ],
 "metadata": {
  "kernelspec": {
   "display_name": "Python 3",
   "language": "python",
   "name": "python3"
  },
  "language_info": {
   "codemirror_mode": {
    "name": "ipython",
    "version": 3
   },
   "file_extension": ".py",
   "mimetype": "text/x-python",
   "name": "python",
   "nbconvert_exporter": "python",
   "pygments_lexer": "ipython3",
   "version": "3.8.6"
  }
 },
 "nbformat": 4,
 "nbformat_minor": 4
}
