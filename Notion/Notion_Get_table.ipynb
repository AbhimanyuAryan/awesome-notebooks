{
 "cells": [
  {
   "cell_type": "markdown",
   "metadata": {},
   "source": [
    "<img width=\"10%\" alt=\"Naas\" src=\"https://landen.imgix.net/jtci2pxwjczr/assets/5ice39g4.png?w=160\"/>"
   ]
  },
  {
   "cell_type": "markdown",
   "metadata": {},
   "source": [
    "# Notion - Get table data"
   ]
  },
  {
   "cell_type": "markdown",
   "metadata": {},
   "source": [
    "<img width=\"20%\" alt=\"Naas\" src=\"https://project-management.com/wp-content/uploads/2020/01/notion-logo.png\"/>"
   ]
  },
  {
   "cell_type": "markdown",
   "metadata": {},
   "source": [
    "## Step - 1 Importing libraries"
   ]
  },
  {
   "cell_type": "code",
   "execution_count": 1,
   "metadata": {
    "execution": {
     "iopub.execute_input": "2021-01-26T15:34:01.407678Z",
     "iopub.status.busy": "2021-01-26T15:34:01.407409Z",
     "iopub.status.idle": "2021-01-26T15:34:02.657176Z",
     "shell.execute_reply": "2021-01-26T15:34:02.656579Z",
     "shell.execute_reply.started": "2021-01-26T15:34:01.407615Z"
    }
   },
   "outputs": [],
   "source": [
    "from notion.client import NotionClient\n",
    "import pandas as pd"
   ]
  },
  {
   "cell_type": "markdown",
   "metadata": {},
   "source": [
    "## Step - 2 Enter credentials"
   ]
  },
  {
   "cell_type": "markdown",
   "metadata": {},
   "source": [
    "To obtain the `token_v2` : \n",
    "- click right on a Notion.so logged-in (non-guest) session, then\n",
    "- \"Inspect\" will open a technical window \n",
    "- Go to \"Applications\" and in the table search for \"token_v2\" simply copy the value."
   ]
  },
  {
   "cell_type": "markdown",
   "metadata": {},
   "source": [
    "Replace table_url with the URL of the page you want to edit"
   ]
  },
  {
   "cell_type": "code",
   "execution_count": 2,
   "metadata": {
    "execution": {
     "iopub.execute_input": "2021-01-26T15:34:04.459748Z",
     "iopub.status.busy": "2021-01-26T15:34:04.459512Z",
     "iopub.status.idle": "2021-01-26T15:34:04.464173Z",
     "shell.execute_reply": "2021-01-26T15:34:04.463620Z",
     "shell.execute_reply.started": "2021-01-26T15:34:04.459725Z"
    }
   },
   "outputs": [],
   "source": [
    "token_v2 = \"**********\"\n",
    "table_url = \"**********\""
   ]
  },
  {
   "cell_type": "markdown",
   "metadata": {},
   "source": [
    "## Step - 3 Fetching table data"
   ]
  },
  {
   "cell_type": "code",
   "execution_count": 3,
   "metadata": {
    "execution": {
     "iopub.execute_input": "2021-01-26T15:34:07.417799Z",
     "iopub.status.busy": "2021-01-26T15:34:07.417577Z",
     "iopub.status.idle": "2021-01-26T15:34:10.593203Z",
     "shell.execute_reply": "2021-01-26T15:34:10.592644Z",
     "shell.execute_reply.started": "2021-01-26T15:34:07.417776Z"
    }
   },
   "outputs": [
    {
     "data": {
      "text/html": [
       "<div>\n",
       "<style scoped>\n",
       "    .dataframe tbody tr th:only-of-type {\n",
       "        vertical-align: middle;\n",
       "    }\n",
       "\n",
       "    .dataframe tbody tr th {\n",
       "        vertical-align: top;\n",
       "    }\n",
       "\n",
       "    .dataframe thead th {\n",
       "        text-align: right;\n",
       "    }\n",
       "</style>\n",
       "<table border=\"1\" class=\"dataframe\">\n",
       "  <thead>\n",
       "    <tr style=\"text-align: right;\">\n",
       "      <th></th>\n",
       "      <th>likes</th>\n",
       "      <th>views</th>\n",
       "      <th>comments</th>\n",
       "      <th>created</th>\n",
       "      <th>post_date</th>\n",
       "      <th>property</th>\n",
       "      <th>sender</th>\n",
       "      <th>platform</th>\n",
       "      <th>name</th>\n",
       "    </tr>\n",
       "  </thead>\n",
       "  <tbody>\n",
       "    <tr>\n",
       "      <th>0</th>\n",
       "      <td>30.0</td>\n",
       "      <td>2371.0</td>\n",
       "      <td>16.0</td>\n",
       "      <td>2021-01-21 08:38:23.854</td>\n",
       "      <td>&lt;notion.collection.NotionDate object at 0x7fa4...</td>\n",
       "      <td>https://www.linkedin.com/posts/j%C3%A9r%C3%A9m...</td>\n",
       "      <td>[id='6e3bab71-beeb-484b-af99-ea30fdef4773', em...</td>\n",
       "      <td>LinkedIn</td>\n",
       "      <td>How are you today? To start the year, we have ...</td>\n",
       "    </tr>\n",
       "    <tr>\n",
       "      <th>1</th>\n",
       "      <td>20.0</td>\n",
       "      <td>3081.0</td>\n",
       "      <td>7.0</td>\n",
       "      <td>2021-01-21 15:04:00.000</td>\n",
       "      <td>&lt;notion.collection.NotionDate object at 0x7fa4...</td>\n",
       "      <td>https://www.linkedin.com/posts/j%C3%A9r%C3%A9m...</td>\n",
       "      <td>[id='6e3bab71-beeb-484b-af99-ea30fdef4773', em...</td>\n",
       "      <td>LinkedIn</td>\n",
       "      <td>Alerte enlèvement 🚨 Jean Castex et notre gouve...</td>\n",
       "    </tr>\n",
       "    <tr>\n",
       "      <th>2</th>\n",
       "      <td>26.0</td>\n",
       "      <td>6647.0</td>\n",
       "      <td>12.0</td>\n",
       "      <td>2021-01-21 16:29:00.000</td>\n",
       "      <td>&lt;notion.collection.NotionDate object at 0x7fa4...</td>\n",
       "      <td>https://www.linkedin.com/posts/j%C3%A9r%C3%A9m...</td>\n",
       "      <td>[id='6e3bab71-beeb-484b-af99-ea30fdef4773', em...</td>\n",
       "      <td>LinkedIn</td>\n",
       "      <td>🛑 Il faut en finir avec le suivi à l'ancienne ...</td>\n",
       "    </tr>\n",
       "    <tr>\n",
       "      <th>3</th>\n",
       "      <td>11.0</td>\n",
       "      <td>1633.0</td>\n",
       "      <td>0.0</td>\n",
       "      <td>2021-01-21 16:31:00.000</td>\n",
       "      <td>&lt;notion.collection.NotionDate object at 0x7fa4...</td>\n",
       "      <td>https://www.linkedin.com/posts/j%C3%A9r%C3%A9m...</td>\n",
       "      <td>[id='6e3bab71-beeb-484b-af99-ea30fdef4773', em...</td>\n",
       "      <td>LinkedIn</td>\n",
       "      <td>Hey #linkedinfamily, \"Cash is king but data is...</td>\n",
       "    </tr>\n",
       "    <tr>\n",
       "      <th>4</th>\n",
       "      <td>113.0</td>\n",
       "      <td>0.0</td>\n",
       "      <td>54.0</td>\n",
       "      <td>2021-01-21 16:41:00.000</td>\n",
       "      <td>&lt;notion.collection.NotionDate object at 0x7fa4...</td>\n",
       "      <td>https://www.linkedin.com/posts/martindonadieu_...</td>\n",
       "      <td>[id='ac3a3d77-b62a-41c3-a277-2b0b14ce302b', em...</td>\n",
       "      <td>LinkedIn</td>\n",
       "      <td>🤯 Ma mère a toujours dit que j’étais un panier...</td>\n",
       "    </tr>\n",
       "  </tbody>\n",
       "</table>\n",
       "</div>"
      ],
      "text/plain": [
       "   likes   views  comments                 created  \\\n",
       "0   30.0  2371.0      16.0 2021-01-21 08:38:23.854   \n",
       "1   20.0  3081.0       7.0 2021-01-21 15:04:00.000   \n",
       "2   26.0  6647.0      12.0 2021-01-21 16:29:00.000   \n",
       "3   11.0  1633.0       0.0 2021-01-21 16:31:00.000   \n",
       "4  113.0     0.0      54.0 2021-01-21 16:41:00.000   \n",
       "\n",
       "                                           post_date  \\\n",
       "0  <notion.collection.NotionDate object at 0x7fa4...   \n",
       "1  <notion.collection.NotionDate object at 0x7fa4...   \n",
       "2  <notion.collection.NotionDate object at 0x7fa4...   \n",
       "3  <notion.collection.NotionDate object at 0x7fa4...   \n",
       "4  <notion.collection.NotionDate object at 0x7fa4...   \n",
       "\n",
       "                                            property  \\\n",
       "0  https://www.linkedin.com/posts/j%C3%A9r%C3%A9m...   \n",
       "1  https://www.linkedin.com/posts/j%C3%A9r%C3%A9m...   \n",
       "2  https://www.linkedin.com/posts/j%C3%A9r%C3%A9m...   \n",
       "3  https://www.linkedin.com/posts/j%C3%A9r%C3%A9m...   \n",
       "4  https://www.linkedin.com/posts/martindonadieu_...   \n",
       "\n",
       "                                              sender  platform  \\\n",
       "0  [id='6e3bab71-beeb-484b-af99-ea30fdef4773', em...  LinkedIn   \n",
       "1  [id='6e3bab71-beeb-484b-af99-ea30fdef4773', em...  LinkedIn   \n",
       "2  [id='6e3bab71-beeb-484b-af99-ea30fdef4773', em...  LinkedIn   \n",
       "3  [id='6e3bab71-beeb-484b-af99-ea30fdef4773', em...  LinkedIn   \n",
       "4  [id='ac3a3d77-b62a-41c3-a277-2b0b14ce302b', em...  LinkedIn   \n",
       "\n",
       "                                                name  \n",
       "0  How are you today? To start the year, we have ...  \n",
       "1  Alerte enlèvement 🚨 Jean Castex et notre gouve...  \n",
       "2  🛑 Il faut en finir avec le suivi à l'ancienne ...  \n",
       "3  Hey #linkedinfamily, \"Cash is king but data is...  \n",
       "4  🤯 Ma mère a toujours dit que j’étais un panier...  "
      ]
     },
     "execution_count": 3,
     "metadata": {},
     "output_type": "execute_result"
    }
   ],
   "source": [
    "client = NotionClient(token_v2=token_v2)\n",
    "cv = client.get_collection_view(table_url)\n",
    "data = [block_row.get_all_properties() for block_row in cv.collection.get_rows()]\n",
    "data = pd.DataFrame(data)\n",
    "data.head()"
   ]
  },
  {
   "cell_type": "markdown",
   "metadata": {},
   "source": [
    "## Step - 4 Saving as .csv file"
   ]
  },
  {
   "cell_type": "code",
   "execution_count": 7,
   "metadata": {},
   "outputs": [],
   "source": [
    "data.to_csv('data.csv')"
   ]
  }
 ],
 "metadata": {
  "kernelspec": {
   "display_name": "Python 3",
   "language": "python",
   "name": "python3"
  },
  "language_info": {
   "codemirror_mode": {
    "name": "ipython",
    "version": 3
   },
   "file_extension": ".py",
   "mimetype": "text/x-python",
   "name": "python",
   "nbconvert_exporter": "python",
   "pygments_lexer": "ipython3",
   "version": "3.8.6"
  }
 },
 "nbformat": 4,
 "nbformat_minor": 4
}
